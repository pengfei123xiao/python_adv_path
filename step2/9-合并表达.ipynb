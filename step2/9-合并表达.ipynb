{
 "cells": [
  {
   "cell_type": "markdown",
   "metadata": {},
   "source": [
    "## 第九章 合并表达"
   ]
  },
  {
   "cell_type": "markdown",
   "metadata": {},
   "source": [
    "###  Ⅰ. 三元表达式\n",
    "三元表达式仅应⽤于：条件成⽴返回 ⼀个值，条件不成⽴返回⼀个值。"
   ]
  },
  {
   "cell_type": "code",
   "execution_count": 1,
   "metadata": {},
   "outputs": [
    {
     "name": "stdout",
     "output_type": "stream",
     "text": [
      "12\n"
     ]
    }
   ],
   "source": [
    "x = 12\n",
    "y = 11\n",
    "# 三元分别指的是if左边，else右边和if条件语句\n",
    "res = x if x > y else y # 注意不要有逗号或者冒号\n",
    "print(res)"
   ]
  },
  {
   "cell_type": "code",
   "execution_count": 2,
   "metadata": {},
   "outputs": [
    {
     "name": "stdout",
     "output_type": "stream",
     "text": [
      "11\n"
     ]
    }
   ],
   "source": [
    "def max2(x, y):\n",
    "    return x if x > y else y\n",
    "print(max2(10, 11))"
   ]
  },
  {
   "cell_type": "markdown",
   "metadata": {},
   "source": [
    "### Ⅱ. 函数递归调⽤"
   ]
  },
  {
   "cell_type": "markdown",
   "metadata": {},
   "source": [
    "### 1. 函数递归调⽤说明\n",
    "\n",
    "函数的递归调⽤指的是在函数调⽤的过程中，⼜**直接或间接地调⽤了函数本身**，是函数嵌套调⽤的⼀种特殊形式。"
   ]
  },
  {
   "cell_type": "code",
   "execution_count": 6,
   "metadata": {},
   "outputs": [
    {
     "name": "stdout",
     "output_type": "stream",
     "text": [
      "from foo\n",
      "from foo\n",
      "from foo\n"
     ]
    }
   ],
   "source": [
    "# 直接调用\n",
    "def foo(i):\n",
    "    print('from foo')\n",
    "    i-=1\n",
    "    if i==0:\n",
    "        return\n",
    "    foo(i)\n",
    "foo(3)"
   ]
  },
  {
   "cell_type": "code",
   "execution_count": 8,
   "metadata": {},
   "outputs": [
    {
     "name": "stdout",
     "output_type": "stream",
     "text": [
      "from foo\n",
      "from bar\n",
      "from foo\n"
     ]
    }
   ],
   "source": [
    "# 间接调用\n",
    "def bar(i):\n",
    "    print('from bar')\n",
    "    i-=1\n",
    "    if i==0:\n",
    "        return\n",
    "    foo1(i)\n",
    "    \n",
    "def foo1(i):\n",
    "    print('from foo')\n",
    "    i-=1\n",
    "    if i==0:\n",
    "        return\n",
    "    bar(i)\n",
    "    \n",
    "foo1(3)"
   ]
  },
  {
   "cell_type": "markdown",
   "metadata": {},
   "source": [
    "以上这两种递归会让程序陷⼊死循环中，为了避免程序占⽤⼤量的内存⽽是机器卡死，Python中有⼀个最⼤递归深度，所以你看到的报错其实是为了保护你的机器。"
   ]
  },
  {
   "cell_type": "code",
   "execution_count": 1,
   "metadata": {},
   "outputs": [
    {
     "name": "stdout",
     "output_type": "stream",
     "text": [
      "3000\n",
      "10000\n"
     ]
    }
   ],
   "source": [
    "import sys\n",
    "print(sys.getrecursionlimit()) # 默认最大递归深度3000\n",
    "sys.setrecursionlimit(10000) # 可以修改成10000甚至1亿，但是受限于机器硬件性能限制\n",
    "print(sys.getrecursionlimit())"
   ]
  },
  {
   "cell_type": "markdown",
   "metadata": {},
   "source": [
    "### 2. 递归阶段性说明\n",
    "\n",
    "递归分为两个阶段：\n",
    "1. 回溯\n",
    "2. 递推\n",
    "\n",
    "注意：⼀定要在满⾜某种条件结束回溯，否则的⽆限递归。"
   ]
  },
  {
   "cell_type": "markdown",
   "metadata": {},
   "source": [
    ">假如有这样⼀个⼩学数学题⽬，⽼师询问五位学⽣的年龄，第⼀位学⽣说，他⽐第⼆位学⽣⼤两岁，这时⽼师就要问第⼆个位学⽣，第⼆位学⽣说，他⽐第三位学⽣⼤两岁，问三，三说⽐四⼤两岁，问四，四说⽐五⼤两岁，问五，五说：“18岁”。求这五位学⽣分别多少岁？"
   ]
  },
  {
   "cell_type": "code",
   "execution_count": 3,
   "metadata": {},
   "outputs": [
    {
     "name": "stdout",
     "output_type": "stream",
     "text": [
      "26\n"
     ]
    }
   ],
   "source": [
    "\"\"\"把以上问题整理成数学表达式，并使⽤递归来完成。\"\"\"\n",
    "def get_age(n):\n",
    "    if n == 1:\n",
    "        return 18\n",
    "    return get_age(n - 1) + 2 # age(4)+2\n",
    "    # 可以写成以下三元表达式形式，貌似高端，但是会让程序看起来不够简洁\n",
    "# return 18 if n == 1 else age(n - 1) + 2\n",
    "print(get_age(5))"
   ]
  },
  {
   "cell_type": "markdown",
   "metadata": {},
   "source": [
    "正确使⽤递归：\n",
    "1. 递归⼀定要有⼀个**明确地结束条件**\n",
    "2. 进⼊下⼀次递归之前，**问题的规模都应该减⼩**\n",
    "3. 在Python中**没有尾递归优化**"
   ]
  },
  {
   "cell_type": "markdown",
   "metadata": {},
   "source": [
    "#### 3. 递归的应⽤\n",
    "\n",
    "递归也有循环的效果，与while循环不同的是：**while循环⼀定要有⼀个明确的循环的条件，⽽递归不需要**，在有些场景下使⽤递归能够让程序设计更简洁。"
   ]
  },
  {
   "cell_type": "code",
   "execution_count": 5,
   "metadata": {},
   "outputs": [
    {
     "name": "stdout",
     "output_type": "stream",
     "text": [
      "1\n",
      "2\n",
      "3\n",
      "4\n",
      "5\n",
      "6\n",
      "7\n",
      "8\n",
      "9\n",
      "10\n"
     ]
    }
   ],
   "source": [
    "# 要求：取出列表中的1，2，3，4，5，6......\n",
    "items = [1, [2, [3, [4, [5, [6, [7, [8, [9, [10, ]]]]]]]]]]\n",
    "def tell(l):\n",
    "    for item in l:\n",
    "        if type(item) is not list:\n",
    "            print(item)\n",
    "        else:\n",
    "            tell(item)\n",
    "tell(items)"
   ]
  },
  {
   "cell_type": "markdown",
   "metadata": {},
   "source": [
    "### Ⅲ. 匿名函数\n",
    "匿名函数就是没有名字的函数，我们以前讲过的函数都是要有⼀个函数名字的。"
   ]
  },
  {
   "cell_type": "code",
   "execution_count": 8,
   "metadata": {},
   "outputs": [
    {
     "name": "stdout",
     "output_type": "stream",
     "text": [
      "from func\n",
      "from func\n",
      "<function <lambda> at 0x000001F08F802488>\n",
      "8\n",
      "16\n"
     ]
    }
   ],
   "source": [
    "# 有名函数\n",
    "def func(): # 函数名为func可以多次调用\n",
    "    print('from func')\n",
    "\n",
    "func()\n",
    "func()\n",
    "\n",
    "# 如果需要输出一个数的n次幂\n",
    "# 使用有名函数\n",
    "def foo(x, n): # foo对应函数的内存地址\n",
    "    return x ** n\n",
    "\n",
    "# 使用匿名函数\n",
    "\"\"\"\n",
    "匿名函数使用规则：\n",
    "1 冒号左边为参数\n",
    "2 冒号右边为返回值\n",
    "3 不需要写return\n",
    "\"\"\"\n",
    "f = lambda x, n: x ** n # 我们强行给匿名函数赋值一个变量是为了帮助你理解\n",
    "print(f)\n",
    "print(f(2, 3))\n",
    "print(f(2, 4))"
   ]
  },
  {
   "cell_type": "markdown",
   "metadata": {},
   "source": [
    "#### 2. 匿名函数使⽤规则\n",
    "\n",
    "1. 匿名的⽬的就是要没有名字，给匿名函数赋给⼀个名字是没有意义的\n",
    "2. 匿名函数的参数规则、作⽤域关系与有名函数是⼀样的\n",
    "3. 匿名函数的函数体通常应该是⼀个表达式,该表达式必须要有⼀个返回值\n",
    "\n",
    "**如果⼀个匿名函数的函数体没有返回值，那么这是没有意义的。**"
   ]
  },
  {
   "cell_type": "code",
   "execution_count": 11,
   "metadata": {},
   "outputs": [
    {
     "name": "stdout",
     "output_type": "stream",
     "text": [
      "=======>\n",
      "None\n"
     ]
    }
   ],
   "source": [
    "# 没有意义\n",
    "f = lambda x, n: print('=======>') # print肯定是没有返回值的\n",
    "print(f(2, 3))"
   ]
  },
  {
   "cell_type": "code",
   "execution_count": 12,
   "metadata": {},
   "outputs": [
    {
     "name": "stdout",
     "output_type": "stream",
     "text": [
      "6\n"
     ]
    }
   ],
   "source": [
    "# 有意义\n",
    "f1 = lambda x, y, z: x + y + z\n",
    "print(f1(1, 2, 3))"
   ]
  },
  {
   "cell_type": "markdown",
   "metadata": {},
   "source": [
    "#### 3.匿名函数的应⽤"
   ]
  },
  {
   "cell_type": "markdown",
   "metadata": {},
   "source": [
    "(2) 匿名函数与max，min，sorted联⽤"
   ]
  },
  {
   "cell_type": "code",
   "execution_count": 16,
   "metadata": {},
   "outputs": [
    {
     "name": "stdout",
     "output_type": "stream",
     "text": [
      "james\n"
     ]
    }
   ],
   "source": [
    "\"\"\"\n",
    "求工资最高的那个人是谁\n",
    "求工资最低的那个人是谁\n",
    "把这些人按薪资待遇排序\n",
    "\"\"\"\n",
    "salaries = {\n",
    "'james': 300000,\n",
    "'kd': 100000,\n",
    "'zimuge': 10000,\n",
    "'harden': 90000\n",
    "}\n",
    "\n",
    "def get(k):\n",
    "    return salaries[k]\n",
    "\n",
    "# max比较原理\n",
    "\"\"\"\n",
    "for k in salaries:\n",
    "    print(k) # 告诉max，比较的依据是salaries[k]\n",
    "\"\"\"\n",
    "\n",
    "# max可以指定key，代表比较依据，与字典的键重名纯属巧合\n",
    "print(max(salaries, key=get)) # 这里需要传一个for循环迭代而来的参数，并输入一个结果"
   ]
  },
  {
   "cell_type": "code",
   "execution_count": 18,
   "metadata": {},
   "outputs": [
    {
     "name": "stdout",
     "output_type": "stream",
     "text": [
      "james\n",
      "zimuge\n",
      "['zimuge', 'harden', 'kd', 'james']\n",
      "['james', 'kd', 'harden', 'zimuge']\n"
     ]
    }
   ],
   "source": [
    "\"\"\"显然我们定义一个get函数是不需要的，这时可以使用匿名函数\"\"\"\n",
    "# 求工资最高的那个人是谁\n",
    "print(max(salaries, key=lambda x: salaries[x]))\n",
    "\n",
    "# 求工资最低的那个人是谁\n",
    "print(min(salaries, key=lambda x: salaries[x]))\n",
    "\n",
    "# 把这些人按薪资待遇排序\n",
    "salaries1 = sorted(salaries, key=lambda x: salaries[x]) # 升序\n",
    "print(salaries1)\n",
    "\n",
    "salaries2 = sorted(salaries, key=lambda x: salaries[x], reverse=True) # 降序\n",
    "print(salaries2)"
   ]
  },
  {
   "cell_type": "markdown",
   "metadata": {},
   "source": [
    "(3) 匿名函数与map，reduce，filter联⽤\n",
    "\n",
    "在计算机中`map`，`reduce`和`filter`分别指的是`映射`，`合并`和`过滤`，这个三个词是与⼤数据的概念息息相关的，通过海量数据的采集，经过映射之后难道需要的数据，然后在把多⽅数据合并，最后过滤出来需要的数据，这就是⼤数据的概念，最终到达的⽬的是分析预测。假如你在某猫公司买了10次商品，其中有9次是假货，你都容忍了，那么基本上就能预测你这个⼈了，以后也没必要给你发真货了；再假如你在某狗公司买了2次商品，都给你发了假货，你每次都投诉，闹的天翻地覆，程序也能预测到你这个⼈，以后就只给你推荐贵的商品，保证真货。\n",
    "\n",
    ">map，reduce和filter最好与匿名函数联⽤才能发挥作⽤，所以我们不再单独介绍。"
   ]
  },
  {
   "cell_type": "code",
   "execution_count": 21,
   "metadata": {},
   "outputs": [
    {
     "name": "stdout",
     "output_type": "stream",
     "text": [
      "<map object at 0x000001F08F818630>\n",
      "[1, 4, 9, 16, 25]\n",
      "['James is super star', 'Harden is super star', 'Curry is super star']\n",
      "['James is superstar', 'Harden is superstar', 'Curry is superstar', 'Albert is referee']\n"
     ]
    }
   ],
   "source": [
    "\"\"\"map用法\"\"\"\n",
    "# 数字映射\n",
    "nums = [1, 2, 3, 4, 5]\n",
    "# map第一个参数是函数，即映射方式，第二个参数是可以迭代对象\n",
    "res = map(lambda x: x ** 2, nums)\n",
    "# 在Python2中res是一个列表，Python3中是一个迭代器\n",
    "print(res)\n",
    "# list用for循环的原理把迭代器转化成列表\n",
    "print(list(res))\n",
    "\n",
    "# 字符串映射\n",
    "names = ['James', 'Harden', 'Curry']\n",
    "res = map(lambda x: x + ' is super star', names)\n",
    "print(list(res))\n",
    "\n",
    "names = ['James', 'Harden', 'Curry', 'Albert']\n",
    "res = map(lambda x: x + ' is referee' if x == 'Albert' else x + ' is superstar', names)\n",
    "print(list(res))"
   ]
  },
  {
   "cell_type": "code",
   "execution_count": 25,
   "metadata": {},
   "outputs": [
    {
     "name": "stdout",
     "output_type": "stream",
     "text": [
      "5050\n",
      "5050\n",
      "Today is  the  first  day  of  the  rest  of  your  life \n"
     ]
    }
   ],
   "source": [
    "\"\"\"reduce\n",
    "reduce在Python2中还是一个内置函数\n",
    "在Python3中需要导入一下\n",
    "\"\"\"\n",
    "from functools import reduce # 导入reduce\n",
    "\"\"\"\n",
    "reduce可以传三个参数：\n",
    "第一个是必传项，指的合并规则，即函数\n",
    "第二个是必传项，指的可迭代对象\n",
    "第三个是可选项，指的初始值\n",
    "\"\"\"\n",
    "# 数字合并: 计算1+2+3+...+100\n",
    "res1 = reduce(lambda x, y: x + y, range(1, 101), 0)\n",
    "# 初始值给x，可迭代对象内的值给y，相加之后再作为初始值给x，可迭代对象内新的值给y\n",
    "print(res1)\n",
    "\n",
    "res = reduce(lambda x, y: x + y, range(1, 101))\n",
    "# 不指定初始值，则由可迭代对象的第一个值作为初始值\n",
    "print(res)\n",
    "\n",
    "# 字符串合并\n",
    "list1 = ['Today', 'is', 'the', 'first', 'day', 'of', 'the', 'rest', 'of',\n",
    "'your', 'life']\n",
    "res = reduce(lambda x, y: x + ' ' + y + ' ', list1)\n",
    "print(res)"
   ]
  },
  {
   "cell_type": "code",
   "execution_count": 27,
   "metadata": {},
   "outputs": [
    {
     "name": "stdout",
     "output_type": "stream",
     "text": [
      "[99, 30]\n",
      "['Albert is referee']\n"
     ]
    }
   ],
   "source": [
    "\"\"\"filter\"\"\"\n",
    "# 过滤出年龄不小于30的\n",
    "ages = [18, 19, 10, 23, 99, 30]\n",
    "# res = filter(lambda n: True if n >= 30 else False, ages)\n",
    "# filter只能过滤真假，上面写写法有点啰嗦\n",
    "res = filter(lambda n: n >= 30, ages)\n",
    "print(list(res))\n",
    "\n",
    "# 过滤出裁判\n",
    "names = ['James is super star', 'Harden is super star', 'Albert is referee']\n",
    "res = filter(lambda x: x.endswith('referee'), names)\n",
    "print(list(res))"
   ]
  },
  {
   "cell_type": "markdown",
   "metadata": {},
   "source": [
    "### Ⅳ. 内置函数"
   ]
  },
  {
   "cell_type": "markdown",
   "metadata": {},
   "source": [
    "#### 1. format⽤法"
   ]
  },
  {
   "cell_type": "code",
   "execution_count": 29,
   "metadata": {},
   "outputs": [
    {
     "name": "stdout",
     "output_type": "stream",
     "text": [
      "Albert 18 male\n",
      "18 Albert 18\n",
      "Albert 18 male\n"
     ]
    }
   ],
   "source": [
    "\"\"\"(1) format三种基本⽤法\"\"\"\n",
    "res = '{} {} {}'.format('Albert', 18, 'male') # 相当于%s，其占位符的作用\n",
    "print(res)\n",
    "res = '{1} {0} {1}'.format('Albert', 18, 'male') # 按照索引对应值，与索引序列相关\n",
    "print(res)\n",
    "res = '{name} {age} {sex}'.format(sex='male', name='Albert', age=18) # 按照关键字对应值，只与key对应\n",
    "print(res)"
   ]
  },
  {
   "cell_type": "markdown",
   "metadata": {},
   "source": [
    "(2) format与%s⽤法异同\n",
    "- 相同点\n",
    "\n",
    "`format`与`%`都可以⽤作对象属性格式化，两者都是⽤作字符串中的占位符，⼀般基础阶段的程序员只会⽤%，⽽且不管多麻烦，你都会想到⽤%的办法，我⾸先为你的执着点个赞，但是我要说的是，简单的可以⽤%，复杂⼀些，我还是推荐使⽤format或者说是 { }。"
   ]
  },
  {
   "cell_type": "code",
   "execution_count": 32,
   "metadata": {},
   "outputs": [
    {
     "name": "stdout",
     "output_type": "stream",
     "text": [
      "This guy is albert, 18 years old.\n",
      "This guy is albert, 18 years old.\n"
     ]
    }
   ],
   "source": [
    "class Person(object):\n",
    "    def __init__(self, name, age):\n",
    "        self.name = name\n",
    "        self.age = age\n",
    "    def __str__(self):\n",
    "        return \"This guy is %s, %s years old.\" % (self.name, self.age)\n",
    "p = Person('albert', 18)\n",
    "print(p)\n",
    "\n",
    "class Person1(object):\n",
    "    def __init__(self, name, age):\n",
    "        self.name = name\n",
    "        self.age = age\n",
    "    def __str__(self):\n",
    "        return \"This guy is {self.name}, {self.age} years old.\".format(self=self)\n",
    "p1 = Person1('albert', 18)\n",
    "print(p1)"
   ]
  },
  {
   "cell_type": "markdown",
   "metadata": {},
   "source": [
    "- 不同点\n",
    "\n",
    "[1] 占位形态"
   ]
  },
  {
   "cell_type": "code",
   "execution_count": 33,
   "metadata": {},
   "outputs": [
    {
     "ename": "TypeError",
     "evalue": "not all arguments converted during string formatting",
     "output_type": "error",
     "traceback": [
      "\u001b[1;31m---------------------------------------------------------------------------\u001b[0m",
      "\u001b[1;31mTypeError\u001b[0m                                 Traceback (most recent call last)",
      "\u001b[1;32m<ipython-input-33-48bbe56b643b>\u001b[0m in \u001b[0;36m<module>\u001b[1;34m\u001b[0m\n\u001b[0;32m      3\u001b[0m \u001b[0mc\u001b[0m \u001b[1;33m=\u001b[0m \u001b[1;33m(\u001b[0m\u001b[1;36m250\u001b[0m\u001b[1;33m,\u001b[0m \u001b[1;36m250\u001b[0m\u001b[1;33m)\u001b[0m\u001b[1;33m\u001b[0m\u001b[0m\n\u001b[0;32m      4\u001b[0m \u001b[1;31m# 使用%来格式化\u001b[0m\u001b[1;33m\u001b[0m\u001b[1;33m\u001b[0m\u001b[0m\n\u001b[1;32m----> 5\u001b[1;33m \u001b[0ms1\u001b[0m \u001b[1;33m=\u001b[0m \u001b[1;34m\"敌人坐标：%s\"\u001b[0m \u001b[1;33m%\u001b[0m \u001b[0mc\u001b[0m\u001b[1;33m\u001b[0m\u001b[0m\n\u001b[0m\u001b[0;32m      6\u001b[0m \u001b[0mprint\u001b[0m\u001b[1;33m(\u001b[0m\u001b[0ms1\u001b[0m\u001b[1;33m)\u001b[0m\u001b[1;33m\u001b[0m\u001b[0m\n\u001b[0;32m      7\u001b[0m \"\"\"\n",
      "\u001b[1;31mTypeError\u001b[0m: not all arguments converted during string formatting"
     ]
    }
   ],
   "source": [
    "# 定义一个坐标值\n",
    "c = (250, 250)\n",
    "# 使用%来格式化\n",
    "s1 = \"敌人坐标：%s\" % c\n",
    "print(s1)\n",
    "\"\"\"\n",
    "报错说明：\n",
    "not all arguments converted during string formatting\n",
    "翻译：在执行字符串格式化期间，不是所有的字符串都能被转化。\n",
    "其实道理很简单，因为执行字符串转化的时候，程序以为变量c是一个字符串才去进行转化的，然而一转化，才发现：\n",
    "老兄，你坑我啊，你这个字符串我怎么看不明白啊（用 % 去执行这个程序的时候，默认以为 c 是一个字符串），\n",
    "从始至终程序都是为c是一个字符串，其实它不是，所以才会有这样的报错\n",
    "\"\"\""
   ]
  },
  {
   "cell_type": "code",
   "execution_count": 36,
   "metadata": {},
   "outputs": [
    {
     "name": "stdout",
     "output_type": "stream",
     "text": [
      "敌人坐标：(250, 250)\n"
     ]
    }
   ],
   "source": [
    "\"\"\"\n",
    "区别：\n",
    "format本意就是变形的意思，72变，需要什么我就变什么\n",
    "% 是一个基本的占位符，只能给字符串，哦，怕程序不理解，是真正的字符串占位\n",
    "\"\"\"\n",
    "# 定义一个坐标值\n",
    "c = (250, 250)\n",
    "# 使用format来格式化\n",
    "s1 = \"敌人坐标：{}\".format(c)\n",
    "print(s1)"
   ]
  },
  {
   "cell_type": "markdown",
   "metadata": {},
   "source": [
    "[2] f-strings\n",
    "\n",
    "这⾥的新特性f-strings其实和format没有直接关联，只是使⽤的format的特性来进⾏格式化，这个新特性只在Python3.6 才有，以后有没有只有⻳叔知道了。"
   ]
  },
  {
   "cell_type": "code",
   "execution_count": 37,
   "metadata": {},
   "outputs": [
    {
     "name": "stdout",
     "output_type": "stream",
     "text": [
      "he said his name is Albert\n"
     ]
    }
   ],
   "source": [
    "name = 'Albert'\n",
    "print(f'he said his name is {name}') # 注意字符串前面的f"
   ]
  },
  {
   "cell_type": "markdown",
   "metadata": {},
   "source": [
    "[3] 填充与对⻬\n",
    "\n",
    "填充常跟对⻬⼀起使⽤，^、<、>分别是居中、左对⻬、右对⻬，**后⾯带宽度，冒号后⾯带填充的字符，只能是⼀个字符，不指定的话默认是⽤空格填充。**"
   ]
  },
  {
   "cell_type": "code",
   "execution_count": 42,
   "metadata": {},
   "outputs": [
    {
     "name": "stdout",
     "output_type": "stream",
     "text": [
      "        18\n",
      "1833333333\n",
      "****18****\n"
     ]
    }
   ],
   "source": [
    "print(\"{:>10}\".format('18'))\n",
    "print(\"{:3<10}\".format('18'))\n",
    "# print(\"{:aa<10}\".format('18')) #写两个字符就会报错 ，错误就是让写一个，你偏要写俩，看球不懂\n",
    "print(\"{:*^10}\".format('18'))"
   ]
  },
  {
   "cell_type": "markdown",
   "metadata": {},
   "source": [
    "补充⼀个字符串⾃带的zfill()⽅法，Python zfill()⽅法返回指定⻓度的字符串，**原字符串右对⻬，前⾯填充0。**\n",
    "\n",
    "zfill()⽅法语法：str.zfill(width)，参数width指定字符串的⻓度。原字符串右对⻬，前⾯填充0，返回指定⻓度的字符串。"
   ]
  },
  {
   "cell_type": "code",
   "execution_count": 43,
   "metadata": {},
   "outputs": [
    {
     "name": "stdout",
     "output_type": "stream",
     "text": [
      "000000000a\n"
     ]
    }
   ],
   "source": [
    "print('a'.zfill(10))"
   ]
  },
  {
   "cell_type": "markdown",
   "metadata": {},
   "source": [
    "[4] float精度调整"
   ]
  },
  {
   "cell_type": "code",
   "execution_count": 45,
   "metadata": {},
   "outputs": [
    {
     "name": "stdout",
     "output_type": "stream",
     "text": [
      "3.14159\n"
     ]
    }
   ],
   "source": [
    "# 精度通常和float类型一起使用\n",
    "# 其中.5表示⻓度为5的精度\n",
    "# 3.14159\n",
    "print('{:.5f}'.format(3.14159265753))"
   ]
  },
  {
   "cell_type": "markdown",
   "metadata": {},
   "source": [
    "[5] 千位分隔符"
   ]
  },
  {
   "cell_type": "code",
   "execution_count": 47,
   "metadata": {},
   "outputs": [
    {
     "name": "stdout",
     "output_type": "stream",
     "text": [
      "1,234,567,890\n"
     ]
    }
   ],
   "source": [
    "print(\"{:,}\".format(1234567890))"
   ]
  },
  {
   "cell_type": "markdown",
   "metadata": {},
   "source": [
    "[6] 进制转换\n",
    "\n",
    "b、d、o、x分别是⼆进制、⼗进制、⼋进制、⼗六进制"
   ]
  },
  {
   "cell_type": "code",
   "execution_count": 48,
   "metadata": {},
   "outputs": [
    {
     "name": "stdout",
     "output_type": "stream",
     "text": [
      "10010\n",
      "18\n",
      "22\n",
      "12\n"
     ]
    }
   ],
   "source": [
    "print(\"{:b}\".format(18))\n",
    "print(\"{:d}\".format(18))\n",
    "print(\"{:o}\".format(18))\n",
    "print(\"{:x}\".format(18))"
   ]
  },
  {
   "cell_type": "markdown",
   "metadata": {},
   "source": [
    "#### 2. 其他内置函数"
   ]
  },
  {
   "cell_type": "code",
   "execution_count": 49,
   "metadata": {},
   "outputs": [
    {
     "name": "stdout",
     "output_type": "stream",
     "text": [
      "1\n"
     ]
    }
   ],
   "source": [
    "# 1 取绝对值\n",
    "print(abs(-1)) # 绝对值"
   ]
  },
  {
   "cell_type": "code",
   "execution_count": 51,
   "metadata": {},
   "outputs": [
    {
     "name": "stdout",
     "output_type": "stream",
     "text": [
      "True\n",
      "True\n",
      "False\n"
     ]
    }
   ],
   "source": [
    "# 2 逻辑判断\n",
    "print(all([1, 'a', True])) # 列表中所有元素的布尔值为真，最终结果才为真\n",
    "print(any([0, 'a', None, False])) # 列表中所有元素的布尔值只要有一个为真，最终结果就为真\n",
    "print(any([])) # 传给any的可迭代对象如果为空，最终结果为假"
   ]
  },
  {
   "cell_type": "code",
   "execution_count": 52,
   "metadata": {},
   "outputs": [
    {
     "name": "stdout",
     "output_type": "stream",
     "text": [
      "0b1011\n",
      "0o13\n",
      "0xb\n"
     ]
    }
   ],
   "source": [
    "# 3 进制转换\n",
    "print(bin(11)) # 十进制转二进制\n",
    "print(oct(11)) # 十进制转八进制\n",
    "print(hex(11)) # 十进制转十六进制"
   ]
  },
  {
   "cell_type": "code",
   "execution_count": 53,
   "metadata": {},
   "outputs": [
    {
     "name": "stdout",
     "output_type": "stream",
     "text": [
      "False\n"
     ]
    }
   ],
   "source": [
    "# 4 布尔值判断\n",
    "print(bool(0)) # 0,None,空的布尔值为假"
   ]
  },
  {
   "cell_type": "code",
   "execution_count": 54,
   "metadata": {},
   "outputs": [
    {
     "name": "stdout",
     "output_type": "stream",
     "text": [
      "b'\\xe4\\xbd\\xa0\\xe5\\xa5\\xbdAlbert'\n"
     ]
    }
   ],
   "source": [
    "# 5 bytes类型构造\n",
    "# res='你好Albert'.encode('utf-8') # unicode按照utf-8进行编码，得到的结果为bytes类型\n",
    "res = bytes('你好Albert', encoding='utf-8') # 同上\n",
    "print(res)"
   ]
  },
  {
   "cell_type": "code",
   "execution_count": 55,
   "metadata": {},
   "outputs": [
    {
     "name": "stdout",
     "output_type": "stream",
     "text": [
      "True\n",
      "True\n",
      "True\n"
     ]
    }
   ],
   "source": [
    "# 6 对象是否可调用\n",
    "def func():\n",
    "    pass\n",
    "print(callable(func)) # 判断某个对象是否是可以调用的，可调用指的是可以加括号执行某个功能\n",
    "print(callable('abc'.strip)) # 判断某个对象是否是可以调用的，可调用指的是可以加括号执行某个功能\n",
    "print(callable(max)) # 判断某个对象是否是可以调用的，可调用指的是可以加括号执行某个功能"
   ]
  },
  {
   "cell_type": "code",
   "execution_count": 56,
   "metadata": {},
   "outputs": [
    {
     "name": "stdout",
     "output_type": "stream",
     "text": [
      "Z\n",
      "90\n"
     ]
    }
   ],
   "source": [
    "# 7 字符与十进制转换\n",
    "print(chr(90)) # 按照ascii码表将十进制数字转成字符\n",
    "print(ord('Z')) # 按照ascii码表将字符转成十进制数字"
   ]
  },
  {
   "cell_type": "code",
   "execution_count": 57,
   "metadata": {},
   "outputs": [
    {
     "name": "stdout",
     "output_type": "stream",
     "text": [
      "['__add__', '__class__', '__contains__', '__delattr__', '__dir__', '__doc__', '__eq__', '__format__', '__ge__', '__getattribute__', '__getitem__', '__getnewargs__', '__gt__', '__hash__', '__init__', '__init_subclass__', '__iter__', '__le__', '__len__', '__lt__', '__mod__', '__mul__', '__ne__', '__new__', '__reduce__', '__reduce_ex__', '__repr__', '__rmod__', '__rmul__', '__setattr__', '__sizeof__', '__str__', '__subclasshook__', 'capitalize', 'casefold', 'center', 'count', 'encode', 'endswith', 'expandtabs', 'find', 'format', 'format_map', 'index', 'isalnum', 'isalpha', 'isascii', 'isdecimal', 'isdigit', 'isidentifier', 'islower', 'isnumeric', 'isprintable', 'isspace', 'istitle', 'isupper', 'join', 'ljust', 'lower', 'lstrip', 'maketrans', 'partition', 'replace', 'rfind', 'rindex', 'rjust', 'rpartition', 'rsplit', 'rstrip', 'split', 'splitlines', 'startswith', 'strip', 'swapcase', 'title', 'translate', 'upper', 'zfill']\n"
     ]
    }
   ],
   "source": [
    "# 8 查看对象下可调用的方法\n",
    "print(dir('abc')) # 查看某个对象下可以调用到哪些方法"
   ]
  },
  {
   "cell_type": "code",
   "execution_count": 58,
   "metadata": {},
   "outputs": [
    {
     "name": "stdout",
     "output_type": "stream",
     "text": [
      "(52, 11)\n"
     ]
    }
   ],
   "source": [
    "# 9 去商和余数，返回元组\n",
    "print(divmod(1311, 25))"
   ]
  },
  {
   "cell_type": "code",
   "execution_count": 59,
   "metadata": {},
   "outputs": [
    {
     "name": "stdout",
     "output_type": "stream",
     "text": [
      "6 <class 'int'>\n",
      "[1, 2, 3, 4] <class 'list'>\n",
      "{'name': 'Albert', 'age': 18} <class 'dict'>\n"
     ]
    }
   ],
   "source": [
    "# 10 将字符内的表达式拿出运行一下，并拿到该表达式的执行结果\n",
    "res1 = eval('2*3')\n",
    "print(res1, type(res1))\n",
    "res2 = eval('[1,2,3,4]')\n",
    "print(res2, type(res2))\n",
    "res3 = eval('{\"name\":\"Albert\",\"age\":18}')\n",
    "print(res3, type(res3))"
   ]
  },
  {
   "cell_type": "code",
   "execution_count": 61,
   "metadata": {},
   "outputs": [
    {
     "name": "stdout",
     "output_type": "stream",
     "text": [
      "{1, 2, 3, 4}\n"
     ]
    }
   ],
   "source": [
    "# 11 集合添加\n",
    "s = {1, 2, 3}\n",
    "s.add(4) # 集合添加一个元素\n",
    "print(s)"
   ]
  },
  {
   "cell_type": "code",
   "execution_count": 62,
   "metadata": {},
   "outputs": [],
   "source": [
    "# 12 不可变集合\n",
    "f_set = frozenset({1, 2, 3}) # 不可变集合"
   ]
  },
  {
   "cell_type": "code",
   "execution_count": 63,
   "metadata": {},
   "outputs": [
    {
     "name": "stdout",
     "output_type": "stream",
     "text": [
      "{'__name__': '__main__', '__doc__': '\\n区别：\\nformat本意就是变形的意思，72变，需要什么我就变什么\\n% 是一个基本的占位符，只能给字符串，哦，怕程序不理解，是真正的字符串占位\\n', '__package__': None, '__loader__': None, '__spec__': None, '__builtin__': <module 'builtins' (built-in)>, '__builtins__': <module 'builtins' (built-in)>, '_ih': ['', 'import sys\\nprint(sys.getrecursionlimit()) # 默认最大递归深度3000\\nsys.setrecursionlimit(10000) # 可以修改成10000甚至1亿，但是受限于机器硬件性能限制\\nprint(sys.getrecursionlimit())', '\"\"\"把以上问题整理成数学表达式，并使⽤递归来完成。\"\"\"\\ndef get_age(n):\\n    if n == 1:\\n        return 18\\n    return get_age(n - 1) + 2 # age(4)+2\\n    # 可以写成以下三元表达式形式，貌似高端，但是会让程序看起来不够简洁\\n# return 18 if n == 1 else age(n - 1) + 2\\nprint(get_age(5))', '\"\"\"把以上问题整理成数学表达式，并使⽤递归来完成。\"\"\"\\ndef get_age(n):\\n    if n == 1:\\n        return 18\\n    return get_age(n - 1) + 2 # age(4)+2\\n    # 可以写成以下三元表达式形式，貌似高端，但是会让程序看起来不够简洁\\n# return 18 if n == 1 else age(n - 1) + 2\\nprint(get_age(5))', '# 要求：取出列表中的1，2，3，4，5，6......\\nitems = [1, [2, [3, [4, [5, [6, [7, [8, [9, [10, ]]]]]]]]]]\\ndef tell(l):\\n    for item in l:\\n        if type(item) is not list:\\n            print(item)\\n        else:\\n            tell(item)\\ntell(items)', '# 要求：取出列表中的1，2，3，4，5，6......\\nitems = [1, [2, [3, [4, [5, [6, [7, [8, [9, [10, ]]]]]]]]]]\\ndef tell(l):\\n    for item in l:\\n        if type(item) is not list:\\n            print(item)\\n        else:\\n            tell(item)\\ntell(items)', '# 有名函数\\ndef func(): # 函数名为func可以多次调用\\n    print(\\'from func\\')\\n\\nfunc()\\nfunc()\\nfunc()\\n\\n# 如果需要输出一个数的n次幂\\n# 使用有名函数\\ndef foo(x, n): # foo对应函数的内存地址\\n    return x ** n\\n\\n# 使用匿名函数\\n\"\"\"\\n匿名函数使用规则：\\n1 冒号左边为参数\\n2 冒号右边为返回值\\n3 不需要写return\\n\"\"\"\\nf = lambda x, n: x ** n # 我们强行给匿名函数赋值一个变量是为了帮助你理解\\nprint(f)\\nprint(f(2, 3))\\nprint(f(2, 4))', '# 有名函数\\ndef func(): # 函数名为func可以多次调用\\n    print(\\'from func\\')\\n\\nfunc()\\nfunc()\\n\\n# 如果需要输出一个数的n次幂\\n# 使用有名函数\\ndef foo(x, n): # foo对应函数的内存地址\\n    return x ** n\\n\\n# 使用匿名函数\\n\"\"\"\\n匿名函数使用规则：\\n1 冒号左边为参数\\n2 冒号右边为返回值\\n3 不需要写return\\n\"\"\"\\nf = lambda x, n: x ** n # 我们强行给匿名函数赋值一个变量是为了帮助你理解\\nprint(f)\\nprint(f(2, 3))\\nprint(f(2, 4))', '# 有名函数\\ndef func(): # 函数名为func可以多次调用\\n    print(\\'from func\\')\\n\\nfunc()\\nfunc()\\n\\n# 如果需要输出一个数的n次幂\\n# 使用有名函数\\ndef foo(x, n): # foo对应函数的内存地址\\n    return x ** n\\n\\n# 使用匿名函数\\n\"\"\"\\n匿名函数使用规则：\\n1 冒号左边为参数\\n2 冒号右边为返回值\\n3 不需要写return\\n\"\"\"\\nf = lambda x, n: x ** n # 我们强行给匿名函数赋值一个变量是为了帮助你理解\\nprint(f)\\nprint(f(2, 3))\\nprint(f(2, 4))', \"# 没有意义\\nf = lambda x, n: print('=======>') # print肯定是没有返回值的\\nprint(f(2, 3))\", '# 有意义\\nf1 = lambda x, y, z: x + y + z\\nprint(f1(1, 2, 3))', \"# 没有意义\\nf = lambda x, n: print('=======>') # print肯定是没有返回值的\\nprint(f(2, 3))\", '# 有意义\\nf1 = lambda x, y, z: x + y + z\\nprint(f1(1, 2, 3))', '\"\"\"匿名函数与max，min，sorted联⽤\"\"\"\\n\\n\"\"\"\\n求工资最高的那个人是谁\\n求工资最低的那个人是谁\\n把这些人按薪资待遇排序\\n\"\"\"\\nsalaries = {\\n\\'james\\': 300000,\\n\\'kd\\': 100000,\\n\\'zimuge\\': 10000,\\n\\'harden\\': 90000\\n}\\n\\n\\ndef get(k):\\n    return salaries[k]\\n\\n# max可以指定key，代表比较依据，与字典的键重名纯属巧合\\nprint(max(salaries, key=get)) # 这里需要传一个for循环迭代而来的参数，并输入一个结果\\n\\n# max比较原理\\n\"\"\"\\nfor k in salaries:\\n    print(k) # 告诉max，比较的依据是salaries[k]\\n\"\"\"', '\"\"\"匿名函数与max，min，sorted联⽤\"\"\"\\n\\n\"\"\"\\n求工资最高的那个人是谁\\n求工资最低的那个人是谁\\n把这些人按薪资待遇排序\\n\"\"\"\\nsalaries = {\\n\\'james\\': 300000,\\n\\'kd\\': 100000,\\n\\'zimuge\\': 10000,\\n\\'harden\\': 90000\\n}\\n\\n\\ndef get(k):\\n    return salaries[k]\\n\\n# max可以指定key，代表比较依据，与字典的键重名纯属巧合\\nprint(max(salaries, key=get)) # 这里需要传一个for循环迭代而来的参数，并输入一个结果\\n\\n# max比较原理\\n\"\"\"\\nfor k in salaries:\\n    print(k) # 告诉max，比较的依据是salaries[k]\\n\"\"\"', '\"\"\"\\n求工资最高的那个人是谁\\n求工资最低的那个人是谁\\n把这些人按薪资待遇排序\\n\"\"\"\\nsalaries = {\\n\\'james\\': 300000,\\n\\'kd\\': 100000,\\n\\'zimuge\\': 10000,\\n\\'harden\\': 90000\\n}\\n\\ndef get(k):\\n    return salaries[k]\\n\\n# max可以指定key，代表比较依据，与字典的键重名纯属巧合\\nprint(max(salaries, key=get)) # 这里需要传一个for循环迭代而来的参数，并输入一个结果\\n# max比较原理\\n\"\"\"\\nfor k in salaries:\\n    print(k) # 告诉max，比较的依据是salaries[k]\\n\"\"\"', '\"\"\"\\n求工资最高的那个人是谁\\n求工资最低的那个人是谁\\n把这些人按薪资待遇排序\\n\"\"\"\\nsalaries = {\\n\\'james\\': 300000,\\n\\'kd\\': 100000,\\n\\'zimuge\\': 10000,\\n\\'harden\\': 90000\\n}\\n\\ndef get(k):\\n    return salaries[k]\\n\\n# max比较原理\\n\"\"\"\\nfor k in salaries:\\n    print(k) # 告诉max，比较的依据是salaries[k]\\n\"\"\"\\n\\n# max可以指定key，代表比较依据，与字典的键重名纯属巧合\\nprint(max(salaries, key=get)) # 这里需要传一个for循环迭代而来的参数，并输入一个结果', '\"\"\"显然我们定义一个get函数是不需要的，这时可以使用匿名函数\"\"\"\\n# 求工资最高的那个人是谁\\nprint(max(salaries, key=lambda x: salaries[x]))\\n\\n# 求工资最低的那个人是谁\\nprint(min(salaries, key=lambda x: salaries[x]))\\n\\n# 把这些人按薪资待遇排序\\nsalaries1 = sorted(salaries, key=lambda x: salaries[x]) # 升序\\nprint(salaries1)\\n\\nsalaries2 = sorted(salaries, key=lambda x: salaries[x], reverse=True) # 降序\\nprint(salaries2)', '\"\"\"显然我们定义一个get函数是不需要的，这时可以使用匿名函数\"\"\"\\n# 求工资最高的那个人是谁\\nprint(max(salaries, key=lambda x: salaries[x]))\\n\\n# 求工资最低的那个人是谁\\nprint(min(salaries, key=lambda x: salaries[x]))\\n\\n# 把这些人按薪资待遇排序\\nsalaries1 = sorted(salaries, key=lambda x: salaries[x]) # 升序\\nprint(salaries1)\\n\\nsalaries2 = sorted(salaries, key=lambda x: salaries[x], reverse=True) # 降序\\nprint(salaries2)', '\"\"\"map用法\"\"\"\\n# 数字映射\\nnums = [1, 2, 3, 4, 5]\\n# map第一个参数是函数，即映射方式，第二个参数是可以迭代对象\\nres = map(lambda x: x ** 2, nums)\\n# 在Python2中res是一个列表，Python3中是一个迭代器\\nprint(res)\\n# list用for循环的原理把迭代器转化成列表\\nprint(list(res))\\n\\n# 字符串映射\\nnames = [\\'James\\', \\'Harden\\', \\'Curry\\']\\nres = map(lambda x: x + \\' is super star\\', names)\\nprint(list(res))\\n\\nnames = [\\'James\\', \\'Harden\\', \\'Curry\\', \\'Albert\\']\\nres = map(lambda x: x + \\' is referee\\' if x == \\'Albert\\' else x + \\' is super\\nstar\\', names)\\nprint(list(res))', '\"\"\"map用法\"\"\"\\n# 数字映射\\nnums = [1, 2, 3, 4, 5]\\n# map第一个参数是函数，即映射方式，第二个参数是可以迭代对象\\nres = map(lambda x: x ** 2, nums)\\n# 在Python2中res是一个列表，Python3中是一个迭代器\\nprint(res)\\n# list用for循环的原理把迭代器转化成列表\\nprint(list(res))\\n\\n# 字符串映射\\nnames = [\\'James\\', \\'Harden\\', \\'Curry\\']\\nres = map(lambda x: x + \\' is super star\\', names)\\nprint(list(res))\\n\\nnames = [\\'James\\', \\'Harden\\', \\'Curry\\', \\'Albert\\']\\nres = map(lambda x: x + \\' is referee\\' if x == \\'Albert\\' else x + \\' is superstar\\', names)\\nprint(list(res))', '\"\"\"map用法\"\"\"\\n# 数字映射\\nnums = [1, 2, 3, 4, 5]\\n# map第一个参数是函数，即映射方式，第二个参数是可以迭代对象\\nres = map(lambda x: x ** 2, nums)\\n# 在Python2中res是一个列表，Python3中是一个迭代器\\nprint(res)\\n# list用for循环的原理把迭代器转化成列表\\nprint(list(res))\\n\\n# 字符串映射\\nnames = [\\'James\\', \\'Harden\\', \\'Curry\\']\\nres = map(lambda x: x + \\' is super star\\', names)\\nprint(list(res))\\n\\nnames = [\\'James\\', \\'Harden\\', \\'Curry\\', \\'Albert\\']\\nres = map(lambda x: x + \\' is referee\\' if x == \\'Albert\\' else x + \\' is superstar\\', names)\\nprint(list(res))', '\"\"\"reduce\\nreduce在Python2中还是一个内置函数\\n在Python3中需要导入一下\\n\"\"\"\\nfrom functools import reduce # 导入reduce\\n\"\"\"\\nreduce可以传三个参数：\\n第一个是必传项，指的合并规则，即函数\\n第二个是必传项，指的可迭代对象\\n第三个是可选项，指的初始值\\n\"\"\"\\n# 数字合并: 计算1+2+3+...+100\\nres1 = reduce(lambda x, y: x + y, range(1, 101), 0)\\n# 初始值给x，可迭代对象内的值给y，相加之后再作为初始值给x，可迭代对象内新的值给y\\nprint(res1)\\nres = reduce(lambda x, y: x + y, range(1, 101))\\n# 不指定初始值，则由可迭代对象的第一个值作为初始值\\nprint(res)\\n\\n# 字符串合并\\nlist1 = [\\'Today\\', \\'is\\', \\'the\\', \\'first\\', \\'day\\', \\'of\\', \\'the\\', \\'rest\\', \\'of\\',\\n\\'your\\', \\'life\\']\\nres = reduce(lambda x, y: x + \\' \\' + y + \\' \\', list1)\\nprint(res)', '\"\"\"reduce\\nreduce在Python2中还是一个内置函数\\n在Python3中需要导入一下\\n\"\"\"\\nfrom functools import reduce # 导入reduce\\n\"\"\"\\nreduce可以传三个参数：\\n第一个是必传项，指的合并规则，即函数\\n第二个是必传项，指的可迭代对象\\n第三个是可选项，指的初始值\\n\"\"\"\\n# 数字合并: 计算1+2+3+...+100\\nres1 = reduce(lambda x, y: x + y, range(1, 101), 0)\\n# 初始值给x，可迭代对象内的值给y，相加之后再作为初始值给x，可迭代对象内新的值给y\\nprint(res1)\\nres = reduce(lambda x, y: x + y, range(1, 101))\\n# 不指定初始值，则由可迭代对象的第一个值作为初始值\\nprint(res)\\n\\n# 字符串合并\\nlist1 = [\\'Today\\', \\'is\\', \\'the\\', \\'first\\', \\'day\\', \\'of\\', \\'the\\', \\'rest\\', \\'of\\',\\n\\'your\\', \\'life\\']\\nres = reduce(lambda x, y: x + \\' \\' + y + \\'\\', list1)\\nprint(res)', '\"\"\"reduce\\nreduce在Python2中还是一个内置函数\\n在Python3中需要导入一下\\n\"\"\"\\nfrom functools import reduce # 导入reduce\\n\"\"\"\\nreduce可以传三个参数：\\n第一个是必传项，指的合并规则，即函数\\n第二个是必传项，指的可迭代对象\\n第三个是可选项，指的初始值\\n\"\"\"\\n# 数字合并: 计算1+2+3+...+100\\nres1 = reduce(lambda x, y: x + y, range(1, 101), 0)\\n# 初始值给x，可迭代对象内的值给y，相加之后再作为初始值给x，可迭代对象内新的值给y\\nprint(res1)\\nres = reduce(lambda x, y: x + y, range(1, 101))\\n# 不指定初始值，则由可迭代对象的第一个值作为初始值\\nprint(res)\\n\\n# 字符串合并\\nlist1 = [\\'Today\\', \\'is\\', \\'the\\', \\'first\\', \\'day\\', \\'of\\', \\'the\\', \\'rest\\', \\'of\\',\\n\\'your\\', \\'life\\']\\nres = reduce(lambda x, y: x + \\' \\' + y + \\' \\', list1,0)\\nprint(res)', '\"\"\"reduce\\nreduce在Python2中还是一个内置函数\\n在Python3中需要导入一下\\n\"\"\"\\nfrom functools import reduce # 导入reduce\\n\"\"\"\\nreduce可以传三个参数：\\n第一个是必传项，指的合并规则，即函数\\n第二个是必传项，指的可迭代对象\\n第三个是可选项，指的初始值\\n\"\"\"\\n# 数字合并: 计算1+2+3+...+100\\nres1 = reduce(lambda x, y: x + y, range(1, 101), 0)\\n# 初始值给x，可迭代对象内的值给y，相加之后再作为初始值给x，可迭代对象内新的值给y\\nprint(res1)\\n\\nres = reduce(lambda x, y: x + y, range(1, 101))\\n# 不指定初始值，则由可迭代对象的第一个值作为初始值\\nprint(res)\\n\\n# 字符串合并\\nlist1 = [\\'Today\\', \\'is\\', \\'the\\', \\'first\\', \\'day\\', \\'of\\', \\'the\\', \\'rest\\', \\'of\\',\\n\\'your\\', \\'life\\']\\nres = reduce(lambda x, y: x + \\' \\' + y + \\' \\', list1)\\nprint(res)', '\"\"\"filter\"\"\"\\n# 过滤出年龄不小于30的\\nages = [18, 19, 10, 23, 99, 30]\\n# res = filter(lambda n: True if n >= 30 else False, ages)\\n# filter只能过滤真假，上面写写法有点啰嗦\\nres = filter(lambda n: n >= 30, ages)\\nprint(list(res))\\n\\n# 过滤出裁判\\nnames = [\\'James is super star\\', \\'Harden is super star\\', \\'Albert is referee\\']\\nres = filter(lambda x: x.endswith(\\'referee\\'), names)\\nprint(list(res))', '\"\"\"filter\"\"\"\\n# 过滤出年龄不小于30的\\nages = [18, 19, 10, 23, 99, 30]\\n# res = filter(lambda n: True if n >= 30 else False, ages)\\n# filter只能过滤真假，上面写写法有点啰嗦\\nres = filter(lambda n: n >= 30, ages)\\nprint(list(res))\\n\\n# 过滤出裁判\\nnames = [\\'James is super star\\', \\'Harden is super star\\', \\'Albert is referee\\']\\nres = filter(lambda x: x.endswith(\\'referee\\'), names)\\nprint(list(res))', '\"\"\"(1) format三种基本⽤法\"\"\"\\nres = \\'{} {} {}\\'.format(\\'Albert\\', 18, \\'male\\') # 相当于%s，其占位符的作用\\nprint(res)\\nres = \\'{1} {0} {1}\\'.format(\\'Albert\\', 18, \\'male\\') # 按照索引对应值，与索引序列相关\\nprint(res)\\nres = \\'{name} {age} {sex}\\'.format(sex=\\'male\\', name=\\'Albert\\', age=18) # 按照关键字对应值，只与key对应\\nprint(res)\\n# Albert18 male\\n# 18 Albert 18\\n# Albert 18 male', '\"\"\"(1) format三种基本⽤法\"\"\"\\nres = \\'{} {} {}\\'.format(\\'Albert\\', 18, \\'male\\') # 相当于%s，其占位符的作用\\nprint(res)\\nres = \\'{1} {0} {1}\\'.format(\\'Albert\\', 18, \\'male\\') # 按照索引对应值，与索引序列相关\\nprint(res)\\nres = \\'{name} {age} {sex}\\'.format(sex=\\'male\\', name=\\'Albert\\', age=18) # 按照关键字对应值，只与key对应\\nprint(res)', 'class Person(object):\\n    def __init__(self, name, age):\\n        self.name = name\\n        self.age = age\\n    def __str__(self):\\n        return \"This guy is %s, %s years old.\" % (self.name, self.age)\\np1 = Person(\\'albert\\', 18)\\nprint(p1)\\nclass Person(object):\\n    def __init__(self, name, age):\\n        self.name = name\\n    def __str__(self):\\n        return \"This guy is {self.name}, {self.age} years old.\".format(self=self)\\np1 = Person(\\'albert\\', 18)\\nprint(p1)', 'class Person(object):\\n    def __init__(self, name, age):\\n        self.name = name\\n        self.age = age\\n    def __str__(self):\\n        return \"This guy is %s, %s years old.\" % (self.name, self.age)\\np = Person(\\'albert\\', 18)\\nprint(p)\\n\\nclass Person1(object):\\n    def __init__(self, name, age):\\n        self.name = name\\n        self.age = age\\n    def __str__(self):\\n        return \"This guy is {self.name}, {self.age} years old.\".format(self=self)\\np1 = Person1(\\'albert\\', 18)\\nprint(p1)', 'class Person(object):\\n    def __init__(self, name, age):\\n        self.name = name\\n        self.age = age\\n    def __str__(self):\\n        return \"This guy is %s, %s years old.\" % (self.name, self.age)\\np = Person(\\'albert\\', 18)\\nprint(p)\\n\\nclass Person1(object):\\n    def __init__(self, name, age):\\n        self.name = name\\n        self.age = age\\n    def __str__(self):\\n        return \"This guy is {self.name}, {self.age} years old.\".format(self=self)\\np1 = Person1(\\'albert\\', 18)\\nprint(p1)', '\"\"\"[1] 占位形态\"\"\"\\n# 定义一个坐标值\\nc = (250, 250)\\n# 使用%来格式化\\ns1 = \"敌人坐标：%s\" % c\\nprint(s1)\\n\"\"\"\\n报错说明：\\nnot all arguments converted during string formatting\\n翻译：在执行字符串格式化期间，不是所有的字符串都能被转化\\n其实道理很简单，因为执行字符串转化的时候，程序以为变量c是一个字符串才去进行转化的，然而一转化，\\n才发现：\\n老兄，你坑我啊，你这个字符串我怎么看不明白啊（用 % 去执行这个程序的时候，默认以为 c 是一个字符\\n串），\\n从始至终程序都是为c是一个字符串，其实它不是，所以才会有这样的报错\\n\"\"\"', '# 定义一个坐标值\\nc = (250, 250)\\n# 使用format来格式化\\ns1 = \"敌人坐标：{}\".format(c)\\nprint(s1)\\n\"\"\"\\n区别：\\nformat本意就是变形的意思，72变，需要什么我就变什么\\n% 是一个基本的占位符，只能给字符串，哦，怕程序不理解，是真正的字符串占位\\n\"\"\"', '\"\"\"\\n区别：\\nformat本意就是变形的意思，72变，需要什么我就变什么\\n% 是一个基本的占位符，只能给字符串，哦，怕程序不理解，是真正的字符串占位\\n\"\"\"\\n# 定义一个坐标值\\nc = (250, 250)\\n# 使用format来格式化\\ns1 = \"敌人坐标：{}\".format(c)\\nprint(s1)', '\"\"\"\\n区别：\\nformat本意就是变形的意思，72变，需要什么我就变什么\\n% 是一个基本的占位符，只能给字符串，哦，怕程序不理解，是真正的字符串占位\\n\"\"\"\\n# 定义一个坐标值\\nc = (250, 250)\\n# 使用format来格式化\\ns1 = \"敌人坐标：{}\".format(c)\\nprint(s1)', \"name = 'Albert'\\nprint(f'he said his name is {name}') # 注意字符串前面的f\", 'print(\"{:>10}\".format(\\'18\\'))\\nprint(\"{:3<10}\".format(\\'18\\'))\\n# print(\"{:aa<10}\".format(\\'18\\')) #写两个字符就会报错 ，错误就是让写一个，你偏要写俩，看球不懂\\nprint(\"{:*^10}\".format(\\'18\\'))', 'print(\"{:>10}\".format(\\'18\\'))\\nprint(\"{:3<10}\".format(\\'18\\'))\\n# print(\"{:aa<10}\".format(\\'18\\')) #写两个字符就会报错 ，错误就是让写一个，你偏要写俩，看球不懂\\nprint(\"{:*^10}\".format(\\'18\\'))\\nprint(f\"{:*^10}\")', 'print(\"{:>10}\".format(\\'18\\'))\\nprint(\"{:3<10}\".format(\\'18\\'))\\n# print(\"{:aa<10}\".format(\\'18\\')) #写两个字符就会报错 ，错误就是让写一个，你偏要写俩，看球不懂\\nprint(\"{:*^10}\".format(\\'18\\'))\\nprint(f\"18{:*^10}\")', 'print(\"{:>10}\".format(\\'18\\'))\\nprint(\"{:3<10}\".format(\\'18\\'))\\n# print(\"{:aa<10}\".format(\\'18\\')) #写两个字符就会报错 ，错误就是让写一个，你偏要写俩，看球不懂\\nprint(\"{:*^10}\".format(\\'18\\'))\\nprint(f\"18{*^10}\")', 'print(\"{:>10}\".format(\\'18\\'))\\nprint(\"{:3<10}\".format(\\'18\\'))\\n# print(\"{:aa<10}\".format(\\'18\\')) #写两个字符就会报错 ，错误就是让写一个，你偏要写俩，看球不懂\\nprint(\"{:*^10}\".format(\\'18\\'))', \"print('a'.zfill(10))\", \"# 精度通常和float类型一起使用\\n# 其中.5表示⻓度为5的精度\\n# 3.14159\\nprint('{:.5f}'.format(3.14159265753))\", \"# 精度通常和float类型一起使用\\n# 其中.5表示⻓度为5的精度\\n# 3.14159\\nprint('{:.5f}'.format(3.14159265753))\", 'print(\"{:,}\".format(1234567890))', 'print(\"{:,}\".format(1234567890))', 'print(\"{:b}\".format(18))\\nprint(\"{:d}\".format(18))\\nprint(\"{:o}\".format(18))\\nprint(\"{:x}\".format(18))', '# 1 取绝对值\\nprint(abs(-1)) # 绝对值', \"# 2 逻辑判断\\nprint(all([1, 'a', True])) # 列表中所有元素的布尔值为真，最终结果才为真\\nprint(any([0, 'a', None, False])) # 列表中所有元素的布尔值只要有一个为真，最终结果就\\n为真\\nprint(any([])) # 传给any的可迭代对象如果为空，最终结果为假\", \"# 2 逻辑判断\\nprint(all([1, 'a', True])) # 列表中所有元素的布尔值为真，最终结果才为真\\nprint(any([0, 'a', None, False])) # 列表中所有元素的布尔值只要有一个为真，最终结果就为真\\nprint(any([])) # 传给any的可迭代对象如果为空，最终结果为假\", '# 3 进制转换\\nprint(bin(11)) # 十进制转二进制\\nprint(oct(11)) # 十进制转八进制\\nprint(hex(11)) # 十进制转十六进制', '# 4 布尔值判断\\nprint(bool(0)) # 0,None,空的布尔值为假', \"# 5 bytes类型构造\\n# res='你好Albert'.encode('utf-8') # unicode按照utf-8进行编码，得到的结果为bytes类型\\nres = bytes('你好Albert', encoding='utf-8') # 同上\\nprint(res)\", \"# 6 对象是否可调用\\ndef func():\\n    pass\\nprint(callable(func)) # 判断某个对象是否是可以调用的，可调用指的是可以加括号执行某个功能\\nprint(callable('abc'.strip)) # 判断某个对象是否是可以调用的，可调用指的是可以加括号执行某个功能\\nprint(callable(max)) # 判断某个对象是否是可以调用的，可调用指的是可以加括号执行某个功能\", \"# 7 字符与十进制转换\\nprint(chr(90)) # 按照ascii码表将十进制数字转成字符\\nprint(ord('Z')) # 按照ascii码表将字符转成十进制数字\", \"# 8 查看对象下可调用的方法\\nprint(dir('abc')) # 查看某个对象下可以调用到哪些方法\", '# 9 去商和余数，返回元组\\nprint(divmod(1311, 25))', '# 10 将字符内的表达式拿出运行一下，并拿到该表达式的执行结果\\nres1 = eval(\\'2*3\\')\\nprint(res1, type(res1))\\nres2 = eval(\\'[1,2,3,4]\\')\\nprint(res2, type(res2))\\nres3 = eval(\\'{\"name\":\"Albert\",\"age\":18}\\')\\nprint(res3, type(res3))', '# 11 集合添加\\ns = {1, 2, 3}', '# 11 集合添加\\ns = {1, 2, 3}\\ns.add(4) # 集合添加一个元素\\nprint(s)', '# 12 不可变集合\\nf_set = frozenset({1, 2, 3}) # 不可变集合', \"# 13 名字与值的绑定关系\\nx = 2\\nprint(globals()) # 查看全局作用域中的名字与值的绑定关系\\nprint(dir(globals()['__builtins__']))\"], '_oh': {13: '\\nfor k in salaries:\\n    print(k) # 告诉max，比较的依据是salaries[k]\\n', 14: '\\nfor k in salaries:\\n    print(k) # 告诉max，比较的依据是salaries[k]\\n', 15: '\\nfor k in salaries:\\n    print(k) # 告诉max，比较的依据是salaries[k]\\n', 34: '\\n区别：\\nformat本意就是变形的意思，72变，需要什么我就变什么\\n% 是一个基本的占位符，只能给字符串，哦，怕程序不理解，是真正的字符串占位\\n'}, '_dh': ['C:\\\\Users\\\\Xiao Pengfei\\\\PycharmProjects\\\\python_adv_path\\\\step2'], 'In': ['', 'import sys\\nprint(sys.getrecursionlimit()) # 默认最大递归深度3000\\nsys.setrecursionlimit(10000) # 可以修改成10000甚至1亿，但是受限于机器硬件性能限制\\nprint(sys.getrecursionlimit())', '\"\"\"把以上问题整理成数学表达式，并使⽤递归来完成。\"\"\"\\ndef get_age(n):\\n    if n == 1:\\n        return 18\\n    return get_age(n - 1) + 2 # age(4)+2\\n    # 可以写成以下三元表达式形式，貌似高端，但是会让程序看起来不够简洁\\n# return 18 if n == 1 else age(n - 1) + 2\\nprint(get_age(5))', '\"\"\"把以上问题整理成数学表达式，并使⽤递归来完成。\"\"\"\\ndef get_age(n):\\n    if n == 1:\\n        return 18\\n    return get_age(n - 1) + 2 # age(4)+2\\n    # 可以写成以下三元表达式形式，貌似高端，但是会让程序看起来不够简洁\\n# return 18 if n == 1 else age(n - 1) + 2\\nprint(get_age(5))', '# 要求：取出列表中的1，2，3，4，5，6......\\nitems = [1, [2, [3, [4, [5, [6, [7, [8, [9, [10, ]]]]]]]]]]\\ndef tell(l):\\n    for item in l:\\n        if type(item) is not list:\\n            print(item)\\n        else:\\n            tell(item)\\ntell(items)', '# 要求：取出列表中的1，2，3，4，5，6......\\nitems = [1, [2, [3, [4, [5, [6, [7, [8, [9, [10, ]]]]]]]]]]\\ndef tell(l):\\n    for item in l:\\n        if type(item) is not list:\\n            print(item)\\n        else:\\n            tell(item)\\ntell(items)', '# 有名函数\\ndef func(): # 函数名为func可以多次调用\\n    print(\\'from func\\')\\n\\nfunc()\\nfunc()\\nfunc()\\n\\n# 如果需要输出一个数的n次幂\\n# 使用有名函数\\ndef foo(x, n): # foo对应函数的内存地址\\n    return x ** n\\n\\n# 使用匿名函数\\n\"\"\"\\n匿名函数使用规则：\\n1 冒号左边为参数\\n2 冒号右边为返回值\\n3 不需要写return\\n\"\"\"\\nf = lambda x, n: x ** n # 我们强行给匿名函数赋值一个变量是为了帮助你理解\\nprint(f)\\nprint(f(2, 3))\\nprint(f(2, 4))', '# 有名函数\\ndef func(): # 函数名为func可以多次调用\\n    print(\\'from func\\')\\n\\nfunc()\\nfunc()\\n\\n# 如果需要输出一个数的n次幂\\n# 使用有名函数\\ndef foo(x, n): # foo对应函数的内存地址\\n    return x ** n\\n\\n# 使用匿名函数\\n\"\"\"\\n匿名函数使用规则：\\n1 冒号左边为参数\\n2 冒号右边为返回值\\n3 不需要写return\\n\"\"\"\\nf = lambda x, n: x ** n # 我们强行给匿名函数赋值一个变量是为了帮助你理解\\nprint(f)\\nprint(f(2, 3))\\nprint(f(2, 4))', '# 有名函数\\ndef func(): # 函数名为func可以多次调用\\n    print(\\'from func\\')\\n\\nfunc()\\nfunc()\\n\\n# 如果需要输出一个数的n次幂\\n# 使用有名函数\\ndef foo(x, n): # foo对应函数的内存地址\\n    return x ** n\\n\\n# 使用匿名函数\\n\"\"\"\\n匿名函数使用规则：\\n1 冒号左边为参数\\n2 冒号右边为返回值\\n3 不需要写return\\n\"\"\"\\nf = lambda x, n: x ** n # 我们强行给匿名函数赋值一个变量是为了帮助你理解\\nprint(f)\\nprint(f(2, 3))\\nprint(f(2, 4))', \"# 没有意义\\nf = lambda x, n: print('=======>') # print肯定是没有返回值的\\nprint(f(2, 3))\", '# 有意义\\nf1 = lambda x, y, z: x + y + z\\nprint(f1(1, 2, 3))', \"# 没有意义\\nf = lambda x, n: print('=======>') # print肯定是没有返回值的\\nprint(f(2, 3))\", '# 有意义\\nf1 = lambda x, y, z: x + y + z\\nprint(f1(1, 2, 3))', '\"\"\"匿名函数与max，min，sorted联⽤\"\"\"\\n\\n\"\"\"\\n求工资最高的那个人是谁\\n求工资最低的那个人是谁\\n把这些人按薪资待遇排序\\n\"\"\"\\nsalaries = {\\n\\'james\\': 300000,\\n\\'kd\\': 100000,\\n\\'zimuge\\': 10000,\\n\\'harden\\': 90000\\n}\\n\\n\\ndef get(k):\\n    return salaries[k]\\n\\n# max可以指定key，代表比较依据，与字典的键重名纯属巧合\\nprint(max(salaries, key=get)) # 这里需要传一个for循环迭代而来的参数，并输入一个结果\\n\\n# max比较原理\\n\"\"\"\\nfor k in salaries:\\n    print(k) # 告诉max，比较的依据是salaries[k]\\n\"\"\"', '\"\"\"匿名函数与max，min，sorted联⽤\"\"\"\\n\\n\"\"\"\\n求工资最高的那个人是谁\\n求工资最低的那个人是谁\\n把这些人按薪资待遇排序\\n\"\"\"\\nsalaries = {\\n\\'james\\': 300000,\\n\\'kd\\': 100000,\\n\\'zimuge\\': 10000,\\n\\'harden\\': 90000\\n}\\n\\n\\ndef get(k):\\n    return salaries[k]\\n\\n# max可以指定key，代表比较依据，与字典的键重名纯属巧合\\nprint(max(salaries, key=get)) # 这里需要传一个for循环迭代而来的参数，并输入一个结果\\n\\n# max比较原理\\n\"\"\"\\nfor k in salaries:\\n    print(k) # 告诉max，比较的依据是salaries[k]\\n\"\"\"', '\"\"\"\\n求工资最高的那个人是谁\\n求工资最低的那个人是谁\\n把这些人按薪资待遇排序\\n\"\"\"\\nsalaries = {\\n\\'james\\': 300000,\\n\\'kd\\': 100000,\\n\\'zimuge\\': 10000,\\n\\'harden\\': 90000\\n}\\n\\ndef get(k):\\n    return salaries[k]\\n\\n# max可以指定key，代表比较依据，与字典的键重名纯属巧合\\nprint(max(salaries, key=get)) # 这里需要传一个for循环迭代而来的参数，并输入一个结果\\n# max比较原理\\n\"\"\"\\nfor k in salaries:\\n    print(k) # 告诉max，比较的依据是salaries[k]\\n\"\"\"', '\"\"\"\\n求工资最高的那个人是谁\\n求工资最低的那个人是谁\\n把这些人按薪资待遇排序\\n\"\"\"\\nsalaries = {\\n\\'james\\': 300000,\\n\\'kd\\': 100000,\\n\\'zimuge\\': 10000,\\n\\'harden\\': 90000\\n}\\n\\ndef get(k):\\n    return salaries[k]\\n\\n# max比较原理\\n\"\"\"\\nfor k in salaries:\\n    print(k) # 告诉max，比较的依据是salaries[k]\\n\"\"\"\\n\\n# max可以指定key，代表比较依据，与字典的键重名纯属巧合\\nprint(max(salaries, key=get)) # 这里需要传一个for循环迭代而来的参数，并输入一个结果', '\"\"\"显然我们定义一个get函数是不需要的，这时可以使用匿名函数\"\"\"\\n# 求工资最高的那个人是谁\\nprint(max(salaries, key=lambda x: salaries[x]))\\n\\n# 求工资最低的那个人是谁\\nprint(min(salaries, key=lambda x: salaries[x]))\\n\\n# 把这些人按薪资待遇排序\\nsalaries1 = sorted(salaries, key=lambda x: salaries[x]) # 升序\\nprint(salaries1)\\n\\nsalaries2 = sorted(salaries, key=lambda x: salaries[x], reverse=True) # 降序\\nprint(salaries2)', '\"\"\"显然我们定义一个get函数是不需要的，这时可以使用匿名函数\"\"\"\\n# 求工资最高的那个人是谁\\nprint(max(salaries, key=lambda x: salaries[x]))\\n\\n# 求工资最低的那个人是谁\\nprint(min(salaries, key=lambda x: salaries[x]))\\n\\n# 把这些人按薪资待遇排序\\nsalaries1 = sorted(salaries, key=lambda x: salaries[x]) # 升序\\nprint(salaries1)\\n\\nsalaries2 = sorted(salaries, key=lambda x: salaries[x], reverse=True) # 降序\\nprint(salaries2)', '\"\"\"map用法\"\"\"\\n# 数字映射\\nnums = [1, 2, 3, 4, 5]\\n# map第一个参数是函数，即映射方式，第二个参数是可以迭代对象\\nres = map(lambda x: x ** 2, nums)\\n# 在Python2中res是一个列表，Python3中是一个迭代器\\nprint(res)\\n# list用for循环的原理把迭代器转化成列表\\nprint(list(res))\\n\\n# 字符串映射\\nnames = [\\'James\\', \\'Harden\\', \\'Curry\\']\\nres = map(lambda x: x + \\' is super star\\', names)\\nprint(list(res))\\n\\nnames = [\\'James\\', \\'Harden\\', \\'Curry\\', \\'Albert\\']\\nres = map(lambda x: x + \\' is referee\\' if x == \\'Albert\\' else x + \\' is super\\nstar\\', names)\\nprint(list(res))', '\"\"\"map用法\"\"\"\\n# 数字映射\\nnums = [1, 2, 3, 4, 5]\\n# map第一个参数是函数，即映射方式，第二个参数是可以迭代对象\\nres = map(lambda x: x ** 2, nums)\\n# 在Python2中res是一个列表，Python3中是一个迭代器\\nprint(res)\\n# list用for循环的原理把迭代器转化成列表\\nprint(list(res))\\n\\n# 字符串映射\\nnames = [\\'James\\', \\'Harden\\', \\'Curry\\']\\nres = map(lambda x: x + \\' is super star\\', names)\\nprint(list(res))\\n\\nnames = [\\'James\\', \\'Harden\\', \\'Curry\\', \\'Albert\\']\\nres = map(lambda x: x + \\' is referee\\' if x == \\'Albert\\' else x + \\' is superstar\\', names)\\nprint(list(res))', '\"\"\"map用法\"\"\"\\n# 数字映射\\nnums = [1, 2, 3, 4, 5]\\n# map第一个参数是函数，即映射方式，第二个参数是可以迭代对象\\nres = map(lambda x: x ** 2, nums)\\n# 在Python2中res是一个列表，Python3中是一个迭代器\\nprint(res)\\n# list用for循环的原理把迭代器转化成列表\\nprint(list(res))\\n\\n# 字符串映射\\nnames = [\\'James\\', \\'Harden\\', \\'Curry\\']\\nres = map(lambda x: x + \\' is super star\\', names)\\nprint(list(res))\\n\\nnames = [\\'James\\', \\'Harden\\', \\'Curry\\', \\'Albert\\']\\nres = map(lambda x: x + \\' is referee\\' if x == \\'Albert\\' else x + \\' is superstar\\', names)\\nprint(list(res))', '\"\"\"reduce\\nreduce在Python2中还是一个内置函数\\n在Python3中需要导入一下\\n\"\"\"\\nfrom functools import reduce # 导入reduce\\n\"\"\"\\nreduce可以传三个参数：\\n第一个是必传项，指的合并规则，即函数\\n第二个是必传项，指的可迭代对象\\n第三个是可选项，指的初始值\\n\"\"\"\\n# 数字合并: 计算1+2+3+...+100\\nres1 = reduce(lambda x, y: x + y, range(1, 101), 0)\\n# 初始值给x，可迭代对象内的值给y，相加之后再作为初始值给x，可迭代对象内新的值给y\\nprint(res1)\\nres = reduce(lambda x, y: x + y, range(1, 101))\\n# 不指定初始值，则由可迭代对象的第一个值作为初始值\\nprint(res)\\n\\n# 字符串合并\\nlist1 = [\\'Today\\', \\'is\\', \\'the\\', \\'first\\', \\'day\\', \\'of\\', \\'the\\', \\'rest\\', \\'of\\',\\n\\'your\\', \\'life\\']\\nres = reduce(lambda x, y: x + \\' \\' + y + \\' \\', list1)\\nprint(res)', '\"\"\"reduce\\nreduce在Python2中还是一个内置函数\\n在Python3中需要导入一下\\n\"\"\"\\nfrom functools import reduce # 导入reduce\\n\"\"\"\\nreduce可以传三个参数：\\n第一个是必传项，指的合并规则，即函数\\n第二个是必传项，指的可迭代对象\\n第三个是可选项，指的初始值\\n\"\"\"\\n# 数字合并: 计算1+2+3+...+100\\nres1 = reduce(lambda x, y: x + y, range(1, 101), 0)\\n# 初始值给x，可迭代对象内的值给y，相加之后再作为初始值给x，可迭代对象内新的值给y\\nprint(res1)\\nres = reduce(lambda x, y: x + y, range(1, 101))\\n# 不指定初始值，则由可迭代对象的第一个值作为初始值\\nprint(res)\\n\\n# 字符串合并\\nlist1 = [\\'Today\\', \\'is\\', \\'the\\', \\'first\\', \\'day\\', \\'of\\', \\'the\\', \\'rest\\', \\'of\\',\\n\\'your\\', \\'life\\']\\nres = reduce(lambda x, y: x + \\' \\' + y + \\'\\', list1)\\nprint(res)', '\"\"\"reduce\\nreduce在Python2中还是一个内置函数\\n在Python3中需要导入一下\\n\"\"\"\\nfrom functools import reduce # 导入reduce\\n\"\"\"\\nreduce可以传三个参数：\\n第一个是必传项，指的合并规则，即函数\\n第二个是必传项，指的可迭代对象\\n第三个是可选项，指的初始值\\n\"\"\"\\n# 数字合并: 计算1+2+3+...+100\\nres1 = reduce(lambda x, y: x + y, range(1, 101), 0)\\n# 初始值给x，可迭代对象内的值给y，相加之后再作为初始值给x，可迭代对象内新的值给y\\nprint(res1)\\nres = reduce(lambda x, y: x + y, range(1, 101))\\n# 不指定初始值，则由可迭代对象的第一个值作为初始值\\nprint(res)\\n\\n# 字符串合并\\nlist1 = [\\'Today\\', \\'is\\', \\'the\\', \\'first\\', \\'day\\', \\'of\\', \\'the\\', \\'rest\\', \\'of\\',\\n\\'your\\', \\'life\\']\\nres = reduce(lambda x, y: x + \\' \\' + y + \\' \\', list1,0)\\nprint(res)', '\"\"\"reduce\\nreduce在Python2中还是一个内置函数\\n在Python3中需要导入一下\\n\"\"\"\\nfrom functools import reduce # 导入reduce\\n\"\"\"\\nreduce可以传三个参数：\\n第一个是必传项，指的合并规则，即函数\\n第二个是必传项，指的可迭代对象\\n第三个是可选项，指的初始值\\n\"\"\"\\n# 数字合并: 计算1+2+3+...+100\\nres1 = reduce(lambda x, y: x + y, range(1, 101), 0)\\n# 初始值给x，可迭代对象内的值给y，相加之后再作为初始值给x，可迭代对象内新的值给y\\nprint(res1)\\n\\nres = reduce(lambda x, y: x + y, range(1, 101))\\n# 不指定初始值，则由可迭代对象的第一个值作为初始值\\nprint(res)\\n\\n# 字符串合并\\nlist1 = [\\'Today\\', \\'is\\', \\'the\\', \\'first\\', \\'day\\', \\'of\\', \\'the\\', \\'rest\\', \\'of\\',\\n\\'your\\', \\'life\\']\\nres = reduce(lambda x, y: x + \\' \\' + y + \\' \\', list1)\\nprint(res)', '\"\"\"filter\"\"\"\\n# 过滤出年龄不小于30的\\nages = [18, 19, 10, 23, 99, 30]\\n# res = filter(lambda n: True if n >= 30 else False, ages)\\n# filter只能过滤真假，上面写写法有点啰嗦\\nres = filter(lambda n: n >= 30, ages)\\nprint(list(res))\\n\\n# 过滤出裁判\\nnames = [\\'James is super star\\', \\'Harden is super star\\', \\'Albert is referee\\']\\nres = filter(lambda x: x.endswith(\\'referee\\'), names)\\nprint(list(res))', '\"\"\"filter\"\"\"\\n# 过滤出年龄不小于30的\\nages = [18, 19, 10, 23, 99, 30]\\n# res = filter(lambda n: True if n >= 30 else False, ages)\\n# filter只能过滤真假，上面写写法有点啰嗦\\nres = filter(lambda n: n >= 30, ages)\\nprint(list(res))\\n\\n# 过滤出裁判\\nnames = [\\'James is super star\\', \\'Harden is super star\\', \\'Albert is referee\\']\\nres = filter(lambda x: x.endswith(\\'referee\\'), names)\\nprint(list(res))', '\"\"\"(1) format三种基本⽤法\"\"\"\\nres = \\'{} {} {}\\'.format(\\'Albert\\', 18, \\'male\\') # 相当于%s，其占位符的作用\\nprint(res)\\nres = \\'{1} {0} {1}\\'.format(\\'Albert\\', 18, \\'male\\') # 按照索引对应值，与索引序列相关\\nprint(res)\\nres = \\'{name} {age} {sex}\\'.format(sex=\\'male\\', name=\\'Albert\\', age=18) # 按照关键字对应值，只与key对应\\nprint(res)\\n# Albert18 male\\n# 18 Albert 18\\n# Albert 18 male', '\"\"\"(1) format三种基本⽤法\"\"\"\\nres = \\'{} {} {}\\'.format(\\'Albert\\', 18, \\'male\\') # 相当于%s，其占位符的作用\\nprint(res)\\nres = \\'{1} {0} {1}\\'.format(\\'Albert\\', 18, \\'male\\') # 按照索引对应值，与索引序列相关\\nprint(res)\\nres = \\'{name} {age} {sex}\\'.format(sex=\\'male\\', name=\\'Albert\\', age=18) # 按照关键字对应值，只与key对应\\nprint(res)', 'class Person(object):\\n    def __init__(self, name, age):\\n        self.name = name\\n        self.age = age\\n    def __str__(self):\\n        return \"This guy is %s, %s years old.\" % (self.name, self.age)\\np1 = Person(\\'albert\\', 18)\\nprint(p1)\\nclass Person(object):\\n    def __init__(self, name, age):\\n        self.name = name\\n    def __str__(self):\\n        return \"This guy is {self.name}, {self.age} years old.\".format(self=self)\\np1 = Person(\\'albert\\', 18)\\nprint(p1)', 'class Person(object):\\n    def __init__(self, name, age):\\n        self.name = name\\n        self.age = age\\n    def __str__(self):\\n        return \"This guy is %s, %s years old.\" % (self.name, self.age)\\np = Person(\\'albert\\', 18)\\nprint(p)\\n\\nclass Person1(object):\\n    def __init__(self, name, age):\\n        self.name = name\\n        self.age = age\\n    def __str__(self):\\n        return \"This guy is {self.name}, {self.age} years old.\".format(self=self)\\np1 = Person1(\\'albert\\', 18)\\nprint(p1)', 'class Person(object):\\n    def __init__(self, name, age):\\n        self.name = name\\n        self.age = age\\n    def __str__(self):\\n        return \"This guy is %s, %s years old.\" % (self.name, self.age)\\np = Person(\\'albert\\', 18)\\nprint(p)\\n\\nclass Person1(object):\\n    def __init__(self, name, age):\\n        self.name = name\\n        self.age = age\\n    def __str__(self):\\n        return \"This guy is {self.name}, {self.age} years old.\".format(self=self)\\np1 = Person1(\\'albert\\', 18)\\nprint(p1)', '\"\"\"[1] 占位形态\"\"\"\\n# 定义一个坐标值\\nc = (250, 250)\\n# 使用%来格式化\\ns1 = \"敌人坐标：%s\" % c\\nprint(s1)\\n\"\"\"\\n报错说明：\\nnot all arguments converted during string formatting\\n翻译：在执行字符串格式化期间，不是所有的字符串都能被转化\\n其实道理很简单，因为执行字符串转化的时候，程序以为变量c是一个字符串才去进行转化的，然而一转化，\\n才发现：\\n老兄，你坑我啊，你这个字符串我怎么看不明白啊（用 % 去执行这个程序的时候，默认以为 c 是一个字符\\n串），\\n从始至终程序都是为c是一个字符串，其实它不是，所以才会有这样的报错\\n\"\"\"', '# 定义一个坐标值\\nc = (250, 250)\\n# 使用format来格式化\\ns1 = \"敌人坐标：{}\".format(c)\\nprint(s1)\\n\"\"\"\\n区别：\\nformat本意就是变形的意思，72变，需要什么我就变什么\\n% 是一个基本的占位符，只能给字符串，哦，怕程序不理解，是真正的字符串占位\\n\"\"\"', '\"\"\"\\n区别：\\nformat本意就是变形的意思，72变，需要什么我就变什么\\n% 是一个基本的占位符，只能给字符串，哦，怕程序不理解，是真正的字符串占位\\n\"\"\"\\n# 定义一个坐标值\\nc = (250, 250)\\n# 使用format来格式化\\ns1 = \"敌人坐标：{}\".format(c)\\nprint(s1)', '\"\"\"\\n区别：\\nformat本意就是变形的意思，72变，需要什么我就变什么\\n% 是一个基本的占位符，只能给字符串，哦，怕程序不理解，是真正的字符串占位\\n\"\"\"\\n# 定义一个坐标值\\nc = (250, 250)\\n# 使用format来格式化\\ns1 = \"敌人坐标：{}\".format(c)\\nprint(s1)', \"name = 'Albert'\\nprint(f'he said his name is {name}') # 注意字符串前面的f\", 'print(\"{:>10}\".format(\\'18\\'))\\nprint(\"{:3<10}\".format(\\'18\\'))\\n# print(\"{:aa<10}\".format(\\'18\\')) #写两个字符就会报错 ，错误就是让写一个，你偏要写俩，看球不懂\\nprint(\"{:*^10}\".format(\\'18\\'))', 'print(\"{:>10}\".format(\\'18\\'))\\nprint(\"{:3<10}\".format(\\'18\\'))\\n# print(\"{:aa<10}\".format(\\'18\\')) #写两个字符就会报错 ，错误就是让写一个，你偏要写俩，看球不懂\\nprint(\"{:*^10}\".format(\\'18\\'))\\nprint(f\"{:*^10}\")', 'print(\"{:>10}\".format(\\'18\\'))\\nprint(\"{:3<10}\".format(\\'18\\'))\\n# print(\"{:aa<10}\".format(\\'18\\')) #写两个字符就会报错 ，错误就是让写一个，你偏要写俩，看球不懂\\nprint(\"{:*^10}\".format(\\'18\\'))\\nprint(f\"18{:*^10}\")', 'print(\"{:>10}\".format(\\'18\\'))\\nprint(\"{:3<10}\".format(\\'18\\'))\\n# print(\"{:aa<10}\".format(\\'18\\')) #写两个字符就会报错 ，错误就是让写一个，你偏要写俩，看球不懂\\nprint(\"{:*^10}\".format(\\'18\\'))\\nprint(f\"18{*^10}\")', 'print(\"{:>10}\".format(\\'18\\'))\\nprint(\"{:3<10}\".format(\\'18\\'))\\n# print(\"{:aa<10}\".format(\\'18\\')) #写两个字符就会报错 ，错误就是让写一个，你偏要写俩，看球不懂\\nprint(\"{:*^10}\".format(\\'18\\'))', \"print('a'.zfill(10))\", \"# 精度通常和float类型一起使用\\n# 其中.5表示⻓度为5的精度\\n# 3.14159\\nprint('{:.5f}'.format(3.14159265753))\", \"# 精度通常和float类型一起使用\\n# 其中.5表示⻓度为5的精度\\n# 3.14159\\nprint('{:.5f}'.format(3.14159265753))\", 'print(\"{:,}\".format(1234567890))', 'print(\"{:,}\".format(1234567890))', 'print(\"{:b}\".format(18))\\nprint(\"{:d}\".format(18))\\nprint(\"{:o}\".format(18))\\nprint(\"{:x}\".format(18))', '# 1 取绝对值\\nprint(abs(-1)) # 绝对值', \"# 2 逻辑判断\\nprint(all([1, 'a', True])) # 列表中所有元素的布尔值为真，最终结果才为真\\nprint(any([0, 'a', None, False])) # 列表中所有元素的布尔值只要有一个为真，最终结果就\\n为真\\nprint(any([])) # 传给any的可迭代对象如果为空，最终结果为假\", \"# 2 逻辑判断\\nprint(all([1, 'a', True])) # 列表中所有元素的布尔值为真，最终结果才为真\\nprint(any([0, 'a', None, False])) # 列表中所有元素的布尔值只要有一个为真，最终结果就为真\\nprint(any([])) # 传给any的可迭代对象如果为空，最终结果为假\", '# 3 进制转换\\nprint(bin(11)) # 十进制转二进制\\nprint(oct(11)) # 十进制转八进制\\nprint(hex(11)) # 十进制转十六进制', '# 4 布尔值判断\\nprint(bool(0)) # 0,None,空的布尔值为假', \"# 5 bytes类型构造\\n# res='你好Albert'.encode('utf-8') # unicode按照utf-8进行编码，得到的结果为bytes类型\\nres = bytes('你好Albert', encoding='utf-8') # 同上\\nprint(res)\", \"# 6 对象是否可调用\\ndef func():\\n    pass\\nprint(callable(func)) # 判断某个对象是否是可以调用的，可调用指的是可以加括号执行某个功能\\nprint(callable('abc'.strip)) # 判断某个对象是否是可以调用的，可调用指的是可以加括号执行某个功能\\nprint(callable(max)) # 判断某个对象是否是可以调用的，可调用指的是可以加括号执行某个功能\", \"# 7 字符与十进制转换\\nprint(chr(90)) # 按照ascii码表将十进制数字转成字符\\nprint(ord('Z')) # 按照ascii码表将字符转成十进制数字\", \"# 8 查看对象下可调用的方法\\nprint(dir('abc')) # 查看某个对象下可以调用到哪些方法\", '# 9 去商和余数，返回元组\\nprint(divmod(1311, 25))', '# 10 将字符内的表达式拿出运行一下，并拿到该表达式的执行结果\\nres1 = eval(\\'2*3\\')\\nprint(res1, type(res1))\\nres2 = eval(\\'[1,2,3,4]\\')\\nprint(res2, type(res2))\\nres3 = eval(\\'{\"name\":\"Albert\",\"age\":18}\\')\\nprint(res3, type(res3))', '# 11 集合添加\\ns = {1, 2, 3}', '# 11 集合添加\\ns = {1, 2, 3}\\ns.add(4) # 集合添加一个元素\\nprint(s)', '# 12 不可变集合\\nf_set = frozenset({1, 2, 3}) # 不可变集合', \"# 13 名字与值的绑定关系\\nx = 2\\nprint(globals()) # 查看全局作用域中的名字与值的绑定关系\\nprint(dir(globals()['__builtins__']))\"], 'Out': {13: '\\nfor k in salaries:\\n    print(k) # 告诉max，比较的依据是salaries[k]\\n', 14: '\\nfor k in salaries:\\n    print(k) # 告诉max，比较的依据是salaries[k]\\n', 15: '\\nfor k in salaries:\\n    print(k) # 告诉max，比较的依据是salaries[k]\\n', 34: '\\n区别：\\nformat本意就是变形的意思，72变，需要什么我就变什么\\n% 是一个基本的占位符，只能给字符串，哦，怕程序不理解，是真正的字符串占位\\n'}, 'get_ipython': <bound method InteractiveShell.get_ipython of <ipykernel.zmqshell.ZMQInteractiveShell object at 0x000001F08F692C18>>, 'exit': <IPython.core.autocall.ZMQExitAutocall object at 0x000001F08F6EB7B8>, 'quit': <IPython.core.autocall.ZMQExitAutocall object at 0x000001F08F6EB7B8>, '_': '\\n区别：\\nformat本意就是变形的意思，72变，需要什么我就变什么\\n% 是一个基本的占位符，只能给字符串，哦，怕程序不理解，是真正的字符串占位\\n', '__': '\\nfor k in salaries:\\n    print(k) # 告诉max，比较的依据是salaries[k]\\n', '___': '\\nfor k in salaries:\\n    print(k) # 告诉max，比较的依据是salaries[k]\\n', '_i': '# 12 不可变集合\\nf_set = frozenset({1, 2, 3}) # 不可变集合', '_ii': '# 11 集合添加\\ns = {1, 2, 3}\\ns.add(4) # 集合添加一个元素\\nprint(s)', '_iii': '# 11 集合添加\\ns = {1, 2, 3}', '_i1': 'import sys\\nprint(sys.getrecursionlimit()) # 默认最大递归深度3000\\nsys.setrecursionlimit(10000) # 可以修改成10000甚至1亿，但是受限于机器硬件性能限制\\nprint(sys.getrecursionlimit())', 'sys': <module 'sys' (built-in)>, '_i2': '\"\"\"把以上问题整理成数学表达式，并使⽤递归来完成。\"\"\"\\ndef get_age(n):\\n    if n == 1:\\n        return 18\\n    return get_age(n - 1) + 2 # age(4)+2\\n    # 可以写成以下三元表达式形式，貌似高端，但是会让程序看起来不够简洁\\n# return 18 if n == 1 else age(n - 1) + 2\\nprint(get_age(5))', 'get_age': <function get_age at 0x000001F08F7D8F28>, '_i3': '\"\"\"把以上问题整理成数学表达式，并使⽤递归来完成。\"\"\"\\ndef get_age(n):\\n    if n == 1:\\n        return 18\\n    return get_age(n - 1) + 2 # age(4)+2\\n    # 可以写成以下三元表达式形式，貌似高端，但是会让程序看起来不够简洁\\n# return 18 if n == 1 else age(n - 1) + 2\\nprint(get_age(5))', '_i4': '# 要求：取出列表中的1，2，3，4，5，6......\\nitems = [1, [2, [3, [4, [5, [6, [7, [8, [9, [10, ]]]]]]]]]]\\ndef tell(l):\\n    for item in l:\\n        if type(item) is not list:\\n            print(item)\\n        else:\\n            tell(item)\\ntell(items)', 'items': [1, [2, [3, [4, [5, [6, [7, [8, [9, [10]]]]]]]]]], 'tell': <function tell at 0x000001F08F6A99D8>, '_i5': '# 要求：取出列表中的1，2，3，4，5，6......\\nitems = [1, [2, [3, [4, [5, [6, [7, [8, [9, [10, ]]]]]]]]]]\\ndef tell(l):\\n    for item in l:\\n        if type(item) is not list:\\n            print(item)\\n        else:\\n            tell(item)\\ntell(items)', '_i6': '# 有名函数\\ndef func(): # 函数名为func可以多次调用\\n    print(\\'from func\\')\\n\\nfunc()\\nfunc()\\nfunc()\\n\\n# 如果需要输出一个数的n次幂\\n# 使用有名函数\\ndef foo(x, n): # foo对应函数的内存地址\\n    return x ** n\\n\\n# 使用匿名函数\\n\"\"\"\\n匿名函数使用规则：\\n1 冒号左边为参数\\n2 冒号右边为返回值\\n3 不需要写return\\n\"\"\"\\nf = lambda x, n: x ** n # 我们强行给匿名函数赋值一个变量是为了帮助你理解\\nprint(f)\\nprint(f(2, 3))\\nprint(f(2, 4))', 'func': <function func at 0x000001F08F8C1A60>, 'foo': <function foo at 0x000001F08F802510>, 'f': <function <lambda> at 0x000001F08F8028C8>, '_i7': '# 有名函数\\ndef func(): # 函数名为func可以多次调用\\n    print(\\'from func\\')\\n\\nfunc()\\nfunc()\\n\\n# 如果需要输出一个数的n次幂\\n# 使用有名函数\\ndef foo(x, n): # foo对应函数的内存地址\\n    return x ** n\\n\\n# 使用匿名函数\\n\"\"\"\\n匿名函数使用规则：\\n1 冒号左边为参数\\n2 冒号右边为返回值\\n3 不需要写return\\n\"\"\"\\nf = lambda x, n: x ** n # 我们强行给匿名函数赋值一个变量是为了帮助你理解\\nprint(f)\\nprint(f(2, 3))\\nprint(f(2, 4))', '_i8': '# 有名函数\\ndef func(): # 函数名为func可以多次调用\\n    print(\\'from func\\')\\n\\nfunc()\\nfunc()\\n\\n# 如果需要输出一个数的n次幂\\n# 使用有名函数\\ndef foo(x, n): # foo对应函数的内存地址\\n    return x ** n\\n\\n# 使用匿名函数\\n\"\"\"\\n匿名函数使用规则：\\n1 冒号左边为参数\\n2 冒号右边为返回值\\n3 不需要写return\\n\"\"\"\\nf = lambda x, n: x ** n # 我们强行给匿名函数赋值一个变量是为了帮助你理解\\nprint(f)\\nprint(f(2, 3))\\nprint(f(2, 4))', '_i9': \"# 没有意义\\nf = lambda x, n: print('=======>') # print肯定是没有返回值的\\nprint(f(2, 3))\", '_i10': '# 有意义\\nf1 = lambda x, y, z: x + y + z\\nprint(f1(1, 2, 3))', 'f1': <function <lambda> at 0x000001F08F802598>, '_i11': \"# 没有意义\\nf = lambda x, n: print('=======>') # print肯定是没有返回值的\\nprint(f(2, 3))\", '_i12': '# 有意义\\nf1 = lambda x, y, z: x + y + z\\nprint(f1(1, 2, 3))', '_i13': '\"\"\"匿名函数与max，min，sorted联⽤\"\"\"\\n\\n\"\"\"\\n求工资最高的那个人是谁\\n求工资最低的那个人是谁\\n把这些人按薪资待遇排序\\n\"\"\"\\nsalaries = {\\n\\'james\\': 300000,\\n\\'kd\\': 100000,\\n\\'zimuge\\': 10000,\\n\\'harden\\': 90000\\n}\\n\\n\\ndef get(k):\\n    return salaries[k]\\n\\n# max可以指定key，代表比较依据，与字典的键重名纯属巧合\\nprint(max(salaries, key=get)) # 这里需要传一个for循环迭代而来的参数，并输入一个结果\\n\\n# max比较原理\\n\"\"\"\\nfor k in salaries:\\n    print(k) # 告诉max，比较的依据是salaries[k]\\n\"\"\"', 'salaries': {'james': 300000, 'kd': 100000, 'zimuge': 10000, 'harden': 90000}, 'get': <function get at 0x000001F08F8026A8>, '_13': '\\nfor k in salaries:\\n    print(k) # 告诉max，比较的依据是salaries[k]\\n', '_i14': '\"\"\"匿名函数与max，min，sorted联⽤\"\"\"\\n\\n\"\"\"\\n求工资最高的那个人是谁\\n求工资最低的那个人是谁\\n把这些人按薪资待遇排序\\n\"\"\"\\nsalaries = {\\n\\'james\\': 300000,\\n\\'kd\\': 100000,\\n\\'zimuge\\': 10000,\\n\\'harden\\': 90000\\n}\\n\\n\\ndef get(k):\\n    return salaries[k]\\n\\n# max可以指定key，代表比较依据，与字典的键重名纯属巧合\\nprint(max(salaries, key=get)) # 这里需要传一个for循环迭代而来的参数，并输入一个结果\\n\\n# max比较原理\\n\"\"\"\\nfor k in salaries:\\n    print(k) # 告诉max，比较的依据是salaries[k]\\n\"\"\"', '_14': '\\nfor k in salaries:\\n    print(k) # 告诉max，比较的依据是salaries[k]\\n', '_i15': '\"\"\"\\n求工资最高的那个人是谁\\n求工资最低的那个人是谁\\n把这些人按薪资待遇排序\\n\"\"\"\\nsalaries = {\\n\\'james\\': 300000,\\n\\'kd\\': 100000,\\n\\'zimuge\\': 10000,\\n\\'harden\\': 90000\\n}\\n\\ndef get(k):\\n    return salaries[k]\\n\\n# max可以指定key，代表比较依据，与字典的键重名纯属巧合\\nprint(max(salaries, key=get)) # 这里需要传一个for循环迭代而来的参数，并输入一个结果\\n# max比较原理\\n\"\"\"\\nfor k in salaries:\\n    print(k) # 告诉max，比较的依据是salaries[k]\\n\"\"\"', '_15': '\\nfor k in salaries:\\n    print(k) # 告诉max，比较的依据是salaries[k]\\n', '_i16': '\"\"\"\\n求工资最高的那个人是谁\\n求工资最低的那个人是谁\\n把这些人按薪资待遇排序\\n\"\"\"\\nsalaries = {\\n\\'james\\': 300000,\\n\\'kd\\': 100000,\\n\\'zimuge\\': 10000,\\n\\'harden\\': 90000\\n}\\n\\ndef get(k):\\n    return salaries[k]\\n\\n# max比较原理\\n\"\"\"\\nfor k in salaries:\\n    print(k) # 告诉max，比较的依据是salaries[k]\\n\"\"\"\\n\\n# max可以指定key，代表比较依据，与字典的键重名纯属巧合\\nprint(max(salaries, key=get)) # 这里需要传一个for循环迭代而来的参数，并输入一个结果', '_i17': '\"\"\"显然我们定义一个get函数是不需要的，这时可以使用匿名函数\"\"\"\\n# 求工资最高的那个人是谁\\nprint(max(salaries, key=lambda x: salaries[x]))\\n\\n# 求工资最低的那个人是谁\\nprint(min(salaries, key=lambda x: salaries[x]))\\n\\n# 把这些人按薪资待遇排序\\nsalaries1 = sorted(salaries, key=lambda x: salaries[x]) # 升序\\nprint(salaries1)\\n\\nsalaries2 = sorted(salaries, key=lambda x: salaries[x], reverse=True) # 降序\\nprint(salaries2)', 'salaries1': ['zimuge', 'harden', 'kd', 'james'], 'salaries2': ['james', 'kd', 'harden', 'zimuge'], '_i18': '\"\"\"显然我们定义一个get函数是不需要的，这时可以使用匿名函数\"\"\"\\n# 求工资最高的那个人是谁\\nprint(max(salaries, key=lambda x: salaries[x]))\\n\\n# 求工资最低的那个人是谁\\nprint(min(salaries, key=lambda x: salaries[x]))\\n\\n# 把这些人按薪资待遇排序\\nsalaries1 = sorted(salaries, key=lambda x: salaries[x]) # 升序\\nprint(salaries1)\\n\\nsalaries2 = sorted(salaries, key=lambda x: salaries[x], reverse=True) # 降序\\nprint(salaries2)', '_i19': '\"\"\"map用法\"\"\"\\n# 数字映射\\nnums = [1, 2, 3, 4, 5]\\n# map第一个参数是函数，即映射方式，第二个参数是可以迭代对象\\nres = map(lambda x: x ** 2, nums)\\n# 在Python2中res是一个列表，Python3中是一个迭代器\\nprint(res)\\n# list用for循环的原理把迭代器转化成列表\\nprint(list(res))\\n\\n# 字符串映射\\nnames = [\\'James\\', \\'Harden\\', \\'Curry\\']\\nres = map(lambda x: x + \\' is super star\\', names)\\nprint(list(res))\\n\\nnames = [\\'James\\', \\'Harden\\', \\'Curry\\', \\'Albert\\']\\nres = map(lambda x: x + \\' is referee\\' if x == \\'Albert\\' else x + \\' is super\\nstar\\', names)\\nprint(list(res))', '_i20': '\"\"\"map用法\"\"\"\\n# 数字映射\\nnums = [1, 2, 3, 4, 5]\\n# map第一个参数是函数，即映射方式，第二个参数是可以迭代对象\\nres = map(lambda x: x ** 2, nums)\\n# 在Python2中res是一个列表，Python3中是一个迭代器\\nprint(res)\\n# list用for循环的原理把迭代器转化成列表\\nprint(list(res))\\n\\n# 字符串映射\\nnames = [\\'James\\', \\'Harden\\', \\'Curry\\']\\nres = map(lambda x: x + \\' is super star\\', names)\\nprint(list(res))\\n\\nnames = [\\'James\\', \\'Harden\\', \\'Curry\\', \\'Albert\\']\\nres = map(lambda x: x + \\' is referee\\' if x == \\'Albert\\' else x + \\' is superstar\\', names)\\nprint(list(res))', 'nums': [1, 2, 3, 4, 5], 'res': b'\\xe4\\xbd\\xa0\\xe5\\xa5\\xbdAlbert', 'names': ['James is super star', 'Harden is super star', 'Albert is referee'], '_i21': '\"\"\"map用法\"\"\"\\n# 数字映射\\nnums = [1, 2, 3, 4, 5]\\n# map第一个参数是函数，即映射方式，第二个参数是可以迭代对象\\nres = map(lambda x: x ** 2, nums)\\n# 在Python2中res是一个列表，Python3中是一个迭代器\\nprint(res)\\n# list用for循环的原理把迭代器转化成列表\\nprint(list(res))\\n\\n# 字符串映射\\nnames = [\\'James\\', \\'Harden\\', \\'Curry\\']\\nres = map(lambda x: x + \\' is super star\\', names)\\nprint(list(res))\\n\\nnames = [\\'James\\', \\'Harden\\', \\'Curry\\', \\'Albert\\']\\nres = map(lambda x: x + \\' is referee\\' if x == \\'Albert\\' else x + \\' is superstar\\', names)\\nprint(list(res))', '_i22': '\"\"\"reduce\\nreduce在Python2中还是一个内置函数\\n在Python3中需要导入一下\\n\"\"\"\\nfrom functools import reduce # 导入reduce\\n\"\"\"\\nreduce可以传三个参数：\\n第一个是必传项，指的合并规则，即函数\\n第二个是必传项，指的可迭代对象\\n第三个是可选项，指的初始值\\n\"\"\"\\n# 数字合并: 计算1+2+3+...+100\\nres1 = reduce(lambda x, y: x + y, range(1, 101), 0)\\n# 初始值给x，可迭代对象内的值给y，相加之后再作为初始值给x，可迭代对象内新的值给y\\nprint(res1)\\nres = reduce(lambda x, y: x + y, range(1, 101))\\n# 不指定初始值，则由可迭代对象的第一个值作为初始值\\nprint(res)\\n\\n# 字符串合并\\nlist1 = [\\'Today\\', \\'is\\', \\'the\\', \\'first\\', \\'day\\', \\'of\\', \\'the\\', \\'rest\\', \\'of\\',\\n\\'your\\', \\'life\\']\\nres = reduce(lambda x, y: x + \\' \\' + y + \\' \\', list1)\\nprint(res)', 'reduce': <built-in function reduce>, 'res1': 6, 'list1': ['Today', 'is', 'the', 'first', 'day', 'of', 'the', 'rest', 'of', 'your', 'life'], '_i23': '\"\"\"reduce\\nreduce在Python2中还是一个内置函数\\n在Python3中需要导入一下\\n\"\"\"\\nfrom functools import reduce # 导入reduce\\n\"\"\"\\nreduce可以传三个参数：\\n第一个是必传项，指的合并规则，即函数\\n第二个是必传项，指的可迭代对象\\n第三个是可选项，指的初始值\\n\"\"\"\\n# 数字合并: 计算1+2+3+...+100\\nres1 = reduce(lambda x, y: x + y, range(1, 101), 0)\\n# 初始值给x，可迭代对象内的值给y，相加之后再作为初始值给x，可迭代对象内新的值给y\\nprint(res1)\\nres = reduce(lambda x, y: x + y, range(1, 101))\\n# 不指定初始值，则由可迭代对象的第一个值作为初始值\\nprint(res)\\n\\n# 字符串合并\\nlist1 = [\\'Today\\', \\'is\\', \\'the\\', \\'first\\', \\'day\\', \\'of\\', \\'the\\', \\'rest\\', \\'of\\',\\n\\'your\\', \\'life\\']\\nres = reduce(lambda x, y: x + \\' \\' + y + \\'\\', list1)\\nprint(res)', '_i24': '\"\"\"reduce\\nreduce在Python2中还是一个内置函数\\n在Python3中需要导入一下\\n\"\"\"\\nfrom functools import reduce # 导入reduce\\n\"\"\"\\nreduce可以传三个参数：\\n第一个是必传项，指的合并规则，即函数\\n第二个是必传项，指的可迭代对象\\n第三个是可选项，指的初始值\\n\"\"\"\\n# 数字合并: 计算1+2+3+...+100\\nres1 = reduce(lambda x, y: x + y, range(1, 101), 0)\\n# 初始值给x，可迭代对象内的值给y，相加之后再作为初始值给x，可迭代对象内新的值给y\\nprint(res1)\\nres = reduce(lambda x, y: x + y, range(1, 101))\\n# 不指定初始值，则由可迭代对象的第一个值作为初始值\\nprint(res)\\n\\n# 字符串合并\\nlist1 = [\\'Today\\', \\'is\\', \\'the\\', \\'first\\', \\'day\\', \\'of\\', \\'the\\', \\'rest\\', \\'of\\',\\n\\'your\\', \\'life\\']\\nres = reduce(lambda x, y: x + \\' \\' + y + \\' \\', list1,0)\\nprint(res)', '_i25': '\"\"\"reduce\\nreduce在Python2中还是一个内置函数\\n在Python3中需要导入一下\\n\"\"\"\\nfrom functools import reduce # 导入reduce\\n\"\"\"\\nreduce可以传三个参数：\\n第一个是必传项，指的合并规则，即函数\\n第二个是必传项，指的可迭代对象\\n第三个是可选项，指的初始值\\n\"\"\"\\n# 数字合并: 计算1+2+3+...+100\\nres1 = reduce(lambda x, y: x + y, range(1, 101), 0)\\n# 初始值给x，可迭代对象内的值给y，相加之后再作为初始值给x，可迭代对象内新的值给y\\nprint(res1)\\n\\nres = reduce(lambda x, y: x + y, range(1, 101))\\n# 不指定初始值，则由可迭代对象的第一个值作为初始值\\nprint(res)\\n\\n# 字符串合并\\nlist1 = [\\'Today\\', \\'is\\', \\'the\\', \\'first\\', \\'day\\', \\'of\\', \\'the\\', \\'rest\\', \\'of\\',\\n\\'your\\', \\'life\\']\\nres = reduce(lambda x, y: x + \\' \\' + y + \\' \\', list1)\\nprint(res)', '_i26': '\"\"\"filter\"\"\"\\n# 过滤出年龄不小于30的\\nages = [18, 19, 10, 23, 99, 30]\\n# res = filter(lambda n: True if n >= 30 else False, ages)\\n# filter只能过滤真假，上面写写法有点啰嗦\\nres = filter(lambda n: n >= 30, ages)\\nprint(list(res))\\n\\n# 过滤出裁判\\nnames = [\\'James is super star\\', \\'Harden is super star\\', \\'Albert is referee\\']\\nres = filter(lambda x: x.endswith(\\'referee\\'), names)\\nprint(list(res))', 'ages': [18, 19, 10, 23, 99, 30], '_i27': '\"\"\"filter\"\"\"\\n# 过滤出年龄不小于30的\\nages = [18, 19, 10, 23, 99, 30]\\n# res = filter(lambda n: True if n >= 30 else False, ages)\\n# filter只能过滤真假，上面写写法有点啰嗦\\nres = filter(lambda n: n >= 30, ages)\\nprint(list(res))\\n\\n# 过滤出裁判\\nnames = [\\'James is super star\\', \\'Harden is super star\\', \\'Albert is referee\\']\\nres = filter(lambda x: x.endswith(\\'referee\\'), names)\\nprint(list(res))', '_i28': '\"\"\"(1) format三种基本⽤法\"\"\"\\nres = \\'{} {} {}\\'.format(\\'Albert\\', 18, \\'male\\') # 相当于%s，其占位符的作用\\nprint(res)\\nres = \\'{1} {0} {1}\\'.format(\\'Albert\\', 18, \\'male\\') # 按照索引对应值，与索引序列相关\\nprint(res)\\nres = \\'{name} {age} {sex}\\'.format(sex=\\'male\\', name=\\'Albert\\', age=18) # 按照关键字对应值，只与key对应\\nprint(res)\\n# Albert18 male\\n# 18 Albert 18\\n# Albert 18 male', '_i29': '\"\"\"(1) format三种基本⽤法\"\"\"\\nres = \\'{} {} {}\\'.format(\\'Albert\\', 18, \\'male\\') # 相当于%s，其占位符的作用\\nprint(res)\\nres = \\'{1} {0} {1}\\'.format(\\'Albert\\', 18, \\'male\\') # 按照索引对应值，与索引序列相关\\nprint(res)\\nres = \\'{name} {age} {sex}\\'.format(sex=\\'male\\', name=\\'Albert\\', age=18) # 按照关键字对应值，只与key对应\\nprint(res)', '_i30': 'class Person(object):\\n    def __init__(self, name, age):\\n        self.name = name\\n        self.age = age\\n    def __str__(self):\\n        return \"This guy is %s, %s years old.\" % (self.name, self.age)\\np1 = Person(\\'albert\\', 18)\\nprint(p1)\\nclass Person(object):\\n    def __init__(self, name, age):\\n        self.name = name\\n    def __str__(self):\\n        return \"This guy is {self.name}, {self.age} years old.\".format(self=self)\\np1 = Person(\\'albert\\', 18)\\nprint(p1)', 'Person': <class '__main__.Person'>, 'p1': <__main__.Person1 object at 0x000001F08F851780>, '_i31': 'class Person(object):\\n    def __init__(self, name, age):\\n        self.name = name\\n        self.age = age\\n    def __str__(self):\\n        return \"This guy is %s, %s years old.\" % (self.name, self.age)\\np = Person(\\'albert\\', 18)\\nprint(p)\\n\\nclass Person1(object):\\n    def __init__(self, name, age):\\n        self.name = name\\n        self.age = age\\n    def __str__(self):\\n        return \"This guy is {self.name}, {self.age} years old.\".format(self=self)\\np1 = Person1(\\'albert\\', 18)\\nprint(p1)', 'p': <__main__.Person object at 0x000001F08F8515F8>, 'Person1': <class '__main__.Person1'>, '_i32': 'class Person(object):\\n    def __init__(self, name, age):\\n        self.name = name\\n        self.age = age\\n    def __str__(self):\\n        return \"This guy is %s, %s years old.\" % (self.name, self.age)\\np = Person(\\'albert\\', 18)\\nprint(p)\\n\\nclass Person1(object):\\n    def __init__(self, name, age):\\n        self.name = name\\n        self.age = age\\n    def __str__(self):\\n        return \"This guy is {self.name}, {self.age} years old.\".format(self=self)\\np1 = Person1(\\'albert\\', 18)\\nprint(p1)', '_i33': '\"\"\"[1] 占位形态\"\"\"\\n# 定义一个坐标值\\nc = (250, 250)\\n# 使用%来格式化\\ns1 = \"敌人坐标：%s\" % c\\nprint(s1)\\n\"\"\"\\n报错说明：\\nnot all arguments converted during string formatting\\n翻译：在执行字符串格式化期间，不是所有的字符串都能被转化\\n其实道理很简单，因为执行字符串转化的时候，程序以为变量c是一个字符串才去进行转化的，然而一转化，\\n才发现：\\n老兄，你坑我啊，你这个字符串我怎么看不明白啊（用 % 去执行这个程序的时候，默认以为 c 是一个字符\\n串），\\n从始至终程序都是为c是一个字符串，其实它不是，所以才会有这样的报错\\n\"\"\"', 'c': (250, 250), '_i34': '# 定义一个坐标值\\nc = (250, 250)\\n# 使用format来格式化\\ns1 = \"敌人坐标：{}\".format(c)\\nprint(s1)\\n\"\"\"\\n区别：\\nformat本意就是变形的意思，72变，需要什么我就变什么\\n% 是一个基本的占位符，只能给字符串，哦，怕程序不理解，是真正的字符串占位\\n\"\"\"', 's1': '敌人坐标：(250, 250)', '_34': '\\n区别：\\nformat本意就是变形的意思，72变，需要什么我就变什么\\n% 是一个基本的占位符，只能给字符串，哦，怕程序不理解，是真正的字符串占位\\n', '_i35': '\"\"\"\\n区别：\\nformat本意就是变形的意思，72变，需要什么我就变什么\\n% 是一个基本的占位符，只能给字符串，哦，怕程序不理解，是真正的字符串占位\\n\"\"\"\\n# 定义一个坐标值\\nc = (250, 250)\\n# 使用format来格式化\\ns1 = \"敌人坐标：{}\".format(c)\\nprint(s1)', '_i36': '\"\"\"\\n区别：\\nformat本意就是变形的意思，72变，需要什么我就变什么\\n% 是一个基本的占位符，只能给字符串，哦，怕程序不理解，是真正的字符串占位\\n\"\"\"\\n# 定义一个坐标值\\nc = (250, 250)\\n# 使用format来格式化\\ns1 = \"敌人坐标：{}\".format(c)\\nprint(s1)', '_i37': \"name = 'Albert'\\nprint(f'he said his name is {name}') # 注意字符串前面的f\", 'name': 'Albert', '_i38': 'print(\"{:>10}\".format(\\'18\\'))\\nprint(\"{:3<10}\".format(\\'18\\'))\\n# print(\"{:aa<10}\".format(\\'18\\')) #写两个字符就会报错 ，错误就是让写一个，你偏要写俩，看球不懂\\nprint(\"{:*^10}\".format(\\'18\\'))', '_i39': 'print(\"{:>10}\".format(\\'18\\'))\\nprint(\"{:3<10}\".format(\\'18\\'))\\n# print(\"{:aa<10}\".format(\\'18\\')) #写两个字符就会报错 ，错误就是让写一个，你偏要写俩，看球不懂\\nprint(\"{:*^10}\".format(\\'18\\'))\\nprint(f\"{:*^10}\")', '_i40': 'print(\"{:>10}\".format(\\'18\\'))\\nprint(\"{:3<10}\".format(\\'18\\'))\\n# print(\"{:aa<10}\".format(\\'18\\')) #写两个字符就会报错 ，错误就是让写一个，你偏要写俩，看球不懂\\nprint(\"{:*^10}\".format(\\'18\\'))\\nprint(f\"18{:*^10}\")', '_i41': 'print(\"{:>10}\".format(\\'18\\'))\\nprint(\"{:3<10}\".format(\\'18\\'))\\n# print(\"{:aa<10}\".format(\\'18\\')) #写两个字符就会报错 ，错误就是让写一个，你偏要写俩，看球不懂\\nprint(\"{:*^10}\".format(\\'18\\'))\\nprint(f\"18{*^10}\")', '_i42': 'print(\"{:>10}\".format(\\'18\\'))\\nprint(\"{:3<10}\".format(\\'18\\'))\\n# print(\"{:aa<10}\".format(\\'18\\')) #写两个字符就会报错 ，错误就是让写一个，你偏要写俩，看球不懂\\nprint(\"{:*^10}\".format(\\'18\\'))', '_i43': \"print('a'.zfill(10))\", '_i44': \"# 精度通常和float类型一起使用\\n# 其中.5表示⻓度为5的精度\\n# 3.14159\\nprint('{:.5f}'.format(3.14159265753))\", '_i45': \"# 精度通常和float类型一起使用\\n# 其中.5表示⻓度为5的精度\\n# 3.14159\\nprint('{:.5f}'.format(3.14159265753))\", '_i46': 'print(\"{:,}\".format(1234567890))', '_i47': 'print(\"{:,}\".format(1234567890))', '_i48': 'print(\"{:b}\".format(18))\\nprint(\"{:d}\".format(18))\\nprint(\"{:o}\".format(18))\\nprint(\"{:x}\".format(18))', '_i49': '# 1 取绝对值\\nprint(abs(-1)) # 绝对值', '_i50': \"# 2 逻辑判断\\nprint(all([1, 'a', True])) # 列表中所有元素的布尔值为真，最终结果才为真\\nprint(any([0, 'a', None, False])) # 列表中所有元素的布尔值只要有一个为真，最终结果就\\n为真\\nprint(any([])) # 传给any的可迭代对象如果为空，最终结果为假\", '_i51': \"# 2 逻辑判断\\nprint(all([1, 'a', True])) # 列表中所有元素的布尔值为真，最终结果才为真\\nprint(any([0, 'a', None, False])) # 列表中所有元素的布尔值只要有一个为真，最终结果就为真\\nprint(any([])) # 传给any的可迭代对象如果为空，最终结果为假\", '_i52': '# 3 进制转换\\nprint(bin(11)) # 十进制转二进制\\nprint(oct(11)) # 十进制转八进制\\nprint(hex(11)) # 十进制转十六进制', '_i53': '# 4 布尔值判断\\nprint(bool(0)) # 0,None,空的布尔值为假', '_i54': \"# 5 bytes类型构造\\n# res='你好Albert'.encode('utf-8') # unicode按照utf-8进行编码，得到的结果为bytes类型\\nres = bytes('你好Albert', encoding='utf-8') # 同上\\nprint(res)\", '_i55': \"# 6 对象是否可调用\\ndef func():\\n    pass\\nprint(callable(func)) # 判断某个对象是否是可以调用的，可调用指的是可以加括号执行某个功能\\nprint(callable('abc'.strip)) # 判断某个对象是否是可以调用的，可调用指的是可以加括号执行某个功能\\nprint(callable(max)) # 判断某个对象是否是可以调用的，可调用指的是可以加括号执行某个功能\", '_i56': \"# 7 字符与十进制转换\\nprint(chr(90)) # 按照ascii码表将十进制数字转成字符\\nprint(ord('Z')) # 按照ascii码表将字符转成十进制数字\", '_i57': \"# 8 查看对象下可调用的方法\\nprint(dir('abc')) # 查看某个对象下可以调用到哪些方法\", '_i58': '# 9 去商和余数，返回元组\\nprint(divmod(1311, 25))', '_i59': '# 10 将字符内的表达式拿出运行一下，并拿到该表达式的执行结果\\nres1 = eval(\\'2*3\\')\\nprint(res1, type(res1))\\nres2 = eval(\\'[1,2,3,4]\\')\\nprint(res2, type(res2))\\nres3 = eval(\\'{\"name\":\"Albert\",\"age\":18}\\')\\nprint(res3, type(res3))', 'res2': [1, 2, 3, 4], 'res3': {'name': 'Albert', 'age': 18}, '_i60': '# 11 集合添加\\ns = {1, 2, 3}', 's': {1, 2, 3, 4}, '_i61': '# 11 集合添加\\ns = {1, 2, 3}\\ns.add(4) # 集合添加一个元素\\nprint(s)', '_i62': '# 12 不可变集合\\nf_set = frozenset({1, 2, 3}) # 不可变集合', 'f_set': frozenset({1, 2, 3}), '_i63': \"# 13 名字与值的绑定关系\\nx = 2\\nprint(globals()) # 查看全局作用域中的名字与值的绑定关系\\nprint(dir(globals()['__builtins__']))\", 'x': 2}\n",
      "['ArithmeticError', 'AssertionError', 'AttributeError', 'BaseException', 'BlockingIOError', 'BrokenPipeError', 'BufferError', 'BytesWarning', 'ChildProcessError', 'ConnectionAbortedError', 'ConnectionError', 'ConnectionRefusedError', 'ConnectionResetError', 'DeprecationWarning', 'EOFError', 'Ellipsis', 'EnvironmentError', 'Exception', 'False', 'FileExistsError', 'FileNotFoundError', 'FloatingPointError', 'FutureWarning', 'GeneratorExit', 'IOError', 'ImportError', 'ImportWarning', 'IndentationError', 'IndexError', 'InterruptedError', 'IsADirectoryError', 'KeyError', 'KeyboardInterrupt', 'LookupError', 'MemoryError', 'ModuleNotFoundError', 'NameError', 'None', 'NotADirectoryError', 'NotImplemented', 'NotImplementedError', 'OSError', 'OverflowError', 'PendingDeprecationWarning', 'PermissionError', 'ProcessLookupError', 'RecursionError', 'ReferenceError', 'ResourceWarning', 'RuntimeError', 'RuntimeWarning', 'StopAsyncIteration', 'StopIteration', 'SyntaxError', 'SyntaxWarning', 'SystemError', 'SystemExit', 'TabError', 'TimeoutError', 'True', 'TypeError', 'UnboundLocalError', 'UnicodeDecodeError', 'UnicodeEncodeError', 'UnicodeError', 'UnicodeTranslateError', 'UnicodeWarning', 'UserWarning', 'ValueError', 'Warning', 'WindowsError', 'ZeroDivisionError', '__IPYTHON__', '__build_class__', '__debug__', '__doc__', '__import__', '__loader__', '__name__', '__package__', '__spec__', 'abs', 'all', 'any', 'ascii', 'bin', 'bool', 'breakpoint', 'bytearray', 'bytes', 'callable', 'chr', 'classmethod', 'compile', 'complex', 'copyright', 'credits', 'delattr', 'dict', 'dir', 'display', 'divmod', 'enumerate', 'eval', 'exec', 'filter', 'float', 'format', 'frozenset', 'get_ipython', 'getattr', 'globals', 'hasattr', 'hash', 'help', 'hex', 'id', 'input', 'int', 'isinstance', 'issubclass', 'iter', 'len', 'license', 'list', 'locals', 'map', 'max', 'memoryview', 'min', 'next', 'object', 'oct', 'open', 'ord', 'pow', 'print', 'property', 'range', 'repr', 'reversed', 'round', 'set', 'setattr', 'slice', 'sorted', 'staticmethod', 'str', 'sum', 'super', 'tuple', 'type', 'vars', 'zip']\n"
     ]
    }
   ],
   "source": [
    "# 13 名字与值的绑定关系\n",
    "x = 2\n",
    "print(globals()) # 查看全局作用域中的名字与值的绑定关系\n",
    "print(dir(globals()['__builtins__']))"
   ]
  },
  {
   "cell_type": "code",
   "execution_count": 64,
   "metadata": {},
   "outputs": [
    {
     "name": "stdout",
     "output_type": "stream",
     "text": [
      "{'x': 1}\n"
     ]
    }
   ],
   "source": [
    "def func():\n",
    "    x = 1\n",
    "    print(locals()) # 查看局部作用域中的名字与值的绑定关系\n",
    "func()"
   ]
  },
  {
   "cell_type": "code",
   "execution_count": 66,
   "metadata": {},
   "outputs": [
    {
     "name": "stdout",
     "output_type": "stream",
     "text": [
      "469381977232235526\n",
      "485696759010151909\n"
     ]
    }
   ],
   "source": [
    "# 14 哈希\n",
    "print(hash('a'))\n",
    "print(hash((1, 2, 3, 4)))\n",
    "# dict1 = {[1, 2, 3]: 'a'} # 报错，字典的key必须是不可变类型\n",
    "# 不可hash的类型list,dict,set== 可变的类型\n",
    "# 可hash的类型int,float,str,tuple == 不可变的类型\n",
    "# 哈希下一章节会有更加详细的讲解，这里先了解即可"
   ]
  },
  {
   "cell_type": "code",
   "execution_count": 67,
   "metadata": {},
   "outputs": [
    {
     "name": "stdout",
     "output_type": "stream",
     "text": [
      "Help on built-in function max in module builtins:\n",
      "\n",
      "max(...)\n",
      "    max(iterable, *[, default=obj, key=func]) -> value\n",
      "    max(arg1, arg2, *args, *[, key=func]) -> value\n",
      "    \n",
      "    With a single iterable argument, return its biggest item. The\n",
      "    default keyword-only argument specifies an object to return if\n",
      "    the provided iterable is empty.\n",
      "    With two or more arguments, return the largest argument.\n",
      "\n",
      "None\n",
      "Help on function func in module __main__:\n",
      "\n",
      "func()\n",
      "    帮助信息\n",
      "    :return:\n",
      "\n",
      "None\n"
     ]
    }
   ],
   "source": [
    "# 15 查看文档注释\n",
    "def func():\n",
    "    \"\"\"\n",
    "    帮助信息\n",
    "    :return:\n",
    "    \"\"\"\n",
    "    pass\n",
    "print(help(max)) # 查看文档注释\n",
    "print(help(func))"
   ]
  },
  {
   "cell_type": "code",
   "execution_count": 69,
   "metadata": {},
   "outputs": [
    {
     "name": "stdout",
     "output_type": "stream",
     "text": [
      "2\n",
      "2\n",
      "A\n"
     ]
    }
   ],
   "source": [
    "# 16 len，next，iter等自动执行的方法\n",
    "# __开头__结尾的方法都是在某种情况下自动触发执行，通常我们不需要自己写\n",
    "print(len({'x': 1, 'y': 2})) # 触发 {'x':1,'y':2}.__len__()\n",
    "print({'x': 1, 'y': 2}.__len__()) # 与上面等同\n",
    "obj = iter('Albert') # 'Albert'.__iter__()\n",
    "print(next(obj)) # obj.__next__()"
   ]
  },
  {
   "cell_type": "code",
   "execution_count": 70,
   "metadata": {},
   "outputs": [
    {
     "name": "stdout",
     "output_type": "stream",
     "text": [
      "2\n"
     ]
    }
   ],
   "source": [
    "# 17 2**3 % 3\n",
    "print(pow(2, 3, 3)) # 2 ** 3 % 3"
   ]
  },
  {
   "cell_type": "code",
   "execution_count": 71,
   "metadata": {},
   "outputs": [
    {
     "name": "stdout",
     "output_type": "stream",
     "text": [
      "[5, 3, 4, 1]\n",
      "[1, 4, 3, 5]\n"
     ]
    }
   ],
   "source": [
    "# 18 反转顺序\n",
    "l = [1, 4, 3, 5]\n",
    "res = reversed(l)\n",
    "print(list(res))\n",
    "print(l)"
   ]
  },
  {
   "cell_type": "code",
   "execution_count": 72,
   "metadata": {},
   "outputs": [
    {
     "name": "stdout",
     "output_type": "stream",
     "text": [
      "4\n",
      "3\n"
     ]
    }
   ],
   "source": [
    "# 19 四舍五入\n",
    "print(round(3.5))\n",
    "print(round(3.4))"
   ]
  },
  {
   "cell_type": "code",
   "execution_count": 77,
   "metadata": {},
   "outputs": [
    {
     "name": "stdout",
     "output_type": "stream",
     "text": [
      "['b', 'd']\n",
      "['b', 'd']\n",
      "--------\n",
      "(2, 4)\n",
      "(2, 4)\n"
     ]
    }
   ],
   "source": [
    "# 20 切片对象\n",
    "sc = slice(1, 5, 2) # 1:5:2\n",
    "l = ['a', 'b', 'c', 'd', 'e', 'f']\n",
    "print(l[1:5:2])\n",
    "print(l[sc])\n",
    "\n",
    "print('--------')\n",
    "t = (1, 2, 3, 4, 5, 6, 7, 8)\n",
    "print(t[1:5:2])\n",
    "print(t[sc])"
   ]
  },
  {
   "cell_type": "code",
   "execution_count": 78,
   "metadata": {},
   "outputs": [
    {
     "name": "stdout",
     "output_type": "stream",
     "text": [
      "10\n"
     ]
    }
   ],
   "source": [
    "# 21 求和\n",
    "print(sum([1, 2, 3, 4]))"
   ]
  },
  {
   "cell_type": "code",
   "execution_count": 79,
   "metadata": {},
   "outputs": [
    {
     "name": "stdout",
     "output_type": "stream",
     "text": [
      "[('h', 'x'), ('e', 'y'), ('l', 'z')]\n",
      "[('h', 1), ('e', 2), ('l', 3), ('l', 4), ('o', 5)]\n"
     ]
    }
   ],
   "source": [
    "# 22 拉链函数\n",
    "left = 'hello'\n",
    "right1 = {'x': 1, 'y': 2, 'z': 3}\n",
    "right2 = [1, 2, 3, 4, 5]\n",
    "res1 = zip(left, right1)\n",
    "res2 = zip(left, right2)\n",
    "print(list(res1))\n",
    "print(list(res2))"
   ]
  },
  {
   "cell_type": "markdown",
   "metadata": {},
   "source": [
    "### Ⅴ 列表⽣成式"
   ]
  },
  {
   "cell_type": "markdown",
   "metadata": {},
   "source": [
    "1. 列表⽣成式基本使⽤\n",
    "\n",
    "列表⽣成式就是⽣成列表的表达式，使⽤通常的理解是为了使我们的程序设计变得更加简洁。"
   ]
  },
  {
   "cell_type": "code",
   "execution_count": 86,
   "metadata": {},
   "outputs": [
    {
     "name": "stdout",
     "output_type": "stream",
     "text": [
      "['egg0', 'egg1', 'egg2', 'egg3', 'egg4', 'egg5', 'egg6', 'egg7', 'egg8', 'egg9', 'egg10', 'egg11', 'egg12', 'egg13', 'egg14', 'egg15', 'egg16', 'egg17', 'egg18', 'egg19', 'egg20', 'egg21', 'egg22', 'egg23', 'egg24', 'egg25', 'egg26', 'egg27', 'egg28', 'egg29', 'egg30', 'egg31', 'egg32', 'egg33', 'egg34', 'egg35', 'egg36', 'egg37', 'egg38', 'egg39', 'egg40', 'egg41', 'egg42', 'egg43', 'egg44', 'egg45', 'egg46', 'egg47', 'egg48', 'egg49']\n",
      "['egg11', 'egg12', 'egg13', 'egg14', 'egg15', 'egg16', 'egg17', 'egg18', 'egg19', 'egg20', 'egg21', 'egg22', 'egg23', 'egg24', 'egg25', 'egg26', 'egg27', 'egg28', 'egg29', 'egg30', 'egg31', 'egg32', 'egg33', 'egg34', 'egg35', 'egg36', 'egg37', 'egg38', 'egg39', 'egg40', 'egg41', 'egg42', 'egg43', 'egg44', 'egg45', 'egg46', 'egg47', 'egg48', 'egg49']\n"
     ]
    }
   ],
   "source": [
    "# 列表生成式语法格式\n",
    "\"\"\"\n",
    "[e\n",
    "xpression for item1 in iterable1 if condition1\n",
    "for item2 in iterable2 if condition2\n",
    "...\n",
    "for itemN in iterableN if conditionN\n",
    "]\"\"\"\n",
    "\n",
    "# 要求：造出来50个蛋\n",
    "l = []\n",
    "for i in range(50):\n",
    "    l.append('egg%s' % i)\n",
    "# 使用列表生成式\n",
    "l1 = [f'egg{i}' for i in range(50)]\n",
    "l2 = ['egg%s' % i for i in range(50) if i > 10] # 可以有if条件，注意和三元表达式的区别\n",
    "print(l1)\n",
    "print(l2)"
   ]
  },
  {
   "cell_type": "markdown",
   "metadata": {},
   "source": [
    "2. 使⽤注意事项\n",
    "\n",
    "使⽤列表⽣成式可以有多个for循环和多个if条件，但是⼀般情况下我们只写⼀组，就像上⾯代码中写的，如果你在列表⽣成式中写了多个for循环和if条件就丧失了程序设计的简洁性，这并不符合Python的语法⻛格。"
   ]
  },
  {
   "cell_type": "markdown",
   "metadata": {},
   "source": [
    "3. 列表⽣成式提升效率\n",
    "\n",
    "从底层上讲，列表⽣成式是在构建列表的过程中，在列表中放⼊多个元素，⽽我们前⾯普通的⽅式是先创建⼀个空列表，再逐⼀添加元素，很明显这种普通的⽅式会徒增插⼊的时间，这个时间虽然并不是很多，但是当数据量⾜够⼤的时候会有明显的差距。"
   ]
  },
  {
   "cell_type": "code",
   "execution_count": 89,
   "metadata": {},
   "outputs": [
    {
     "name": "stdout",
     "output_type": "stream",
     "text": [
      "0.25534653663635254\n",
      "0.5774545669555664\n"
     ]
    }
   ],
   "source": [
    "\"\"\"\n",
    "因为我们要造的数据内容是一样的，为了避免你多余的顾虑（后面的代码覆盖前面的数据，这其实不存在）\n",
    "因而后面的可能会快一些这种错误的想法，我们把列表生成式放到前面\n",
    "\"\"\"\n",
    "import time\n",
    "# 使用列表生成式\n",
    "time1 = time.time()\n",
    "l1 = ['egg%s' % i for i in range(1000000)]\n",
    "time2 = time.time()\n",
    "print(time2 - time1)\n",
    "\n",
    "# 使用普通方式\n",
    "time3 = time.time()\n",
    "l = []\n",
    "for i in range(1000000):\n",
    "    l.append('egg%s' % i)\n",
    "time4 = time.time()\n",
    "print(time4 - time1)"
   ]
  },
  {
   "cell_type": "markdown",
   "metadata": {},
   "source": [
    "你可以清楚的看到使⽤列表⽣成式的执⾏效率明显⾼于普通的⽅式，所以，在合适的场景下使⽤列表⽣成式是⼀个不错的选择，既能**简化代码，⼜能提⾼效率，**但是⽐如有些情况，你需要优化程序，⽽所有的优化⼿段都⽤上了还不够，再优化的话就是使⽤⽐较复杂的列表⽣成式了，这也未尝不可，具体还要⾃⼰权\n",
    "衡。我需要告诉你的是：\n",
    "1. 如果真的要⽤复杂的列表⽣成式，前提⼀定是你已经使⽤了所有的其他优化⽅式还不能到达预期，因为列表⽣成式提升效率并不是按照数量级来提升的。\n",
    "\n",
    "2. 提升硬件性能的优化远⽐从软件上深层优化容易得多，提升硬件性能的花费⼀定会⽐⼯程师时间上的花费所兑换的⾦钱要少。"
   ]
  },
  {
   "cell_type": "markdown",
   "metadata": {},
   "source": [
    "### Ⅵ. ⽣成器表达式"
   ]
  },
  {
   "cell_type": "markdown",
   "metadata": {},
   "source": [
    "列表⽣成式会构造出⼀个列表，如果数据量⾮常⼤，那么会**构造出⼀个⾮常⼤的列表，占⽤⼤量的内存，机器就卡了。**建议你⾃⼰试⼀下，以后就会深有体会(你正常使⽤的卡顿与机器真的卡了差别很⼤)，卡机代码如下：\n",
    "\n",
    "`l1 = ['egg%s' % i for i in range(10000000000000000000000000000000000000)]`"
   ]
  },
  {
   "cell_type": "markdown",
   "metadata": {},
   "source": [
    "所以，我们有了⽣成器表达式，返回的值是⼀个⽣成器，可以迭代取值。"
   ]
  },
  {
   "cell_type": "code",
   "execution_count": 90,
   "metadata": {},
   "outputs": [
    {
     "name": "stdout",
     "output_type": "stream",
     "text": [
      "egg100001\n",
      "egg100002\n",
      "egg100003\n"
     ]
    }
   ],
   "source": [
    "# 只需要把中括号改成小括号就可以了，其他用法一样\n",
    "l = ('egg%s' % i for i in range(100000000000000000000000000) if i > 100000)\n",
    "print(next(l))\n",
    "print(next(l))\n",
    "print(next(l))"
   ]
  }
 ],
 "metadata": {
  "kernelspec": {
   "display_name": "Python 3",
   "language": "python",
   "name": "python3"
  },
  "language_info": {
   "codemirror_mode": {
    "name": "ipython",
    "version": 3
   },
   "file_extension": ".py",
   "mimetype": "text/x-python",
   "name": "python",
   "nbconvert_exporter": "python",
   "pygments_lexer": "ipython3",
   "version": "3.7.0"
  }
 },
 "nbformat": 4,
 "nbformat_minor": 2
}
