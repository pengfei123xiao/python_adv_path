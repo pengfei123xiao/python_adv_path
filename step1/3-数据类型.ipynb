{
 "cells": [
  {
   "cell_type": "markdown",
   "metadata": {},
   "source": [
    "## 第三章数据类型"
   ]
  },
  {
   "cell_type": "markdown",
   "metadata": {},
   "source": [
    "- 可变类型与不可变类型（重点）\n",
    "\n",
    "1) 可变类型：在id不变的情况下，value可以变，则称为可变类型，如列表，字典\n",
    "\n",
    "2) 不可变类型：value一旦改变，id也改变，则称为不可变类型（id变，意味着创建了新的内存空间"
   ]
  },
  {
   "cell_type": "markdown",
   "metadata": {},
   "source": [
    "### Ⅱ. string type"
   ]
  },
  {
   "cell_type": "markdown",
   "metadata": {},
   "source": [
    "#### 5. string type common methods"
   ]
  },
  {
   "cell_type": "code",
   "execution_count": 2,
   "metadata": {},
   "outputs": [
    {
     "name": "stdout",
     "output_type": "stream",
     "text": [
      "1a2a3a4\n",
      "bacadae\n",
      "I say hello world\n"
     ]
    }
   ],
   "source": [
    "\"\"\"join()\n",
    "syntax: str.join(sequence)\n",
    "returns a string in which the string elements of sequence have been joined by str separator\n",
    "\"\"\"\n",
    "print('a'.join('1234'))\n",
    "print('a'.join('bcde'))\n",
    "tag = ' '\n",
    "print(tag.join(['I', 'say', 'hello', 'world'])) # 可迭代对象必须都是字符串"
   ]
  },
  {
   "cell_type": "code",
   "execution_count": 4,
   "metadata": {},
   "outputs": [
    {
     "name": "stdout",
     "output_type": "stream",
     "text": [
      "-1\n",
      "3\n",
      "0\n"
     ]
    }
   ],
   "source": [
    "# find,rfind,index,rindex,count\n",
    "name='albert say hello'\n",
    "print(name.find('o',1,3)) # 顾头不顾尾,找不到则返回-1不会报错,找到了则显示索引\n",
    "print(name.index('e',2,4)) # 同上,但是找不到会报错\n",
    "print(name.count('e',1,3)) # 顾头不顾尾,如果不指定范围则查找所有\n"
   ]
  },
  {
   "cell_type": "code",
   "execution_count": 6,
   "metadata": {},
   "outputs": [
    {
     "name": "stdout",
     "output_type": "stream",
     "text": [
      "------------albert------------\n",
      "albert************************\n",
      "************************albert\n",
      "00000000000000000000000000000000000000000000albert\n"
     ]
    }
   ],
   "source": [
    "# center,ljust,rjust,zfill\n",
    "name='albert'\n",
    "print(name.center(30,'-'))\n",
    "print(name.ljust(30,'*'))\n",
    "print(name.rjust(30,'*'))\n",
    "print(name.zfill(50)) # 用0填充"
   ]
  },
  {
   "cell_type": "code",
   "execution_count": 8,
   "metadata": {},
   "outputs": [
    {
     "name": "stdout",
     "output_type": "stream",
     "text": [
      "albert\thello\n",
      "albert hello\n"
     ]
    }
   ],
   "source": [
    "# expandtabs\n",
    "name='albert\\thello'\n",
    "print(name)\n",
    "print(name.expandtabs(1))"
   ]
  },
  {
   "cell_type": "code",
   "execution_count": 9,
   "metadata": {},
   "outputs": [
    {
     "name": "stdout",
     "output_type": "stream",
     "text": [
      "Albert\thello\n",
      "ALBERT\tHELLO\n",
      "Albert Say Hi\n"
     ]
    }
   ],
   "source": [
    "# captalize,swapcase,title\n",
    "print(name.capitalize()) # 首字母大写\n",
    "print(name.swapcase()) # 大小写翻转\n",
    "msg='albert say hi'\n",
    "print(msg.title()) # 每个单词的首字母大写"
   ]
  },
  {
   "cell_type": "code",
   "execution_count": 10,
   "metadata": {},
   "outputs": [],
   "source": [
    "# is数字系列\n",
    "# 在python3中\n",
    "num1=b'4' # bytes\n",
    "num2=u'4' # unicode,python3中无需加u就是unicode\n",
    "num3='四' # 中文数字\n",
    "num4='Ⅳ' #罗⻢数字"
   ]
  },
  {
   "cell_type": "code",
   "execution_count": null,
   "metadata": {},
   "outputs": [],
   "source": []
  },
  {
   "cell_type": "markdown",
   "metadata": {},
   "source": [
    "### Ⅲ. List"
   ]
  },
  {
   "cell_type": "markdown",
   "metadata": {},
   "source": [
    "#### 1. while loop"
   ]
  },
  {
   "cell_type": "markdown",
   "metadata": {},
   "source": [
    "#### 2. Common method in List"
   ]
  },
  {
   "cell_type": "markdown",
   "metadata": {},
   "source": [
    "##### (9) Python中的赋值，浅拷⻉与深拷⻉区别\n",
    "\n",
    "**赋值**\n",
    "\n",
    "赋值，指的是**新建⼀个对象的引⽤**，新建⽬标对象与原来的⽬标对象指向同⼀个内存地址，赋值只相当于增加了⼀个引⽤，并**没有开辟新的内存空间**。\n",
    "\n",
    "**引用：**变量名指向对象的那个箭头。a => memory address:[1]\n",
    "\n",
    "如下图所示"
   ]
  },
  {
   "cell_type": "code",
   "execution_count": 12,
   "metadata": {},
   "outputs": [
    {
     "name": "stdout",
     "output_type": "stream",
     "text": [
      "list1: 1712934003784\n",
      "[140731095241760, 140731095241792, 1712934749576, 1712934003912]\n",
      "list2: 1712934003784\n",
      "[140731095241760, 140731095241792, 1712934749576, 1712934003912]\n",
      "True\n",
      "True\n",
      "True\n",
      "[-1, 2, [3, 4], [5, [6, 7]]]\n",
      "[-1, 2, [3, -1], [5, [6, 7]]]\n"
     ]
    }
   ],
   "source": [
    "\"\"\" list1和list2指向同一个对象。\n",
    "他们内部的元素⾃然也是⼀样的，对其中\n",
    "⼀个进⾏修改，另⼀个也会跟着变。\n",
    "\"\"\"\n",
    "list1 = [1, 2, [3, 4], [5, [6, 7]]]\n",
    "print('list1:', id(list1))\n",
    "print([id(i) for i in list1])\n",
    "list2 = list1\n",
    "print('list2:', id(list2))\n",
    "print([id(i) for i in list2])\n",
    "print(list1 is list2)\n",
    "print(list1[0] is list2[0])\n",
    "print(list1[2] is list2[2])\n",
    "list2[0] = -1\n",
    "print(list1)\n",
    "list2[2][1] = -1\n",
    "print(list1)"
   ]
  },
  {
   "cell_type": "markdown",
   "metadata": {},
   "source": [
    "因此有⼈将赋值操作称为“旧瓶装旧酒”，只是多贴了⼀层标签，这不能达到我们的⽬的。要得到⼀个对象的“拷⻉”，我们需要⽤到`copy`⽅法。"
   ]
  },
  {
   "cell_type": "markdown",
   "metadata": {},
   "source": [
    "**浅拷⻉**\n",
    "\n",
    "浅拷⻉顾名思义就是拷⻉的⽐较浅。该操作要开辟⼀块新的内存空间，复制的是**被拷⻉对象内多个元素对象的引⽤**，有⼏个元素对象就复制⼏个元素对象的引⽤，也有⼈把这种操作称为“新瓶装旧酒”。不过，如果旧的酒瓶⾥⾯如果还套了⼀个酒瓶⼦，那你就需要注意了。因此，不论是对拷⻉对象或者是被拷⻉对象**内⼀个可变类型元素内的元素的修改**（包含添加，修改和删除），都会引起**另外⼀⽅的变化**。但是，如果是直接对对象内的⼀级元素**当作⼀个整体进⾏修改**（这时对可变类型元素的元素只能是删除），虽然他们的元素有共享的内存地址，但是**拷⻉对象或者被拷⻉对象元素内的引⽤都是独⽴的**，删除了其中⼀⽅的⼀个引⽤，另外⼀⽅的引⽤依然存在。"
   ]
  },
  {
   "cell_type": "code",
   "execution_count": 23,
   "metadata": {},
   "outputs": [
    {
     "name": "stdout",
     "output_type": "stream",
     "text": [
      "list1: 1712935645384\n",
      "[140731095241760, 140731095241792, 1712935584200, 1712935645448]\n",
      "list2: 1712934011528\n",
      "[140731095241760, 140731095241792, 1712935584200, 1712935645448]\n"
     ]
    }
   ],
   "source": [
    "from copy import copy\n",
    "list1 = [1, 2, [3, 4], [5, [6, 7]]]\n",
    "print('list1:', id(list1))\n",
    "print([id(i) for i in list1])\n",
    "list2 = copy(list1)\n",
    "print('list2:', id(list2))\n",
    "print([id(i) for i in list2])"
   ]
  },
  {
   "cell_type": "code",
   "execution_count": 24,
   "metadata": {},
   "outputs": [
    {
     "name": "stdout",
     "output_type": "stream",
     "text": [
      "False\n",
      "True\n",
      "True\n"
     ]
    }
   ],
   "source": [
    "# 1 判断论证过程\n",
    "print(list1 is list2) # id不同自然不是，id用来形象表示内存地址\n",
    "print(list1[0] is list2[0]) # 两者之间对应的元素都指向同一个地址\n",
    "print(list1[2] is list2[2])"
   ]
  },
  {
   "cell_type": "code",
   "execution_count": 26,
   "metadata": {},
   "outputs": [
    {
     "name": "stdout",
     "output_type": "stream",
     "text": [
      "[-1, 2, -3, [5, [6, 7]]]\n",
      "[1, -2, -30, [5, [6, 7]]]\n",
      "[-1, 2, -3, [5, [6, 7]]]\n",
      "[1, -2, -30, [5, [6, 7]]]\n",
      "[-1, 2, -3, [5, [6, 7]]]\n",
      "[1, -2, -30, [5, [6, 7]]]\n",
      "[-1, 2, -3, [5, [6, 7]]]\n",
      "[1, -2, -30, [5, [6, 7]]]\n"
     ]
    }
   ],
   "source": [
    "# 2 对一级元素整体修改论证（其实此时可变类型元素也只能当作不可变来修改）\n",
    "list1[0] = -1 # 修改列表1或2都是单独变化的\n",
    "print(list1)\n",
    "print(list2)\n",
    "list2[1] = -2\n",
    "print(list1)\n",
    "print(list2)\n",
    "list1[2] = -3\n",
    "print(list1)\n",
    "print(list2)\n",
    "list2[2] = -30\n",
    "print(list1)\n",
    "print(list2)"
   ]
  },
  {
   "cell_type": "code",
   "execution_count": 27,
   "metadata": {},
   "outputs": [
    {
     "name": "stdout",
     "output_type": "stream",
     "text": [
      "[-1, 2, -3, [5, [6, 7]], 'add1']\n",
      "[1, -2, -30, [5, [6, 7]]]\n",
      "[-1, 2, -3, [5, [6, 7]], 'add1']\n",
      "[1, -2, -30, [5, [6, 7]], 'add2']\n"
     ]
    }
   ],
   "source": [
    "# 3 给对象添加元素\n",
    "list1.append('add1')\n",
    "print(list1)\n",
    "print(list2)\n",
    "list2.append('add2')\n",
    "print(list1)\n",
    "print(list2)"
   ]
  },
  {
   "cell_type": "code",
   "execution_count": 28,
   "metadata": {},
   "outputs": [
    {
     "name": "stdout",
     "output_type": "stream",
     "text": [
      "[-1, 2, -3, [5, [6, 7]]]\n",
      "[1, -2, -30, [5, [6, 7]], 'add2']\n",
      "[-1, 2, -3, [5, [6, 7]]]\n",
      "[1, -2, -30, [5, [6, 7]]]\n",
      "[-1, 2, -3]\n",
      "[1, -2, -30, [5, [6, 7]]]\n"
     ]
    }
   ],
   "source": [
    "# 4 删除\n",
    "list1.pop()\n",
    "print(list1)\n",
    "print(list2)\n",
    "list2.pop()\n",
    "print(list1)\n",
    "print(list2)\n",
    "list1.pop()\n",
    "print(list1)\n",
    "print(list2)"
   ]
  },
  {
   "cell_type": "code",
   "execution_count": 46,
   "metadata": {},
   "outputs": [
    {
     "name": "stdout",
     "output_type": "stream",
     "text": [
      "[-1, 2, -3]\n",
      "[1, -2, -30, ['5->55', [6, 7]]]\n"
     ]
    }
   ],
   "source": [
    "# 5 只有对对象内一个可变类型元素内的元素的修改（包含添加，修改和删除），才会同步变化\n",
    "list2[-1][0] = '5->55'\n",
    "print(list1)\n",
    "print(list2)\n",
    "# # 换成list1也是一样，但需要把上面的部分代码注释掉，确保索引位置不会出错\n",
    "# list1[3][0] = '5->55000'\n",
    "# print(list1)\n",
    "# print(list2)"
   ]
  },
  {
   "cell_type": "markdown",
   "metadata": {},
   "source": [
    "**深拷⻉**\n",
    "\n",
    "深拷⻉其实与浅拷⻉有本质的区别，它不会复制任何的引⽤，对象内的所有元素，⼦元素，孙⼦元素，重孙元素，曾孙元素的数据都是由复制⽽来，因此，这样的操作被称为“新瓶装新酒”。它的实现原理就是递归，只要任意元素内仍然有⼦元素，就会复制⼦元素的数据放到新的内存地址。既然这样，在使⽤深拷后，被拷⻉对象的改变，不会引起拷⻉对象的任何改变。"
   ]
  },
  {
   "cell_type": "code",
   "execution_count": 1,
   "metadata": {},
   "outputs": [
    {
     "name": "stdout",
     "output_type": "stream",
     "text": [
      "[1, 2, 3, 4, 5, [6, 7, 8]]\n",
      "[1, 2, 3, 4, 5, [6, 7, 8]]\n",
      "[1, 2, 3, 4, 5, [6, 7, 8, 9]]\n",
      "[1, 2, 3, 4, 5, [6, 7, 8]]\n",
      "[1, 2, 3, 4, 5, [6, 7, 8, 9], 6]\n",
      "[1, 2, 3, 4, 5, [6, 7, 8]]\n",
      "[1, 2, 3, 4, 5, [6, 7, 8, 9]]\n",
      "[1, 2, 3, 4, 5, [6, 7, 8]]\n"
     ]
    }
   ],
   "source": [
    "import copy\n",
    "list1 = [1, 2, 3, 4, 5, [6, 7, 8, ]]\n",
    "list2 = copy.deepcopy(list1)\n",
    "print(list1)\n",
    "print(list2)\n",
    "list1[5].append(9)\n",
    "print(list1)\n",
    "print(list2)\n",
    "list1.append(6)\n",
    "print(list1)\n",
    "print(list2)\n",
    "list1.pop()\n",
    "print(list1)\n",
    "print(list2)"
   ]
  },
  {
   "cell_type": "markdown",
   "metadata": {},
   "source": [
    "**personal understanding**\n",
    "\n",
    "赋值只复制引用（内存地址）内存空间无变化；\n",
    "浅拷贝开辟新空间存储引用；\n",
    "深拷贝开辟开辟空间存储引用和对象。"
   ]
  },
  {
   "cell_type": "code",
   "execution_count": 69,
   "metadata": {},
   "outputs": [
    {
     "name": "stdout",
     "output_type": "stream",
     "text": [
      "memory address of a: 1712935587464\n",
      "memory address of a's elements: [140731095241760, 1712892838776, 1712935647112]\n",
      "\n",
      "memory address of b: 1712935587464\n",
      "memory address of b's elements: [140731095241760, 1712892838776, 1712935647112]\n",
      "\n",
      "memory address of a's elements: [140731095241696, 1712892838776, 1712935647112]\n",
      "memory address of b's elements: [140731095241696, 1712892838776, 1712935647112]\n"
     ]
    }
   ],
   "source": [
    "# 赋值\n",
    "a = [1,'python',[2]]\n",
    "print(f'memory address of a: {id(a)}')\n",
    "print(f'memory address of a\\'s elements: {[id(_) for _ in a]}')\n",
    "b = a\n",
    "print()\n",
    "print(f'memory address of b: {id(b)}')\n",
    "print(f'memory address of b\\'s elements: {[id(_) for _ in b]}')\n",
    "b[0] = -1\n",
    "print()\n",
    "print(f'memory address of a\\'s elements: {[id(_) for _ in a]}')\n",
    "print(f'memory address of b\\'s elements: {[id(_) for _ in b]}')"
   ]
  },
  {
   "cell_type": "code",
   "execution_count": 71,
   "metadata": {},
   "outputs": [
    {
     "name": "stdout",
     "output_type": "stream",
     "text": [
      "memory address of a: 1712935587656\n",
      "memory address of a's elements: [140731095241760, 1712892838776, 1712935645256]\n",
      "\n",
      "memory address of b: 1712934624840\n",
      "memory address of b's elements: [140731095241760, 1712892838776, 1712935645256]\n",
      "\n",
      "a: [1, 'python', [-2]]\n",
      "b: [-1, 'python', [-2]]\n",
      "memory address of a's elements: [140731095241760, 1712892838776, 1712935645256]\n",
      "memory address of b's elements: [140731095241696, 1712892838776, 1712935645256]\n"
     ]
    }
   ],
   "source": [
    "# 浅拷贝\n",
    "import copy\n",
    "a = [1,'python',[2]]\n",
    "print(f'memory address of a: {id(a)}')\n",
    "print(f'memory address of a\\'s elements: {[id(_) for _ in a]}')\n",
    "b = copy.copy(a)\n",
    "print()\n",
    "print(f'memory address of b: {id(b)}')\n",
    "print(f'memory address of b\\'s elements: {[id(_) for _ in b]}')\n",
    "b[0] = -1\n",
    "b[2][0]= -2\n",
    "print()\n",
    "print(f'a: {a}')\n",
    "print(f'b: {b}')\n",
    "print(f'memory address of a\\'s elements: {[id(_) for _ in a]}')\n",
    "print(f'memory address of b\\'s elements: {[id(_) for _ in b]}')"
   ]
  },
  {
   "cell_type": "code",
   "execution_count": 3,
   "metadata": {},
   "outputs": [
    {
     "name": "stdout",
     "output_type": "stream",
     "text": [
      "memory address of a: 2552121869832\n",
      "memory address of a's elements: [140731639714848, 2552079807352, 2552121869704]\n",
      "\n",
      "memory address of b: 2552121869768\n",
      "memory address of b's elements: [140731639714848, 2552079807352, 2552121869960]\n",
      "mem address of element in the third elemnt: 140731639714880\n",
      "\n",
      "a: [1, 'python', [2]]\n",
      "b: [-1, 'python', [-2]]\n",
      "memory address of a's elements: [140731639714848, 2552079807352, 2552121869704]\n",
      "memory address of b's elements: [140731639714784, 2552079807352, 2552121869960]\n",
      "mem address of element in the third elemnt: 140731639714752\n"
     ]
    }
   ],
   "source": [
    "# 深拷贝\n",
    "import copy\n",
    "a = [1,'python',[2]]\n",
    "print(f'memory address of a: {id(a)}')\n",
    "print(f'memory address of a\\'s elements: {[id(_) for _ in a]}')\n",
    "b = copy.deepcopy(a)\n",
    "print()\n",
    "print(f'memory address of b: {id(b)}')\n",
    "print(f'memory address of b\\'s elements: {[id(_) for _ in b]}')\n",
    "print(f'mem address of element in the third elemnt: {id(b[2][0])}')\n",
    "b[0] = -1\n",
    "b[2][0]= -2\n",
    "print()\n",
    "print(f'a: {a}')\n",
    "print(f'b: {b}')\n",
    "print(f'memory address of a\\'s elements: {[id(_) for _ in a]}')\n",
    "print(f'memory address of b\\'s elements: {[id(_) for _ in b]}')\n",
    "print(f'mem address of element in the third elemnt: {id(b[2][0])}')"
   ]
  },
  {
   "cell_type": "markdown",
   "metadata": {},
   "source": [
    "### Ⅳ. 字典"
   ]
  },
  {
   "cell_type": "code",
   "execution_count": 5,
   "metadata": {},
   "outputs": [
    {
     "name": "stdout",
     "output_type": "stream",
     "text": [
      "{'name': 'albert', 'age': 18, 'sex': 18}\n",
      "{'name': 'albert', 'age': 18, 'sex': 18}\n"
     ]
    }
   ],
   "source": [
    "# 在{}内用逗号分隔，可以存放多个key:value的值，key一般是字符串，value可以是任意类型\n",
    "info={'name':'albert','age':18,'sex':18}\n",
    "info1=dict({'name':'albert','age':18,'sex':18})\n",
    "print(info)\n",
    "print(info1)"
   ]
  },
  {
   "cell_type": "markdown",
   "metadata": {},
   "source": [
    "#### 2.常用方法\n",
    "\n",
    "(1) add elements "
   ]
  },
  {
   "cell_type": "code",
   "execution_count": 1,
   "metadata": {},
   "outputs": [
    {
     "name": "stdout",
     "output_type": "stream",
     "text": [
      "{'name': 'albert', 'age': 18, 'gender': 'male', 'hobbies': 'music'}\n"
     ]
    }
   ],
   "source": [
    "# add via 'key-value' way\n",
    "l1 = {'name': 'albert',\n",
    "'age': 18,\n",
    "'gender': 'male'\n",
    "}\n",
    "l1['hobbies'] = \"music\"\n",
    "print(l1)"
   ]
  },
  {
   "cell_type": "code",
   "execution_count": 2,
   "metadata": {},
   "outputs": [
    {
     "name": "stdout",
     "output_type": "stream",
     "text": [
      "{'name': 'I am Albert', 'age': 'I am Albert', 'gender': 'I am Albert', 'hobbies': 'I am Albert'}\n",
      "{'n': None, 'a': None, 'm': None, 'e': None}\n",
      "{'e': None}\n",
      "{1: None, 2: None, 3: None}\n"
     ]
    }
   ],
   "source": [
    "# add via `fromkey()`\n",
    "\"\"\"\n",
    "第一个参数迭代循环的字典的key，第二个参数表示value，\n",
    "可以多个key循环对应这个value，也可以只有一个key，也可以没有value\n",
    "\"\"\"\n",
    "a = l1.fromkeys(l1,'I am Albert')\n",
    "print(a)\n",
    "b = dict.fromkeys('name') # 必须有一个可迭代类型，作为字典的key\n",
    "print(b)\n",
    "b = dict.fromkeys('e') # 也可以迭代\n",
    "print(b)\n",
    "# b = dict.fromkeys(1) #报错 数字类型不可迭代\n",
    "b = dict.fromkeys([1,2,3,])\n",
    "print(b)"
   ]
  },
  {
   "cell_type": "markdown",
   "metadata": {},
   "source": [
    "(2) delete elements "
   ]
  },
  {
   "cell_type": "code",
   "execution_count": 6,
   "metadata": {},
   "outputs": [
    {
     "name": "stdout",
     "output_type": "stream",
     "text": [
      "{'age': 18, 'gender': 'male'}\n"
     ]
    }
   ],
   "source": [
    "# delete by `key`\n",
    "l1 = {\n",
    "'name': 'albert',\n",
    "'age': 18,\n",
    "'gender': 'male'\n",
    "}\n",
    "del l1['name']\n",
    "print(l1)"
   ]
  },
  {
   "cell_type": "code",
   "execution_count": 7,
   "metadata": {},
   "outputs": [
    {
     "name": "stdout",
     "output_type": "stream",
     "text": [
      "albert\n",
      "{'age': 18, 'gender': 'male'}\n",
      "('gender', 'male')\n",
      "{'age': 18}\n"
     ]
    }
   ],
   "source": [
    "# delete b y `pop` or `popitem`\n",
    "l1 = {\n",
    "'name': 'albert',\n",
    "'age': 18,\n",
    "'gender': 'male'\n",
    "}\n",
    "res = l1.pop('name') # 删除指定key的value，并拿到一个返回值\n",
    "print(res)\n",
    "print(l1)\n",
    "res2 = l1.popitem() # 随机返回并删除字典中的一对键和值(一般删除末尾对)。\n",
    "# 如果字典已经为空，却调用了此方法，就报出KeyError异常。\n",
    "print(res2)\n",
    "print(l1)"
   ]
  },
  {
   "cell_type": "markdown",
   "metadata": {},
   "source": [
    "(3) change element"
   ]
  },
  {
   "cell_type": "code",
   "execution_count": 10,
   "metadata": {},
   "outputs": [
    {
     "name": "stdout",
     "output_type": "stream",
     "text": [
      "{'name': 'Allen', 'age': 18, 'gender': 'male', '3': 3}\n"
     ]
    }
   ],
   "source": [
    "# change via key-value pair\n",
    "l1 = {\n",
    "'name': 'albert',\n",
    "'age': 18,\n",
    "'gender': 'male','3':3,\n",
    "}\n",
    "l1['name'] = 'Allen'\n",
    "print(l1)"
   ]
  },
  {
   "cell_type": "code",
   "execution_count": 12,
   "metadata": {},
   "outputs": [
    {
     "name": "stdout",
     "output_type": "stream",
     "text": [
      "{'name': 'albert', 'age': 18, 'gender': 'male'}\n"
     ]
    }
   ],
   "source": [
    "# setdefault(): 只添加不修改\n",
    "d1 = {\n",
    "'name': 'albert',\n",
    "'age': 18,\n",
    "}\n",
    "d1.setdefault('name', 'Allen')\n",
    "d1.setdefault('gender', 'male')\n",
    "print(d1)"
   ]
  },
  {
   "cell_type": "code",
   "execution_count": 13,
   "metadata": {},
   "outputs": [
    {
     "name": "stdout",
     "output_type": "stream",
     "text": [
      "{'name': 'Albert', 'age': 18, 'gender': 'male'}\n"
     ]
    }
   ],
   "source": [
    "# update(): 既添加也修改\n",
    "d1 = {\n",
    "'name': 'albert',\n",
    "'age': 18,\n",
    "}\n",
    "d1.update({'name': 'Albert', 'gender': 'male'}) # 注意传参方式的不同\n",
    "print(d1)"
   ]
  },
  {
   "cell_type": "markdown",
   "metadata": {},
   "source": [
    "(4) find elements"
   ]
  },
  {
   "cell_type": "code",
   "execution_count": 14,
   "metadata": {},
   "outputs": [
    {
     "name": "stdout",
     "output_type": "stream",
     "text": [
      "albert\n"
     ]
    }
   ],
   "source": [
    "# find by key-value pair\n",
    "l1 = {\n",
    "'name': 'albert',\n",
    "'age': 18,\n",
    "'gender': 'male'\n",
    "}\n",
    "a = l1['name']\n",
    "print(a)"
   ]
  },
  {
   "cell_type": "code",
   "execution_count": 15,
   "metadata": {},
   "outputs": [
    {
     "name": "stdout",
     "output_type": "stream",
     "text": [
      "None\n"
     ]
    }
   ],
   "source": [
    "# find by `get()`\n",
    "l1 = {\n",
    "'name': 'albert',\n",
    "'age': 18,\n",
    "'gender': 'male'\n",
    "}\n",
    "a = l1.get('hobbies') # 找不到不报错\n",
    "print(a)"
   ]
  },
  {
   "cell_type": "code",
   "execution_count": 18,
   "metadata": {},
   "outputs": [
    {
     "name": "stdout",
     "output_type": "stream",
     "text": [
      "(0, 'name')\n",
      "(1, 'age')\n",
      "(2, 'gender')\n",
      "(3, '3')\n"
     ]
    }
   ],
   "source": [
    "# 通过enumerate 枚举\n",
    "d1 = {\n",
    "'name': 'albert',\n",
    "'age': 18,\n",
    "'gender': 'male',\n",
    "'3':3,\n",
    "}\n",
    "for a in enumerate(d1):\n",
    "    print(a)"
   ]
  },
  {
   "cell_type": "code",
   "execution_count": 20,
   "metadata": {},
   "outputs": [
    {
     "name": "stdout",
     "output_type": "stream",
     "text": [
      "dict_keys(['name', 'age', 'gender', '3'])\n",
      "name\n",
      "----------\n",
      "dict_values(['albert', 18, 'male', 3])\n",
      "albert\n",
      "----------\n",
      "dict_items([('name', 'albert'), ('age', 18), ('gender', 'male'), ('3', 3)])\n",
      "('name', 'albert')\n",
      "----------\n",
      "name albert\n",
      "age 18\n",
      "gender male\n",
      "3 3\n"
     ]
    }
   ],
   "source": [
    "# 通过.keys(),.values(),.items()等⽅法\n",
    "d1 = {\n",
    "'name': 'albert',\n",
    "'age': 18,\n",
    "'gender': 'male',\n",
    "'3':3,\n",
    "}\n",
    "a = d1.keys()\n",
    "print(a)\n",
    "print(list(a)[0])\n",
    "print('----------')\n",
    "a = d1.values()\n",
    "print(a)\n",
    "print(list(a)[0])\n",
    "print('----------')\n",
    "a = d1.items()\n",
    "print(a)\n",
    "print(list(a)[0])\n",
    "print('----------')\n",
    "for k,v in d1.items():\n",
    "    print(k,v)"
   ]
  },
  {
   "cell_type": "markdown",
   "metadata": {},
   "source": [
    "### Ⅵ. 集合类型\n",
    "\n",
    "`set()`:<br>\n",
    "花括号内，多个元素⽤逗号分割，⽤来存储多个值，并且是⽆序的，那么这多个值不能⽤来取值，但是我们可以使⽤它来进⾏去重(⽐如去掉列表中重复的元素)和关系运算。\n",
    "\n",
    "**集合的元素遵循三个原则：**\n",
    "\n",
    "1. 每个元素必须是不可变类型(可作为字典的key)\n",
    "2. 没有重复的元素\n",
    "3. 无序\n",
    "\n",
    "注意集合的目的是**将不同的值存放到一起，不同的集合间用来做关系运算,** 无需纠结于集合中单个值"
   ]
  },
  {
   "cell_type": "code",
   "execution_count": 21,
   "metadata": {},
   "outputs": [
    {
     "name": "stdout",
     "output_type": "stream",
     "text": [
      "{'周星驰'}\n",
      "{'林忆莲', '林志玲', '周星驰', 'albert', '猪八戒', '郭德纲', '朱茵', '孙悟空'}\n",
      "{'孙悟空', '朱茵', '林志玲', 'albert'}\n",
      "{'林忆莲', '林志玲', 'albert', '猪八戒', '郭德纲', '朱茵', '孙悟空'}\n"
     ]
    }
   ],
   "source": [
    "\"\"\"关系运算练习\"\"\"\n",
    "piano={'albert','孙悟空','周星驰','朱茵','林志玲'}\n",
    "violin={'猪八戒','郭德纲','林忆莲','周星驰'}\n",
    "# 求出即报名钢琴又报名小提琴课程的学员名字集合\n",
    "print(piano & violin)\n",
    "# 求出所有报名的学生名字集合\n",
    "print(piano | violin)\n",
    "# 求出只报名钢琴课程的学员名字\n",
    "print(piano - violin)\n",
    "# 求出没有同时这两⻔课程的学员名字集合\n",
    "print(piano ^ violin)"
   ]
  },
  {
   "cell_type": "markdown",
   "metadata": {},
   "source": [
    "### Ⅶ Boolean Type\n",
    "\n",
    "`bool()`\n",
    "\n",
    "判断⼀个条件成⽴时，⽤True标识，不成⽴则⽤False标识。\n",
    "\n",
    "Key Points\n",
    "- 所有数据类型都**自带布尔值**\n",
    "\n",
    "1) None，0，空（空字符串，空列表，空字典等）三种情况下布尔值为False\n",
    "\n",
    "2) 其余均为真"
   ]
  },
  {
   "cell_type": "markdown",
   "metadata": {},
   "source": [
    "### Ⅷ. collections容器数据类型"
   ]
  },
  {
   "cell_type": "code",
   "execution_count": 22,
   "metadata": {},
   "outputs": [
    {
     "name": "stdout",
     "output_type": "stream",
     "text": [
      "p(x=1, y=2)\n",
      "1\n",
      "2\n"
     ]
    }
   ],
   "source": [
    "\"\"\"namedtuple():命名元组\"\"\"\n",
    "from collections import namedtuple \n",
    "# 创建一个命名元组对象\n",
    "point = namedtuple('p', ['x', 'y']) # p代表名称，\"x\"和\"y\"为内容\n",
    "p = point(1, 2)\n",
    "print(p)\n",
    "print(p.x) # 1\n",
    "print(p.y) # 2"
   ]
  },
  {
   "cell_type": "code",
   "execution_count": 23,
   "metadata": {},
   "outputs": [
    {
     "name": "stdout",
     "output_type": "stream",
     "text": [
      "a\n",
      "b\n",
      "c\n",
      "d\n",
      "a\n",
      "b\n",
      "deque(['a', 'b', 'c', 'd', 'e'])\n",
      "deque(['x', 'a', 'b', 'c', 'd', 'e'])\n",
      "deque(['x', 'a', 'b', 'c', 'd'])\n",
      "deque(['a', 'b', 'c', 'd'])\n",
      "deque(['a', 'b', 'c', 'd'])\n",
      "deque(['a', 'b', 'c', 'd', 'x', 'y', 'z'])\n",
      "deque(['a', 'b', 'n', 'a', 'b', 'c', 'd', 'x', 'y', 'z'])\n",
      "deque(['z', 'a', 'b', 'n', 'a', 'b', 'c', 'd', 'x', 'y'])\n",
      "deque(['a', 'b', 'n', 'a', 'b', 'c', 'd', 'x', 'y', 'z'])\n"
     ]
    }
   ],
   "source": [
    "\"\"\"deque(): 双向队列在python中可使⽤deque实现\"\"\"\n",
    "from collections import deque\n",
    "# 类似列表(list)的容器，实现了在两端快速添加(append)和弹出(pop)\n",
    "d = deque('abcd')\n",
    "for i in d:\n",
    "    print(i)\n",
    "print(d[0])\n",
    "print(d[1])\n",
    "d.append('e') # 从右边加入\n",
    "print(d)\n",
    "d.appendleft('x') # 从左边加入\n",
    "print(d)\n",
    "d.pop() # 从右侧弹出\n",
    "print(d)\n",
    "d.popleft() # 从左侧弹出\n",
    "print(d)\n",
    "deque(reversed(d)) # 反转顺序\n",
    "print(d)\n",
    "# d = list(d) # 转化成list\n",
    "# d = list(reversed(d))\n",
    "# print(d)\n",
    "d.extend('xyz') # 从右侧添加\n",
    "print(d)\n",
    "d.extendleft('nba') # 从左侧添加\n",
    "print(d)\n",
    "d.rotate(1) # 把最右边的元素挪到最左边\n",
    "print(d)\n",
    "d.rotate(-1) # 把最左边的元素挪到最右边\n",
    "print(d)\n",
    "d.clear() # 清空\n",
    "# d.pop() # 报错"
   ]
  },
  {
   "cell_type": "code",
   "execution_count": 25,
   "metadata": {},
   "outputs": [
    {
     "name": "stdout",
     "output_type": "stream",
     "text": [
      "['weight', 'height', 'name', 'age']\n"
     ]
    }
   ],
   "source": [
    "\"\"\"ChainMap()\"\"\"\n",
    "from collections import ChainMap\n",
    "\"\"\"\n",
    "一个 ChainMap类是为了将多个映射快速的链接到一起，\n",
    "这样它们就可以作为一个单元处理。\n",
    "它通常比创建一个新字典和多次调用 update() 要快很多。\n",
    "这个类可以用于模拟嵌套作用域，并且在模版化的时候比较有用。\n",
    "\"\"\"\n",
    "# 链映射的用法\n",
    "dict1 = {'name': 'Albert', 'age': 18}\n",
    "dict2 = {'weight': 65, 'height': 180}\n",
    "res = list(ChainMap(dict1, dict2))\n",
    "print(res)"
   ]
  },
  {
   "cell_type": "code",
   "execution_count": 31,
   "metadata": {},
   "outputs": [
    {
     "name": "stdout",
     "output_type": "stream",
     "text": [
      "Counter({'blue': 3, 'red': 2, 'green': 1})\n",
      "--------\n",
      "Counter({'blue': 3, 'red': 2, 'green': 1})\n",
      "--------\n",
      "Counter({'a': 4, 'b': 3})\n",
      "Counter({'a': 2})\n",
      "Counter({'a': 1, 'b': 1})\n",
      "Counter({'a': 3, 'b': 2})\n"
     ]
    }
   ],
   "source": [
    "\"\"\"Counter 计数字典\"\"\"\n",
    "from collections import Counter\n",
    "# 计数\n",
    "cnt = Counter()\n",
    "for word in ['red', 'blue', 'red', 'green', 'blue', 'blue']:\n",
    "    cnt[word] += 1# 对word的计数数量加\n",
    "print(cnt)\n",
    "print('--------')\n",
    "print(Counter(['red', 'blue', 'red', 'green', 'blue', 'blue']))\n",
    "print('--------')\n",
    "# Counter({'blue': 3, 'red': 2, 'green': 1})\n",
    "# 数学运算\n",
    "c = Counter(a=3, b=1)\n",
    "d = Counter(a=1, b=2)\n",
    "print(c + d) # 相同的部分相加\n",
    "# Counter({'a': 4, 'b': 3})\n",
    "print(c - d) # 相同的部分相减\n",
    "# Counter({'a': 2})\n",
    "print(c & d) # 相同的部分取最小\n",
    "# Counter({'a': 1, 'b': 1})\n",
    "print(c | d) # 相同的部分取最大\n",
    "# Counter({'a': 3, 'b': 2})"
   ]
  },
  {
   "cell_type": "markdown",
   "metadata": {},
   "source": [
    "Collections容器类型⼀共有9种，除了上⾯介绍的4种之外还有OrderedDict，defaultdict，UserDict，\n",
    "UserList，UserString，他们的⽤法不是完全相同，但是使⽤起来并不复杂，更多Collections容器类型数\n",
    "据结构详⻅官⽅⽂档：\n",
    "\n",
    "中文：https://docs.python.org/zh-cn/3/library/collections.html\n",
    "\n",
    "英文：https://docs.python.org/2/library/collections.html"
   ]
  }
 ],
 "metadata": {
  "kernelspec": {
   "display_name": "Python 3",
   "language": "python",
   "name": "python3"
  },
  "language_info": {
   "codemirror_mode": {
    "name": "ipython",
    "version": 3
   },
   "file_extension": ".py",
   "mimetype": "text/x-python",
   "name": "python",
   "nbconvert_exporter": "python",
   "pygments_lexer": "ipython3",
   "version": "3.7.0"
  }
 },
 "nbformat": 4,
 "nbformat_minor": 2
}
