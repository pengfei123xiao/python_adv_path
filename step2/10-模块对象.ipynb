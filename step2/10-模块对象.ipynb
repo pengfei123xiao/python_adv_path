{
 "cells": [
  {
   "cell_type": "markdown",
   "metadata": {},
   "source": [
    "## 第十章 模块对象"
   ]
  },
  {
   "cell_type": "markdown",
   "metadata": {},
   "source": [
    "###  Ⅰ. 模块介绍\n",
    "\n",
    "#### 1. 模块基本说明\n",
    "\n",
    "我们之前讲函数的时候，⼀个函数是⼀个功能或者⼯具，我们可以重复使⽤这个功能，当程序中有多个功能的时候，为了给这些功能分组，我们有了模块的概念。**模块是⼀系列功能的集合体，在Python中，⼀个Python⽂件就是⼀个模块，**⽐如module.py,其中模块名module，Pyhon中⼀切皆对象，**⼀个模块也是⼀个对象。**\n"
   ]
  },
  {
   "cell_type": "markdown",
   "metadata": {},
   "source": [
    "#### 2. 模块的基本使⽤\n",
    "\n",
    "我们使⽤`import`关键字导⼊⼀个模块，在⼀个Python⽂件中⾸次导⼊模块的过程分为三个阶段：\n",
    "1. 创建⼀个模块的**名称空间**\n",
    "2. 执⾏模块对应⽂件，将**产⽣的名字存放于模块⽂件所对应的名称空间**\n",
    "3. 在当前执⾏⽂件中拿到⼀个模块名，该**模块名指向模块⽂件所对应的名称空间**\n",
    "\n",
    "需要注意的是：导⼊⼀个模块，模块中功能的执⾏始终以模块⾃⼰的名称空间为准，如果与导⼊模块的⽂件内的全局变量重名了，这也只是巧合，他们之间没有任何关系(最好不要有命名⼀样的)。"
   ]
  },
  {
   "cell_type": "markdown",
   "metadata": {},
   "source": [
    "创建一个spam.py module，与Python文件在同路径下：\n",
    "```\n",
    "print('from the spam.py')\n",
    "money = 0\n",
    "def read1():\n",
    "    print('spam模块.read1：', money)\n",
    "def read2():\n",
    "    print('spam模块.read2')\n",
    "    read1()\n",
    "def change():\n",
    "    global money\n",
    "    money = 1  # 在模块中修改\n",
    "```"
   ]
  },
  {
   "cell_type": "code",
   "execution_count": 1,
   "metadata": {},
   "outputs": [
    {
     "name": "stdout",
     "output_type": "stream",
     "text": [
      "from the spam.py\n",
      "<module 'spam' from 'C:\\\\Users\\\\Xiao Pengfei\\\\PycharmProjects\\\\python_adv_path\\\\step2\\\\spam.py'>\n",
      "0\n",
      "spam模块.read1： 0\n",
      "<function read1 at 0x0000021F916888C8>\n",
      "spam模块.read1： 0\n",
      "spam模块.read2\n",
      "spam模块.read1： 0\n",
      "1\n",
      "spam模块.read1： 1\n"
     ]
    }
   ],
   "source": [
    "# Python文件\n",
    "import spam\n",
    "print(spam) # 打印导入的模块\n",
    "print(spam.money) # spam对象有money属性\n",
    "spam.read1() # spam对象有read1方法\n",
    "money = 1\n",
    "read1 = 2\n",
    "read2 = 3\n",
    "print(spam.read1)\n",
    "spam.read1()\n",
    "spam.read2()\n",
    "spam.change()\n",
    "print(money)\n",
    "spam.read1()"
   ]
  },
  {
   "cell_type": "markdown",
   "metadata": {},
   "source": [
    "强调：如果多次导⼊同⼀模块，之后的导⼊会直接引⽤第⼀次导⼊的结果，不会重复执⾏⽂件。"
   ]
  },
  {
   "cell_type": "markdown",
   "metadata": {},
   "source": [
    "#### 5. from... import...\n",
    "我们在使⽤import导⼊⼀个模块的时候，每次使⽤都要使⽤模块名.属性名的⽅式，有⼀种更简单的⽅式就是使⽤from...import...导⼊，它的执⾏前两个阶段与import导⼊⼀致，第三个阶段不同：在当前名称空间中直接拿到模块中的名字，可以直接使⽤，不⽤加任何前缀。"
   ]
  },
  {
   "cell_type": "code",
   "execution_count": 3,
   "metadata": {},
   "outputs": [
    {
     "name": "stdout",
     "output_type": "stream",
     "text": [
      "1\n",
      "spam模块.read1： 1\n",
      "spam模块.read2\n",
      "spam模块.read1： 1\n"
     ]
    }
   ],
   "source": [
    "from spam import money, read1, read2, change\n",
    "print(money)\n",
    "read1()\n",
    "read2()\n",
    "change()"
   ]
  },
  {
   "cell_type": "code",
   "execution_count": 9,
   "metadata": {},
   "outputs": [
    {
     "name": "stdout",
     "output_type": "stream",
     "text": [
      "2\n"
     ]
    }
   ],
   "source": [
    "# 1、同import，执行模块中的功能，始终以模块的名称空间为准\n",
    "money = 2\n",
    "change()\n",
    "print(money)"
   ]
  },
  {
   "cell_type": "code",
   "execution_count": 7,
   "metadata": {},
   "outputs": [
    {
     "name": "stdout",
     "output_type": "stream",
     "text": [
      "3\n"
     ]
    }
   ],
   "source": [
    "# 2 from ... import 名字，拿到的名字可以不加前缀直接使用，使用起来更加方便\n",
    "# 当问题是如果重名的话，会与当前执行文件中相同的名字冲突\n",
    "money = 3\n",
    "print(money)\n",
    "read1 = 4\n",
    "# read1() # 无法调用"
   ]
  },
  {
   "cell_type": "code",
   "execution_count": 4,
   "metadata": {},
   "outputs": [
    {
     "name": "stdout",
     "output_type": "stream",
     "text": [
      "0\n"
     ]
    }
   ],
   "source": [
    "# 3 起别名\n",
    "from spam import money as m\n",
    "print(m)"
   ]
  },
  {
   "cell_type": "code",
   "execution_count": 5,
   "metadata": {},
   "outputs": [],
   "source": [
    "# 4 在一行导入多个\n",
    "from spam import money, read1, read2"
   ]
  },
  {
   "cell_type": "code",
   "execution_count": 6,
   "metadata": {},
   "outputs": [
    {
     "name": "stdout",
     "output_type": "stream",
     "text": [
      "0\n",
      "<function read1 at 0x000001438F3D7D90>\n",
      "<function read2 at 0x000001438F3D7A60>\n",
      "<function change at 0x000001438F3D7950>\n"
     ]
    }
   ],
   "source": [
    "# 5 from ... import * 全部导入\n",
    "from spam import *\n",
    "print(money)\n",
    "print(read1)\n",
    "print(read2)\n",
    "print(change)"
   ]
  },
  {
   "cell_type": "markdown",
   "metadata": {},
   "source": [
    "#### 6. 自定义星的导⼊\n",
    "星指的是导⼊该模块内的**全部功能**。如果模块内有很多功能，调⽤者并不一定会全部都⽤到。而且调⽤者不可避免的出现：⾃⼰的定义的名字与模块中的名字冲突，这时**模块的设计者可以定义星的调⽤。**"
   ]
  },
  {
   "cell_type": "code",
   "execution_count": 7,
   "metadata": {},
   "outputs": [],
   "source": [
    "# 修改spam模块\n",
    "# 规定*的调用只调用money和read1这两个功能\n",
    "__all__ = ['money', 'read1']\n",
    "\n",
    "money = 0\n",
    "def read1():\n",
    "    print('spam模块.read1：', money)\n",
    "    \n",
    "def read2():\n",
    "    print('spam模块.read2')\n",
    "    read1()\n",
    "    \n",
    "def change():\n",
    "    global money\n",
    "    money = 1 # 在模块中修改"
   ]
  },
  {
   "cell_type": "markdown",
   "metadata": {},
   "source": [
    "#### 7. Python⽂件的两种⽤途\n",
    "\n",
    "⼀个Python⽂件可以当作可执⾏⽂件被执⾏，这种⽤途⼀般我们叫做脚本⽂件，另外⼀种就是作为模块导⼊。为了测试⽅便，我们需要区别对待。"
   ]
  },
  {
   "cell_type": "code",
   "execution_count": 10,
   "metadata": {},
   "outputs": [
    {
     "name": "stdout",
     "output_type": "stream",
     "text": [
      "from the spam.py\n",
      "__main__\n",
      "文件被当中脚本执行啦。、。\n",
      "spam模块.read1： 0\n",
      "0\n",
      "<function read1 at 0x000001438F3D7D90>\n"
     ]
    }
   ],
   "source": [
    "print('from the spam.py')\n",
    "money = 0\n",
    "\n",
    "def read1():\n",
    "    print('spam模块.read1：', money)\n",
    "\n",
    "def read2():\n",
    "    print('spam模块.read2')\n",
    "    read1()\n",
    "\n",
    "def change():\n",
    "    global money\n",
    "    money = 1  # 在模块中修改\n",
    "    \n",
    "print(__name__)\n",
    "# __name__的值\n",
    "# 1 在文件被直接执行的情况下，等于'__main__'\n",
    "# 2 在文件被导入的情况下，等于模块名\n",
    "\n",
    "if __name__ == '__main__':\n",
    "    # 测试代码写在这里面\n",
    "    print('文件被当中脚本执行啦。、。')\n",
    "    read1()\n",
    "else:\n",
    "    print('文件被导入啦')\n",
    "\n",
    "# 执行文件\n",
    "from spam import *\n",
    "print(money)\n",
    "print(read1)"
   ]
  },
  {
   "cell_type": "markdown",
   "metadata": {},
   "source": [
    "#### 8. 模块的查找路径\n",
    "\n",
    "模块搜索查找的循序是：\n",
    "1. 内存中已经加载的模块\n",
    "2. 内置模块\n",
    "3. sys.path路径中包含的模块"
   ]
  },
  {
   "cell_type": "code",
   "execution_count": 1,
   "metadata": {},
   "outputs": [
    {
     "name": "stdout",
     "output_type": "stream",
     "text": [
      "from the spam.py\n",
      "spam1模块.f1： 0\n",
      "spam1模块.f1： 0\n"
     ]
    }
   ],
   "source": [
    "# 1 验证先查找内存中加载的模块\n",
    "import time\n",
    "# 在当前文件夹下创建spam1.py文件\n",
    "import spam1\n",
    "spam1.f1()\n",
    "time.sleep(15) # 15秒时间从硬盘删除spam1.py这个文件\n",
    "import spam1\n",
    "spam1.f1() # 再次调用依然有效，证明是优先从内存中查找的\n",
    "# 删除之后再次调用，内存中没有spam模块，内置也没有，报错"
   ]
  },
  {
   "cell_type": "code",
   "execution_count": 2,
   "metadata": {},
   "outputs": [
    {
     "name": "stdout",
     "output_type": "stream",
     "text": [
      "True\n",
      "True\n"
     ]
    }
   ],
   "source": [
    "# 2 验证内置模块的查找\n",
    "import sys\n",
    "print('time' in sys.modules) # sys.modules存放内存中被导入的模块\n",
    "import time # 内置模块默认在硬盘，导入之后才会进入内存\n",
    "time.sleep(3) # 可以使用time模块证明：模块查找先查找的内置模块\n",
    "print('time' in sys.modules)"
   ]
  },
  {
   "cell_type": "code",
   "execution_count": null,
   "metadata": {},
   "outputs": [],
   "source": [
    "# 3 sys.path路径包含的模块(重点)\n",
    "import sys\n",
    "print(sys.path)\n",
    "# 如果把spam1.py文件移动到当前目录的x文件夹下(下图有说明)，唯一的方案就是把x文件夹路径加如sys.path路径下\n",
    "sys.path.append(r'/Users/albert/Desktop/函数/x/')\n",
    "print(sys.path)\n",
    "import spam1 # 要保证导入的代码不变\n",
    "spam1.f1()\n",
    "# 注意：sys.path的第一个路径是当前执行文件所在的文件夹\n",
    "# spam1模块\n",
    "def f1():\n",
    "    print('被导入：m1.f1 function')\n",
    "# 自定义time模块\n",
    "print('time自定义')"
   ]
  },
  {
   "cell_type": "markdown",
   "metadata": {},
   "source": [
    "### Ⅱ. 函数递归调⽤"
   ]
  },
  {
   "cell_type": "markdown",
   "metadata": {},
   "source": [
    "### 1. 包的基本介绍\n",
    "\n",
    "包是⼀个特殊的模块，计算机上不同类型的⽂件分别保存的不同的⽂件夹内，程序中也是⼀样。⼀个⽂件夹就是⼀个包，Python语⾔的设计为了兼顾统⼀，包的使⽤和模块⼀致。需要注意的是，⼀个包内必须要有⼀个初始化⽂件`__init__.py`。\n",
    "\n",
    "先创建以a命名Python Package，在包内创建两个文件\n",
    "```\n",
    "# x1.py\n",
    "def func1():\n",
    "    print('a.x1.func1')\n",
    "# y1.py\n",
    "    def func2():\n",
    "print('a.y1.func2')\n",
    "```"
   ]
  },
  {
   "cell_type": "code",
   "execution_count": 1,
   "metadata": {},
   "outputs": [
    {
     "name": "stdout",
     "output_type": "stream",
     "text": [
      "a.x1.func1\n",
      "a.y1.func2\n",
      "<function func1 at 0x000002B297BA8D90>\n",
      "<function func2 at 0x000002B297BA8F28>\n"
     ]
    }
   ],
   "source": [
    "# 执行文件\n",
    "import a.x1,a.y1 # 创建一个以a未命名的包文件\n",
    "'''\n",
    "1 产生一个包的名称空间\n",
    "2 执行包下的__init__.py文件，将产生的名字存放于包的名称空间中\n",
    "3 在当前执行文件中拿到一个名字a，该名字指向包的名称空间\n",
    "'''\n",
    "a.x1.func1()\n",
    "a.y1.func2()\n",
    "print(a.x1.func1)\n",
    "print(a.y1.func2)"
   ]
  },
  {
   "cell_type": "markdown",
   "metadata": {},
   "source": [
    "### 2. 导⼊包注意事项\n",
    "\n",
    "1. 在导⼊时带点的，点的左边必须是⼀个包，这是导⼊包特有的语法\n",
    "2. 包内模块直接的导⼊应该使⽤from。。。import 。。。\n",
    "3. from 。。。 import。。。，import后必须是⼀个明确的名字，没有任何的前缀，不能加点"
   ]
  },
  {
   "cell_type": "markdown",
   "metadata": {},
   "source": [
    "### 3. 绝对导⼊与相对导⼊\n",
    "- 绝对导⼊是以**当前执⾏⽂件所在的⽂件夹(sys.path的第⼀个路径)**为参照点导⼊的。\n",
    "- 相对导⼊是以**当前执⾏⽂件**为参照点导⼊的。"
   ]
  },
  {
   "cell_type": "code",
   "execution_count": null,
   "metadata": {},
   "outputs": [],
   "source": [
    "# 绝对导入\n",
    "# 执行文件\n",
    "from a import x1, y1\n",
    "x1.func1()\n",
    "y1.func2()\n",
    "print(x1.func1)\n",
    "print(y1.func2)\n",
    "# 相对导入\n",
    "# y1模块\n",
    "def func2():\n",
    "    print('a.y1.func2')\n",
    "if __name__ == '__main__':\n",
    "    from x1 import func1\n",
    "    func1()"
   ]
  },
  {
   "cell_type": "markdown",
   "metadata": {},
   "source": [
    "<img src=\"images/10.2.3-绝对导入vs相对导入.jpg\" width=\"65%\">"
   ]
  },
  {
   "cell_type": "markdown",
   "metadata": {},
   "source": [
    "### 2. 常⽤模块\n",
    "\n",
    "#### 1. time模块"
   ]
  },
  {
   "cell_type": "code",
   "execution_count": 9,
   "metadata": {},
   "outputs": [
    {
     "name": "stdout",
     "output_type": "stream",
     "text": [
      "1574069282.369728\n",
      "3.0004701614379883\n",
      "2019-11-18 20:28:05 PM\n",
      "2019-11-18 20:28:05 PM\n",
      "time.struct_time(tm_year=2019, tm_mon=11, tm_mday=18, tm_hour=20, tm_min=28, tm_sec=5, tm_wday=0, tm_yday=322, tm_isdst=1)\n",
      "2019\n",
      "18\n",
      "time.struct_time(tm_year=2019, tm_mon=11, tm_mday=18, tm_hour=9, tm_min=28, tm_sec=5, tm_wday=0, tm_yday=322, tm_isdst=0)\n",
      "11\n",
      "3\n",
      "1574069285.0\n",
      "2019/11/18\n",
      "time.struct_time(tm_year=2017, tm_mon=4, tm_mday=8, tm_hour=0, tm_min=0, tm_sec=0, tm_wday=5, tm_yday=98, tm_isdst=-1)\n",
      "Mon Nov 18 20:28:05 2019\n",
      "Thu Jan  1 11:02:03 1970\n"
     ]
    }
   ],
   "source": [
    "import time\n",
    "\n",
    "# 时间分为三种形式\n",
    "# 1、时间戳\n",
    "print(time.time())\n",
    "start_time = time.time()\n",
    "time.sleep(3)\n",
    "stop_time = time.time()\n",
    "print(stop_time - start_time)\n",
    "\n",
    "# 2、格式化的字符串\n",
    "print(time.strftime('%Y-%m-%d %H:%M:%S %p'))\n",
    "print(time.strftime('%Y-%m-%d %X %p'))\n",
    "# 3、struct_time对象\n",
    "print(time.localtime()) # 上海：东八区\n",
    "print(time.localtime().tm_year)\n",
    "print(time.localtime().tm_mday)\n",
    "print(time.gmtime()) # UTC时区\n",
    "\n",
    "# 以下为了解的知识\n",
    "print(time.localtime(111).tm_hour)\n",
    "print(time.gmtime(11111).tm_hour)\n",
    "print(time.mktime(time.localtime()))\n",
    "print(time.strftime('%Y/%m/%d', time.localtime()))\n",
    "print(time.strptime('2017/04/08', '%Y/%m/%d'))\n",
    "print(time.asctime(time.localtime()))\n",
    "print(time.ctime(123))"
   ]
  },
  {
   "cell_type": "markdown",
   "metadata": {},
   "source": [
    "⽤time模块来模拟⽹络延迟打印进度条"
   ]
  },
  {
   "cell_type": "code",
   "execution_count": null,
   "metadata": {},
   "outputs": [],
   "source": [
    "# 打印过程\n",
    "\"\"\"\n",
    "print('[ ]')\n",
    "print('[## ]')\n",
    "print('[### ]')\n",
    "print('[#### ]')\n",
    "print('[##### ]')\n",
    "\"\"\"\n",
    "# 显示数字\n",
    "\"\"\"\n",
    "print('[%-50s]' %'#')\n",
    "print('[%-50s]' %'##')\n",
    "print('[%-50s]' %'###')\n",
    "\"\"\"\n",
    "# 说明\n",
    "# 第一个%是取消第二个%号的特殊意义的\n",
    "# num=30\n",
    "# print('%s%%' %num)\n",
    "# width=30\n",
    "# print(('[%%-%ds]' %width) %'#')\n",
    "# print(('[%%-%ds]' %width) %'##')\n",
    "# print(('[%%-%ds]' %width) %'###')\n",
    "def progress(percent, width=50):\n",
    "    if percent > 1:\n",
    "        percent = 1\n",
    "    show_str = ('[%%-%ds]' % width) % (int(width * percent) * '#')\n",
    "    print('\\r%s %d%%' % (show_str, int(100 * percent)), end='')\n",
    "\n",
    "import time\n",
    "\n",
    "recv_size = 0\n",
    "total_size = 809700\n",
    "while recv_size < total_size:\n",
    "    time.sleep(0.1)\n",
    "    recv_size += 8096\n",
    "    percent = recv_size / total_size\n",
    "    progress(percent)"
   ]
  },
  {
   "cell_type": "markdown",
   "metadata": {},
   "source": [
    "#### 2. datatime模块"
   ]
  },
  {
   "cell_type": "code",
   "execution_count": 10,
   "metadata": {},
   "outputs": [
    {
     "name": "stdout",
     "output_type": "stream",
     "text": [
      "2019-11-18 20:29:32.961331\n",
      "2019-11-21 20:29:32.961331\n",
      "2019-11-15 20:29:32.963325\n",
      "2019-11-18 23:29:32.963325\n",
      "2019-11-18 20:31:23.963325\n",
      "1977-11-18 20:29:32.963325\n",
      "1970-01-02\n"
     ]
    }
   ],
   "source": [
    "import datetime\n",
    "print(datetime.datetime.now())\n",
    "print(datetime.datetime.now() + datetime.timedelta(days=3))\n",
    "print(datetime.datetime.now() + datetime.timedelta(days=-3))\n",
    "print(datetime.datetime.now() + datetime.timedelta(hours=3))\n",
    "print(datetime.datetime.now() + datetime.timedelta(seconds=111))\n",
    "current_time = datetime.datetime.now()\n",
    "print(current_time.replace(year=1977))\n",
    "print(datetime.date.fromtimestamp(111111))"
   ]
  },
  {
   "cell_type": "markdown",
   "metadata": {},
   "source": [
    "#### 3. shutil与tarfile"
   ]
  },
  {
   "cell_type": "code",
   "execution_count": null,
   "metadata": {},
   "outputs": [],
   "source": [
    "import shutil\n",
    "import time\n",
    "ret = shutil.make_archive(\n",
    "    \"模块对象_%s\" % time.strftime('%Y-%m-%d'),\n",
    "    'gztar',\n",
    "    root_dir=r'/Users/albert/Desktop/函数/x'\n",
    ")\n",
    "\n",
    "# 解压文件\n",
    "import tarfile\n",
    "\n",
    "t = tarfile.open('/Users/albert/Desktop/函数/模块对象_2019-04-15.tar.gz', 'r')\n",
    "t.extractall(r'/Users/albert/Desktop/函数/x/a/解包目录')\n",
    "t.close()"
   ]
  },
  {
   "cell_type": "markdown",
   "metadata": {},
   "source": [
    "#### 4. logging模块"
   ]
  },
  {
   "cell_type": "code",
   "execution_count": 14,
   "metadata": {},
   "outputs": [
    {
     "name": "stderr",
     "output_type": "stream",
     "text": [
      "--- Logging error ---\n",
      "Traceback (most recent call last):\n",
      "  File \"c:\\users\\xiao pengfei\\appdata\\local\\programs\\python\\python37\\lib\\logging\\__init__.py\", line 983, in emit\n",
      "    msg = self.format(record)\n",
      "  File \"c:\\users\\xiao pengfei\\appdata\\local\\programs\\python\\python37\\lib\\logging\\__init__.py\", line 829, in format\n",
      "    return fmt.format(record)\n",
      "  File \"c:\\users\\xiao pengfei\\appdata\\local\\programs\\python\\python37\\lib\\logging\\__init__.py\", line 572, in format\n",
      "    s = self.formatMessage(record)\n",
      "  File \"c:\\users\\xiao pengfei\\appdata\\local\\programs\\python\\python37\\lib\\logging\\__init__.py\", line 541, in formatMessage\n",
      "    return self._style.format(record)\n",
      "  File \"c:\\users\\xiao pengfei\\appdata\\local\\programs\\python\\python37\\lib\\logging\\__init__.py\", line 384, in format\n",
      "    return self._fmt % record.__dict__\n",
      "TypeError: not enough arguments for format string\n",
      "Call stack:\n",
      "  File \"c:\\users\\xiao pengfei\\appdata\\local\\programs\\python\\python37\\lib\\runpy.py\", line 193, in _run_module_as_main\n",
      "    \"__main__\", mod_spec)\n",
      "  File \"c:\\users\\xiao pengfei\\appdata\\local\\programs\\python\\python37\\lib\\runpy.py\", line 85, in _run_code\n",
      "    exec(code, run_globals)\n",
      "  File \"c:\\users\\xiao pengfei\\appdata\\local\\programs\\python\\python37\\lib\\site-packages\\ipykernel_launcher.py\", line 16, in <module>\n",
      "    app.launch_new_instance()\n",
      "  File \"c:\\users\\xiao pengfei\\appdata\\local\\programs\\python\\python37\\lib\\site-packages\\traitlets\\config\\application.py\", line 658, in launch_instance\n",
      "    app.start()\n",
      "  File \"c:\\users\\xiao pengfei\\appdata\\local\\programs\\python\\python37\\lib\\site-packages\\ipykernel\\kernelapp.py\", line 505, in start\n",
      "    self.io_loop.start()\n",
      "  File \"c:\\users\\xiao pengfei\\appdata\\local\\programs\\python\\python37\\lib\\site-packages\\tornado\\platform\\asyncio.py\", line 148, in start\n",
      "    self.asyncio_loop.run_forever()\n",
      "  File \"c:\\users\\xiao pengfei\\appdata\\local\\programs\\python\\python37\\lib\\asyncio\\base_events.py\", line 523, in run_forever\n",
      "    self._run_once()\n",
      "  File \"c:\\users\\xiao pengfei\\appdata\\local\\programs\\python\\python37\\lib\\asyncio\\base_events.py\", line 1758, in _run_once\n",
      "    handle._run()\n",
      "  File \"c:\\users\\xiao pengfei\\appdata\\local\\programs\\python\\python37\\lib\\asyncio\\events.py\", line 88, in _run\n",
      "    self._context.run(self._callback, *self._args)\n",
      "  File \"c:\\users\\xiao pengfei\\appdata\\local\\programs\\python\\python37\\lib\\site-packages\\tornado\\ioloop.py\", line 690, in <lambda>\n",
      "    lambda f: self._run_callback(functools.partial(callback, future))\n",
      "  File \"c:\\users\\xiao pengfei\\appdata\\local\\programs\\python\\python37\\lib\\site-packages\\tornado\\ioloop.py\", line 743, in _run_callback\n",
      "    ret = callback()\n",
      "  File \"c:\\users\\xiao pengfei\\appdata\\local\\programs\\python\\python37\\lib\\site-packages\\tornado\\gen.py\", line 781, in inner\n",
      "    self.run()\n",
      "  File \"c:\\users\\xiao pengfei\\appdata\\local\\programs\\python\\python37\\lib\\site-packages\\tornado\\gen.py\", line 742, in run\n",
      "    yielded = self.gen.send(value)\n",
      "  File \"c:\\users\\xiao pengfei\\appdata\\local\\programs\\python\\python37\\lib\\site-packages\\ipykernel\\kernelbase.py\", line 365, in process_one\n",
      "    yield gen.maybe_future(dispatch(*args))\n",
      "  File \"c:\\users\\xiao pengfei\\appdata\\local\\programs\\python\\python37\\lib\\site-packages\\tornado\\gen.py\", line 209, in wrapper\n",
      "    yielded = next(result)\n",
      "  File \"c:\\users\\xiao pengfei\\appdata\\local\\programs\\python\\python37\\lib\\site-packages\\ipykernel\\kernelbase.py\", line 272, in dispatch_shell\n",
      "    yield gen.maybe_future(handler(stream, idents, msg))\n",
      "  File \"c:\\users\\xiao pengfei\\appdata\\local\\programs\\python\\python37\\lib\\site-packages\\tornado\\gen.py\", line 209, in wrapper\n",
      "    yielded = next(result)\n",
      "  File \"c:\\users\\xiao pengfei\\appdata\\local\\programs\\python\\python37\\lib\\site-packages\\ipykernel\\kernelbase.py\", line 542, in execute_request\n",
      "    user_expressions, allow_stdin,\n",
      "  File \"c:\\users\\xiao pengfei\\appdata\\local\\programs\\python\\python37\\lib\\site-packages\\tornado\\gen.py\", line 209, in wrapper\n",
      "    yielded = next(result)\n",
      "  File \"c:\\users\\xiao pengfei\\appdata\\local\\programs\\python\\python37\\lib\\site-packages\\ipykernel\\ipkernel.py\", line 294, in do_execute\n",
      "    res = shell.run_cell(code, store_history=store_history, silent=silent)\n",
      "  File \"c:\\users\\xiao pengfei\\appdata\\local\\programs\\python\\python37\\lib\\site-packages\\ipykernel\\zmqshell.py\", line 536, in run_cell\n",
      "    return super(ZMQInteractiveShell, self).run_cell(*args, **kwargs)\n",
      "  File \"c:\\users\\xiao pengfei\\appdata\\local\\programs\\python\\python37\\lib\\site-packages\\IPython\\core\\interactiveshell.py\", line 2848, in run_cell\n",
      "    raw_cell, store_history, silent, shell_futures)\n",
      "  File \"c:\\users\\xiao pengfei\\appdata\\local\\programs\\python\\python37\\lib\\site-packages\\IPython\\core\\interactiveshell.py\", line 2874, in _run_cell\n",
      "    return runner(coro)\n",
      "  File \"c:\\users\\xiao pengfei\\appdata\\local\\programs\\python\\python37\\lib\\site-packages\\IPython\\core\\async_helpers.py\", line 67, in _pseudo_sync_runner\n",
      "    coro.send(None)\n",
      "  File \"c:\\users\\xiao pengfei\\appdata\\local\\programs\\python\\python37\\lib\\site-packages\\IPython\\core\\interactiveshell.py\", line 3049, in run_cell_async\n",
      "    interactivity=interactivity, compiler=compiler, result=result)\n",
      "  File \"c:\\users\\xiao pengfei\\appdata\\local\\programs\\python\\python37\\lib\\site-packages\\IPython\\core\\interactiveshell.py\", line 3214, in run_ast_nodes\n",
      "    if (yield from self.run_code(code, result)):\n",
      "  File \"c:\\users\\xiao pengfei\\appdata\\local\\programs\\python\\python37\\lib\\site-packages\\IPython\\core\\interactiveshell.py\", line 3296, in run_code\n",
      "    exec(code_obj, self.user_global_ns, self.user_ns)\n",
      "  File \"<ipython-input-14-28813385abfa>\", line 9, in <module>\n",
      "    logging.info('info....') # 20\n",
      "Message: 'info....'\n",
      "Arguments: ()\n",
      "--- Logging error ---\n",
      "Traceback (most recent call last):\n",
      "  File \"c:\\users\\xiao pengfei\\appdata\\local\\programs\\python\\python37\\lib\\logging\\__init__.py\", line 983, in emit\n",
      "    msg = self.format(record)\n",
      "  File \"c:\\users\\xiao pengfei\\appdata\\local\\programs\\python\\python37\\lib\\logging\\__init__.py\", line 829, in format\n",
      "    return fmt.format(record)\n",
      "  File \"c:\\users\\xiao pengfei\\appdata\\local\\programs\\python\\python37\\lib\\logging\\__init__.py\", line 572, in format\n",
      "    s = self.formatMessage(record)\n",
      "  File \"c:\\users\\xiao pengfei\\appdata\\local\\programs\\python\\python37\\lib\\logging\\__init__.py\", line 541, in formatMessage\n",
      "    return self._style.format(record)\n",
      "  File \"c:\\users\\xiao pengfei\\appdata\\local\\programs\\python\\python37\\lib\\logging\\__init__.py\", line 384, in format\n",
      "    return self._fmt % record.__dict__\n",
      "TypeError: not enough arguments for format string\n",
      "Call stack:\n",
      "  File \"c:\\users\\xiao pengfei\\appdata\\local\\programs\\python\\python37\\lib\\runpy.py\", line 193, in _run_module_as_main\n",
      "    \"__main__\", mod_spec)\n",
      "  File \"c:\\users\\xiao pengfei\\appdata\\local\\programs\\python\\python37\\lib\\runpy.py\", line 85, in _run_code\n",
      "    exec(code, run_globals)\n",
      "  File \"c:\\users\\xiao pengfei\\appdata\\local\\programs\\python\\python37\\lib\\site-packages\\ipykernel_launcher.py\", line 16, in <module>\n",
      "    app.launch_new_instance()\n",
      "  File \"c:\\users\\xiao pengfei\\appdata\\local\\programs\\python\\python37\\lib\\site-packages\\traitlets\\config\\application.py\", line 658, in launch_instance\n",
      "    app.start()\n",
      "  File \"c:\\users\\xiao pengfei\\appdata\\local\\programs\\python\\python37\\lib\\site-packages\\ipykernel\\kernelapp.py\", line 505, in start\n",
      "    self.io_loop.start()\n",
      "  File \"c:\\users\\xiao pengfei\\appdata\\local\\programs\\python\\python37\\lib\\site-packages\\tornado\\platform\\asyncio.py\", line 148, in start\n",
      "    self.asyncio_loop.run_forever()\n",
      "  File \"c:\\users\\xiao pengfei\\appdata\\local\\programs\\python\\python37\\lib\\asyncio\\base_events.py\", line 523, in run_forever\n",
      "    self._run_once()\n",
      "  File \"c:\\users\\xiao pengfei\\appdata\\local\\programs\\python\\python37\\lib\\asyncio\\base_events.py\", line 1758, in _run_once\n",
      "    handle._run()\n",
      "  File \"c:\\users\\xiao pengfei\\appdata\\local\\programs\\python\\python37\\lib\\asyncio\\events.py\", line 88, in _run\n",
      "    self._context.run(self._callback, *self._args)\n",
      "  File \"c:\\users\\xiao pengfei\\appdata\\local\\programs\\python\\python37\\lib\\site-packages\\tornado\\ioloop.py\", line 690, in <lambda>\n",
      "    lambda f: self._run_callback(functools.partial(callback, future))\n",
      "  File \"c:\\users\\xiao pengfei\\appdata\\local\\programs\\python\\python37\\lib\\site-packages\\tornado\\ioloop.py\", line 743, in _run_callback\n",
      "    ret = callback()\n",
      "  File \"c:\\users\\xiao pengfei\\appdata\\local\\programs\\python\\python37\\lib\\site-packages\\tornado\\gen.py\", line 781, in inner\n",
      "    self.run()\n",
      "  File \"c:\\users\\xiao pengfei\\appdata\\local\\programs\\python\\python37\\lib\\site-packages\\tornado\\gen.py\", line 742, in run\n",
      "    yielded = self.gen.send(value)\n",
      "  File \"c:\\users\\xiao pengfei\\appdata\\local\\programs\\python\\python37\\lib\\site-packages\\ipykernel\\kernelbase.py\", line 365, in process_one\n",
      "    yield gen.maybe_future(dispatch(*args))\n",
      "  File \"c:\\users\\xiao pengfei\\appdata\\local\\programs\\python\\python37\\lib\\site-packages\\tornado\\gen.py\", line 209, in wrapper\n",
      "    yielded = next(result)\n",
      "  File \"c:\\users\\xiao pengfei\\appdata\\local\\programs\\python\\python37\\lib\\site-packages\\ipykernel\\kernelbase.py\", line 272, in dispatch_shell\n",
      "    yield gen.maybe_future(handler(stream, idents, msg))\n",
      "  File \"c:\\users\\xiao pengfei\\appdata\\local\\programs\\python\\python37\\lib\\site-packages\\tornado\\gen.py\", line 209, in wrapper\n",
      "    yielded = next(result)\n",
      "  File \"c:\\users\\xiao pengfei\\appdata\\local\\programs\\python\\python37\\lib\\site-packages\\ipykernel\\kernelbase.py\", line 542, in execute_request\n",
      "    user_expressions, allow_stdin,\n",
      "  File \"c:\\users\\xiao pengfei\\appdata\\local\\programs\\python\\python37\\lib\\site-packages\\tornado\\gen.py\", line 209, in wrapper\n",
      "    yielded = next(result)\n",
      "  File \"c:\\users\\xiao pengfei\\appdata\\local\\programs\\python\\python37\\lib\\site-packages\\ipykernel\\ipkernel.py\", line 294, in do_execute\n",
      "    res = shell.run_cell(code, store_history=store_history, silent=silent)\n",
      "  File \"c:\\users\\xiao pengfei\\appdata\\local\\programs\\python\\python37\\lib\\site-packages\\ipykernel\\zmqshell.py\", line 536, in run_cell\n",
      "    return super(ZMQInteractiveShell, self).run_cell(*args, **kwargs)\n",
      "  File \"c:\\users\\xiao pengfei\\appdata\\local\\programs\\python\\python37\\lib\\site-packages\\IPython\\core\\interactiveshell.py\", line 2848, in run_cell\n",
      "    raw_cell, store_history, silent, shell_futures)\n",
      "  File \"c:\\users\\xiao pengfei\\appdata\\local\\programs\\python\\python37\\lib\\site-packages\\IPython\\core\\interactiveshell.py\", line 2874, in _run_cell\n",
      "    return runner(coro)\n",
      "  File \"c:\\users\\xiao pengfei\\appdata\\local\\programs\\python\\python37\\lib\\site-packages\\IPython\\core\\async_helpers.py\", line 67, in _pseudo_sync_runner\n",
      "    coro.send(None)\n",
      "  File \"c:\\users\\xiao pengfei\\appdata\\local\\programs\\python\\python37\\lib\\site-packages\\IPython\\core\\interactiveshell.py\", line 3049, in run_cell_async\n",
      "    interactivity=interactivity, compiler=compiler, result=result)\n",
      "  File \"c:\\users\\xiao pengfei\\appdata\\local\\programs\\python\\python37\\lib\\site-packages\\IPython\\core\\interactiveshell.py\", line 3214, in run_ast_nodes\n",
      "    if (yield from self.run_code(code, result)):\n",
      "  File \"c:\\users\\xiao pengfei\\appdata\\local\\programs\\python\\python37\\lib\\site-packages\\IPython\\core\\interactiveshell.py\", line 3296, in run_code\n",
      "    exec(code_obj, self.user_global_ns, self.user_ns)\n",
      "  File \"<ipython-input-14-28813385abfa>\", line 10, in <module>\n",
      "    logging.warning('可能着火...') # 30\n",
      "Message: '可能着火...'\n",
      "Arguments: ()\n",
      "--- Logging error ---\n",
      "Traceback (most recent call last):\n",
      "  File \"c:\\users\\xiao pengfei\\appdata\\local\\programs\\python\\python37\\lib\\logging\\__init__.py\", line 983, in emit\n",
      "    msg = self.format(record)\n",
      "  File \"c:\\users\\xiao pengfei\\appdata\\local\\programs\\python\\python37\\lib\\logging\\__init__.py\", line 829, in format\n",
      "    return fmt.format(record)\n",
      "  File \"c:\\users\\xiao pengfei\\appdata\\local\\programs\\python\\python37\\lib\\logging\\__init__.py\", line 572, in format\n",
      "    s = self.formatMessage(record)\n",
      "  File \"c:\\users\\xiao pengfei\\appdata\\local\\programs\\python\\python37\\lib\\logging\\__init__.py\", line 541, in formatMessage\n",
      "    return self._style.format(record)\n",
      "  File \"c:\\users\\xiao pengfei\\appdata\\local\\programs\\python\\python37\\lib\\logging\\__init__.py\", line 384, in format\n",
      "    return self._fmt % record.__dict__\n",
      "TypeError: not enough arguments for format string\n",
      "Call stack:\n",
      "  File \"c:\\users\\xiao pengfei\\appdata\\local\\programs\\python\\python37\\lib\\runpy.py\", line 193, in _run_module_as_main\n",
      "    \"__main__\", mod_spec)\n",
      "  File \"c:\\users\\xiao pengfei\\appdata\\local\\programs\\python\\python37\\lib\\runpy.py\", line 85, in _run_code\n",
      "    exec(code, run_globals)\n",
      "  File \"c:\\users\\xiao pengfei\\appdata\\local\\programs\\python\\python37\\lib\\site-packages\\ipykernel_launcher.py\", line 16, in <module>\n",
      "    app.launch_new_instance()\n",
      "  File \"c:\\users\\xiao pengfei\\appdata\\local\\programs\\python\\python37\\lib\\site-packages\\traitlets\\config\\application.py\", line 658, in launch_instance\n",
      "    app.start()\n",
      "  File \"c:\\users\\xiao pengfei\\appdata\\local\\programs\\python\\python37\\lib\\site-packages\\ipykernel\\kernelapp.py\", line 505, in start\n",
      "    self.io_loop.start()\n",
      "  File \"c:\\users\\xiao pengfei\\appdata\\local\\programs\\python\\python37\\lib\\site-packages\\tornado\\platform\\asyncio.py\", line 148, in start\n",
      "    self.asyncio_loop.run_forever()\n",
      "  File \"c:\\users\\xiao pengfei\\appdata\\local\\programs\\python\\python37\\lib\\asyncio\\base_events.py\", line 523, in run_forever\n",
      "    self._run_once()\n",
      "  File \"c:\\users\\xiao pengfei\\appdata\\local\\programs\\python\\python37\\lib\\asyncio\\base_events.py\", line 1758, in _run_once\n",
      "    handle._run()\n",
      "  File \"c:\\users\\xiao pengfei\\appdata\\local\\programs\\python\\python37\\lib\\asyncio\\events.py\", line 88, in _run\n",
      "    self._context.run(self._callback, *self._args)\n",
      "  File \"c:\\users\\xiao pengfei\\appdata\\local\\programs\\python\\python37\\lib\\site-packages\\tornado\\ioloop.py\", line 690, in <lambda>\n",
      "    lambda f: self._run_callback(functools.partial(callback, future))\n",
      "  File \"c:\\users\\xiao pengfei\\appdata\\local\\programs\\python\\python37\\lib\\site-packages\\tornado\\ioloop.py\", line 743, in _run_callback\n",
      "    ret = callback()\n",
      "  File \"c:\\users\\xiao pengfei\\appdata\\local\\programs\\python\\python37\\lib\\site-packages\\tornado\\gen.py\", line 781, in inner\n",
      "    self.run()\n",
      "  File \"c:\\users\\xiao pengfei\\appdata\\local\\programs\\python\\python37\\lib\\site-packages\\tornado\\gen.py\", line 742, in run\n",
      "    yielded = self.gen.send(value)\n",
      "  File \"c:\\users\\xiao pengfei\\appdata\\local\\programs\\python\\python37\\lib\\site-packages\\ipykernel\\kernelbase.py\", line 365, in process_one\n",
      "    yield gen.maybe_future(dispatch(*args))\n",
      "  File \"c:\\users\\xiao pengfei\\appdata\\local\\programs\\python\\python37\\lib\\site-packages\\tornado\\gen.py\", line 209, in wrapper\n",
      "    yielded = next(result)\n",
      "  File \"c:\\users\\xiao pengfei\\appdata\\local\\programs\\python\\python37\\lib\\site-packages\\ipykernel\\kernelbase.py\", line 272, in dispatch_shell\n",
      "    yield gen.maybe_future(handler(stream, idents, msg))\n",
      "  File \"c:\\users\\xiao pengfei\\appdata\\local\\programs\\python\\python37\\lib\\site-packages\\tornado\\gen.py\", line 209, in wrapper\n",
      "    yielded = next(result)\n",
      "  File \"c:\\users\\xiao pengfei\\appdata\\local\\programs\\python\\python37\\lib\\site-packages\\ipykernel\\kernelbase.py\", line 542, in execute_request\n",
      "    user_expressions, allow_stdin,\n",
      "  File \"c:\\users\\xiao pengfei\\appdata\\local\\programs\\python\\python37\\lib\\site-packages\\tornado\\gen.py\", line 209, in wrapper\n",
      "    yielded = next(result)\n",
      "  File \"c:\\users\\xiao pengfei\\appdata\\local\\programs\\python\\python37\\lib\\site-packages\\ipykernel\\ipkernel.py\", line 294, in do_execute\n",
      "    res = shell.run_cell(code, store_history=store_history, silent=silent)\n",
      "  File \"c:\\users\\xiao pengfei\\appdata\\local\\programs\\python\\python37\\lib\\site-packages\\ipykernel\\zmqshell.py\", line 536, in run_cell\n",
      "    return super(ZMQInteractiveShell, self).run_cell(*args, **kwargs)\n",
      "  File \"c:\\users\\xiao pengfei\\appdata\\local\\programs\\python\\python37\\lib\\site-packages\\IPython\\core\\interactiveshell.py\", line 2848, in run_cell\n",
      "    raw_cell, store_history, silent, shell_futures)\n",
      "  File \"c:\\users\\xiao pengfei\\appdata\\local\\programs\\python\\python37\\lib\\site-packages\\IPython\\core\\interactiveshell.py\", line 2874, in _run_cell\n",
      "    return runner(coro)\n",
      "  File \"c:\\users\\xiao pengfei\\appdata\\local\\programs\\python\\python37\\lib\\site-packages\\IPython\\core\\async_helpers.py\", line 67, in _pseudo_sync_runner\n",
      "    coro.send(None)\n",
      "  File \"c:\\users\\xiao pengfei\\appdata\\local\\programs\\python\\python37\\lib\\site-packages\\IPython\\core\\interactiveshell.py\", line 3049, in run_cell_async\n",
      "    interactivity=interactivity, compiler=compiler, result=result)\n",
      "  File \"c:\\users\\xiao pengfei\\appdata\\local\\programs\\python\\python37\\lib\\site-packages\\IPython\\core\\interactiveshell.py\", line 3214, in run_ast_nodes\n",
      "    if (yield from self.run_code(code, result)):\n",
      "  File \"c:\\users\\xiao pengfei\\appdata\\local\\programs\\python\\python37\\lib\\site-packages\\IPython\\core\\interactiveshell.py\", line 3296, in run_code\n",
      "    exec(code_obj, self.user_global_ns, self.user_ns)\n",
      "  File \"<ipython-input-14-28813385abfa>\", line 11, in <module>\n",
      "    logging.error('着火啦快跑') # 40\n",
      "Message: '着火啦快跑'\n",
      "Arguments: ()\n",
      "--- Logging error ---\n",
      "Traceback (most recent call last):\n",
      "  File \"c:\\users\\xiao pengfei\\appdata\\local\\programs\\python\\python37\\lib\\logging\\__init__.py\", line 983, in emit\n",
      "    msg = self.format(record)\n",
      "  File \"c:\\users\\xiao pengfei\\appdata\\local\\programs\\python\\python37\\lib\\logging\\__init__.py\", line 829, in format\n",
      "    return fmt.format(record)\n",
      "  File \"c:\\users\\xiao pengfei\\appdata\\local\\programs\\python\\python37\\lib\\logging\\__init__.py\", line 572, in format\n",
      "    s = self.formatMessage(record)\n",
      "  File \"c:\\users\\xiao pengfei\\appdata\\local\\programs\\python\\python37\\lib\\logging\\__init__.py\", line 541, in formatMessage\n",
      "    return self._style.format(record)\n",
      "  File \"c:\\users\\xiao pengfei\\appdata\\local\\programs\\python\\python37\\lib\\logging\\__init__.py\", line 384, in format\n",
      "    return self._fmt % record.__dict__\n",
      "TypeError: not enough arguments for format string\n",
      "Call stack:\n",
      "  File \"c:\\users\\xiao pengfei\\appdata\\local\\programs\\python\\python37\\lib\\runpy.py\", line 193, in _run_module_as_main\n",
      "    \"__main__\", mod_spec)\n",
      "  File \"c:\\users\\xiao pengfei\\appdata\\local\\programs\\python\\python37\\lib\\runpy.py\", line 85, in _run_code\n",
      "    exec(code, run_globals)\n",
      "  File \"c:\\users\\xiao pengfei\\appdata\\local\\programs\\python\\python37\\lib\\site-packages\\ipykernel_launcher.py\", line 16, in <module>\n",
      "    app.launch_new_instance()\n",
      "  File \"c:\\users\\xiao pengfei\\appdata\\local\\programs\\python\\python37\\lib\\site-packages\\traitlets\\config\\application.py\", line 658, in launch_instance\n",
      "    app.start()\n",
      "  File \"c:\\users\\xiao pengfei\\appdata\\local\\programs\\python\\python37\\lib\\site-packages\\ipykernel\\kernelapp.py\", line 505, in start\n",
      "    self.io_loop.start()\n",
      "  File \"c:\\users\\xiao pengfei\\appdata\\local\\programs\\python\\python37\\lib\\site-packages\\tornado\\platform\\asyncio.py\", line 148, in start\n",
      "    self.asyncio_loop.run_forever()\n",
      "  File \"c:\\users\\xiao pengfei\\appdata\\local\\programs\\python\\python37\\lib\\asyncio\\base_events.py\", line 523, in run_forever\n",
      "    self._run_once()\n",
      "  File \"c:\\users\\xiao pengfei\\appdata\\local\\programs\\python\\python37\\lib\\asyncio\\base_events.py\", line 1758, in _run_once\n",
      "    handle._run()\n",
      "  File \"c:\\users\\xiao pengfei\\appdata\\local\\programs\\python\\python37\\lib\\asyncio\\events.py\", line 88, in _run\n",
      "    self._context.run(self._callback, *self._args)\n",
      "  File \"c:\\users\\xiao pengfei\\appdata\\local\\programs\\python\\python37\\lib\\site-packages\\tornado\\ioloop.py\", line 690, in <lambda>\n",
      "    lambda f: self._run_callback(functools.partial(callback, future))\n",
      "  File \"c:\\users\\xiao pengfei\\appdata\\local\\programs\\python\\python37\\lib\\site-packages\\tornado\\ioloop.py\", line 743, in _run_callback\n",
      "    ret = callback()\n",
      "  File \"c:\\users\\xiao pengfei\\appdata\\local\\programs\\python\\python37\\lib\\site-packages\\tornado\\gen.py\", line 781, in inner\n",
      "    self.run()\n",
      "  File \"c:\\users\\xiao pengfei\\appdata\\local\\programs\\python\\python37\\lib\\site-packages\\tornado\\gen.py\", line 742, in run\n",
      "    yielded = self.gen.send(value)\n",
      "  File \"c:\\users\\xiao pengfei\\appdata\\local\\programs\\python\\python37\\lib\\site-packages\\ipykernel\\kernelbase.py\", line 365, in process_one\n",
      "    yield gen.maybe_future(dispatch(*args))\n",
      "  File \"c:\\users\\xiao pengfei\\appdata\\local\\programs\\python\\python37\\lib\\site-packages\\tornado\\gen.py\", line 209, in wrapper\n",
      "    yielded = next(result)\n",
      "  File \"c:\\users\\xiao pengfei\\appdata\\local\\programs\\python\\python37\\lib\\site-packages\\ipykernel\\kernelbase.py\", line 272, in dispatch_shell\n",
      "    yield gen.maybe_future(handler(stream, idents, msg))\n",
      "  File \"c:\\users\\xiao pengfei\\appdata\\local\\programs\\python\\python37\\lib\\site-packages\\tornado\\gen.py\", line 209, in wrapper\n",
      "    yielded = next(result)\n",
      "  File \"c:\\users\\xiao pengfei\\appdata\\local\\programs\\python\\python37\\lib\\site-packages\\ipykernel\\kernelbase.py\", line 542, in execute_request\n",
      "    user_expressions, allow_stdin,\n",
      "  File \"c:\\users\\xiao pengfei\\appdata\\local\\programs\\python\\python37\\lib\\site-packages\\tornado\\gen.py\", line 209, in wrapper\n",
      "    yielded = next(result)\n",
      "  File \"c:\\users\\xiao pengfei\\appdata\\local\\programs\\python\\python37\\lib\\site-packages\\ipykernel\\ipkernel.py\", line 294, in do_execute\n",
      "    res = shell.run_cell(code, store_history=store_history, silent=silent)\n",
      "  File \"c:\\users\\xiao pengfei\\appdata\\local\\programs\\python\\python37\\lib\\site-packages\\ipykernel\\zmqshell.py\", line 536, in run_cell\n",
      "    return super(ZMQInteractiveShell, self).run_cell(*args, **kwargs)\n",
      "  File \"c:\\users\\xiao pengfei\\appdata\\local\\programs\\python\\python37\\lib\\site-packages\\IPython\\core\\interactiveshell.py\", line 2848, in run_cell\n",
      "    raw_cell, store_history, silent, shell_futures)\n",
      "  File \"c:\\users\\xiao pengfei\\appdata\\local\\programs\\python\\python37\\lib\\site-packages\\IPython\\core\\interactiveshell.py\", line 2874, in _run_cell\n",
      "    return runner(coro)\n",
      "  File \"c:\\users\\xiao pengfei\\appdata\\local\\programs\\python\\python37\\lib\\site-packages\\IPython\\core\\async_helpers.py\", line 67, in _pseudo_sync_runner\n",
      "    coro.send(None)\n",
      "  File \"c:\\users\\xiao pengfei\\appdata\\local\\programs\\python\\python37\\lib\\site-packages\\IPython\\core\\interactiveshell.py\", line 3049, in run_cell_async\n",
      "    interactivity=interactivity, compiler=compiler, result=result)\n",
      "  File \"c:\\users\\xiao pengfei\\appdata\\local\\programs\\python\\python37\\lib\\site-packages\\IPython\\core\\interactiveshell.py\", line 3220, in run_ast_nodes\n",
      "    if (yield from self.run_code(code, result)):\n",
      "  File \"c:\\users\\xiao pengfei\\appdata\\local\\programs\\python\\python37\\lib\\site-packages\\IPython\\core\\interactiveshell.py\", line 3296, in run_code\n",
      "    exec(code_obj, self.user_global_ns, self.user_ns)\n",
      "  File \"<ipython-input-14-28813385abfa>\", line 12, in <module>\n",
      "    logging.critical('火越烧越大') # 50\n",
      "Message: '火越烧越大'\n",
      "Arguments: ()\n"
     ]
    }
   ],
   "source": [
    "import logging\n",
    "logging.basicConfig(\n",
    "    filename='access.log',\n",
    "    format='%(asctime)s - %(name)s - %(levelname)s -%(module)s: % (message)s',\n",
    "    datefmt='%Y-%m-%d %H:%M:%S %p',\n",
    "    level=20,\n",
    ")\n",
    "logging.debug('debug...') # 10\n",
    "logging.info('info....') # 20\n",
    "logging.warning('可能着火...') # 30\n",
    "logging.error('着火啦快跑') # 40\n",
    "logging.critical('火越烧越大') # 50"
   ]
  },
  {
   "cell_type": "code",
   "execution_count": 16,
   "metadata": {},
   "outputs": [
    {
     "name": "stderr",
     "output_type": "stream",
     "text": [
      "2019-11-18 20:36:26,052 - 出错了\n",
      "--- Logging error ---\n",
      "Traceback (most recent call last):\n",
      "  File \"c:\\users\\xiao pengfei\\appdata\\local\\programs\\python\\python37\\lib\\logging\\__init__.py\", line 983, in emit\n",
      "    msg = self.format(record)\n",
      "  File \"c:\\users\\xiao pengfei\\appdata\\local\\programs\\python\\python37\\lib\\logging\\__init__.py\", line 829, in format\n",
      "    return fmt.format(record)\n",
      "  File \"c:\\users\\xiao pengfei\\appdata\\local\\programs\\python\\python37\\lib\\logging\\__init__.py\", line 572, in format\n",
      "    s = self.formatMessage(record)\n",
      "  File \"c:\\users\\xiao pengfei\\appdata\\local\\programs\\python\\python37\\lib\\logging\\__init__.py\", line 541, in formatMessage\n",
      "    return self._style.format(record)\n",
      "  File \"c:\\users\\xiao pengfei\\appdata\\local\\programs\\python\\python37\\lib\\logging\\__init__.py\", line 384, in format\n",
      "    return self._fmt % record.__dict__\n",
      "TypeError: not enough arguments for format string\n",
      "Call stack:\n",
      "  File \"c:\\users\\xiao pengfei\\appdata\\local\\programs\\python\\python37\\lib\\runpy.py\", line 193, in _run_module_as_main\n",
      "    \"__main__\", mod_spec)\n",
      "  File \"c:\\users\\xiao pengfei\\appdata\\local\\programs\\python\\python37\\lib\\runpy.py\", line 85, in _run_code\n",
      "    exec(code, run_globals)\n",
      "  File \"c:\\users\\xiao pengfei\\appdata\\local\\programs\\python\\python37\\lib\\site-packages\\ipykernel_launcher.py\", line 16, in <module>\n",
      "    app.launch_new_instance()\n",
      "  File \"c:\\users\\xiao pengfei\\appdata\\local\\programs\\python\\python37\\lib\\site-packages\\traitlets\\config\\application.py\", line 658, in launch_instance\n",
      "    app.start()\n",
      "  File \"c:\\users\\xiao pengfei\\appdata\\local\\programs\\python\\python37\\lib\\site-packages\\ipykernel\\kernelapp.py\", line 505, in start\n",
      "    self.io_loop.start()\n",
      "  File \"c:\\users\\xiao pengfei\\appdata\\local\\programs\\python\\python37\\lib\\site-packages\\tornado\\platform\\asyncio.py\", line 148, in start\n",
      "    self.asyncio_loop.run_forever()\n",
      "  File \"c:\\users\\xiao pengfei\\appdata\\local\\programs\\python\\python37\\lib\\asyncio\\base_events.py\", line 523, in run_forever\n",
      "    self._run_once()\n",
      "  File \"c:\\users\\xiao pengfei\\appdata\\local\\programs\\python\\python37\\lib\\asyncio\\base_events.py\", line 1758, in _run_once\n",
      "    handle._run()\n",
      "  File \"c:\\users\\xiao pengfei\\appdata\\local\\programs\\python\\python37\\lib\\asyncio\\events.py\", line 88, in _run\n",
      "    self._context.run(self._callback, *self._args)\n",
      "  File \"c:\\users\\xiao pengfei\\appdata\\local\\programs\\python\\python37\\lib\\site-packages\\tornado\\ioloop.py\", line 690, in <lambda>\n",
      "    lambda f: self._run_callback(functools.partial(callback, future))\n",
      "  File \"c:\\users\\xiao pengfei\\appdata\\local\\programs\\python\\python37\\lib\\site-packages\\tornado\\ioloop.py\", line 743, in _run_callback\n",
      "    ret = callback()\n",
      "  File \"c:\\users\\xiao pengfei\\appdata\\local\\programs\\python\\python37\\lib\\site-packages\\tornado\\gen.py\", line 781, in inner\n",
      "    self.run()\n",
      "  File \"c:\\users\\xiao pengfei\\appdata\\local\\programs\\python\\python37\\lib\\site-packages\\tornado\\gen.py\", line 742, in run\n",
      "    yielded = self.gen.send(value)\n",
      "  File \"c:\\users\\xiao pengfei\\appdata\\local\\programs\\python\\python37\\lib\\site-packages\\ipykernel\\kernelbase.py\", line 365, in process_one\n",
      "    yield gen.maybe_future(dispatch(*args))\n",
      "  File \"c:\\users\\xiao pengfei\\appdata\\local\\programs\\python\\python37\\lib\\site-packages\\tornado\\gen.py\", line 209, in wrapper\n",
      "    yielded = next(result)\n",
      "  File \"c:\\users\\xiao pengfei\\appdata\\local\\programs\\python\\python37\\lib\\site-packages\\ipykernel\\kernelbase.py\", line 272, in dispatch_shell\n",
      "    yield gen.maybe_future(handler(stream, idents, msg))\n",
      "  File \"c:\\users\\xiao pengfei\\appdata\\local\\programs\\python\\python37\\lib\\site-packages\\tornado\\gen.py\", line 209, in wrapper\n",
      "    yielded = next(result)\n",
      "  File \"c:\\users\\xiao pengfei\\appdata\\local\\programs\\python\\python37\\lib\\site-packages\\ipykernel\\kernelbase.py\", line 542, in execute_request\n",
      "    user_expressions, allow_stdin,\n",
      "  File \"c:\\users\\xiao pengfei\\appdata\\local\\programs\\python\\python37\\lib\\site-packages\\tornado\\gen.py\", line 209, in wrapper\n",
      "    yielded = next(result)\n",
      "  File \"c:\\users\\xiao pengfei\\appdata\\local\\programs\\python\\python37\\lib\\site-packages\\ipykernel\\ipkernel.py\", line 294, in do_execute\n",
      "    res = shell.run_cell(code, store_history=store_history, silent=silent)\n",
      "  File \"c:\\users\\xiao pengfei\\appdata\\local\\programs\\python\\python37\\lib\\site-packages\\ipykernel\\zmqshell.py\", line 536, in run_cell\n",
      "    return super(ZMQInteractiveShell, self).run_cell(*args, **kwargs)\n",
      "  File \"c:\\users\\xiao pengfei\\appdata\\local\\programs\\python\\python37\\lib\\site-packages\\IPython\\core\\interactiveshell.py\", line 2848, in run_cell\n",
      "    raw_cell, store_history, silent, shell_futures)\n",
      "  File \"c:\\users\\xiao pengfei\\appdata\\local\\programs\\python\\python37\\lib\\site-packages\\IPython\\core\\interactiveshell.py\", line 2874, in _run_cell\n",
      "    return runner(coro)\n",
      "  File \"c:\\users\\xiao pengfei\\appdata\\local\\programs\\python\\python37\\lib\\site-packages\\IPython\\core\\async_helpers.py\", line 67, in _pseudo_sync_runner\n",
      "    coro.send(None)\n",
      "  File \"c:\\users\\xiao pengfei\\appdata\\local\\programs\\python\\python37\\lib\\site-packages\\IPython\\core\\interactiveshell.py\", line 3049, in run_cell_async\n",
      "    interactivity=interactivity, compiler=compiler, result=result)\n",
      "  File \"c:\\users\\xiao pengfei\\appdata\\local\\programs\\python\\python37\\lib\\site-packages\\IPython\\core\\interactiveshell.py\", line 3214, in run_ast_nodes\n",
      "    if (yield from self.run_code(code, result)):\n",
      "  File \"c:\\users\\xiao pengfei\\appdata\\local\\programs\\python\\python37\\lib\\site-packages\\IPython\\core\\interactiveshell.py\", line 3296, in run_code\n",
      "    exec(code_obj, self.user_global_ns, self.user_ns)\n",
      "  File \"<ipython-input-16-09be3bd87446>\", line 33, in <module>\n",
      "    logger1.warning('出错了')\n",
      "Message: '出错了'\n",
      "Arguments: ()\n",
      "2019-11-18 20:36:26,060 - 问题很严重\n",
      "--- Logging error ---\n",
      "Traceback (most recent call last):\n",
      "  File \"c:\\users\\xiao pengfei\\appdata\\local\\programs\\python\\python37\\lib\\logging\\__init__.py\", line 983, in emit\n",
      "    msg = self.format(record)\n",
      "  File \"c:\\users\\xiao pengfei\\appdata\\local\\programs\\python\\python37\\lib\\logging\\__init__.py\", line 829, in format\n",
      "    return fmt.format(record)\n",
      "  File \"c:\\users\\xiao pengfei\\appdata\\local\\programs\\python\\python37\\lib\\logging\\__init__.py\", line 572, in format\n",
      "    s = self.formatMessage(record)\n",
      "  File \"c:\\users\\xiao pengfei\\appdata\\local\\programs\\python\\python37\\lib\\logging\\__init__.py\", line 541, in formatMessage\n",
      "    return self._style.format(record)\n",
      "  File \"c:\\users\\xiao pengfei\\appdata\\local\\programs\\python\\python37\\lib\\logging\\__init__.py\", line 384, in format\n",
      "    return self._fmt % record.__dict__\n",
      "TypeError: not enough arguments for format string\n",
      "Call stack:\n",
      "  File \"c:\\users\\xiao pengfei\\appdata\\local\\programs\\python\\python37\\lib\\runpy.py\", line 193, in _run_module_as_main\n",
      "    \"__main__\", mod_spec)\n",
      "  File \"c:\\users\\xiao pengfei\\appdata\\local\\programs\\python\\python37\\lib\\runpy.py\", line 85, in _run_code\n",
      "    exec(code, run_globals)\n",
      "  File \"c:\\users\\xiao pengfei\\appdata\\local\\programs\\python\\python37\\lib\\site-packages\\ipykernel_launcher.py\", line 16, in <module>\n",
      "    app.launch_new_instance()\n",
      "  File \"c:\\users\\xiao pengfei\\appdata\\local\\programs\\python\\python37\\lib\\site-packages\\traitlets\\config\\application.py\", line 658, in launch_instance\n",
      "    app.start()\n",
      "  File \"c:\\users\\xiao pengfei\\appdata\\local\\programs\\python\\python37\\lib\\site-packages\\ipykernel\\kernelapp.py\", line 505, in start\n",
      "    self.io_loop.start()\n",
      "  File \"c:\\users\\xiao pengfei\\appdata\\local\\programs\\python\\python37\\lib\\site-packages\\tornado\\platform\\asyncio.py\", line 148, in start\n",
      "    self.asyncio_loop.run_forever()\n",
      "  File \"c:\\users\\xiao pengfei\\appdata\\local\\programs\\python\\python37\\lib\\asyncio\\base_events.py\", line 523, in run_forever\n",
      "    self._run_once()\n",
      "  File \"c:\\users\\xiao pengfei\\appdata\\local\\programs\\python\\python37\\lib\\asyncio\\base_events.py\", line 1758, in _run_once\n",
      "    handle._run()\n",
      "  File \"c:\\users\\xiao pengfei\\appdata\\local\\programs\\python\\python37\\lib\\asyncio\\events.py\", line 88, in _run\n",
      "    self._context.run(self._callback, *self._args)\n",
      "  File \"c:\\users\\xiao pengfei\\appdata\\local\\programs\\python\\python37\\lib\\site-packages\\tornado\\ioloop.py\", line 690, in <lambda>\n",
      "    lambda f: self._run_callback(functools.partial(callback, future))\n",
      "  File \"c:\\users\\xiao pengfei\\appdata\\local\\programs\\python\\python37\\lib\\site-packages\\tornado\\ioloop.py\", line 743, in _run_callback\n",
      "    ret = callback()\n",
      "  File \"c:\\users\\xiao pengfei\\appdata\\local\\programs\\python\\python37\\lib\\site-packages\\tornado\\gen.py\", line 781, in inner\n",
      "    self.run()\n",
      "  File \"c:\\users\\xiao pengfei\\appdata\\local\\programs\\python\\python37\\lib\\site-packages\\tornado\\gen.py\", line 742, in run\n",
      "    yielded = self.gen.send(value)\n",
      "  File \"c:\\users\\xiao pengfei\\appdata\\local\\programs\\python\\python37\\lib\\site-packages\\ipykernel\\kernelbase.py\", line 365, in process_one\n",
      "    yield gen.maybe_future(dispatch(*args))\n",
      "  File \"c:\\users\\xiao pengfei\\appdata\\local\\programs\\python\\python37\\lib\\site-packages\\tornado\\gen.py\", line 209, in wrapper\n",
      "    yielded = next(result)\n",
      "  File \"c:\\users\\xiao pengfei\\appdata\\local\\programs\\python\\python37\\lib\\site-packages\\ipykernel\\kernelbase.py\", line 272, in dispatch_shell\n",
      "    yield gen.maybe_future(handler(stream, idents, msg))\n",
      "  File \"c:\\users\\xiao pengfei\\appdata\\local\\programs\\python\\python37\\lib\\site-packages\\tornado\\gen.py\", line 209, in wrapper\n",
      "    yielded = next(result)\n",
      "  File \"c:\\users\\xiao pengfei\\appdata\\local\\programs\\python\\python37\\lib\\site-packages\\ipykernel\\kernelbase.py\", line 542, in execute_request\n",
      "    user_expressions, allow_stdin,\n",
      "  File \"c:\\users\\xiao pengfei\\appdata\\local\\programs\\python\\python37\\lib\\site-packages\\tornado\\gen.py\", line 209, in wrapper\n",
      "    yielded = next(result)\n",
      "  File \"c:\\users\\xiao pengfei\\appdata\\local\\programs\\python\\python37\\lib\\site-packages\\ipykernel\\ipkernel.py\", line 294, in do_execute\n",
      "    res = shell.run_cell(code, store_history=store_history, silent=silent)\n",
      "  File \"c:\\users\\xiao pengfei\\appdata\\local\\programs\\python\\python37\\lib\\site-packages\\ipykernel\\zmqshell.py\", line 536, in run_cell\n",
      "    return super(ZMQInteractiveShell, self).run_cell(*args, **kwargs)\n",
      "  File \"c:\\users\\xiao pengfei\\appdata\\local\\programs\\python\\python37\\lib\\site-packages\\IPython\\core\\interactiveshell.py\", line 2848, in run_cell\n",
      "    raw_cell, store_history, silent, shell_futures)\n",
      "  File \"c:\\users\\xiao pengfei\\appdata\\local\\programs\\python\\python37\\lib\\site-packages\\IPython\\core\\interactiveshell.py\", line 2874, in _run_cell\n",
      "    return runner(coro)\n",
      "  File \"c:\\users\\xiao pengfei\\appdata\\local\\programs\\python\\python37\\lib\\site-packages\\IPython\\core\\async_helpers.py\", line 67, in _pseudo_sync_runner\n",
      "    coro.send(None)\n",
      "  File \"c:\\users\\xiao pengfei\\appdata\\local\\programs\\python\\python37\\lib\\site-packages\\IPython\\core\\interactiveshell.py\", line 3049, in run_cell_async\n",
      "    interactivity=interactivity, compiler=compiler, result=result)\n",
      "  File \"c:\\users\\xiao pengfei\\appdata\\local\\programs\\python\\python37\\lib\\site-packages\\IPython\\core\\interactiveshell.py\", line 3220, in run_ast_nodes\n",
      "    if (yield from self.run_code(code, result)):\n",
      "  File \"c:\\users\\xiao pengfei\\appdata\\local\\programs\\python\\python37\\lib\\site-packages\\IPython\\core\\interactiveshell.py\", line 3296, in run_code\n",
      "    exec(code_obj, self.user_global_ns, self.user_ns)\n",
      "  File \"<ipython-input-16-09be3bd87446>\", line 34, in <module>\n",
      "    logger1.critical('问题很严重')\n",
      "Message: '问题很严重'\n",
      "Arguments: ()\n"
     ]
    }
   ],
   "source": [
    "# logging模块的四种对象\n",
    "# 1 logger:负责产生日志\n",
    "logger1 = logging.getLogger('xxx')\n",
    "# 2 filter：过滤日志（不常用）\n",
    "# 3 handler：控制日志打印到文件or终端\n",
    "fh1 = logging.FileHandler(filename='a1.log', encoding='utf-8')\n",
    "fh2 = logging.FileHandler(filename='a2.log', encoding='utf-8')\n",
    "sh = logging.StreamHandler()\n",
    "# 4 formatter：控制日志的格式\n",
    "formatter1 = logging.Formatter(\n",
    "    fmt='%(asctime)s - %(name)s - %(levelname)s -%(module)s: %(message)s',\n",
    "    datefmt='%Y-%m-%d %H:%M:%S %p',\n",
    ")\n",
    "formatter2 = logging.Formatter(fmt='%(asctime)s - %(message)s', )\n",
    "# 为logger1对象绑定handler\n",
    "logger1.addHandler(fh1)\n",
    "logger1.addHandler(fh2)\n",
    "logger1.addHandler(sh)\n",
    "# 为handler对象绑定日志格式\n",
    "fh1.setFormatter(formatter1)\n",
    "fh2.setFormatter(formatter1)\n",
    "sh.setFormatter(formatter2)\n",
    "# 日志级别: 两层关卡，必须都通过，日志才能正常记录\n",
    "# logger1.setLevel(10)\n",
    "# logger1.setLevel(20)\n",
    "logger1.setLevel(30)\n",
    "fh1.setLevel(10)\n",
    "fh2.setLevel(10)\n",
    "sh.setLevel(10)\n",
    "# 调用logger1对象下的方法，产生日志，然后交给不同的handler，控制日志记录到不同的地方\n",
    "logger1.debug('调试信息')\n",
    "logger1.info('使用中')\n",
    "logger1.warning('出错了')\n",
    "logger1.critical('问题很严重')"
   ]
  },
  {
   "cell_type": "markdown",
   "metadata": {},
   "source": [
    "#### 5. json与pickle"
   ]
  },
  {
   "cell_type": "code",
   "execution_count": 18,
   "metadata": {},
   "outputs": [
    {
     "name": "stdout",
     "output_type": "stream",
     "text": [
      "Albert\n",
      "18\n"
     ]
    }
   ],
   "source": [
    "# json序列化\n",
    "import json\n",
    "dic = {'name': 'Albert', 'age': 18}\n",
    "with open('db1.json', 'wt', encoding='utf-8') as f:\n",
    "    json.dump(dic, f) # 写入\n",
    "    \n",
    "# 反序列化\n",
    "with open('db1.json', 'rt', encoding='utf-8') as f:\n",
    "    dic = json.load(f) # 读取\n",
    "    print(dic['name'])\n",
    "    print(dic['age'])"
   ]
  },
  {
   "cell_type": "code",
   "execution_count": 20,
   "metadata": {},
   "outputs": [
    {
     "name": "stdout",
     "output_type": "stream",
     "text": [
      "b'\\x80\\x03cbuiltins\\nset\\nq\\x00]q\\x01(K\\x01K\\x02K\\x03K\\x04e\\x85q\\x02Rq\\x03.' <class 'bytes'>\n",
      "{1, 2, 3, 4} <class 'set'>\n"
     ]
    }
   ],
   "source": [
    "# pickle序列化\n",
    "import pickle\n",
    "s = {1, 2, 3, 4, }\n",
    "res = pickle.dumps(s)\n",
    "print(res, type(res))\n",
    "with open('db.pkl', 'wb') as f: # 二进制模式\n",
    "    f.write(res)\n",
    "    \n",
    "# 反序列化\n",
    "with open('db.pkl', 'rb') as f:\n",
    "    data = f.read()\n",
    "    s = pickle.loads(data)\n",
    "    print(s, type(s))"
   ]
  },
  {
   "cell_type": "code",
   "execution_count": 21,
   "metadata": {},
   "outputs": [
    {
     "name": "stdout",
     "output_type": "stream",
     "text": [
      "{1, 2, 3} <class 'set'>\n"
     ]
    }
   ],
   "source": [
    "s = {1, 2, 3}\n",
    "with open('db1.pkl', 'wb') as f:\n",
    "    pickle.dump(s, f)\n",
    "with open('db1.pkl', 'rb') as f:\n",
    "    s = pickle.load(f)\n",
    "    print(s, type(s))"
   ]
  },
  {
   "cell_type": "markdown",
   "metadata": {},
   "source": [
    "#### 6. os模块"
   ]
  },
  {
   "cell_type": "code",
   "execution_count": 24,
   "metadata": {},
   "outputs": [
    {
     "name": "stdout",
     "output_type": "stream",
     "text": [
      "C:\\Users\\Xiao Pengfei\\PycharmProjects\\python_adv_path\\step2\n",
      "['.ipynb_checkpoints', '10-模块对象.ipynb', '10-模块对象.pdf', '6-函数概述.ipynb', '6-函数概述.pdf', '7-闭包函数.ipynb', '7-闭包函数.pdf', '8-迭代器生成器.ipynb', '8-迭代器生成器.pdf', '9-合并表达.ipynb', '9-合并表达.pdf', 'a', 'a.txt', 'a1.log', 'a2.log', 'access.log', 'db.pkl', 'db1.json', 'db1.pkl', 'images', 'spam.py', 'spam1.py', '__pycache__']\n",
      "\\\n",
      "['\\r\\n']\n",
      ";\n",
      "0\n"
     ]
    }
   ],
   "source": [
    "import os\n",
    "res = os.getcwd()\n",
    "print(res)\n",
    "res = os.listdir('.')\n",
    "print(res)\n",
    "print(os.sep)\n",
    "print([os.linesep, ])\n",
    "print(os.pathsep)\n",
    "print(os.system('dir')) # 执行系统命令‘ls’(MacOS系统)，Windows用‘dir’命令"
   ]
  },
  {
   "cell_type": "code",
   "execution_count": 25,
   "metadata": {},
   "outputs": [
    {
     "name": "stdout",
     "output_type": "stream",
     "text": [
      "C:\\Users\\Xiao Pengfei\\PycharmProjects\\python_adv_path\\step2\\a\\b\\c\\d.txt\n",
      "d.txt\n",
      "a/b/c\n",
      "False\n",
      "True\n"
     ]
    },
    {
     "ename": "NameError",
     "evalue": "name '__file__' is not defined",
     "output_type": "error",
     "traceback": [
      "\u001b[1;31m---------------------------------------------------------------------------\u001b[0m",
      "\u001b[1;31mNameError\u001b[0m                                 Traceback (most recent call last)",
      "\u001b[1;32m<ipython-input-25-cd1a217b16a7>\u001b[0m in \u001b[0;36m<module>\u001b[1;34m\u001b[0m\n\u001b[0;32m      7\u001b[0m \u001b[0mprint\u001b[0m\u001b[1;33m(\u001b[0m\u001b[0mos\u001b[0m\u001b[1;33m.\u001b[0m\u001b[0mpath\u001b[0m\u001b[1;33m.\u001b[0m\u001b[0misabs\u001b[0m\u001b[1;33m(\u001b[0m\u001b[1;34mr'b/c/d.txt'\u001b[0m\u001b[1;33m)\u001b[0m\u001b[1;33m)\u001b[0m\u001b[1;33m\u001b[0m\u001b[0m\n\u001b[0;32m      8\u001b[0m \u001b[0mprint\u001b[0m\u001b[1;33m(\u001b[0m\u001b[0mos\u001b[0m\u001b[1;33m.\u001b[0m\u001b[0mpath\u001b[0m\u001b[1;33m.\u001b[0m\u001b[0misabs\u001b[0m\u001b[1;33m(\u001b[0m\u001b[1;34mr'/Users/albert/Desktop/函数/05模块对象.py'\u001b[0m\u001b[1;33m)\u001b[0m\u001b[1;33m)\u001b[0m\u001b[1;33m\u001b[0m\u001b[0m\n\u001b[1;32m----> 9\u001b[1;33m \u001b[0mBASE_DIR\u001b[0m \u001b[1;33m=\u001b[0m \u001b[0mos\u001b[0m\u001b[1;33m.\u001b[0m\u001b[0mpath\u001b[0m\u001b[1;33m.\u001b[0m\u001b[0mdirname\u001b[0m\u001b[1;33m(\u001b[0m\u001b[0mos\u001b[0m\u001b[1;33m.\u001b[0m\u001b[0mpath\u001b[0m\u001b[1;33m.\u001b[0m\u001b[0mdirname\u001b[0m\u001b[1;33m(\u001b[0m\u001b[0m__file__\u001b[0m\u001b[1;33m)\u001b[0m\u001b[1;33m)\u001b[0m\u001b[1;33m\u001b[0m\u001b[0m\n\u001b[0m\u001b[0;32m     10\u001b[0m \u001b[0mDB_PATH\u001b[0m \u001b[1;33m=\u001b[0m \u001b[1;34mr'%s\\db\\db.txt'\u001b[0m \u001b[1;33m%\u001b[0m \u001b[0mBASE_DIR\u001b[0m\u001b[1;33m\u001b[0m\u001b[0m\n\u001b[0;32m     11\u001b[0m \u001b[0mprint\u001b[0m\u001b[1;33m(\u001b[0m\u001b[0mBASE_DIR\u001b[0m\u001b[1;33m)\u001b[0m\u001b[1;33m\u001b[0m\u001b[0m\n",
      "\u001b[1;31mNameError\u001b[0m: name '__file__' is not defined"
     ]
    }
   ],
   "source": [
    "# os.path系列\n",
    "file_path = r'a/b/c/d.txt'\n",
    "print(os.path.abspath(file_path))\n",
    "res = os.path.split(r'a/b/c/d.txt')\n",
    "print(res[-1])\n",
    "print(res[0])\n",
    "print(os.path.isabs(r'b/c/d.txt'))\n",
    "print(os.path.isabs(r'/Users/albert/Desktop/函数/05模块对象.py'))\n",
    "BASE_DIR = os.path.dirname(os.path.dirname(__file__))\n",
    "DB_PATH = r'%s\\db\\db.txt' % BASE_DIR\n",
    "print(BASE_DIR)\n",
    "print(DB_PATH)"
   ]
  },
  {
   "cell_type": "code",
   "execution_count": 27,
   "metadata": {},
   "outputs": [
    {
     "name": "stdout",
     "output_type": "stream",
     "text": [
      "False\n",
      "False\n",
      "False\n",
      "False\n",
      "C:\\a\\b\\a.txt\n",
      "D:\\b\\a.txt\n",
      "a\\b\\a.txt\n",
      "175005\n"
     ]
    }
   ],
   "source": [
    "# 优先掌握\n",
    "# 判断文件时候存在\n",
    "print(os.path.exists(r'/Users/albert/Desktop/函数/05模块对象.py'))\n",
    "print(os.path.exists(r'/Users/Desktop/函数/05模块对象.py'))\n",
    "print(os.path.isfile(r'/Users/albert/Desktop/函数/05模块对象.py'))\n",
    "\n",
    "# 判断文件夹是否存在\n",
    "print(os.path.isdir(r'/Users/albert/Desktop/函数/x'))\n",
    "print(os.path.join('C:\\\\', 'a', 'b', 'a.txt'))\n",
    "print(os.path.join('C:\\\\', 'a', 'D:\\\\', 'b', 'a.txt'))\n",
    "print(os.path.join('a', 'b', 'a.txt'))\n",
    "\n",
    "# 得到文件大小\n",
    "res = os.path.getsize(r'C:\\Users\\Xiao Pengfei\\PycharmProjects\\python_adv_path\\step2\\10-模块对象.ipynb') # 单位是字节\n",
    "print(res)"
   ]
  },
  {
   "cell_type": "markdown",
   "metadata": {},
   "source": [
    "#### 7. shelve模块"
   ]
  },
  {
   "cell_type": "code",
   "execution_count": 28,
   "metadata": {},
   "outputs": [
    {
     "name": "stdout",
     "output_type": "stream",
     "text": [
      "{'age': 18, 'height': 180, 'weight': 80}\n",
      "{'age': 34, 'height': 203, 'weight': 113}\n"
     ]
    }
   ],
   "source": [
    "import shelve\n",
    "info1 = {'age': 18, 'height': 180, 'weight': 80}\n",
    "info2 = {'age': 34, 'height': 203, 'weight': 113}\n",
    "d = shelve.open('db.shv')\n",
    "d['Albert'] = info1\n",
    "d['James'] = info2\n",
    "d.close()\n",
    "d = shelve.open('db.shv')\n",
    "print(d['Albert'])\n",
    "print(d['James'])\n",
    "d.close()"
   ]
  },
  {
   "cell_type": "markdown",
   "metadata": {},
   "source": [
    "#### 8. re模块(正则表达式)\n",
    "\n",
    "正则就是⽤⼀些具有特殊含义的符号组合到⼀起（称为正则表达式）来描述字符或者字符串的⽅，或者说：正则就是⽤来描述⼀类事物的规则。它内嵌在Python中，并通过`re`模块实现。正则表达式模式被编译成⼀系列的字节码，然后由⽤C编写的匹配引擎执⾏。"
   ]
  },
  {
   "cell_type": "code",
   "execution_count": 29,
   "metadata": {},
   "outputs": [
    {
     "name": "stdout",
     "output_type": "stream",
     "text": [
      "['a', 'b', '1', '2', '_']\n",
      "[' ', '\\\\', '+', '-', ' ', '*', '&']\n",
      "[' ', '\\r', '\\n', '\\t', ' ']\n",
      "['a', 'b', '1', '2', '\\\\', '+', '-', '*', '&', '_']\n",
      "['1', '2']\n",
      "['a', 'b', ' ', '\\r', '\\n', '\\t', '\\\\', '+', '-', ' ', '*', '&', '_']\n",
      "['s_nb', 'y_nb', 'n_nb']\n",
      "[]\n",
      "['albert']\n",
      "['albert']\n",
      "['nba']\n",
      "['albert']\n",
      "['a\\nc']\n"
     ]
    }
   ],
   "source": [
    "import re\n",
    "# 基本使用\n",
    "print(re.findall('\\w', 'ab 12\\+- *&_')) # 匹配字母数字和下划线\n",
    "print(re.findall('\\W', 'ab 12\\+- *&_')) # 匹配非字母数字下划线\n",
    "print(re.findall('\\s', 'ab \\r1\\n2\\t\\+- *&_')) # 匹配任意空白字符\n",
    "print(re.findall('\\S', 'ab \\r1\\n2\\t\\+- *&_')) # 匹配任意非空字符\n",
    "print(re.findall('\\d', 'ab \\r1\\n2\\t\\+- *&_')) # 匹配任意数字\n",
    "print(re.findall('\\D', 'ab \\r1\\n2\\t\\+- *&_')) # 匹配任意非数字\n",
    "print(re.findall('\\w_nb', 'albert james_nb123123curry_nb,harden_nb'))\n",
    "print(re.findall('\\Aalbert', 'abcalbertx is nb')) # 匹配不到\n",
    "print(re.findall('\\Aalbert', 'albert is nb')) # 匹配字符串开始\n",
    "print(re.findall('^albert', 'albert is nalbertb')) # 匹配albert开头的字符串\n",
    "print(re.findall('nba$', 'albertnba is super nba alertanba')) # 匹配nba结尾\n",
    "print(re.findall('^albert$', 'albert')) # 以albert并以albert结尾\n",
    "print(re.findall('a\\nc', 'a\\nc a\\tc a1c')) # 匹配一个换行符"
   ]
  },
  {
   "cell_type": "code",
   "execution_count": 31,
   "metadata": {},
   "outputs": [
    {
     "name": "stdout",
     "output_type": "stream",
     "text": [
      "['abc', 'a1c', 'aAc', 'aac']\n",
      "['abc', 'a1c', 'aAc', 'aac', 'a\\nc']\n",
      "['a', 'ab', 'abb', 'abbb', 'abbbb', 'abbbb', 'a']\n",
      "['ab', 'abb', 'abbb', 'abbbb', 'abbbb']\n",
      "['a', 'ab', 'ab', 'ab', 'ab', 'ab']\n",
      "['a', 'ab', 'ab', 'ab', 'ab', 'ab']\n",
      "['a', 'ab', 'abb', 'abbb', 'abbbb', 'abbbb', 'a']\n",
      "['a', 'ab', 'abb', 'abbb', 'abbbb', 'abbbb', 'a']\n",
      "['ab', 'abb', 'abbb', 'abbbb', 'abbbb']\n",
      "['ab', 'abb', 'abbb', 'abbbb', 'abbbb']\n",
      "['ab', 'abb', 'abbb', 'abbb', 'abbb']\n"
     ]
    }
   ],
   "source": [
    "# 重复匹配：\n",
    "# . ? * + {m,n} .* .*?\n",
    "# 1 .:代表除了换行符外的任意一个字符\n",
    "print(re.findall('a.c', 'abc a1c aAc aaaaaca\\nc'))\n",
    "print(re.findall('a.c', 'abc a1c aAc aaaaaca\\nc', re.DOTALL))\n",
    "# 2 ？：代表左边那一个字符重复0次或1次\n",
    "# print(re.findall('ab?','a ab abb abbb abbbb abbbb'))\n",
    "# 3 *：代表左边那一个字符出现0次或无穷次\n",
    "print(re.findall('ab*', 'a ab abb abbb abbbb abbbb a1bbbbbbb'))\n",
    "# 4 + ：代表左边那一个字符出现1次或无穷次\n",
    "print(re.findall('ab+', 'a ab abb abbb abbbb abbbb a1bbbbbbb'))\n",
    "# 5、{m,n}:代表左边那一个字符出现m次到n次\n",
    "print(re.findall('ab?', 'a ab abb abbb abbbb abbbb'))\n",
    "print(re.findall('ab{0,1}', 'a ab abb abbb abbbb abbbb'))\n",
    "print(re.findall('ab*', 'a ab abb abbb abbbb abbbb a1bbbbbbb'))\n",
    "print(re.findall('ab{0,}', 'a ab abb abbb abbbb abbbb a1bbbbbbb'))\n",
    "print(re.findall('ab+', 'a ab abb abbb abbbb abbbb a1bbbbbbb'))\n",
    "print(re.findall('ab{1,}', 'a ab abb abbb abbbb abbbb a1bbbbbbb'))\n",
    "print(re.findall('ab{1,3}', 'a ab abb abbb abbbb abbbb a1bbbbbbb'))"
   ]
  },
  {
   "cell_type": "code",
   "execution_count": 32,
   "metadata": {},
   "outputs": [
    {
     "name": "stdout",
     "output_type": "stream",
     "text": [
      "['ac a123c aaaac a *123)()c']\n",
      "['a123c']\n",
      "[]\n",
      "['albert']\n",
      "albert\n",
      "None\n"
     ]
    }
   ],
   "source": [
    "# 6 贪婪匹配：.*：匹配任意⻓度，任意的字符\n",
    "print(re.findall('a.*c', 'ac a123c aaaac a *123)()c asdfasfdsadf'))\n",
    "# 7 非贪婪匹配：.*？\n",
    "print(re.findall('a.*?c', 'a123c456c'))\n",
    "# 8 其他方法：\n",
    "print(re.findall('\\Aalbert', '123albert say........'))\n",
    "print(re.findall('^albert', 'albert say........'))\n",
    "print(re.search('albert', '123albert say........').group()) # 整个字符串中查找\n",
    "print(re.match('albert', '123albert say........')) # 从开头找"
   ]
  },
  {
   "cell_type": "markdown",
   "metadata": {},
   "source": [
    "#### 9. hashlib模块\n",
    "\n",
    "哈希是⼀种算法，该算法接受传⼊的内容，经过运算得到⼀串hash值。hash值的特点有三个：\n",
    "1. 只要传⼊的内容⼀样，得到的hash值必然⼀样=====>⽂件完整性校验\n",
    "2. 不能由hash值返解成内容，把密码做成hash值，不应该在⽹络传输明⽂密码\n",
    "3. 只要使⽤的hash算法不变，⽆论校验的内容有多⼤，得到的hash值⻓度是固定的"
   ]
  },
  {
   "cell_type": "code",
   "execution_count": 33,
   "metadata": {},
   "outputs": [
    {
     "name": "stdout",
     "output_type": "stream",
     "text": [
      "字符串md5值： 9b904c5a3b6b865bf0ac9413887c375b\n"
     ]
    }
   ],
   "source": [
    "import hashlib\n",
    "# 1 字符串加密\n",
    "m = hashlib.md5() # md5是加密算法的一种\n",
    "# m = hashlib.sha256()\n",
    "# m = hashlib.sha512()\n",
    "m.update('hello'.encode('utf-8'))\n",
    "m.update('world'.encode('utf-8'))\n",
    "m.update('Albert'.encode('utf-8'))\n",
    "print('字符串md5值：', m.hexdigest()) # 9b904c5a3b6b865bf0ac9413887c375b"
   ]
  },
  {
   "cell_type": "code",
   "execution_count": 35,
   "metadata": {},
   "outputs": [
    {
     "ename": "FileNotFoundError",
     "evalue": "[Errno 2] No such file or directory: '/Users/albert/Desktop/函数/05模块对象.py'",
     "output_type": "error",
     "traceback": [
      "\u001b[1;31m---------------------------------------------------------------------------\u001b[0m",
      "\u001b[1;31mFileNotFoundError\u001b[0m                         Traceback (most recent call last)",
      "\u001b[1;32m<ipython-input-35-f5fed47362e4>\u001b[0m in \u001b[0;36m<module>\u001b[1;34m\u001b[0m\n\u001b[0;32m      1\u001b[0m \u001b[1;31m# 2 文件md5值效验\u001b[0m\u001b[1;33m\u001b[0m\u001b[1;33m\u001b[0m\u001b[0m\n\u001b[0;32m      2\u001b[0m \u001b[0mm\u001b[0m \u001b[1;33m=\u001b[0m \u001b[0mhashlib\u001b[0m\u001b[1;33m.\u001b[0m\u001b[0mmd5\u001b[0m\u001b[1;33m(\u001b[0m\u001b[1;33m)\u001b[0m\u001b[1;33m\u001b[0m\u001b[0m\n\u001b[1;32m----> 3\u001b[1;33m \u001b[1;32mwith\u001b[0m \u001b[0mopen\u001b[0m\u001b[1;33m(\u001b[0m\u001b[1;34mr'/Users/albert/Desktop/函数/05模块对象.py'\u001b[0m\u001b[1;33m,\u001b[0m \u001b[1;34m'rb'\u001b[0m\u001b[1;33m)\u001b[0m \u001b[1;32mas\u001b[0m \u001b[0mf\u001b[0m\u001b[1;33m:\u001b[0m\u001b[1;33m\u001b[0m\u001b[0m\n\u001b[0m\u001b[0;32m      4\u001b[0m     \u001b[1;32mfor\u001b[0m \u001b[0mline\u001b[0m \u001b[1;32min\u001b[0m \u001b[0mf\u001b[0m\u001b[1;33m:\u001b[0m\u001b[1;33m\u001b[0m\u001b[0m\n\u001b[0;32m      5\u001b[0m         \u001b[0mm\u001b[0m\u001b[1;33m.\u001b[0m\u001b[0mupdate\u001b[0m\u001b[1;33m(\u001b[0m\u001b[0mline\u001b[0m\u001b[1;33m)\u001b[0m\u001b[1;33m\u001b[0m\u001b[0m\n",
      "\u001b[1;31mFileNotFoundError\u001b[0m: [Errno 2] No such file or directory: '/Users/albert/Desktop/函数/05模块对象.py'"
     ]
    }
   ],
   "source": [
    "# 2 文件md5值效验\n",
    "m = hashlib.md5()\n",
    "with open(r'/Users/albert/Desktop/函数/05模块对象.py', 'rb') as f:\n",
    "    for line in f:\n",
    "        m.update(line)\n",
    "    file_md5 = m.hexdigest()\n",
    "print('文件md5值：', file_md5)"
   ]
  },
  {
   "cell_type": "code",
   "execution_count": 36,
   "metadata": {},
   "outputs": [
    {
     "name": "stdout",
     "output_type": "stream",
     "text": [
      "密码md5值： ac5d5a21cac5ca06247e13969f18bc31\n"
     ]
    }
   ],
   "source": [
    "# 3 密码加盐\n",
    "import hashlib\n",
    "pwd = 'albert123'\n",
    "m = hashlib.md5()\n",
    "m.update('天王盖地虎'.encode('utf-8'))\n",
    "m.update(pwd.encode('utf-8'))\n",
    "m.update('宝塔炖蘑菇'.encode('utf-8'))\n",
    "print('密码md5值：', m.hexdigest())"
   ]
  },
  {
   "cell_type": "markdown",
   "metadata": {},
   "source": [
    "#### 10. subprocess模块"
   ]
  },
  {
   "cell_type": "code",
   "execution_count": 38,
   "metadata": {},
   "outputs": [
    {
     "name": "stdout",
     "output_type": "stream",
     "text": [
      ">>:dir\n",
      "<subprocess.Popen object at 0x000002B297DA1400>\n"
     ]
    },
    {
     "ename": "UnicodeDecodeError",
     "evalue": "'utf-8' codec can't decode byte 0xbf in position 334: invalid start byte",
     "output_type": "error",
     "traceback": [
      "\u001b[1;31m---------------------------------------------------------------------------\u001b[0m",
      "\u001b[1;31mUnicodeDecodeError\u001b[0m                        Traceback (most recent call last)",
      "\u001b[1;32m<ipython-input-38-2533c2222969>\u001b[0m in \u001b[0;36m<module>\u001b[1;34m\u001b[0m\n\u001b[0;32m      9\u001b[0m \u001b[0mprint\u001b[0m\u001b[1;33m(\u001b[0m\u001b[0mobj\u001b[0m\u001b[1;33m)\u001b[0m\u001b[1;33m\u001b[0m\u001b[0m\n\u001b[0;32m     10\u001b[0m \u001b[0mres1\u001b[0m \u001b[1;33m=\u001b[0m \u001b[0mobj\u001b[0m\u001b[1;33m.\u001b[0m\u001b[0mstdout\u001b[0m\u001b[1;33m.\u001b[0m\u001b[0mread\u001b[0m\u001b[1;33m(\u001b[0m\u001b[1;33m)\u001b[0m \u001b[1;31m# 输出正确结果\u001b[0m\u001b[1;33m\u001b[0m\u001b[0m\n\u001b[1;32m---> 11\u001b[1;33m \u001b[0mprint\u001b[0m\u001b[1;33m(\u001b[0m\u001b[1;34m'正确结果: '\u001b[0m\u001b[1;33m,\u001b[0m \u001b[0mres1\u001b[0m\u001b[1;33m.\u001b[0m\u001b[0mdecode\u001b[0m\u001b[1;33m(\u001b[0m\u001b[1;34m'utf-8'\u001b[0m\u001b[1;33m)\u001b[0m\u001b[1;33m)\u001b[0m\u001b[1;33m\u001b[0m\u001b[0m\n\u001b[0m\u001b[0;32m     12\u001b[0m \u001b[0mres2\u001b[0m \u001b[1;33m=\u001b[0m \u001b[0mobj\u001b[0m\u001b[1;33m.\u001b[0m\u001b[0mstderr\u001b[0m\u001b[1;33m.\u001b[0m\u001b[0mread\u001b[0m\u001b[1;33m(\u001b[0m\u001b[1;33m)\u001b[0m \u001b[1;31m# 输出错误结果\u001b[0m\u001b[1;33m\u001b[0m\u001b[0m\n\u001b[0;32m     13\u001b[0m \u001b[0mprint\u001b[0m\u001b[1;33m(\u001b[0m\u001b[1;34m'错误结果：'\u001b[0m\u001b[1;33m,\u001b[0m \u001b[0mres2\u001b[0m\u001b[1;33m.\u001b[0m\u001b[0mdecode\u001b[0m\u001b[1;33m(\u001b[0m\u001b[1;34m'utf-8'\u001b[0m\u001b[1;33m)\u001b[0m\u001b[1;33m)\u001b[0m\u001b[1;33m\u001b[0m\u001b[0m\n",
      "\u001b[1;31mUnicodeDecodeError\u001b[0m: 'utf-8' codec can't decode byte 0xbf in position 334: invalid start byte"
     ]
    }
   ],
   "source": [
    "import subprocess\n",
    "# subprocess用于在程序中执行系统命令\n",
    "cmd = input('>>:').strip() # MacOS系统用ls测试，Windows系统用dir测试\n",
    "obj = subprocess.Popen(cmd,\n",
    "                        shell=True,\n",
    "                        stdout=subprocess.PIPE,\n",
    "                        stderr=subprocess.PIPE\n",
    "                        )\n",
    "print(obj)\n",
    "res1 = obj.stdout.read() # 输出正确结果\n",
    "print('正确结果: ', res1.decode('utf-8'))\n",
    "res2 = obj.stderr.read() # 输出错误结果\n",
    "print('错误结果：', res2.decode('utf-8'))"
   ]
  }
 ],
 "metadata": {
  "kernelspec": {
   "display_name": "Python 3",
   "language": "python",
   "name": "python3"
  },
  "language_info": {
   "codemirror_mode": {
    "name": "ipython",
    "version": 3
   },
   "file_extension": ".py",
   "mimetype": "text/x-python",
   "name": "python",
   "nbconvert_exporter": "python",
   "pygments_lexer": "ipython3",
   "version": "3.7.0"
  }
 },
 "nbformat": 4,
 "nbformat_minor": 2
}
