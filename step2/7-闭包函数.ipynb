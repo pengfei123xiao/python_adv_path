{
 "cells": [
  {
   "cell_type": "markdown",
   "metadata": {},
   "source": [
    "## 第七章闭包函数"
   ]
  },
  {
   "cell_type": "markdown",
   "metadata": {},
   "source": [
    "###  Ⅰ. 函数嵌套"
   ]
  },
  {
   "cell_type": "markdown",
   "metadata": {},
   "source": [
    "#### 2.函数的嵌套\n",
    "函数内⼜定义了其他函数。"
   ]
  },
  {
   "cell_type": "code",
   "execution_count": 11,
   "metadata": {},
   "outputs": [
    {
     "name": "stdout",
     "output_type": "stream",
     "text": [
      "from func1\n",
      "<function func1.<locals>.func2 at 0x00000227382287B8>\n",
      "from func2\n"
     ]
    }
   ],
   "source": [
    "\"\"\"Example 1\"\"\"\n",
    "def func1():\n",
    "    print('from func1')\n",
    "    def func2():\n",
    "        print('from func2')\n",
    "    print(func2)\n",
    "    func2()\n",
    "func1()\n",
    "# print(func2) # NameError: name 'func2' is not defined"
   ]
  },
  {
   "cell_type": "code",
   "execution_count": 12,
   "metadata": {},
   "outputs": [
    {
     "name": "stdout",
     "output_type": "stream",
     "text": [
      "f1\n",
      "f2\n",
      "f3\n"
     ]
    }
   ],
   "source": [
    "\"\"\"Example 2\"\"\"\n",
    "# 函数在定义阶段不执行函数体内的代码\n",
    "def f1():\n",
    "    print('f1')\n",
    "    def f2():\n",
    "        print('f2')\n",
    "        def f3():\n",
    "            print('f3')\n",
    "        f3()\n",
    "    f2()\n",
    "f1()"
   ]
  },
  {
   "cell_type": "markdown",
   "metadata": {},
   "source": [
    "### Ⅱ. 名称空间\n",
    "名称空间就是存放变量名与变量值的绑定关系的地⽅。\n",
    "\n",
    "名称空间分为三类：\n",
    "\n",
    "1. 内置名称空间：存放Python解释器⾃带的名字，在解释器启动时就⽣效，解释器关闭则失效。\n",
    "2. 全局名称空间：⽂件级别的名字,在执⾏⽂件的时候⽣效，在⽂件结束或者在⽂件执⾏期间被删除则失效。有些全局名称空间可能⼀眼看上去不像是全局名称空间，我们只需要记住，只要不是内置名称空间和局部名称空间，那么就是全局名称空间。\n",
    "3. 局部名称空间：存放函数内定义的名字(函数的参数以及函数内的名字都存放于局部名称空间)，在函数调⽤时临时⽣效，函数结束则失效。"
   ]
  },
  {
   "cell_type": "code",
   "execution_count": 13,
   "metadata": {},
   "outputs": [
    {
     "name": "stdout",
     "output_type": "stream",
     "text": [
      "<built-in function print>\n",
      "<built-in function len>\n"
     ]
    }
   ],
   "source": [
    "\"\"\"内置\"\"\"\n",
    "print(print)\n",
    "print(len)\n",
    "\n",
    "\"\"\"以下4个都是全局\"\"\"\n",
    "x = 1 # 全局\n",
    "def func(): # func是全局名称空间\n",
    "    name = 'Albert' # name是局部名称空间\n",
    "\n",
    "if 10 > 3:\n",
    "    y = 2 # 全局\n",
    "while True:\n",
    "    z = 5 # 全局\n",
    "    break\n",
    "\n",
    "\"\"\"局部\"\"\"\n",
    "def func1(x): # 实参1传给形参x就相当于在函数内被定义 x=1，故x为局部\n",
    "    # x = 1\n",
    "    y = 2 # 局部\n",
    "func1(1)"
   ]
  },
  {
   "cell_type": "markdown",
   "metadata": {},
   "source": [
    "- 加载顺序：内置名称空间->全局名称空间->局部名称空间\n",
    "- 查找顺序：局部名称空间->全局名称空间->内置名称空间 (查找顺序是以当前位置为起始点)"
   ]
  },
  {
   "cell_type": "code",
   "execution_count": 18,
   "metadata": {},
   "outputs": [
    {
     "name": "stdout",
     "output_type": "stream",
     "text": [
      "0\n"
     ]
    }
   ],
   "source": [
    "\"\"\"加载顺序很好理解，查找顺序是以当前位置为起始点\"\"\"\n",
    "def f1():\n",
    "    def f2():\n",
    "        print(len)\n",
    "    f2()\n",
    "f1()"
   ]
  },
  {
   "cell_type": "code",
   "execution_count": 20,
   "metadata": {},
   "outputs": [
    {
     "name": "stdout",
     "output_type": "stream",
     "text": [
      "0\n"
     ]
    }
   ],
   "source": [
    "len = 0 # 我们是为了测试，自己写代码千万不能覆盖内置名称空间\n",
    "def f1():\n",
    "    def f2():\n",
    "        print(len)\n",
    "    f2()\n",
    "f1()"
   ]
  },
  {
   "cell_type": "code",
   "execution_count": 22,
   "metadata": {},
   "outputs": [
    {
     "name": "stdout",
     "output_type": "stream",
     "text": [
      "1\n"
     ]
    }
   ],
   "source": [
    "len = 0 # 我们是为了测试，自己写代码千万不能覆盖内置名称空间\n",
    "def f1():\n",
    "    len = 1\n",
    "    def f2():\n",
    "        print(len)\n",
    "    f2()\n",
    "f1()"
   ]
  },
  {
   "cell_type": "code",
   "execution_count": 24,
   "metadata": {},
   "outputs": [
    {
     "name": "stdout",
     "output_type": "stream",
     "text": [
      "2\n"
     ]
    }
   ],
   "source": [
    "len = 0 # 我们是为了测试，自己写代码千万不能覆盖内置名称空间\n",
    "def f1():\n",
    "    len = 1\n",
    "    def f2():\n",
    "        len = 2\n",
    "        print(len)\n",
    "    f2()\n",
    "f1()"
   ]
  },
  {
   "cell_type": "code",
   "execution_count": 25,
   "metadata": {},
   "outputs": [
    {
     "name": "stdout",
     "output_type": "stream",
     "text": [
      "2\n"
     ]
    }
   ],
   "source": [
    "len = 0 # 我们是为了测试，自己写代码千万不能覆盖内置名称空间\n",
    "def f1():\n",
    "    len = 1\n",
    "    def f2():\n",
    "        len = 2\n",
    "        print(len)\n",
    "        len = 3\n",
    "    f2()\n",
    "f1()"
   ]
  },
  {
   "cell_type": "markdown",
   "metadata": {},
   "source": [
    "#### 5. string type common methods"
   ]
  },
  {
   "cell_type": "code",
   "execution_count": 2,
   "metadata": {},
   "outputs": [
    {
     "name": "stdout",
     "output_type": "stream",
     "text": [
      "1a2a3a4\n",
      "bacadae\n",
      "I say hello world\n"
     ]
    }
   ],
   "source": [
    "\"\"\"join()\n",
    "syntax: str.join(sequence)\n",
    "returns a string in which the string elements of sequence have been joined by str separator\n",
    "\"\"\"\n",
    "print('a'.join('1234'))\n",
    "print('a'.join('bcde'))\n",
    "tag = ' '\n",
    "print(tag.join(['I', 'say', 'hello', 'world'])) # 可迭代对象必须都是字符串"
   ]
  },
  {
   "cell_type": "code",
   "execution_count": 4,
   "metadata": {},
   "outputs": [
    {
     "name": "stdout",
     "output_type": "stream",
     "text": [
      "-1\n",
      "3\n",
      "0\n"
     ]
    }
   ],
   "source": [
    "# find,rfind,index,rindex,count\n",
    "name='albert say hello'\n",
    "print(name.find('o',1,3)) # 顾头不顾尾,找不到则返回-1不会报错,找到了则显示索引\n",
    "print(name.index('e',2,4)) # 同上,但是找不到会报错\n",
    "print(name.count('e',1,3)) # 顾头不顾尾,如果不指定范围则查找所有\n"
   ]
  },
  {
   "cell_type": "code",
   "execution_count": 6,
   "metadata": {},
   "outputs": [
    {
     "name": "stdout",
     "output_type": "stream",
     "text": [
      "------------albert------------\n",
      "albert************************\n",
      "************************albert\n",
      "00000000000000000000000000000000000000000000albert\n"
     ]
    }
   ],
   "source": [
    "# center,ljust,rjust,zfill\n",
    "name='albert'\n",
    "print(name.center(30,'-'))\n",
    "print(name.ljust(30,'*'))\n",
    "print(name.rjust(30,'*'))\n",
    "print(name.zfill(50)) # 用0填充"
   ]
  },
  {
   "cell_type": "code",
   "execution_count": 8,
   "metadata": {},
   "outputs": [
    {
     "name": "stdout",
     "output_type": "stream",
     "text": [
      "albert\thello\n",
      "albert hello\n"
     ]
    }
   ],
   "source": [
    "# expandtabs\n",
    "name='albert\\thello'\n",
    "print(name)\n",
    "print(name.expandtabs(1))"
   ]
  },
  {
   "cell_type": "code",
   "execution_count": 9,
   "metadata": {},
   "outputs": [
    {
     "name": "stdout",
     "output_type": "stream",
     "text": [
      "Albert\thello\n",
      "ALBERT\tHELLO\n",
      "Albert Say Hi\n"
     ]
    }
   ],
   "source": [
    "# captalize,swapcase,title\n",
    "print(name.capitalize()) # 首字母大写\n",
    "print(name.swapcase()) # 大小写翻转\n",
    "msg='albert say hi'\n",
    "print(msg.title()) # 每个单词的首字母大写"
   ]
  },
  {
   "cell_type": "code",
   "execution_count": 10,
   "metadata": {},
   "outputs": [],
   "source": [
    "# is数字系列\n",
    "# 在python3中\n",
    "num1=b'4' # bytes\n",
    "num2=u'4' # unicode,python3中无需加u就是unicode\n",
    "num3='四' # 中文数字\n",
    "num4='Ⅳ' #罗⻢数字"
   ]
  },
  {
   "cell_type": "markdown",
   "metadata": {},
   "source": [
    "### Ⅲ. 作用域"
   ]
  },
  {
   "cell_type": "markdown",
   "metadata": {},
   "source": [
    "#### 1. 全局作用域\n",
    "\n",
    "全局作⽤域包含的是内置名称空间与全局名称空间的名字，它的特点是：\n",
    "1. 在任何位置都能够访问到\n",
    "2. 该范围内的名字会伴随程序整个⽣命周期\n",
    "\n",
    "如果在局部使⽤全局作⽤域的变量，是没有问题的，但是如果是在局部修改全局作⽤域的变量则不能直接\n",
    "修改，⽽要使⽤`global`关键字才可以修改。"
   ]
  },
  {
   "cell_type": "code",
   "execution_count": 29,
   "metadata": {},
   "outputs": [
    {
     "name": "stdout",
     "output_type": "stream",
     "text": [
      "0\n",
      "1\n"
     ]
    }
   ],
   "source": [
    "global_count = 0\n",
    "def global_check():\n",
    "    print(global_count) # 直接使用全局变量\n",
    "    \n",
    "def global_modify():\n",
    "    global global_count # 修改前需要先使用global\n",
    "    global_count += 1\n",
    "    print(global_count)\n",
    "\n",
    "global_check()\n",
    "global_modify()"
   ]
  },
  {
   "cell_type": "markdown",
   "metadata": {},
   "source": [
    "#### 2. 局部作⽤域\n",
    "局部作⽤域包含的是局部名称空间的名字，它的特点是：\n",
    "1. 只能在函数内使⽤\n",
    "2. 调⽤函数时⽣效，调⽤结束失效\n",
    "\n",
    "如果在局部使⽤的是嵌套在函数内部的局部变量，同理，可以直接使⽤，⽽修改需要使⽤`nonlocal`关键字。"
   ]
  },
  {
   "cell_type": "code",
   "execution_count": 27,
   "metadata": {},
   "outputs": [
    {
     "name": "stdout",
     "output_type": "stream",
     "text": [
      "0\n",
      "1\n"
     ]
    }
   ],
   "source": [
    "def make_counter():\n",
    "    count = 0\n",
    "    def check_counter():\n",
    "        print(count)\n",
    "    check_counter()\n",
    "    def modify_counter():\n",
    "        nonlocal count\n",
    "        count += 1\n",
    "        print(count)\n",
    "    modify_counter()\n",
    "make_counter()"
   ]
  },
  {
   "cell_type": "markdown",
   "metadata": {},
   "source": [
    "### Ⅳ. 函数对象\n",
    "函数在Python中是第⼀类对象，这句话可以通俗理解为函数也是⼀个对象，就像是int，字符串，列表和字典⼀样都是对象。"
   ]
  },
  {
   "cell_type": "markdown",
   "metadata": {},
   "source": [
    "**函数对象应⽤(重点)**<br>\n",
    "利⽤这⼀特性，可以优雅的取代原来的`if`多分⽀(`elif`这种多分⽀是我们写代码要尽可能避免的)。"
   ]
  },
  {
   "cell_type": "code",
   "execution_count": 1,
   "metadata": {},
   "outputs": [
    {
     "name": "stdout",
     "output_type": "stream",
     "text": [
      "options:\n",
      "        1 登录\n",
      "        2 注册\n",
      "        3 查看\n",
      "        4 转账\n",
      "        5 支付\n",
      "        \n",
      ">>: 1\n",
      "登陆。。。。。\n",
      "options:\n",
      "        1 登录\n",
      "        2 注册\n",
      "        3 查看\n",
      "        4 转账\n",
      "        5 支付\n",
      "        \n",
      ">>: 2\n",
      "注册。。。。。\n",
      "options:\n",
      "        1 登录\n",
      "        2 注册\n",
      "        3 查看\n",
      "        4 转账\n",
      "        5 支付\n",
      "        \n",
      ">>: 1 2 3\n",
      "非法操作\n"
     ]
    }
   ],
   "source": [
    "def auth():\n",
    "    print('登陆。。。。。')\n",
    "def register():\n",
    "    print('注册。。。。。')\n",
    "def check():\n",
    "    print('查看。。。。')\n",
    "def transfer():\n",
    "    print('转账。。。。')\n",
    "def pay():\n",
    "    print('支付。。。。')\n",
    "\n",
    "func_dict = {\n",
    "    '1': auth,\n",
    "    '2': register,\n",
    "    '3': check,\n",
    "    '4': transfer,\n",
    "    '5': pay\n",
    "}\n",
    "\n",
    "def interactive():\n",
    "    for _ in range(3):\n",
    "        print(\"\"\"options:\n",
    "        1 登录\n",
    "        2 注册\n",
    "        3 查看\n",
    "        4 转账\n",
    "        5 支付\n",
    "        \"\"\")\n",
    "        choice = input('input: ').strip()\n",
    "        if choice in func_dict:\n",
    "            func_dict[choice]()\n",
    "        else:\n",
    "            print('非法操作')\n",
    "        \n",
    "interactive() # 比多个if...elif...简洁明了"
   ]
  },
  {
   "cell_type": "markdown",
   "metadata": {},
   "source": [
    "### Ⅴ.闭包函数"
   ]
  },
  {
   "cell_type": "markdown",
   "metadata": {},
   "source": [
    "#### 1. 定义\n",
    "闭包函数就是**定义在函数内部的函数，也就是函数的嵌套定义。**根据字⾯意思理解，闭包函数有两个关键字`闭`和`包`分别是的`封闭`和`包裹`。需要注意的重点是：闭包函数的**作⽤域关系在函数定义阶段就固定死了，与调⽤位置⽆关。**"
   ]
  },
  {
   "cell_type": "code",
   "execution_count": 2,
   "metadata": {},
   "outputs": [
    {
     "name": "stdout",
     "output_type": "stream",
     "text": [
      "<function outer.<locals>.inner at 0x000001BE68112158>\n",
      "from inner 1\n",
      "from inner 1\n"
     ]
    }
   ],
   "source": [
    "def outer():\n",
    "    x = 1\n",
    "    def inner(): # 在outer函数内部再定一个函数\n",
    "        # x = 2\n",
    "        print('from inner', x)\n",
    "    return inner # outer函数返回inner函数的内存地址)\n",
    "\n",
    "f = outer() # 现在的f是一个全局变量，同时是inner函数对象\n",
    "\n",
    "print(f)\n",
    "x = 3 # 这个x = 3并不能改变inner函数外层的x\n",
    "f()\n",
    "\n",
    "def foo():\n",
    "    x = 4 # 这个x = 4 同样也不能改变\n",
    "    f() # 全局作用域在任意位置都可以调用\n",
    "foo()"
   ]
  },
  {
   "cell_type": "markdown",
   "metadata": {},
   "source": [
    "闭包函数可以⽤外层函数来调⽤内部的函数，**打破了函数的层级限制**，与此同时该函数包含对外部函数作⽤域中名字的引⽤。"
   ]
  },
  {
   "cell_type": "code",
   "execution_count": 6,
   "metadata": {},
   "outputs": [
    {
     "name": "stdout",
     "output_type": "stream",
     "text": [
      "my name is Albert\n"
     ]
    }
   ],
   "source": [
    "def outer():\n",
    "    name = 'Albert'\n",
    "    def inner():\n",
    "        print('my name is %s' % name)\n",
    "    return inner\n",
    "\n",
    "f = outer()\n",
    "f()"
   ]
  },
  {
   "cell_type": "markdown",
   "metadata": {},
   "source": [
    "#### 2. 函数体传值的2种方式\n",
    "\n",
    "(1) 以参数的形式的传⼊"
   ]
  },
  {
   "cell_type": "code",
   "execution_count": 10,
   "metadata": {
    "scrolled": true
   },
   "outputs": [
    {
     "name": "stdout",
     "output_type": "stream",
     "text": [
      "<Response [200]>\n",
      "<!DOCTYPE html>\r\n",
      "<!--STATUS OK--><html> <head><meta http-equiv=content-type content=text/html;charset=utf-8><meta http-equiv=X-UA-Compatible content=IE=Edge><meta content=always name=referrer><link rel=stylesheet type=text/css href=https://ss1.bdstatic.com/5eN1bjq8AAUYm2zgoY3K/r/www/cache/bdorz/baidu.min.css><title>ç¾åº¦ä¸ä¸ï¼ä½ å°±ç¥é</title></head> <body link=#0000cc> <div id=wrapper> <div id=head> <div class=head_wrapper> <div class=s_form> <div class=s_form_wrapper> <div id=lg> <img hidefocus=true src=//www.baidu.com/img/bd_logo1.png width=270 height=129> </div> <form id=form name=f action=//www.baidu.com/s class=fm> <input type=hidden name=bdorz_come value=1> <input type=hidden name=ie value=utf-8> <input type=hidden name=f value=8> <input type=hidden name=rsv_bp value=1> <input type=hidden name=rsv_idx value=1> <input type=hidden name=tn value=baidu><span class=\"bg s_ipt_wr\"><input id=kw name=wd class=s_ipt value maxlength=255 autocomplete=off autofocus=autofocus></span><span class=\"bg s_btn_wr\"><input type=submit id=su value=ç¾åº¦ä¸ä¸ class=\"bg s_btn\" autofocus></span> </form> </div> </div> <div id=u1> <a href=http://news.baidu.com name=tj_trnews class=mnav>æ°é»</a> <a href=https://www.hao123.com name=tj_trhao123 class=mnav>hao123</a> <a href=http://map.baidu.com name=tj_trmap class=mnav>å°å¾</a> <a href=http://v.baidu.com name=tj_trvideo class=mnav>è§é¢</a> <a href=http://tieba.baidu.com name=tj_trtieba class=mnav>è´´å§</a> <noscript> <a href=http://www.baidu.com/bdorz/login.gif?login&amp;tpl=mn&amp;u=http%3A%2F%2Fwww.baidu.com%2f%3fbdorz_come%3d1 name=tj_login class=lb>ç»å½</a> </noscript> <script>document.write('<a href=\"http://www.baidu.com/bdorz/login.gif?login&tpl=mn&u='+ encodeURIComponent(window.location.href+ (window.location.search === \"\" ? \"?\" : \"&\")+ \"bdorz_come=1\")+ '\" name=\"tj_login\" class=\"lb\">ç»å½</a>');\r\n",
      "                </script> <a href=//www.baidu.com/more/ name=tj_briicon class=bri style=\"display: block;\">æ´å¤äº§å</a> </div> </div> </div> <div id=ftCon> <div id=ftConw> <p id=lh> <a href=http://home.baidu.com>å",
      "³äºç¾åº¦</a> <a href=http://ir.baidu.com>About Baidu</a> </p> <p id=cp>&copy;2017&nbsp;Baidu&nbsp;<a href=http://www.baidu.com/duty/>ä½¿ç¨ç¾åº¦åå¿",
      "è¯»</a>&nbsp; <a href=http://jianyi.baidu.com/ class=cp-feedback>æè§åé¦</a>&nbsp;äº¬ICPè¯030173å·&nbsp; <img src=//www.baidu.com/img/gs.gif> </p> </div> </div> </div> </body> </html>\r\n",
      "\n"
     ]
    }
   ],
   "source": [
    "import requests\n",
    "def get(url):\n",
    "    response = requests.get(url) # get方法获取请求返回对象\n",
    "    print(response)\n",
    "    if response.status_code == 200: # 200是一个状态码，代表请求成功\n",
    "        print(response.text) # text方法是获取返回对象的内容\n",
    "get('https://www.baidu.com')"
   ]
  },
  {
   "cell_type": "markdown",
   "metadata": {},
   "source": [
    "(2) 以闭包函数的形式\n",
    "\n",
    "闭包函数就是在**函数外层再包裹⼀层作⽤域，由于这个作⽤域在外层函数内部，**所以只作⽤在内层函数上。"
   ]
  },
  {
   "cell_type": "code",
   "execution_count": 12,
   "metadata": {},
   "outputs": [
    {
     "name": "stdout",
     "output_type": "stream",
     "text": [
      "<!DOCTYPE html>\n",
      "<!--STATUS OK--><html> <head><meta http-equiv=content-type content=text/html;charset=utf-8><meta http-equiv=X-UA-Compatible content=IE=Edge><meta content=always name=referrer><link rel=stylesheet type=text/css href=https://ss1.bdstatic.com/5eN1bjq8AAUYm2zgoY3K/r/www/cache/bdorz/baidu.min.css><title>ç¾åº¦ä¸ä¸ï¼ä½ å°±ç¥é</title></head> <body link=#0000cc> <div id=wrapper> <div id=head> <div class=head_wrapper> <div class=s_form> <div class=s_form_wrapper> <div id=lg> <img hidefocus=true src=//www.baidu.com/img/bd_logo1.png width=270 height=129> </div> <form id=form name=f action=//www.baidu.com/s class=fm> <input type=hidden name=bdorz_come value=1> <input type=hidden name=ie value=utf-8> <input type=hidden name=f value=8> <input type=hidden name=rsv_bp value=1> <input type=hidden name=rsv_idx value=1> <input type=hidden name=tn value=baidu><span class=\"bg s_ipt_wr\"><input id=kw name=wd class=s_ipt value maxlength=255 autocomplete=off autofocus=autofocus></span><span class=\"bg s_btn_wr\"><input type=submit id=su value=ç¾åº¦ä¸ä¸ class=\"bg s_btn\" autofocus></span> </form> </div> </div> <div id=u1> <a href=http://news.baidu.com name=tj_trnews class=mnav>æ°é»</a> <a href=https://www.hao123.com name=tj_trhao123 class=mnav>hao123</a> <a href=http://map.baidu.com name=tj_trmap class=mnav>å°å¾</a> <a href=http://v.baidu.com name=tj_trvideo class=mnav>è§é¢</a> <a href=http://tieba.baidu.com name=tj_trtieba class=mnav>è´´å§</a> <noscript> <a href=http://www.baidu.com/bdorz/login.gif?login&amp;tpl=mn&amp;u=http%3A%2F%2Fwww.baidu.com%2f%3fbdorz_come%3d1 name=tj_login class=lb>ç»å½</a> </noscript> <script>document.write('<a href=\"http://www.baidu.com/bdorz/login.gif?login&tpl=mn&u='+ encodeURIComponent(window.location.href+ (window.location.search === \"\" ? \"?\" : \"&\")+ \"bdorz_come=1\")+ '\" name=\"tj_login\" class=\"lb\">ç»å½</a>');\n",
      "                </script> <a href=//www.baidu.com/more/ name=tj_briicon class=bri style=\"display: block;\">æ´å¤äº§å</a> </div> </div> </div> <div id=ftCon> <div id=ftConw> <p id=lh> <a href=http://home.baidu.com>å",
      "³äºç¾åº¦</a> <a href=http://ir.baidu.com>About Baidu</a> </p> <p id=cp>&copy;2017&nbsp;Baidu&nbsp;<a href=http://www.baidu.com/duty/>ä½¿ç¨ç¾åº¦åå¿",
      "è¯»</a>&nbsp; <a href=http://jianyi.baidu.com/ class=cp-feedback>æè§åé¦</a>&nbsp;äº¬ICPè¯030173å·&nbsp; <img src=//www.baidu.com/img/gs.gif> </p> </div> </div> </div> </body> </html>\n",
      "\n",
      "=================================>\n",
      "<!DOCTYPE html>\n",
      "<html lang=\"en\">\n",
      "  <head>\n",
      "    <meta charset=\"utf-8\">\n",
      "    <meta content=\"IE=Edge\" http-equiv=\"X-UA-Compatible\">\n",
      "    <!-- Google Tag Manager -->\n",
      "    <script nonce=\"cUaOMNE-w6jWmok4HR54uw\">(function(w,d,s,l,i){w[l]=w[l]||[];w[l].push({'gtm.start':\n",
      "    new Date().getTime(),event:'gtm.js'});var f=d.getElementsByTagName(s)[0],\n",
      "    j=d.createElement(s),dl=l!='dataLayer'?'&l='+l:'';j.async=true;j.src=\n",
      "    'https://www.googletagmanager.com/gtm.js?id='+i+dl;f.parentNode.insertBefore(j,f);\n",
      "    })(window,document,'script','dataLayer','GTM-5Q9KDLK');</script>\n",
      "    <!-- End Google Tag Manager -->\n",
      "    <meta content=\"initial-scale=1, minimum-scale=1, width=device-width\" name=\"viewport\">\n",
      "    <title>Home â Google.org</title>\n",
      "    <meta property=\"og:title\" content=\"Home â Google.org\">\n",
      "    <meta property=\"og:site_name\" content=\"Google.org\">\n",
      "    <meta property=\"og:type\" content=\"website\">\n",
      "    <meta property=\"og:url\" content=\"https://www.google.org/\">\n",
      "    <meta name=\"description\" content=\"Google.org\">\n",
      "    <meta property=\"og:description\" content=\"Google.org\">\n",
      "    <link rel=\"apple-touch-icon-precomposed\" sizes=\"180x180\" href=\"https://storage.googleapis.com/operating-anagram-8280/apple-touch-icon.png\">\n",
      "    <link rel=\"icon\" type=\"image/png\" sizes=\"32x32\" href=\"https://storage.googleapis.com/operating-anagram-8280/favicon-32x32.png\">\n",
      "    <link rel=\"icon\" type=\"image/png\" sizes=\"16x16\" href=\"https://storage.googleapis.com/operating-anagram-8280/favicon-16x16.png\">\n",
      "    <link rel=\"shortcut icon\" href=\"https://storage.googleapis.com/operating-anagram-8280/favicon.ico\">\n",
      "    <link rel=\"stylesheet\" href=\"//fonts.googleapis.com/css?family=Roboto:100,300,400,500,700|Google+Sans:400,500|Product+Sans:400&amp;lang=en\" nonce=\"cUaOMNE-w6jWmok4HR54uw\">\n",
      "    <link rel=\"stylesheet\" href=\"/static/css/index.min.css?cache=1d53e9f\" nonce=\"cUaOMNE-w6jWmok4HR54uw\">\n",
      "    <script src=\"/static/js/detect.min.js?cache=9621c02\" nonce=\"cUaOMNE-w6jWmok4HR54uw\"></script>\n",
      "    <script type=\"text/ng-template\" id=\"/glue/modal/modal-template.html\" nonce=\"cUaOMNE-w6jWmok4HR54uw\">\n",
      "<div class=\"glue-c-modal__dialog\" role=\"dialog\" tabindex=\"-1\">\n",
      "  <div\n",
      "    class=\"glue-c-modal__overlay h-c-modal__overlay\"\n",
      "    data-glue-show=\"modalCtrl.getModalVisible()\">\n",
      "    <div class=\"glue-c-modal__content\" ng-transclude></div>\n",
      "    <button\n",
      "        class=\"glue-c-modal__close h-c-modal__close\"\n",
      "        aria-label=\"{[modalCtrl.closeLabel]}\">\n",
      "      <svg role=\"img\" class=\"h-c-icon h-c-icon--24px\">\n",
      "        <use xlink:href=\"#mi-close\"></use>\n",
      "      </svg>\n",
      "    </button>\n",
      "  </div>\n",
      "</div>    </script>\n",
      "  </head>\n",
      "\n",
      "  <body>\n",
      "    <!-- Google Tag Manager (noscript) -->\n",
      "    <noscript><iframe src=\"https://www.googletagmanager.com/ns.html?id=GTM-NT3DJCK\"\n",
      "    height=\"0\" width=\"0\" style=\"display:none;visibility:hidden\"></iframe></noscript>\n",
      "    <!-- End Google Tag Manager (noscript) -->\n",
      "\n",
      "    <main class=\"h-c-page\">\n",
      "<div class=\"glue-header hercules-header h-c-header h-c-header--product-marketing-one-tier\">\n",
      "  <div class=\"h-c-header__bar\">\n",
      "    <div class=\"h-c-header__hamburger h-c-header__hamburger--first-tier\">\n",
      "      <div class=\"h-c-header__hamburger-wrapper\">\n",
      "        <button type=\"button\"\n",
      "            class=\"h-js-header__drawer-toggle-link h-js-header__hamburger-link h-c-header__hamburger-link\"\n",
      "            aria-controls=\"h-js-header__drawer\"\n",
      "            aria-expanded=\"false\"\n",
      "            aria-label=\"Open the navigation drawer\">\n",
      "          <svg class=\"h-c-header__hamburger-img h-c-header__hamburger-img--standard\">\n",
      "            <use xlink:href=\"#h-burger\"/>\n",
      "          </svg>\n",
      "          <svg class=\"h-c-header__hamburger-img h-c-header__hamburger-img--reversed\">\n",
      "            <use xlink:href=\"#h-burger\"/>\n",
      "          </svg>\n",
      "        </button>\n",
      "      </div>\n",
      "    </div>\n",
      "    <div class=\"h-c-header__lockup\">\n",
      "      <div class=\"h-c-header__company-logo\">\n",
      "        <a href=\"/\"\n",
      "            class=\"h-c-header__company-logo-link\" title=\"Google.org\">\n",
      "          <div class=\"header__link--home\">\n",
      "            <img src=\"https://kstatic.googleusercontent.com/files/c4e93eabc5e07e1c1a63a801e2cd77e1bccd3c9420690f3afc114e504c75f7d753174a1afb74c69a0fe246c8ec935df1efb9cc20433430d88d91236ebfaed988\" alt=\"Google.org logo\">\n",
      "          </div>\n",
      "          <svg class=\"h-c-header__company-logo-img h-c-header__company-logo-img--reversed\">\n",
      "            <use xlink:href=\"#h-white-google-logo\"/>\n",
      "          </svg>\n",
      "        </a>\n",
      "      </div>\n",
      "      <a href=\"#jump-content\" class=\"h-c-header__jump-to-content\" data-glue-jump-link>\n",
      "        <span class=\"h-c-header__jump-to-content-text\">Skip to Content</span>\n",
      "      </a>\n",
      "    </div>\n",
      "    <div class=\"h-c-header__hamburger h-c-header__hamburger--second-tier\">\n",
      "      <div class=\"h-c-header__hamburger-wrapper\">\n",
      "        <button type=\"button\"\n",
      "            class=\"h-c-header__hamburger-link h-c-header__drawer-nav-close-btn\"\n",
      "            id=\"h-js-header__drawer-close-btn\"\n",
      "            aria-controls=\"h-js-header__drawer\"\n",
      "            aria-expanded=\"false\"\n",
      "            aria-label=\"Open the navigation drawer\">\n",
      "          <svg class=\"h-c-header__hamburger-img h-c-header__hamburger-img--standard\">\n",
      "            <use xlink:href=\"#h-burger\"/>\n",
      "          </svg>\n",
      "          <svg class=\"h-c-header__hamburger-img h-c-header__hamburger-img--reversed\">\n",
      "            <use xlink:href=\"#h-burger\"/>\n",
      "          </svg>\n",
      "        </button>\n",
      "      </div>\n",
      "    </div>\n",
      "    <nav class=\"h-c-header__nav\">\n",
      "      <ul class=\"h-c-header__nav-list\">\n",
      "          <li class=\"h-c-header__nav-li\" aria-level=\"1\">\n",
      "            <a href=\"/\"\n",
      "               class=\"h-c-header__nav-li-link h-is-active\">\n",
      "              Home\n",
      "            </a>\n",
      "          </li>\n",
      "          <li class=\"h-c-header__nav-li\" aria-level=\"1\">\n",
      "            <a href=\"/our-work/\"\n",
      "               class=\"h-c-header__nav-li-link\">\n",
      "              Our Work\n",
      "            </a>\n",
      "              <ul class=\"h-c-header__nested-nav-list\">\n",
      "                  <li class=\"h-c-header__nested-nav-li\" aria-level=\"2\">\n",
      "                    <a href=\"/our-work/education/\"\n",
      "                        class=\"h-c-header__nested-nav-li-link\">\n",
      "                      Education\n",
      "                    </a>\n",
      "                  </li>\n",
      "                  <li class=\"h-c-header__nested-nav-li\" aria-level=\"2\">\n",
      "                    <a href=\"/our-work/economic-opportunity/\"\n",
      "                        class=\"h-c-header__nested-nav-li-link\">\n",
      "                      Economic Opportunity\n",
      "                    </a>\n",
      "                  </li>\n",
      "                  <li class=\"h-c-header__nested-nav-li\" aria-level=\"2\">\n",
      "                    <a href=\"/our-work/inclusion/\"\n",
      "                        class=\"h-c-header__nested-nav-li-link\">\n",
      "                      Inclusion\n",
      "                    </a>\n",
      "                  </li>\n",
      "                  <li class=\"h-c-header__nested-nav-li\" aria-level=\"2\">\n",
      "                    <a href=\"/our-work/crisis-response/\"\n",
      "                        class=\"h-c-header__nested-nav-li-link\">\n",
      "                      Crisis Response\n",
      "                    </a>\n",
      "                  </li>\n",
      "                  <li class=\"h-c-header__nested-nav-li\" aria-level=\"2\">\n",
      "                    <a href=\"/our-work/google-impact-challenge/\"\n",
      "                        class=\"h-c-header__nested-nav-li-link\">\n",
      "                      Impact Challenge\n",
      "                    </a>\n",
      "                  </li>\n",
      "              </ul>\n",
      "          </li>\n",
      "      </ul>\n",
      "    </nav>\n",
      "    <div class=\"h-c-header__bar-underside\"></div>\n",
      "  </div>\n",
      "  <div id=\"h-js-header__drawer\" class=\"h-c-header__drawer\" aria-label=\"Navigation drawer\">\n",
      "    <div class=\"h-c-header__drawer-content\">\n",
      "      <div class=\"h-c-header__drawer-bar\">\n",
      "        <div class=\"h-c-header__drawer-lockup\">\n",
      "          <div class=\"h-c-header__drawer-company-logo\">\n",
      "            <div class=\"h-c-header__drawer-company-logo-link\" title=\"Google\">\n",
      "              <svg class=\"h-c-header__drawer-company-logo-img\">\n",
      "                <use xlink:href=\"#h-color-google-logo\"/>\n",
      "              </svg>\n",
      "            </div>\n",
      "          </div>\n",
      "        </div>\n",
      "      </div>\n",
      "      <nav class=\"h-c-header__drawer-nav\">\n",
      "        <ul class=\"h-c-header__drawer-nav-list\">\n",
      "            <li class=\"h-c-header__drawer-nav-li\" aria-level=\"1\">\n",
      "              <a href=\"/\"\n",
      "                id=\"h-js-header__drawer-focus-item\"\n",
      "                class=\"h-c-header__drawer-nav-li-link h-is-active\">\n",
      "                Home\n",
      "              </a>\n",
      "            </li>\n",
      "            <li class=\"h-c-header__drawer-nav-li\" aria-level=\"1\">\n",
      "              <a href=\"/our-work/\"\n",
      "                id=\"h-js-header__drawer-focus-item\"\n",
      "                class=\"h-c-header__drawer-nav-li-link\">\n",
      "                Our Work\n",
      "              </a>\n",
      "                <ul class=\"h-c-header__nested-nav-list\">\n",
      "                    <li class=\"h-c-header__nested-nav-li\" aria-level=\"2\">\n",
      "                      <a href=\"/our-work/education/\"\n",
      "                        class=\"h-c-header__nested-nav-li-link\">\n",
      "                        Education\n",
      "                      </a>\n",
      "                    </li>\n",
      "                    <li class=\"h-c-header__nested-nav-li\" aria-level=\"2\">\n",
      "                      <a href=\"/our-work/economic-opportunity/\"\n",
      "                        class=\"h-c-header__nested-nav-li-link\">\n",
      "                        Economic Opportunity\n",
      "                      </a>\n",
      "                    </li>\n",
      "                    <li class=\"h-c-header__nested-nav-li\" aria-level=\"2\">\n",
      "                      <a href=\"/our-work/inclusion/\"\n",
      "                        class=\"h-c-header__nested-nav-li-link\">\n",
      "                        Inclusion\n",
      "                      </a>\n",
      "                    </li>\n",
      "                    <li class=\"h-c-header__nested-nav-li\" aria-level=\"2\">\n",
      "                      <a href=\"/our-work/crisis-response/\"\n",
      "                        class=\"h-c-header__nested-nav-li-link\">\n",
      "                        Crisis Response\n",
      "                      </a>\n",
      "                    </li>\n",
      "                    <li class=\"h-c-header__nested-nav-li\" aria-level=\"2\">\n",
      "                      <a href=\"/our-work/google-impact-challenge/\"\n",
      "                        class=\"h-c-header__nested-nav-li-link\">\n",
      "                        Impact Challenge\n",
      "                      </a>\n",
      "                    </li>\n",
      "                </ul>\n",
      "            </li>\n",
      "        </ul>\n",
      "      </nav>\n",
      "    </div>\n",
      "  </div>\n",
      "  <div id=\"h-js-header__drawer-backdrop\" class=\"h-c-header__drawer-backdrop\"></div>\n",
      "</div>  <section class=\"h-u-mb-std\">\n",
      "<div class=\"hero full-bleed-hero\">\n",
      "  <div class=\"module container\">\n",
      "    <h2 class=\"h-c-headline h-c-headline--two h-u-mt-std h-u-mb-std article-hero__title\">\n",
      "      Data-driven, human-focused philanthropyâ powered by Google</h2>\n",
      "    <p class=\"full-bleed-hero__desc h-u-mb-std\">We bring the best of Google to innovative nonprofits that are committed to creating a world that works for everyone.</p>\n",
      "    <a class=\"h-c-link h-c-link--external\"\n",
      "        href=\"https://services.google.com/fh/files/misc/accelerating_social_good_with_artificial_intelligence_google_ai_impact_challenge.pdf\"\n",
      "        target=\"_blank\" rel=\"noopener\">\n",
      "      Read our latest insights on accelerating social good with artificial intelligence<svg class=\"h-c-icon h-c-icon--link h-c-icon--arrow-external\" xmlns=\"http://www.w3.org/2000/svg\" viewBox=\"0 0 18 18\">\n",
      "  <use xlink:href=\"#mi-arrow-forward\"></use>\n",
      "</svg></a>\n",
      "  </div>\n",
      "</div>  </section>\n",
      "\n",
      "  <section>\n",
      "  <div class=\"h-c-grid alternating-info\">\n",
      "    <div class=\"h-c-grid__col h-c-grid__col-l--6 h-c-grid__col--12 alternate\">\n",
      "      <a href=\"/our-work/education/storyweaver/\">  <picture>\n",
      "\n",
      "\n",
      "        <source media=\"(min-width:600px)\"    srcset=\"https://lh3.googleusercontent.com/8GpSmrWPfTClvGkcoYScjN0ztJRvD0DP6vlajlaWgpZkiF-vz7bmnhwisSmceFrwaly3YrKKPNcDjrQfuKgrCh82HlCExcTqhrbZFw=w1440-l80-sg-rj-c0xffffff, https://lh3.googleusercontent.com/8GpSmrWPfTClvGkcoYScjN0ztJRvD0DP6vlajlaWgpZkiF-vz7bmnhwisSmceFrwaly3YrKKPNcDjrQfuKgrCh82HlCExcTqhrbZFw=w2880-l80-sg-rj-c0xffffff 2x\" >\n",
      "      <img src=\"https://lh3.googleusercontent.com/8GpSmrWPfTClvGkcoYScjN0ztJRvD0DP6vlajlaWgpZkiF-vz7bmnhwisSmceFrwaly3YrKKPNcDjrQfuKgrCh82HlCExcTqhrbZFw=w750-l80-sg-rj-c0xffffff\" alt=\"Using an open-sourced platform to translate books for students\">\n",
      "  </picture></a>\n",
      "    </div>\n",
      "    <div class=\"h-c-grid__col h-c-grid__col-l--6 h-c-grid__col--12 alternate_info\">\n",
      "      <p class=\"h-c-eyebrow h-u-mb-l\">Education</p>\n",
      "      <h3 class=\"h-c-headline h-c-headline--three h-u-mb-std\">Using an open-sourced platform to translate books for students</h3>\n",
      "      <p class=\"h-c-copy h-c-copy--one h-u-mb-std\">More than half of the books published in India are written in Hindi and English<sup>1</sup>. But in a country with dozens of local languages, this means many students donât have access to books in their native tongue. Google.org is supporting Pratham Books to rapidly expand the reach of their translation platform StoryWeaver.</p>\n",
      "      <a class=\"h-c-link h-c-link--internal h-margin-bottom\" href=\"/our-work/education/storyweaver/\">Learn more about Pratham Books<svg class=\"h-c-icon h-c-icon--link h-c-icon--arrow-forward\" viewBox=\"0 0 18 18\" xmlns=\"http://www.w3.org/2000/svg\">\n",
      "  <use xlink:href=\"#mi-arrow-forward\"></use>\n",
      "</svg></a>\n",
      "    </div>\n",
      "  </div>\n",
      "  <div class=\"h-c-grid alternating-info\">\n",
      "    <div class=\"h-c-grid__col h-c-grid__col-l--6 h-c-grid__col--12 alternate\">\n",
      "      <a href=\"/our-work/economic-opportunity/goodwill-industries/\">  <picture>\n",
      "\n",
      "\n",
      "        <source media=\"(min-width:600px)\"    srcset=\"https://lh3.googleusercontent.com/Xe3mF6ax0jq2lWTPR8Y396BKuryuaL98_UAjH9IU_bxeccf3qP3hf1-y1FyAGMt8ohPIt8gRzy-SmYgNkZPmwxaiyntzzTsVCIR7i64=w1440-l80-sg-rj-c0xffffff, https://lh3.googleusercontent.com/Xe3mF6ax0jq2lWTPR8Y396BKuryuaL98_UAjH9IU_bxeccf3qP3hf1-y1FyAGMt8ohPIt8gRzy-SmYgNkZPmwxaiyntzzTsVCIR7i64=w2880-l80-sg-rj-c0xffffff 2x\" >\n",
      "      <img src=\"https://lh3.googleusercontent.com/Xe3mF6ax0jq2lWTPR8Y396BKuryuaL98_UAjH9IU_bxeccf3qP3hf1-y1FyAGMt8ohPIt8gRzy-SmYgNkZPmwxaiyntzzTsVCIR7i64=w750-l80-sg-rj-c0xffffff\" alt=\"Helping people across America access opportunity through digital skills\">\n",
      "  </picture></a>\n",
      "    </div>\n",
      "    <div class=\"h-c-grid__col h-c-grid__col-l--6 h-c-grid__col--12 alternate_info\">\n",
      "      <p class=\"h-c-eyebrow h-u-mb-l\">Economic Opportunity</p>\n",
      "      <h3 class=\"h-c-headline h-c-headline--three h-u-mb-std\">Helping people across America access opportunity through digital skills</h3>\n",
      "      <p class=\"h-c-copy h-c-copy--one h-u-mb-std\">With a changing economy demanding an increasingly skilled and technical workforce, itâs critical to ensure that every worker has the tools and resources they need in order to thrive.\n",
      "\n",
      "Google.org is supporting Goodwill Industries International to map the digital skills programs offered across its network and to fund the local, community-based Goodwill organizationsâ replication of top programs across the country.</p>\n",
      "      <a class=\"h-c-link h-c-link--internal h-margin-bottom\" href=\"/our-work/economic-opportunity/goodwill-industries/\">LEARN MORE ABOUT GOODWILL INDUSTRIES INTERNATIONAL<svg class=\"h-c-icon h-c-icon--link h-c-icon--arrow-forward\" viewBox=\"0 0 18 18\" xmlns=\"http://www.w3.org/2000/svg\">\n",
      "  <use xlink:href=\"#mi-arrow-forward\"></use>\n",
      "</svg></a>\n",
      "    </div>\n",
      "  </div>\n",
      "  <div class=\"h-c-grid alternating-info\">\n",
      "    <div class=\"h-c-grid__col h-c-grid__col-l--6 h-c-grid__col--12 alternate\">\n",
      "      <a href=\"/our-work/inclusion/equal-justice-initiative/\">  <picture>\n",
      "\n",
      "\n",
      "        <source media=\"(min-width:600px)\"    srcset=\"https://lh3.googleusercontent.com/tgOrCIUJkIEIB-4elA1aviI-PpWAKqIWLHuD_JTQ8Tah0PXhQ4wewHHg-QYuMfgratzXr2_SziLzxfYgLXLejsJhJgcT4edN-ivnIZA=w1440-l80-sg-rj-c0xffffff, https://lh3.googleusercontent.com/tgOrCIUJkIEIB-4elA1aviI-PpWAKqIWLHuD_JTQ8Tah0PXhQ4wewHHg-QYuMfgratzXr2_SziLzxfYgLXLejsJhJgcT4edN-ivnIZA=w2880-l80-sg-rj-c0xffffff 2x\" >\n",
      "      <img src=\"https://lh3.googleusercontent.com/tgOrCIUJkIEIB-4elA1aviI-PpWAKqIWLHuD_JTQ8Tah0PXhQ4wewHHg-QYuMfgratzXr2_SziLzxfYgLXLejsJhJgcT4edN-ivnIZA=w750-l80-sg-rj-c0xffffff\" alt=\"Using data to uncover racial injustice\">\n",
      "  </picture></a>\n",
      "    </div>\n",
      "    <div class=\"h-c-grid__col h-c-grid__col-l--6 h-c-grid__col--12 alternate_info\">\n",
      "      <p class=\"h-c-eyebrow h-u-mb-l\">Inclusion</p>\n",
      "      <h3 class=\"h-c-headline h-c-headline--three h-u-mb-std\">Using data to uncover racial injustice</h3>\n",
      "      <p class=\"h-c-copy h-c-copy--one h-u-mb-std\">Shifting a nationâs mindset means collecting and surfacing lost data: the thousands of lost records and stories of racial injustice. Google.org is working with Bryan Stevensonâs Equal Justice Initiative, which is building a national memorial to lynching victims and a museum that examines African American history.</p>\n",
      "      <a class=\"h-c-link h-c-link--internal h-margin-bottom\" href=\"/our-work/inclusion/equal-justice-initiative/\">Learn more about Equal Justice Initiative<svg class=\"h-c-icon h-c-icon--link h-c-icon--arrow-forward\" viewBox=\"0 0 18 18\" xmlns=\"http://www.w3.org/2000/svg\">\n",
      "  <use xlink:href=\"#mi-arrow-forward\"></use>\n",
      "</svg></a>\n",
      "    </div>\n",
      "  </div>\n",
      "  </section>\n",
      "  <hr>\n",
      "\n",
      "  <section class=\"h-u-mt-l\">\n",
      "      <div class=\"hero full-bleed-hero\">\n",
      "    <a href=\"https://ai.google/social-good/impact-challenge/\" target=\"_blank\" rel=\"noopener noreferrer\">\n",
      "        <picture>\n",
      "\n",
      "\n",
      "        <source media=\"(min-width:600px)\"    srcset=\"https://lh3.googleusercontent.com/fTmCFQYbTWBWHRY-VgWeoxAbePBOCydm8s4B5xEN0jB_vPZeKqw8EIVKpUjmcLncCHt7mV3GxS20OhIQlAXdpvGDlyBKAODrpiKaNA=w1440-l80-sg-rj-c0xffffff, https://lh3.googleusercontent.com/fTmCFQYbTWBWHRY-VgWeoxAbePBOCydm8s4B5xEN0jB_vPZeKqw8EIVKpUjmcLncCHt7mV3GxS20OhIQlAXdpvGDlyBKAODrpiKaNA=w2880-l80-sg-rj-c0xffffff 2x\" >\n",
      "      <img src=\"https://lh3.googleusercontent.com/fTmCFQYbTWBWHRY-VgWeoxAbePBOCydm8s4B5xEN0jB_vPZeKqw8EIVKpUjmcLncCHt7mV3GxS20OhIQlAXdpvGDlyBKAODrpiKaNA=w750-l80-sg-rj-c0xffffff\" class=\"h-u-mt-std\" alt=\"Working together to apply AI to societal challenges\">\n",
      "  </picture>\n",
      "      <div class=\"module container no-padding\">\n",
      "        <h2 class=\"h-c-headline h-c-headline--two article-hero__title alignment\">Working together to apply AI to societal challenges</h2>\n",
      "        <p class=\"story__desc h-u-mb-std no-link alignment\">At Google, we believe that artificial intelligence (AI) can meaningfully improve peopleâs lives, and that the biggest impact will come when everyone can access it. Thatâs why Google.org is excited to support organizations that are using the power of AI to address social and environmental challenges.</p>\n",
      "        <a class=\"h-c-link h-c-link--external h-u-mt-l\"\n",
      "            href=\"https://ai.google/social-good/impact-challenge/\"\n",
      " target=\"_blank\" rel=\"noopener noreferrer\">\n",
      "          Learn more\n",
      "<svg class=\"h-c-icon h-c-icon--link h-c-icon--arrow-external\" xmlns=\"http://www.w3.org/2000/svg\" viewBox=\"0 0 18 18\">\n",
      "  <use xlink:href=\"#mi-arrow-forward\"></use>\n",
      "</svg>        </a>\n",
      "      </div>\n",
      "    </a>\n",
      "  </div>\n",
      "\n",
      "  </section>\n",
      "  <hr>\n",
      "\n",
      "  <section class=\"h-u-mb-std\">\n",
      "<div class=\"hero full-bleed-hero\">\n",
      "  <div class=\"module container h-u-mb-std\">\n",
      "    <h2 class=\"h-c-headline h-c-headline--two article-hero__title\">Our areas of focus</h2>\n",
      "    <p class=\"story__desc\">We want a world that works for everyoneâand we believe technology and innovation can move the needle in three key areas.</p>\n",
      "  </div>\n",
      "</div>\n",
      "<div class=\"h-c-grid\">\n",
      "    <div class=\"h-c-grid__col h-c-grid__col--4 h-c-grid__col-s--12\">\n",
      "      <a href=\"/our-work/education/\">\n",
      "          <picture>\n",
      "\n",
      "\n",
      "        <source media=\"(min-width:600px)\"    srcset=\"https://lh3.googleusercontent.com/T-up5ddtJ6AK0487tWgxq2nz8qFXgSB6P9FwVgulAK108FsKavvmsD6qzQelLeIzQUI0d7-9zxksXrCoQRfsXEdLqHsSD8IB69aH=w1440-l80-sg-rj-c0xffffff, https://lh3.googleusercontent.com/T-up5ddtJ6AK0487tWgxq2nz8qFXgSB6P9FwVgulAK108FsKavvmsD6qzQelLeIzQUI0d7-9zxksXrCoQRfsXEdLqHsSD8IB69aH=w2880-l80-sg-rj-c0xffffff 2x\" >\n",
      "      <img src=\"https://lh3.googleusercontent.com/T-up5ddtJ6AK0487tWgxq2nz8qFXgSB6P9FwVgulAK108FsKavvmsD6qzQelLeIzQUI0d7-9zxksXrCoQRfsXEdLqHsSD8IB69aH=w750-l80-sg-rj-c0xffffff\" alt=\"Creating richer learning experiences for students\">\n",
      "  </picture>\n",
      "        <h4 class=\"h-c-headline h-c-headline--four h-u-mt-std h-u-mb-std\">Creating richer learning experiences for students</h4>\n",
      "      </a>\n",
      "      <a href=\"/our-work/education/\" class=\"h-c-link h-c-link--internal h-margin-bottom\">View our work in Education<svg class=\"h-c-icon h-c-icon--link h-c-icon--arrow-forward\" viewBox=\"0 0 18 18\" xmlns=\"http://www.w3.org/2000/svg\">\n",
      "  <use xlink:href=\"#mi-arrow-forward\"></use>\n",
      "</svg></a>\n",
      "    </div>\n",
      "    <div class=\"h-c-grid__col h-c-grid__col--4 h-c-grid__col-s--12\">\n",
      "      <a href=\"/our-work/economic-opportunity/\">\n",
      "          <picture>\n",
      "\n",
      "\n",
      "        <source media=\"(min-width:600px)\"    srcset=\"https://lh3.googleusercontent.com/h7p6sm1jhgAozleWGgd9juhmEPgrKUHaUJnDeb2aHs-mzeYipoXEt_297pLGOBouOyg5h-bs4xDb21jY5KpSkSMKcJfRIAM-E6VQ8g=w1440-l80-sg-rj-c0xffffff, https://lh3.googleusercontent.com/h7p6sm1jhgAozleWGgd9juhmEPgrKUHaUJnDeb2aHs-mzeYipoXEt_297pLGOBouOyg5h-bs4xDb21jY5KpSkSMKcJfRIAM-E6VQ8g=w2880-l80-sg-rj-c0xffffff 2x\" >\n",
      "      <img src=\"https://lh3.googleusercontent.com/h7p6sm1jhgAozleWGgd9juhmEPgrKUHaUJnDeb2aHs-mzeYipoXEt_297pLGOBouOyg5h-bs4xDb21jY5KpSkSMKcJfRIAM-E6VQ8g=w750-l80-sg-rj-c0xffffff\" alt=\"Connecting people to jobs and opportunity for economic mobility\">\n",
      "  </picture>\n",
      "        <h4 class=\"h-c-headline h-c-headline--four h-u-mt-std h-u-mb-std\">Connecting people to jobs and opportunity for economic mobility</h4>\n",
      "      </a>\n",
      "      <a href=\"/our-work/economic-opportunity/\" class=\"h-c-link h-c-link--internal h-margin-bottom\">View our work in economic opportunity<svg class=\"h-c-icon h-c-icon--link h-c-icon--arrow-forward\" viewBox=\"0 0 18 18\" xmlns=\"http://www.w3.org/2000/svg\">\n",
      "  <use xlink:href=\"#mi-arrow-forward\"></use>\n",
      "</svg></a>\n",
      "    </div>\n",
      "    <div class=\"h-c-grid__col h-c-grid__col--4 h-c-grid__col-s--12\">\n",
      "      <a href=\"/our-work/inclusion/\">\n",
      "          <picture>\n",
      "\n",
      "\n",
      "        <source media=\"(min-width:600px)\"    srcset=\"https://lh3.googleusercontent.com/izVBBmziqq7mlbEb6cNjuZVeA8FKDjvldi55v7hkUW5CK9OCIpRpRZIcQKF71UnB9hFQX3Vme7i92egTNRY7ciNhBJ5gkhQeLsJarw=w1440-l80-sg-rj-c0xffffff, https://lh3.googleusercontent.com/izVBBmziqq7mlbEb6cNjuZVeA8FKDjvldi55v7hkUW5CK9OCIpRpRZIcQKF71UnB9hFQX3Vme7i92egTNRY7ciNhBJ5gkhQeLsJarw=w2880-l80-sg-rj-c0xffffff 2x\" >\n",
      "      <img src=\"https://lh3.googleusercontent.com/izVBBmziqq7mlbEb6cNjuZVeA8FKDjvldi55v7hkUW5CK9OCIpRpRZIcQKF71UnB9hFQX3Vme7i92egTNRY7ciNhBJ5gkhQeLsJarw=w750-l80-sg-rj-c0xffffff\" alt=\"Fighting systemic racial bias to advance inclusion and justice for all\">\n",
      "  </picture>\n",
      "        <h4 class=\"h-c-headline h-c-headline--four h-u-mt-std h-u-mb-std\">Fighting systemic racial bias to advance inclusion and justice for all</h4>\n",
      "      </a>\n",
      "      <a href=\"/our-work/inclusion/\" class=\"h-c-link h-c-link--internal h-margin-bottom\">View our work in inclusion<svg class=\"h-c-icon h-c-icon--link h-c-icon--arrow-forward\" viewBox=\"0 0 18 18\" xmlns=\"http://www.w3.org/2000/svg\">\n",
      "  <use xlink:href=\"#mi-arrow-forward\"></use>\n",
      "</svg></a>\n",
      "    </div>\n",
      "</div>  </section>\n",
      "  <hr>\n",
      "\n",
      "    <section>\n",
      "      <div class=\"hero full-bleed-hero\">\n",
      "        <div class=\"module container carousel-module org-related-keyword-news ng-cloak\" data-tag=\"googleorg\">\n",
      "          <h2 class=\"h-c-headline h-c-headline--two article-hero__title h-u-mb-xl\">The latest from Google.org</h2>\n",
      "          <div class=\"carousel\">\n",
      "            <div class=\"glue-pagination carousel-container\" data-glue-pagination-config=\"{cyclical: true}\" org-related-keyword-news>\n",
      "              <ul class=\"glue-carousel\" aria-live=\"assertive\">\n",
      "                <li class=\"carousel-item carousel-item{[$index]}\" glue-carousel-repeat=\"article in relatedKeywordNewsCtrl.newsStories\">\n",
      "                  <a class=\"block-link events-off\" href=\"https://blog.google{[article.url]}\" aria-label=\"{[article.headline]}\" target=\"_blank\">\n",
      "                    <div ng-attr-style=\"background-image: url({[article.hero]})\" class=\"carousel-slide-image events-on\"></div>\n",
      "                    <div class=\"carousel-item__content\">\n",
      "                      <p class=\"h-c-eyebrow h-u-mt-l h-u-mb-std no-link\">{[article.published|date:'longDate']}</p>\n",
      "                      <p class=\"h-c-copy h-c-copy--one h-u-mb-xl no-link\">{[article.headline]}</p>\n",
      "                    </div>\n",
      "                  </a>\n",
      "                </li>\n",
      "              </ul>\n",
      "              <div class=\"glue-pagination-nav glue-pagination-previous\" data-glue-pagination-label=\"Previous\" glue-pagination-update-model=\"false\\\">\n",
      "                <svg xmlns=\"http://www.w3.org/2000/svg\" width=\"24\" height=\"24\" viewBox=\"0 0 24 24\"\n",
      "                     class=\"h-c-icon h-c-icon--keyboard-arrow-left\">\n",
      "                  <use xlink:href=\"#mi-keyboard-arrow-right\"></use>\n",
      "                </svg>\n",
      "              </div>\n",
      "              <div class=\"glue-pagination-nav glue-pagination-next\" data-glue-pagination-label=\"Next\" glue-pagination-update-model=\"false\">\n",
      "                <svg xmlns=\"http://www.w3.org/2000/svg\" width=\"24\" height=\"24\" viewBox=\"0 0 24 24\"\n",
      "                     class=\"h-c-icon h-c-icon--keyboard-arrow-right\">\n",
      "                  <use xlink:href=\"#mi-keyboard-arrow-right\"></use>\n",
      "                </svg>\n",
      "              </div>\n",
      "              <a href=\"https://blog.google/topics/google-org/\" class=\"h-c-link h-c-link--external\" target=\"_blank\" rel=\"noopener\">\n",
      "                Read more on The Keyword<svg class=\"h-c-icon h-c-icon--link h-c-icon--arrow-external\" xmlns=\"http://www.w3.org/2000/svg\" viewBox=\"0 0 18 18\">\n",
      "  <use xlink:href=\"#mi-arrow-forward\"></use>\n",
      "</svg>              </a>\n",
      "            </div>\n",
      "          </div>\n",
      "        </div>\n",
      "      </div>\n",
      "    </section>\n",
      "    <hr>\n",
      "\n",
      "  <section class=\"h-u-mb-xl h-u-mt-xl\">\n",
      "  <div class=\"h-c-footnote\">\n",
      "    <sup>1</sup> \"<a href=\"https://www.nielsen.com/in/en/insights/article/2016/read-all-about-it-indias-book-market-is-poised-for-growth/\" class=\"h-c-inline-link\" target=\"_blank\">Trends in Indian Publishing: An Overview of the current trends and opportunities in the Indian Publishing Market</a>\"\n",
      "  </div>\n",
      "  </section>\n",
      "    </main>\n",
      "\n",
      "<footer class=\"h-c-footer h-c-footer--topmargin h-c-footer--standard h-has-social\">\n",
      "  <section class=\"h-c-footer__upper\">\n",
      "    <section class=\"h-c-social\">\n",
      "      <div class=\"h-c-social__group\">\n",
      "        <p class=\"h-c-social__title h-c-social__title--inline\">Follow Us</p>\n",
      "        <ul class=\"h-c-social__list h-no-bullet\">\n",
      "            <li class=\"h-c-social__item\">\n",
      "              <a class=\"h-c-social__link\" href=\"https://www.twitter.com/Googleorg\" target=\"_blank\" rel=\"noopener\" aria-label=\"Follow us on Twitter\">\n",
      "                <svg role=\"img\" class=\"h-c-icon h-c-icon--24px h-c-icon--social h-c-icon--no-padding\">\n",
      "                  <use xlink:href=\"#social-twitter\"></use>\n",
      "                </svg>\n",
      "              </a>\n",
      "            </li>\n",
      "            <li class=\"h-c-social__item\">\n",
      "              <a class=\"h-c-social__link\" href=\"https://www.youtube.com/user/Googleorg\" target=\"_blank\" rel=\"noopener\" aria-label=\"Follow us on Youtube\">\n",
      "                <svg role=\"img\" class=\"h-c-icon h-c-icon--24px h-c-icon--social h-c-icon--no-padding\">\n",
      "                  <use xlink:href=\"#social-youtube\"></use>\n",
      "                </svg>\n",
      "              </a>\n",
      "            </li>\n",
      "        </ul>\n",
      "      </div>\n",
      "    </section>\n",
      "  </section>\n",
      "  <nav class=\"h-c-footer__site-links\">\n",
      "    <div data-glue-responsive-accordion-static data-ng-cloak data-glue-responsive-accordion-static-breakpoints=\"'x-small'\">\n",
      "      <div class=\"h-c-footer__site-links-grid\">\n",
      "          <div class=\"h-c-footer__site-links-column glue-a-zippy--v-smooth-expand\" id=\"basic-zippy-1\">\n",
      "            <h4 class=\"h-c-footer__site-links-header\">\n",
      "              Google.org\n",
      "              <svg role=\"img\" class=\"h-c-icon h-c-icon--32px h-c-icon--footer h-c-footer__expand\">\n",
      "                <use xlink:href=\"#mi-expand\"></use>\n",
      "              </svg>\n",
      "            </h4>\n",
      "            <div>\n",
      "              <ul class=\"h-c-footer__site-links-list h-no-bullet\">\n",
      "                  <li class=\"h-c-footer__site-links-list-item\">\n",
      "                    <a class=\"h-c-footer__link\" href=\"/\">Home</a>\n",
      "                  </li>\n",
      "                  <li class=\"h-c-footer__site-links-list-item\">\n",
      "                    <a class=\"h-c-footer__link\" href=\"/our-work/\">Our Work</a>\n",
      "                  </li>\n",
      "              </ul>\n",
      "            </div>\n",
      "          </div>\n",
      "          <div class=\"h-c-footer__site-links-column glue-a-zippy--v-smooth-expand\" id=\"basic-zippy-2\">\n",
      "            <h4 class=\"h-c-footer__site-links-header\">\n",
      "              Areas of focus\n",
      "              <svg role=\"img\" class=\"h-c-icon h-c-icon--32px h-c-icon--footer h-c-footer__expand\">\n",
      "                <use xlink:href=\"#mi-expand\"></use>\n",
      "              </svg>\n",
      "            </h4>\n",
      "            <div>\n",
      "              <ul class=\"h-c-footer__site-links-list h-no-bullet\">\n",
      "                  <li class=\"h-c-footer__site-links-list-item\">\n",
      "                    <a class=\"h-c-footer__link\" href=\"/our-work/economic-opportunity/\">Economic Opportunity</a>\n",
      "                  </li>\n",
      "                  <li class=\"h-c-footer__site-links-list-item\">\n",
      "                    <a class=\"h-c-footer__link\" href=\"/our-work/education/\">Education</a>\n",
      "                  </li>\n",
      "                  <li class=\"h-c-footer__site-links-list-item\">\n",
      "                    <a class=\"h-c-footer__link\" href=\"/our-work/inclusion/\">Inclusion</a>\n",
      "                  </li>\n",
      "                  <li class=\"h-c-footer__site-links-list-item\">\n",
      "                    <a class=\"h-c-footer__link\" href=\"/our-work/crisis-response/\">Crisis Response</a>\n",
      "                  </li>\n",
      "                  <li class=\"h-c-footer__site-links-list-item\">\n",
      "                    <a class=\"h-c-footer__link\" href=\"/our-work/google-impact-challenge/\">Impact Challenge</a>\n",
      "                  </li>\n",
      "              </ul>\n",
      "            </div>\n",
      "          </div>\n",
      "          <div class=\"h-c-footer__site-links-column glue-a-zippy--v-smooth-expand\" id=\"basic-zippy-3\">\n",
      "            <h4 class=\"h-c-footer__site-links-header\">\n",
      "              Other Google initiatives\n",
      "              <svg role=\"img\" class=\"h-c-icon h-c-icon--32px h-c-icon--footer h-c-footer__expand\">\n",
      "                <use xlink:href=\"#mi-expand\"></use>\n",
      "              </svg>\n",
      "            </h4>\n",
      "            <div>\n",
      "              <ul class=\"h-c-footer__site-links-list h-no-bullet\">\n",
      "                  <li class=\"h-c-footer__site-links-list-item\">\n",
      "                    <a class=\"h-c-footer__link\" href=\"https://www.google.com/intl/en_US/nonprofits/\" target=\"_blank\" rel=\"noopener\">Google for Nonprofits</a>\n",
      "                  </li>\n",
      "                  <li class=\"h-c-footer__site-links-list-item\">\n",
      "                    <a class=\"h-c-footer__link\" href=\"https://edu.google.com/\" target=\"_blank\" rel=\"noopener\">Google for Education</a>\n",
      "                  </li>\n",
      "                  <li class=\"h-c-footer__site-links-list-item\">\n",
      "                    <a class=\"h-c-footer__link\" href=\"https://sustainability.google/\" target=\"_blank\" rel=\"noopener\">Environment</a>\n",
      "                  </li>\n",
      "              </ul>\n",
      "            </div>\n",
      "          </div>\n",
      "      </div>\n",
      "    </div>\n",
      "  </nav>\n",
      "  <section class=\"h-c-footer__global\">\n",
      "    <div class=\"h-c-footer__logo\">\n",
      "      <a href=\"https://www.google.com\" aria-label=\"Google\">\n",
      "        <svg role=\"img\" class=\"h-c-footer__logo-img\">\n",
      "          <use xlink:href=\"#google-logo\"></use>\n",
      "        </svg>\n",
      "      </a>\n",
      "    </div>\n",
      "    <ul class=\"h-c-footer__global-links h-no-bullet\">\n",
      "        <li class=\"h-c-footer__global-links-list-item\">\n",
      "          <a class=\"h-c-footer__link\" href=\"https://www.google.com/intl/en_US/policies/privacy/?hl=en&amp;gl=US\" target=\"_blank\" rel=\"noopener\">Privacy</a>\n",
      "        </li>\n",
      "        <li class=\"h-c-footer__global-links-list-item\">\n",
      "          <a class=\"h-c-footer__link\" href=\"https://www.google.com/intl/en_US/policies/terms/?hl=en&amp;gl=US\" target=\"_blank\" rel=\"noopener\">Terms</a>\n",
      "        </li>\n",
      "    </ul>\n",
      "    <ul class=\"h-c-footer__global-links h-c-footer__global-links--extra h-no-bullet\">\n",
      "      <li class=\"h-c-footer__global-links-list-item h-c-footer__global-links-list-item--extra\">\n",
      "        <a class=\"h-c-footer__link\" href=\"https://support.google.com\" target=\"_blank\" rel=\"noopener\">\n",
      "          <svg role=\"img\" class=\"h-c-icon h-c-icon--24px h-c-icon--footer\">\n",
      "            <use xlink:href=\"#mi-help\">\n",
      "          </svg>\n",
      "          Help\n",
      "        </a>\n",
      "      </li>\n",
      "    </ul>\n",
      "  </section>\n",
      "</footer>\n",
      "    <div class=\"svg-assets\">\n",
      "<svg class=\"svg-assets\" xmlns=\"http://www.w3.org/2000/svg\">\n",
      "  <!-- material design icons -->\n",
      "  <symbol id=\"mi-arrow-forward\" viewBox=\"0 0 18 18\">\n",
      "    <path d=\"M9,1.5C4.8,1.5,1.5,4.8,1.5,9s3.3,7.5,7.5,7.5s7.5-3.3,7.5-7.5S13.2,1.5,9,1.5z M9,14.5l-1-1\n",
      "  l3.8-3.8H3.5V8.3h8.4L8.1,4.5L9,3.5L14.5,9L9,14.5z\"></path>\n",
      "  </symbol>\n",
      "\n",
      "  <symbol id=\"mi-help\" viewBox=\"0 0 48 48\">\n",
      "    <path d=\"M24 4C12.95 4 4 12.95 4 24s8.95 20 20 20 20-8.95 20-20S35.05 4 24 4zm2 34h-4v-4h4v4zm4.13-15.49l-1.79 1.84C26.9 25.79 26 27 26 30h-4v-1c0-2.21.9-4.21 2.34-5.66l2.49-2.52C27.55 20.1 28 19.1 28 18c0-2.21-1.79-4-4-4s-4 1.79-4 4h-4c0-4.42 3.58-8 8-8s8 3.58 8 8c0 1.76-.71 3.35-1.87 4.51z\"></path>\n",
      "  </symbol>\n",
      "\n",
      "  <symbol id=\"mi-arrow-sort\" viewBox=\"0 0 24 24\">\n",
      "    <path d=\"M20 12l-1.41-1.41L13 16.17V4h-2v12.17l-5.58-5.59L4 12l8 8 8-8z\"></path>\n",
      "  </symbol>\n",
      "\n",
      "  <symbol id=\"mi-arrow-forward-no-bg\" viewBox=\"0 0 32 32\">\n",
      "    <polygon points=\"16,0 13.2,2.8 24.3,14 0,14 0,18 24.3,18 13.2,29.2 16,32 32,16\"></polygon>\n",
      "  </symbol>\n",
      "\n",
      "  <symbol id=\"mi-arrow-circle\" viewBox=\"0 0 16 16\">\n",
      "    <path d=\"M0,8c0,4.4,3.6,8,8,8s8-3.6,8-8s-3.6-8-8-8S0,3.6,0,8z M4.2,6.1L8,9.9l3.8-3.8L13,7.3 l-5,5l-5-5L4.2,6.1z\"></path>\n",
      "  </symbol>\n",
      "\n",
      "  <symbol id=\"mi-arrow-item\" viewBox=\"0 0 16 10\">\n",
      "    <polygon points=\"1.8,0 7.8,5.9 13.7,0 15.5,1.8 7.8,9.6 0,1.8\"></polygon>\n",
      "  </symbol>\n",
      "\n",
      "  <symbol id=\"mi-keyboard-arrow-right\" viewBox=\"0 0 24 24\">\n",
      "    <path d=\"M9.546 6.5l5.443 5.532L9.5 17.5\"></path>\n",
      "  </symbol>\n",
      "\n",
      "  <symbol id=\"mi-chevron\" viewBox=\"0 0 12 8\">\n",
      "    <path d=\"M10.6,8L6,3.4L1.4,8L0,6.6l6-6l6,6L10.6,8z\"></path>\n",
      "  </symbol>\n",
      "\n",
      "  <symbol id=\"mi-youtube-icon\"  viewBox=\"0 0 86 60\">\n",
      "    <path d=\"M83.37 9.387c-.967-3.677-3.87-6.58-7.547-7.597C69.193 0 42.58 0 42.58 0S15.97 0 9.29 1.79c-3.677.968-6.532 3.87-7.548 7.597C0 16.065 0 30 0 30s0 13.935 1.79 20.613c.968 3.677 3.87 6.58 7.55 7.597C15.967 60 42.58 60 42.58 60s26.614 0 33.29-1.79c3.678-.968 6.533-3.87 7.55-7.597C85.16 43.935 85.16 30 85.16 30s0-13.935-1.79-20.613zm-49.5 33.29V17.323L56.13 30 33.87 42.677z\" fill-rule=\"nonzero\"></path>\n",
      "  </symbol>\n",
      "\n",
      "  <symbol id=\"mi-youtube-icon-white\">\n",
      "    <path d=\"M83.37 9.387c-.967-3.677-3.87-6.58-7.547-7.597C69.193 0 42.58 0 42.58 0S15.97 0 9.29 1.79c-3.677.968-6.532 3.87-7.548 7.597C0 16.065 0 30 0 30s0 13.935 1.79 20.613c.968 3.677 3.87 6.58 7.55 7.597C15.967 60 42.58 60 42.58 60s26.614 0 33.29-1.79c3.678-.968 6.533-3.87 7.55-7.597C85.16 43.935 85.16 30 85.16 30s0-13.935-1.79-20.613zm-49.5 33.29V17.323L56.13 30 33.87 42.677z\" fill-rule=\"nonzero\" fill=\"#FFF\"></path>\n",
      "  </symbol>\n",
      "\n",
      "  <symbol id=\"mi-youtube-icon-red\">\n",
      "      <g fill-rule=\"nonzero\" fill=\"none\">\n",
      "        <path d=\"M83.37 9.387c-.967-3.677-3.87-6.58-7.547-7.597C69.193 0 42.58 0 42.58 0S15.97 0 9.29 1.79c-3.677.968-6.532 3.87-7.548 7.597C0 16.065 0 30 0 30s0 13.935 1.79 20.613c.968 3.677 3.87 6.58 7.55 7.597C15.967 60 42.58 60 42.58 60s26.614 0 33.29-1.79c3.678-.968 6.533-3.87 7.55-7.597C85.16 43.935 85.16 30 85.16 30s0-13.935-1.79-20.613z\" fill=\"#F00\"></path>\n",
      "        <path fill=\"#FFF\" d=\"M33.87 42.677L56.13 30 33.87 17.323\"></path>\n",
      "      </g>\n",
      "  </symbol>\n",
      "\n",
      "  <symbol id=\"mi-youtube-icon-black\">\n",
      "    <g fill-rule=\"nonzero\" fill=\"none\">\n",
      "      <path d=\"M83.37 9.387c-.967-3.677-3.87-6.58-7.547-7.597C69.193 0 42.58 0 42.58 0S15.97 0 9.29 1.79c-3.677.968-6.532 3.87-7.548 7.597C0 16.065 0 30 0 30s0 13.935 1.79 20.613c.968 3.677 3.87 6.58 7.55 7.597C15.967 60 42.58 60 42.58 60s26.614 0 33.29-1.79c3.678-.968 6.533-3.87 7.55-7.597C85.16 43.935 85.16 30 85.16 30s0-13.935-1.79-20.613z\" fill=\"#282828\"></path>\n",
      "      <path fill=\"#FFF\" d=\"M33.87 42.677L56.13 30 33.87 17.323\"></path>\n",
      "    </g>\n",
      "  </symbol>\n",
      "\n",
      "  <symbol id=\"mi-pdf-icon\" viewBox=\"0 0 24 24\">\n",
      "    <path d=\"M7 11.5h1v-1H7v1zM19 3H5c-1.1 0-2 .9-2 2v14c0 1.1.9 2 2 2h14c1.1 0 2-.9 2-2V5c0-1.1-.9-2-2-2zm-9.5 8.5c0 .83-.67 1.5-1.5 1.5H7v2H5.5V9H8c.83 0 1.5.67 1.5 1.5v1zm10-1H17v1h1.5V13H17v2h-1.5V9h4v1.5zm-5 3c0 .83-.67 1.5-1.5 1.5h-2.5V9H13c.83 0 1.5.67 1.5 1.5v3zm-2.5 0h1v-3h-1v3z\"></path>\n",
      "  </symbol>\n",
      "\n",
      "  <symbol id=\"mi-arrow-dropdown\" viewBox=\"0 0 24 24\">\n",
      "    <path d=\"M7 10l5 5 5-5z\"></path>\n",
      "  </symbol>\n",
      "\n",
      "  <symbol id=\"mi-search\" viewBox=\"0 0 24 22\">\n",
      "    <path d=\"M15.5 14h-.79l-.28-.27C15.41 12.59 16 11.11 16 9.5 16 5.91 13.09 3 9.5 3S3 5.91 3 9.5 5.91 16 9.5 16c1.61 0 3.09-.59 4.23-1.57l.27.28v.79l5 4.99L20.49 19l-4.99-5zm-6 0C7.01 14 5 11.99 5 9.5S7.01 5 9.5 5 14 7.01 14 9.5 11.99 14 9.5 14z\"></path>\n",
      "  </symbol>\n",
      "\n",
      "  <symbol id=\"mi-expand\" viewBox=\"0 0 24 24\">\n",
      "    <path d=\"M16.59 8.59L12 13.17 7.41 8.59 6 10l6 6 6-6z\"></path>\n",
      "  </symbol>\n",
      "\n",
      "  <symbol id=\"mi-mail\" viewBox=\"0 0 24 24\">\n",
      "    <path d=\"M20 4H4c-1.1 0-1.99.9-1.99 2L2 18c0 1.1.9 2 2 2h16c1.1 0 2-.9 2-2V6c0-1.1-.9-2-2-2zm0 14H4V8l8 5 8-5v10zm-8-7L4 6h16l-8 5z\"></path>\n",
      "  </symbol>\n",
      "\n",
      "  <symbol id=\"mi-close\" viewBox=\"0 0 24 24\">\n",
      "    <path d=\"M19 6.41L17.59 5 12 10.59 6.41 5 5 6.41 10.59 12 5 17.59 6.41 19 12 13.41 17.59 19 19 17.59 13.41 12z\"></path>\n",
      "  </symbol>\n",
      "\n",
      "  <!-- Social icons -->\n",
      "  <symbol id=\"social-blogger\" viewBox=\"2 2 20 20\">\n",
      "    <path d=\"M20,2 L4,2 C2.895,2 2.01,2.895 2.01,4 L2,20 C2,21.105 2.895,22 4,22 L20,22 C21.105,22 22,21.105 22,20 L22,4 C22,2.895 21.105,2 20,2 L20,2 Z M16,9 L16,10 C16,10.555 16.445,11 17,11 C17.555,11 18,11.445 18,12 L18,15 C18,16.655 16.655,18 15,18 L9,18 C7.345,18 6,16.655 6,15 L6,8 C6,6.345 7.345,5 9,5 L13,5 C14.655,5 16,6.345 16,8 L16,9 L16,9 Z M9.95,10 L12.55,10 C13.105,10 13.55,9.555 13.55,9 C13.55,8.445 13.105,8 12.55,8 L9.95,8 C9.395,8 8.95,8.445 8.95,9 C8.95,9.555 9.4,10 9.95,10 L9.95,10 Z M14,13 L9.95,13 C9.395,13 8.95,13.445 8.95,14 C8.95,14.555 9.395,15 9.95,15 L14,15 C14.555,15 15,14.555 15,14 C15,13.445 14.555,13 14,13 L14,13 Z\"></path>\n",
      "  </symbol>\n",
      "\n",
      "  <symbol id=\"social-facebook\" viewBox=\"0 0 20 21\">\n",
      "    <path d=\"M18.9,0H1.1C0.5,0,0,0.5,0,1.1v17.8C0,19.5,0.5,20,1.1,20h9.6v-7.7H8.1v-3h2.6V7c0-2.6,1.6-4,3.9-4c1.1,0,2.1,0.1,2.3,0.1 v2.7l-1.6,0c-1.3,0-1.5,0.6-1.5,1.5v1.9h3l-0.4,3h-2.6V20h5.1c0.6,0,1.1-0.5,1.1-1.1V1.1C20,0.5,19.5,0,18.9,0z\">\n",
      "    </path>\n",
      "  </symbol>\n",
      "\n",
      "  <symbol id=\"social-facebook-2\" viewBox=\"0 0 56.693 56.693\">\n",
      "    <path d=\"M40.43 21.74h-7.645v-5.015c0-1.883 1.248-2.322 2.127-2.322h5.395V6.125l-7.43-.03c-8.248 0-10.125 6.175-10.125 10.126v5.52h-4.77v8.53h4.77v24.136h10.033V30.27h6.77l.875-8.53z\"></path>\n",
      "  </symbol>\n",
      "\n",
      "  <symbol id=\"social-instagram\" viewBox=\"2 2 20 20\">\n",
      "    <path d=\"M12,3.80440476 C14.6692857,3.80440476 14.9854365,3.81456349 16.0395635,3.86265873 C17.014246,3.90714286 17.5435714,4.07 17.895873,4.20686508 C18.3624603,4.38821429 18.6955159,4.60488095 19.0453175,4.95468254 C19.395119,5.30448413 19.6117857,5.63753968 19.7930952,6.10412698 C19.93,6.45642857 20.0928571,6.98575397 20.1373413,7.96039683 C20.1854365,9.01456349 20.1955952,9.33071429 20.1955952,12 C20.1955952,14.6692857 20.1854365,14.9854365 20.1373413,16.0395635 C20.0928571,17.014246 19.93,17.5435714 19.7930952,17.895873 C19.6117857,18.3624603 19.395119,18.6955159 19.0453175,19.0453175 C18.6955159,19.395119 18.3624603,19.6117857 17.895873,19.7930952 C17.5435714,19.93 17.014246,20.0928571 16.0395635,20.1373413 C14.9855952,20.1854365 14.6694444,20.1955952 12,20.1955952 C9.33055556,20.1955952 9.01440476,20.1854365 7.96043651,20.1373413 C6.98575397,20.0928571 6.45642857,19.93 6.10416667,19.7930952 C5.63753968,19.6117857 5.30448413,19.395119 4.95468254,19.0453175 C4.60488095,18.6955159 4.38821429,18.3624603 4.20690476,17.895873 C4.07,17.5435714 3.90714286,17.014246 3.86265873,16.0396032 C3.81456349,14.9854365 3.80440476,14.6692857 3.80440476,12 C3.80440476,9.33071429 3.81456349,9.01456349 3.86265873,7.96043651 C3.90714286,6.98575397 4.07,6.45642857 4.20690476,6.10412698 C4.38821429,5.63753968 4.60488095,5.30448413 4.95468254,4.95468254 C5.30448413,4.60488095 5.63753968,4.38821429 6.10416667,4.20686508 C6.45642857,4.07 6.98575397,3.90714286 7.96039683,3.86265873 C9.01456349,3.81456349 9.33071429,3.80440476 12,3.80440476 M12,2.00313492 C9.285,2.00313492 8.94460317,2.01464286 7.87833333,2.06329365 C6.81424603,2.11186508 6.08757937,2.28083333 5.45166667,2.52797619 C4.79428571,2.78345238 4.23678571,3.12527778 3.68103175,3.68103175 C3.12527778,4.23678571 2.78345238,4.79428571 2.52797619,5.45166667 C2.28083333,6.08757937 2.11186508,6.81424603 2.06329365,7.87833333 C2.01464286,8.94456349 2.0031746,9.285 2.0031746,12 C2.0031746,14.715 2.01464286,15.0554365 2.06329365,16.1216667 C2.11186508,17.185754 2.28083333,17.9124206 2.52797619,18.5483333 C2.78345238,19.2056746 3.12527778,19.7632143 3.68103175,20.3189683 C4.23678571,20.8747222 4.79428571,21.2165476 5.45166667,21.4720238 C6.08757937,21.7191667 6.81424603,21.8881349 7.87833333,21.9367063 C8.94460317,21.9853571 9.285,21.9968254 12,21.9968254 C14.715,21.9968254 15.0554365,21.9853571 16.1216667,21.9367063 C17.185754,21.8881349 17.9124206,21.7191667 18.5483333,21.4720238 C19.2057143,21.2165476 19.7632143,20.8747222 20.3189683,20.3189683 C20.8747222,19.7632143 21.2165476,19.2057143 21.4720238,18.5483333 C21.7191667,17.9124206 21.8881349,17.185754 21.9367063,16.1216667 C21.9853571,15.0554365 21.9968651,14.715 21.9968651,12 C21.9968651,9.285 21.9853571,8.94456349 21.9367063,7.87833333 C21.8881349,6.81424603 21.7191667,6.08757937 21.4720238,5.45166667 C21.2165476,4.79428571 20.8747222,4.23678571 20.3189683,3.68103175 C19.7632143,3.12527778 19.2057143,2.78345238 18.5483333,2.52797619 C17.9124206,2.28083333 17.185754,2.11186508 16.1216667,2.06329365 C15.0554365,2.01464286 14.715,2.00313492 12,2.00313492\"></path>\n",
      "    <path d=\"M12,6.86646825 C9.16484127,6.86646825 6.86646825,9.16484127 6.86646825,12 C6.86646825,14.8351587 9.16484127,17.1335317 12,17.1335317 C14.8351587,17.1335317 17.1335317,14.8351587 17.1335317,12 C17.1335317,9.16484127 14.8351587,6.86646825 12,6.86646825 Z M12,15.3323016 C10.1596429,15.3323016 8.66769841,13.8403571 8.66769841,12 C8.66769841,10.1596429 10.1596429,8.66769841 12,8.66769841 C13.8403571,8.66769841 15.3323016,10.1596429 15.3323016,12 C15.3323016,13.8403571 13.8403571,15.3323016 12,15.3323016 L12,15.3323016 Z\"></path>\n",
      "    <path d=\"M18.5359524,6.66365079 C18.5359524,7.32619048 17.9988889,7.86329365 17.3363492,7.86329365 C16.6738095,7.86329365 16.1367063,7.32619048 16.1367063,6.66365079 C16.1367063,6.00111111 16.6738095,5.46404762 17.3363492,5.46404762 C17.9988889,5.46404762 18.5359524,6.00111111 18.5359524,6.66365079\"></path>\n",
      "  </symbol>\n",
      "\n",
      "  <symbol id=\"social-link\" viewBox=\"2 7 20 11\">\n",
      "    <path d=\"M3.9,12 C3.9,10.29 5.29,8.9 7,8.9 L11,8.9 L11,7 L7,7 C4.24,7 2,9.24 2,12 C2,14.76 4.24,17 7,17 L11,17 L11,15.1 L7,15.1 C5.29,15.1 3.9,13.71 3.9,12 L3.9,12 Z M8,13 L16,13 L16,11 L8,11 L8,13 L8,13 Z M17,7 L13,7 L13,8.9 L17,8.9 C18.71,8.9 20.1,10.29 20.1,12 C20.1,13.71 18.71,15.1 17,15.1 L13,15.1 L13,17 L17,17 C19.76,17 22,14.76 22,12 C22,9.24 19.76,7 17,7 L17,7 Z\">\n",
      "    </path>\n",
      "  </symbol>\n",
      "\n",
      "  <symbol id=\"social-linkedin\" viewBox=\"0 0 20 20\">\n",
      "    <path d=\"M17.3247508,17.0422222 L14.3116279,17.0422222 L14.3116279,12.4011111 C14.3116279,11.2944444 14.2901661,9.87055556 12.7443522,9.87055556 C11.1748173,9.87055556 10.9353488,11.0755556 10.9353488,12.3211111 L10.9353488,17.0422222 L7.92335548,17.0422222 L7.92335548,7.49833333 L10.8139203,7.49833333 L10.8139203,8.80222222 L10.8557143,8.80222222 C11.2578405,8.05166667 12.2422591,7.26055556 13.7090033,7.26055556 C16.7605316,7.26055556 17.3247508,9.23666667 17.3247508,11.8072222 L17.3247508,17.0422222 L17.3247508,17.0422222 Z M4.52335548,6.19277778 C3.55418605,6.19277778 2.77365449,5.42222222 2.77365449,4.47277778 C2.77365449,3.52444444 3.55418605,2.75333333 4.52335548,2.75333333 C5.48800664,2.75333333 6.27136213,3.52444444 6.27136213,4.47277778 C6.27136213,5.42222222 5.48800664,6.19277778 4.52335548,6.19277778 L4.52335548,6.19277778 Z M3.01312292,7.49833333 L6.03189369,7.49833333 L6.03189369,17.0422222 L3.01312292,17.0422222 L3.01312292,7.49833333 Z M18.5183745,0 L1.47495903,0 C0.661092747,0 0,0.645555556 0,1.44111111 L0,18.5566667 C0,19.3533333 0.661092747,20 1.47495903,20 L18.5183745,20 C19.3339074,20 20,19.3533333 20,18.5566667 L20,1.44111111 C20,0.645555556 19.3339074,0 18.5183745,0 L18.5183745,0 Z\"></path>\n",
      "  </symbol>\n",
      "\n",
      "  <symbol id=\"social-linkedin-2\" viewBox=\"0 0 24 24\">\n",
      "    <path class=\"st0\" d=\"M4.5 9.8h3.2v9.6H4.5z\"></path>\n",
      "    <circle class=\"st0\" cx=\"6.1\" cy=\"6.1\" r=\"2\"></circle>\n",
      "    <path class=\"st0\" d=\"M19.5 19.5h-3.2v-5.7c0-.9-.7-1.6-1.6-1.6-.9 0-1.6.7-1.6 1.6v5.7H9.8V9.8H13V11c.5-.9 1.7-1.5 2.7-1.5 2 0 3.7 1.7 3.7 3.7.1.1.1 6.3.1 6.3z\"></path>\n",
      "  </symbol>\n",
      "\n",
      "  <symbol id=\"social-mail\" viewBox=\"2 4 20 16\">\n",
      "    <path d=\"M20,4 L4,4 C2.9,4 2.01,4.9 2.01,6 L2,18 C2,19.1 2.9,20 4,20 L20,20 C21.1,20 22,19.1 22,18 L22,6 C22,4.9 21.1,4 20,4 Z M20,18 L4,18 L4,8 L12,13 L20,8 L20,18 Z M12,11 L4,6 L20,6 L12,11 Z\"></path>\n",
      "  </symbol>\n",
      "\n",
      "  <symbol id=\"social-twitter\" viewBox=\"2 4 20 17\">\n",
      "    <path d=\"M21.9998024,5.94850271 C21.2639378,6.27899473 20.4732072,6.50243431 19.6431192,6.60281913 C20.4903254,6.08859695 21.1409646,5.27418342 21.4472639,4.3038956 C20.6544849,4.7801123 19.7764073,5.12586577 18.8417079,5.31226298 C18.0932607,4.50466524 17.0268825,4 15.8467486,4 C13.5805579,4 11.7434203,5.86056413 11.7434203,8.15526483 C11.7434203,8.48101542 11.7797051,8.7980981 11.8496412,9.10221596 C8.43952817,8.92893175 5.41611168,7.27461954 3.39235612,4.76062801 C3.03916454,5.37434599 2.83681824,6.08815245 2.83681824,6.84966948 C2.83681824,8.29128441 3.5611975,9.5631712 4.66217788,10.3083896 C3.98959225,10.2868309 3.35687602,10.099841 2.8036791,9.78861106 C2.80338648,9.80594689 2.80331333,9.8233568 2.80331333,9.8408408 C2.80331333,11.8541677 4.21768905,13.5336687 6.09476916,13.9154273 C5.75042931,14.0103299 5.38794707,14.0610779 5.01376005,14.0610779 C4.74930529,14.0610779 4.49231233,14.0350742 4.241757,13.9865487 C4.76393626,15.637453 6.27926567,16.8388111 8.07477813,16.8724456 C6.67042461,17.9869023 4.9012479,18.6511461 2.97881179,18.6511461 C2.64763982,18.6511461 2.32100345,18.6315136 2,18.5931378 C3.81592266,19.7721223 5.97267373,20.4599991 8.28985336,20.4599991 C15.8371653,20.4599991 19.9642689,14.1282728 19.9642689,8.63711197 C19.9642689,8.45693788 19.9602454,8.2777269 19.9524178,8.0995531 C20.7540486,7.51369099 21.449678,6.78180786 21.9998024,5.94850271\"></path>\n",
      "  </symbol>\n",
      "\n",
      "  <symbol id=\"social-youtube\" viewBox=\"0 4 24 18\">\n",
      "    <path d=\"M23.74,7.6062 C23.74,7.6062 23.51,5.9562 22.79,5.2362 C21.88,4.2762 20.86,4.2762 20.39,4.2162 C17.04,3.9712 12,4.0012 12,4.0012 C12,4.0012 6.98,3.9712 3.63,4.2112 C3.17,4.2712 2.15,4.2712 1.24,5.2312 C0.52,5.9512 0.28,7.6012 0.28,7.6012 C0.28,7.6012 0.04,9.5462 0,11.4812 L0,13.5062 C0.04,15.4462 0.28,17.3812 0.28,17.3812 C0.28,17.3812 0.52,19.0312 1.24,19.7612 C2.15,20.7112 3.34,20.6812 3.88,20.7812 C5.76,20.9612 11.79,21.0012 12,21.0012 C12,21.0012 17.05,21.0112 20.4,20.7712 C20.86,20.7112 21.88,20.7112 22.79,19.7512 C23.51,19.0312 23.75,17.3812 23.75,17.3812 C23.75,17.3812 23.99,15.4412 24,13.5062 L24,11.4812 C23.98,9.5462 23.74,7.6062 23.74,7.6062 L23.74,7.6062 Z M9.57,16.0012 L9.57,8.9912 L16,12.6312 L9.57,16.0012 L9.57,16.0012 Z\"></path>\n",
      "  </symbol>\n",
      "\n",
      "  <symbol id=\"google-logo\" viewBox=\"0 0 396 130\">\n",
      "    <path d=\"M51.0745265,101.038701 C23.3283097,101.038701 9.65724009e-07,78.4212338 9.65724009e-07,50.645974 C-0.00548030982,22.8707143 23.3228284,0.253246753 51.0745265,0.253246753 C66.4220981,0.253246753 77.3517615,6.27798701 85.5736748,14.1408766 L75.8718171,23.8528896 C69.9794459,18.3219805 61.9987087,14.0201623 51.0690452,14.0201623 C30.8102508,14.0201623 14.9693645,30.365974 14.9693645,50.645974 C14.9693645,70.925974 30.8102508,87.2717857 51.0690452,87.2717857 C64.2076627,87.2717857 71.6950851,81.9877922 76.48572,77.1921429 C80.4157945,73.2579545 82.991994,67.6063312 83.9731424,59.8641558 L51.0745265,59.8641558 L51.0745265,46.1027273 L97.3638985,46.1027273 C97.8572133,48.5609091 98.0983894,51.5129221 98.0983894,54.7063636 C98.0983894,65.0329221 95.2755325,77.8121753 86.1875777,86.9096429 C77.3462802,96.1223377 66.0548526,101.038701 51.0745265,101.038701 L51.0745265,101.038701 Z\"></path>\n",
      "    <path d=\"M167.573556,68.369026 C167.573556,87.0523052 152.965957,100.813734 135.036704,100.813734 C117.112933,100.813734 102.499853,87.0468182 102.499853,68.369026 C102.499853,49.5650325 117.112933,35.9188312 135.036704,35.9188312 C152.965957,35.9188312 167.573556,49.5650325 167.573556,68.369026 L167.573556,68.369026 Z M153.333202,68.369026 C153.333202,56.6926623 144.85915,48.7035714 135.036704,48.7035714 C125.214259,48.7035714 116.740207,56.6926623 116.740207,68.369026 C116.740207,79.9191883 125.214259,88.0344805 135.036704,88.0344805 C144.85915,88.0344805 153.333202,79.9191883 153.333202,68.369026 L153.333202,68.369026 Z\"></path>\n",
      "    <path d=\"M238.282011,68.369026 C238.282011,87.0523052 223.674411,100.813734 205.745159,100.813734 C187.821388,100.813734 173.208307,87.0468182 173.208307,68.369026 C173.208307,49.5650325 187.821388,35.9188312 205.745159,35.9188312 C223.674411,35.9188312 238.282011,49.5650325 238.282011,68.369026 L238.282011,68.369026 Z M224.041657,68.369026 C224.041657,56.6926623 215.567605,48.7035714 205.745159,48.7035714 C195.922713,48.7035714 187.448661,56.6926623 187.448661,68.369026 C187.448661,79.9191883 195.922713,88.0344805 205.745159,88.0344805 C215.567605,88.0344805 224.041657,79.9191883 224.041657,68.369026 L224.041657,68.369026 Z\"></path>\n",
      "    <path d=\"M306.04702,37.943539 L306.04702,96.1442857 C306.04702,120.111558 291.927254,129.944286 275.231289,129.944286 C259.516472,129.944286 250.061272,119.376299 246.498443,110.772662 L258.897088,105.609383 C261.106042,110.893377 266.51058,117.159545 275.225808,117.159545 C285.908814,117.159545 292.535676,110.52026 292.535676,98.1086364 L292.535676,93.4391883 L292.047842,93.4391883 C288.85774,97.3733766 282.71323,100.813734 274.97915,100.813734 C258.771019,100.813734 243.916762,86.6791883 243.916762,68.4897403 C243.916762,50.1740909 258.771019,35.9188312 274.97915,35.9188312 C282.71323,35.9188312 288.852259,39.3591883 292.047842,43.1726623 L292.535676,43.1726623 L292.535676,37.943539 L306.04702,37.943539 L306.04702,37.943539 Z M293.522306,68.4897403 C293.522306,57.0602922 285.908814,48.7035714 276.212437,48.7035714 C266.389992,48.7035714 258.162597,57.0602922 258.162597,68.4897403 C258.162597,79.798474 266.389992,88.0344805 276.212437,88.0344805 C285.908814,88.0344805 293.522306,79.798474 293.522306,68.4897403 L293.522306,68.4897403 Z\"></path>\n",
      "    <path d=\"M329.961825,3.54545455 L329.961825,98.9207143 L315.721472,98.9207143 L315.721472,3.54545455 L329.961825,3.54545455 L329.961825,3.54545455 Z\"></path>\n",
      "    <path d=\"M383.755064,79.0577273 L394.805315,86.4322727 C391.242486,91.7162662 382.647846,100.813734 367.793589,100.813734 C349.376503,100.813734 336.002191,86.558474 336.002191,68.369026 C336.002191,49.0712013 349.497091,35.9188312 366.198538,35.9188312 C383.020573,35.9188312 391.247967,49.3181169 393.944755,56.566461 L395.419218,60.2537338 L352.078772,78.1962662 C355.394944,84.7093506 360.552824,88.0289935 367.793589,88.0289935 C375.039836,88.0289935 380.071647,84.4624351 383.755064,79.0577273 L383.755064,79.0577273 Z M349.743749,67.3813636 L378.717771,55.3373701 C377.12272,51.2824675 372.332085,48.4566558 366.686372,48.4566558 C359.445607,48.4511688 349.376503,54.843539 349.743749,67.3813636 L349.743749,67.3813636 Z\"></path>\n",
      "  </symbol>\n",
      "\n",
      "  <symbol id=\"social-share-triangle\" viewBox=\"0 0 24 24\">\n",
      "    <path d=\"M18,16.08 C17.24,16.08 16.56,16.38 16.04,16.85 L8.91,12.7 C8.96,12.47 9,12.24 9,12 C9,11.76 8.96,11.53 8.91,11.3 L15.96,7.19 C16.5,7.69 17.21,8 18,8 C19.66,8 21,6.66 21,5 C21,3.34 19.66,2 18,2 C16.34,2 15,3.34 15,5 C15,5.24 15.04,5.47 15.09,5.7 L8.04,9.81 C7.5,9.31 6.79,9 6,9 C4.34,9 3,10.34 3,12 C3,13.66 4.34,15 6,15 C6.79,15 7.5,14.69 8.04,14.19 L15.16,18.35 C15.11,18.56 15.08,18.78 15.08,19 C15.08,20.61 16.39,21.92 18,21.92 C19.61,21.92 20.92,20.61 20.92,19 C20.92,17.39 19.61,16.08 18,16.08 L18,16.08 Z\"></path>\n",
      "  </symbol>\n",
      "\n",
      "  <!-- hercules icons -->\n",
      "  <symbol id=\"h-color-google-logo\" viewBox=\"0 0 74 24\">\n",
      "    <path fill=\"#4285F4\" d=\"M9.24 8.19v2.46h5.88c-.18 1.38-.64 2.39-1.34 3.1-.86.86-2.2 1.8-4.54 1.8-3.62 0-6.45-2.92-6.45-6.54s2.83-6.54 6.45-6.54c1.95 0 3.38.77 4.43 1.76L15.4 2.5C13.94 1.08 11.98 0 9.24 0 4.28 0 .11 4.04.11 9s4.17 9 9.13 9c2.68 0 4.7-.88 6.28-2.52 1.62-1.62 2.13-3.91 2.13-5.75 0-.57-.04-1.1-.13-1.54H9.24z\"></path>\n",
      "    <path fill=\"#EA4335\" d=\"M25 6.19c-3.21 0-5.83 2.44-5.83 5.81 0 3.34 2.62 5.81 5.83 5.81s5.83-2.46 5.83-5.81c0-3.37-2.62-5.81-5.83-5.81zm0 9.33c-1.76 0-3.28-1.45-3.28-3.52 0-2.09 1.52-3.52 3.28-3.52s3.28 1.43 3.28 3.52c0 2.07-1.52 3.52-3.28 3.52z\"></path>\n",
      "    <path fill=\"#4285F4\" d=\"M53.58 7.49h-.09c-.57-.68-1.67-1.3-3.06-1.3C47.53 6.19 45 8.72 45 12c0 3.26 2.53 5.81 5.43 5.81 1.39 0 2.49-.62 3.06-1.32h.09v.81c0 2.22-1.19 3.41-3.1 3.41-1.56 0-2.53-1.12-2.93-2.07l-2.22.92c.64 1.54 2.33 3.43 5.15 3.43 2.99 0 5.52-1.76 5.52-6.05V6.49h-2.42v1zm-2.93 8.03c-1.76 0-3.1-1.5-3.1-3.52 0-2.05 1.34-3.52 3.1-3.52 1.74 0 3.1 1.5 3.1 3.54.01 2.03-1.36 3.5-3.1 3.5z\"></path>\n",
      "    <path fill=\"#FBBC05\" d=\"M38 6.19c-3.21 0-5.83 2.44-5.83 5.81 0 3.34 2.62 5.81 5.83 5.81s5.83-2.46 5.83-5.81c0-3.37-2.62-5.81-5.83-5.81zm0 9.33c-1.76 0-3.28-1.45-3.28-3.52 0-2.09 1.52-3.52 3.28-3.52s3.28 1.43 3.28 3.52c0 2.07-1.52 3.52-3.28 3.52z\"></path>\n",
      "    <path fill=\"#34A853\" d=\"M58 .24h2.51v17.57H58z\"></path>\n",
      "    <path fill=\"#EA4335\" d=\"M68.26 15.52c-1.3 0-2.22-.59-2.82-1.76l7.77-3.21-.26-.66c-.48-1.3-1.96-3.7-4.97-3.7-2.99 0-5.48 2.35-5.48 5.81 0 3.26 2.46 5.81 5.76 5.81 2.66 0 4.2-1.63 4.84-2.57l-1.98-1.32c-.66.96-1.56 1.6-2.86 1.6zm-.18-7.15c1.03 0 1.91.53 2.2 1.28l-5.25 2.17c0-2.44 1.73-3.45 3.05-3.45z\"></path>\n",
      "  </symbol>\n",
      "\n",
      "  <symbol id=\"h-white-google-logo\" viewBox=\"0 0 74 24\">\n",
      "    <path d=\"M9.24 8.19v2.46h5.88c-.18 1.38-.64 2.39-1.34 3.1-.86.86-2.2 1.8-4.54 1.8-3.62 0-6.45-2.92-6.45-6.54s2.83-6.54 6.45-6.54c1.95 0 3.38.77 4.43 1.76L15.4 2.5C13.94 1.08 11.98 0 9.24 0 4.28 0 .11 4.04.11 9s4.17 9 9.13 9c2.68 0 4.7-.88 6.28-2.52 1.62-1.62 2.13-3.91 2.13-5.75 0-.57-.04-1.1-.13-1.54H9.24zm15.76-2c-3.21 0-5.83 2.44-5.83 5.81 0 3.34 2.62 5.81 5.83 5.81s5.83-2.46 5.83-5.81c0-3.37-2.62-5.81-5.83-5.81zm0 9.33c-1.76 0-3.28-1.45-3.28-3.52 0-2.09 1.52-3.52 3.28-3.52s3.28 1.43 3.28 3.52c0 2.07-1.52 3.52-3.28 3.52zm28.58-8.03h-.09c-.57-.68-1.67-1.3-3.06-1.3C47.53 6.19 45 8.72 45 12c0 3.26 2.53 5.81 5.43 5.81 1.39 0 2.49-.62 3.06-1.32h.09v.81c0 2.22-1.19 3.41-3.1 3.41-1.56 0-2.53-1.12-2.93-2.07l-2.22.92c.64 1.54 2.33 3.43 5.15 3.43 2.99 0 5.52-1.76 5.52-6.05V6.49h-2.42v1zm-2.93 8.03c-1.76 0-3.1-1.5-3.1-3.52 0-2.05 1.34-3.52 3.1-3.52 1.74 0 3.1 1.5 3.1 3.54.01 2.03-1.36 3.5-3.1 3.5zM38 6.19c-3.21 0-5.83 2.44-5.83 5.81 0 3.34 2.62 5.81 5.83 5.81s5.83-2.46 5.83-5.81c0-3.37-2.62-5.81-5.83-5.81zm0 9.33c-1.76 0-3.28-1.45-3.28-3.52 0-2.09 1.52-3.52 3.28-3.52s3.28 1.43 3.28 3.52c0 2.07-1.52 3.52-3.28 3.52zM58 .24h2.51v17.57H58zm10.26 15.28c-1.3 0-2.22-.59-2.82-1.76l7.77-3.21-.26-.66c-.48-1.3-1.96-3.7-4.97-3.7-2.99 0-5.48 2.35-5.48 5.81 0 3.26 2.46 5.81 5.76 5.81 2.66 0 4.2-1.63 4.84-2.57l-1.98-1.32c-.66.96-1.56 1.6-2.86 1.6zm-.18-7.15c1.03 0 1.91.53 2.2 1.28l-5.25 2.17c0-2.44 1.73-3.45 3.05-3.45z\"></path>\n",
      "  </symbol>\n",
      "\n",
      "  <symbol id=\"h-burger\" viewBox=\"0 0 24 24\">\n",
      "    <path d=\"M3 18h18v-2H3v2zm0-5h18v-2H3v2zm0-7v2h18V6H3z\"></path>\n",
      "  </symbol>\n",
      "</svg>    </div>\n",
      "\n",
      "      <script src=\"https://ajax.googleapis.com/ajax/libs/angularjs/1.6.6/angular.min.js\" nonce=\"cUaOMNE-w6jWmok4HR54uw\"></script>\n",
      "      <script src=\"https://ajax.googleapis.com/ajax/libs/angularjs/1.6.6/angular-animate.min.js\" nonce=\"cUaOMNE-w6jWmok4HR54uw\"></script>\n",
      "      <script src=\"https://ajax.googleapis.com/ajax/libs/angularjs/1.6.6/angular-touch.min.js\" nonce=\"cUaOMNE-w6jWmok4HR54uw\"></script>\n",
      "      <script src=\"https://ajax.googleapis.com/ajax/libs/angularjs/1.6.6/angular-aria.min.js\" nonce=\"cUaOMNE-w6jWmok4HR54uw\"></script>\n",
      "      <script src=\"https://ajax.googleapis.com/ajax/libs/angularjs/1.6.6/angular-messages.min.js\" nonce=\"cUaOMNE-w6jWmok4HR54uw\"></script>\n",
      "      <script src=\"/static/js/index.min.js?cache=2ad8e81\" nonce=\"cUaOMNE-w6jWmok4HR54uw\"></script>\n",
      "      <script src=\"//www.gstatic.com/feedback/api.js\" nonce=\"cUaOMNE-w6jWmok4HR54uw\"></script>\n",
      "  </body>\n",
      "</html>\n"
     ]
    }
   ],
   "source": [
    "import requests\n",
    "def outer(url): # 给外层函数传参就相当于 url='https://www.baidu.com'\n",
    "    # url='https://www.baidu.com' # 这个作用域就是作用在get函数上的\n",
    "    def get():\n",
    "        response = requests.get(url)\n",
    "        if response.status_code == 200:\n",
    "            print(response.text)\n",
    "    return get\n",
    "baidu = outer('https://www.baidu.com')\n",
    "google = outer('https://www.google.org')\n",
    "baidu()\n",
    "print('=================================>')\n",
    "google()"
   ]
  },
  {
   "cell_type": "markdown",
   "metadata": {},
   "source": [
    "### Ⅵ.装饰器\n",
    "\n",
    "装饰器：\n",
    "器指的⼯具(只要是⼯具，你就应该想到函数)，装饰指的是为被装饰对象添加新功能，需要注意的是：项⽬\n",
    "⼀旦上线之后，就应该遵循开发封闭的原则。开发封闭指的是对修改函数内的源代码和调⽤⽅式是封闭\n",
    "的，对功能的扩展是开放的。看起来有点⽭盾，但这就是我们要做的。在这样的要求下，我们必须要找到\n",
    "⼀种解决⽅案，能够在不修改⼀个功能内源代码以及调⽤⽅式的前提下，为其添加新功能。这就⽤到了装\n",
    "饰器，它能够在不修改被装饰对象源代码与调⽤⽅式的前提下，为被装饰器对象添加新功能。"
   ]
  },
  {
   "cell_type": "markdown",
   "metadata": {},
   "source": [
    "#### 2. ⽆参装饰器\n",
    "(1) ⽆参装饰器实现过程\n",
    "\n",
    "⽆参装饰器指的是**装饰器本身没有参数**。"
   ]
  },
  {
   "cell_type": "code",
   "execution_count": 15,
   "metadata": {},
   "outputs": [
    {
     "name": "stdout",
     "output_type": "stream",
     "text": [
      "welcome to index page\n",
      "welcome to index page\n",
      "run time is 3.0003488063812256\n"
     ]
    }
   ],
   "source": [
    "\"\"\"demo1：为index函数添加一个统计时间的功能\"\"\"\n",
    "import time # 这是一个与时间相关的模块\n",
    "def index():\n",
    "    time.sleep(3) # 睡3秒\n",
    "    print('welcome to index page')\n",
    "\n",
    "index()\n",
    "# 版本一(只有index函数可以使用)\n",
    "import time # 这是一个与时间相关的模块\n",
    "\n",
    "def index():\n",
    "    time.sleep(3) # 睡3秒\n",
    "    print('welcome to index page')\n",
    "\n",
    "start_time = time.time() # 从1970年开始计时的时间戳\n",
    "index()\n",
    "end_time = time.time()\n",
    "print('run time is %s' % (end_time - start_time))"
   ]
  },
  {
   "cell_type": "code",
   "execution_count": 17,
   "metadata": {},
   "outputs": [
    {
     "name": "stdout",
     "output_type": "stream",
     "text": [
      "welcome to index page\n",
      "run time is 3.0001139640808105\n",
      "welcome Albert to home page\n",
      "run time is 5.0001161098480225\n"
     ]
    }
   ],
   "source": [
    "# 版本二(两个函数都可以使用，但是有大量重复代码)\n",
    "def index():\n",
    "    time.sleep(3)\n",
    "    print('welcome to index page')\n",
    "    \n",
    "def home(name):\n",
    "    time.sleep(5)\n",
    "    print('welcome %s to home page' % name)\n",
    "\n",
    "start_time = time.time()\n",
    "index()\n",
    "stop_time = time.time()\n",
    "print('run time is %s' % (stop_time - start_time))\n",
    "start_time = time.time()\n",
    "home('Albert')\n",
    "stop_time = time.time()\n",
    "print('run time is %s' % (stop_time - start_time))"
   ]
  },
  {
   "cell_type": "code",
   "execution_count": 19,
   "metadata": {},
   "outputs": [
    {
     "name": "stdout",
     "output_type": "stream",
     "text": [
      "welcome to index page\n",
      "run time is 3.0004076957702637\n"
     ]
    }
   ],
   "source": [
    "# 版本三(修改了源函数的调用方式)\n",
    "import time\n",
    "def index():\n",
    "    time.sleep(3)\n",
    "    print('welcome to index page')\n",
    "\n",
    "def home(name):\n",
    "    time.sleep(5)\n",
    "    print('welcome %s to home page' % name)\n",
    "\n",
    "def wrapper(func): # func=index\n",
    "    start_time = time.time()\n",
    "    func() # index()\n",
    "    stop_time = time.time()\n",
    "    print('run time is %s' % (stop_time - start_time))\n",
    "    \n",
    "wrapper(index)"
   ]
  },
  {
   "cell_type": "code",
   "execution_count": 22,
   "metadata": {},
   "outputs": [
    {
     "name": "stdout",
     "output_type": "stream",
     "text": [
      "welcome to index page\n",
      "3.0000059604644775\n"
     ]
    }
   ],
   "source": [
    "# 版本四(使用闭包函数，不修改源函数调用方式)\n",
    "import time\n",
    "def index():\n",
    "    time.sleep(3)\n",
    "    print('welcome to index page')\n",
    "\n",
    "def outer(func): # func=最原始的index\n",
    "    # func=最原始的index\n",
    "    def wrapper():\n",
    "        start_time = time.time()\n",
    "        func()\n",
    "        stop_time = time.time()\n",
    "        print(stop_time - start_time)\n",
    "    return wrapper\n",
    "\n",
    "# a = outer(index) # outer函数结果可以赋值给任意变量\n",
    "# b = outer(index)\n",
    "# c = outer(index)\n",
    "index = outer(index) # 赋值给index覆盖原来的index，index = wrapper\n",
    "index() # wrapper()"
   ]
  },
  {
   "cell_type": "code",
   "execution_count": 3,
   "metadata": {},
   "outputs": [
    {
     "name": "stdout",
     "output_type": "stream",
     "text": [
      "welcome to index page\n",
      "1.001366138458252\n"
     ]
    },
    {
     "data": {
      "text/plain": [
       "1"
      ]
     },
     "execution_count": 3,
     "metadata": {},
     "output_type": "execute_result"
    }
   ],
   "source": [
    "# 版本五(解决原函数返回值无效)\n",
    "import time\n",
    "def index():\n",
    "    time.sleep(1)\n",
    "    print('welcome to index page')\n",
    "    return 1 # 假如源函数有一个返回值\n",
    "\n",
    "def outer(func):\n",
    "    # func=最原始的home\n",
    "    def wrapper():\n",
    "        start_time = time.time()\n",
    "        res = func() # 调用最原始的index\n",
    "        stop_time = time.time()\n",
    "        print(stop_time - start_time)\n",
    "        return res\n",
    "    return wrapper\n",
    "\n",
    "index = outer(index) # 新的index=wrapper\n",
    "res = index()\n",
    "res"
   ]
  },
  {
   "cell_type": "code",
   "execution_count": 15,
   "metadata": {},
   "outputs": [
    {
     "name": "stdout",
     "output_type": "stream",
     "text": [
      "welcome Albert to home page\n",
      "2.000344753265381\n",
      "welcome Albert to home page\n",
      "2.0002293586730957\n",
      "welcome to index page\n",
      "1.0008959770202637\n"
     ]
    },
    {
     "data": {
      "text/plain": [
       "1"
      ]
     },
     "execution_count": 15,
     "metadata": {},
     "output_type": "execute_result"
    }
   ],
   "source": [
    "# 版本六(终极版，解决有参函数和无参函数通用的问题)\n",
    "import time\n",
    "def index():\n",
    "    time.sleep(1)\n",
    "    print('welcome to index page')\n",
    "    return 1\n",
    "\n",
    "def home(name):\n",
    "    time.sleep(2)\n",
    "    print('welcome %s to home page' % name)\n",
    "    \n",
    "def timer(func): # 装饰器也是一个函数，我们给他一个好听的名字\n",
    "    def wrapper(*args, **kwargs): # wrapper函数有无参数由源函数决定\n",
    "        start_time = time.time()\n",
    "        res = func(*args, **kwargs)\n",
    "        stop_time = time.time()\n",
    "        print(stop_time - start_time)\n",
    "        return res\n",
    "    return wrapper\n",
    "\n",
    "index = timer(index) # 新的index=wrapper\n",
    "home = timer(home) # 新的home=wrapper\n",
    "home(name='Albert') # wrapper(name='Albert')\n",
    "home('Albert') # wrapper('Albert')\n",
    "index() # wrapper()"
   ]
  },
  {
   "cell_type": "code",
   "execution_count": 5,
   "metadata": {},
   "outputs": [],
   "source": [
    "# 无参装饰器模板\n",
    "def outer(func):\n",
    "    def inner(*args, **kwargs):\n",
    "        \"\"\"\n",
    "        这里写装饰器逻辑\n",
    "        :param args: 任意位置参数\n",
    "        :param kwargs: 任意关键参数\n",
    "        :return: 一个函数对象\n",
    "        \"\"\"\n",
    "        res = func(*args, **kwargs)\n",
    "        return res\n",
    "    return inner"
   ]
  },
  {
   "cell_type": "markdown",
   "metadata": {},
   "source": [
    "(2) 装饰器语法"
   ]
  },
  {
   "cell_type": "code",
   "execution_count": 19,
   "metadata": {},
   "outputs": [
    {
     "name": "stdout",
     "output_type": "stream",
     "text": [
      "welcome to index page\n",
      "Time used: 1.0000226497650146\n",
      "welcome Albert to home page\n"
     ]
    }
   ],
   "source": [
    "import time\n",
    "# 装饰器也是一个函数，使用函数必先定义，所以装饰器放在最上方\n",
    "def timer(func):\n",
    "    def wrapper(*args, **kwargs):\n",
    "        start_time = time.time()\n",
    "        res = func(*args, **kwargs)\n",
    "        stop_time = time.time()\n",
    "        print(f'Time used: {stop_time - start_time}')\n",
    "        return res\n",
    "    return wrapper\n",
    "\n",
    "@timer # 在被装饰对象正上方单独一行添加，相当于执行index=timer(index)\n",
    "def index():\n",
    "    time.sleep(1)\n",
    "    print('welcome to index page')\n",
    "    return 1\n",
    "\n",
    "# @timer # home=timer(home) 当不需要装饰器的时候只需注释这一行即可\n",
    "def home(name):\n",
    "    time.sleep(2)\n",
    "    print('welcome %s to home page' % name)\n",
    "\n",
    "index()\n",
    "home('Albert')"
   ]
  },
  {
   "cell_type": "markdown",
   "metadata": {},
   "source": [
    "(3) ⽤户认证装饰器"
   ]
  },
  {
   "cell_type": "code",
   "execution_count": 21,
   "metadata": {},
   "outputs": [
    {
     "name": "stdout",
     "output_type": "stream",
     "text": [
      "用户名>>: Albert\n",
      "密码>>: 123\n",
      "登陆成功\n",
      "welcome to index page\n",
      "已经登陆过了\n",
      "welcome Albert to home page\n"
     ]
    }
   ],
   "source": [
    "import time\n",
    "current_user = {\n",
    "    'username': None,\n",
    "}\n",
    "def auth(func):\n",
    "    def wrapper(*args, **kwargs):\n",
    "        if current_user['username']:\n",
    "            print('已经登陆过了')\n",
    "            res = func(*args, **kwargs)\n",
    "            return res\n",
    "        \n",
    "        name = input('用户名>>: ').strip()\n",
    "        pwd = input('密码>>: ').strip()\n",
    "        if name == 'Albert' and pwd == '123':\n",
    "            print('登陆成功')\n",
    "            current_user['username'] = name\n",
    "            res = func(*args, **kwargs)\n",
    "            return res\n",
    "        else:\n",
    "            print('用户名或密码错误')\n",
    "    return wrapper\n",
    "\n",
    "@auth\n",
    "def index():\n",
    "    time.sleep(1)\n",
    "    print('welcome to index page')\n",
    "    return 1\n",
    "\n",
    "@auth\n",
    "def home(name):\n",
    "    time.sleep(2)\n",
    "    print('welcome %s to home page' % name)\n",
    "    \n",
    "index()\n",
    "home('Albert')"
   ]
  },
  {
   "cell_type": "markdown",
   "metadata": {},
   "source": [
    "(3) 多个装饰器叠加"
   ]
  },
  {
   "cell_type": "code",
   "execution_count": null,
   "metadata": {},
   "outputs": [],
   "source": [
    "import time\n",
    "current_user = {\n",
    "    'username': None,\n",
    "}\n",
    "def auth(func):\n",
    "    def wrapper(*args, **kwargs):\n",
    "        if current_user['username']:\n",
    "            print('已经登陆过了')\n",
    "            res = func(*args, **kwargs)\n",
    "            return res\n",
    "        name = input('用户名>>: ').strip()\n",
    "        pwd = input('密码>>: ').strip()\n",
    "        if name == 'Albert' and pwd == '1':\n",
    "            print('登陆成功')\n",
    "            current_user['username'] = name\n",
    "            res = func(*args, **kwargs)\n",
    "            return res\n",
    "        else:\n",
    "            print('用户名或密码错误')\n",
    "    return wrapper\n",
    "\n",
    "def timer(func):\n",
    "    def wrapper(*args, **kwargs):\n",
    "        start_time = time.time()\n",
    "        res = func(*args, **kwargs)\n",
    "        stop_time = time.time()\n",
    "        print(stop_time - start_time)\n",
    "        return res\n",
    "    return wrapper\n",
    "\n",
    "\"\"\"\n",
    "@auth\n",
    "@timer # 这样写的话timer只统计index的执行时间\n",
    "\"\"\"\n",
    "\n",
    "@timer # timer 统计的是auth+index的执行时间\n",
    "@auth\n",
    "def index():\n",
    "    time.sleep(1)\n",
    "    print('welcome to index page')\n",
    "    return 1\n",
    "\n",
    "index()"
   ]
  },
  {
   "cell_type": "markdown",
   "metadata": {},
   "source": [
    "#### 3. 有参装饰器\n",
    "有参装饰器就是装饰器本身需要⼀个参数，结合我们以前讲过的⽂件操作，其实⽂件就是存放数据的仓库，类似于数据库，数据库分很多种，常⻅的有MySQL，Oracle，PostgreSQL和DB2等等，在⼀些项⽬的需求中，不同的数据会分散存储在不同的数据库中，这时我们使⽤基于对象的数据模型(通俗讲就是使⽤编程语⾔来操作数据库)操作不同数据库就要执⾏不同的代码。"
   ]
  },
  {
   "cell_type": "code",
   "execution_count": 23,
   "metadata": {},
   "outputs": [
    {
     "name": "stdout",
     "output_type": "stream",
     "text": [
      "基于文件的认证\n",
      "用户名>>: Albert\n",
      "密码>>: 1\n",
      "登陆成功\n",
      "welcome to index page\n"
     ]
    },
    {
     "data": {
      "text/plain": [
       "1"
      ]
     },
     "execution_count": 23,
     "metadata": {},
     "output_type": "execute_result"
    }
   ],
   "source": [
    "import time\n",
    "current_user = {\n",
    "    'username': None,\n",
    "}\n",
    "\n",
    "def auth(engine):\n",
    "    def user_auth(func):\n",
    "        def wrapper(*args, **kwargs):\n",
    "            if engine == 'file':\n",
    "                print('基于文件的认证')\n",
    "                if current_user['username']:\n",
    "                    print('已经登陆过了')\n",
    "                    res = func(*args, **kwargs)\n",
    "                    return res\n",
    "                name = input('用户名>>: ').strip()\n",
    "                pwd = input('密码>>: ').strip()\n",
    "                if name == 'Albert' and pwd == '1':\n",
    "                    print('登陆成功')\n",
    "                    current_user['username'] = name\n",
    "                    res = func(*args, **kwargs)\n",
    "                    return res\n",
    "                else:\n",
    "                    print('用户名或密码错误')\n",
    "            elif engine == 'mysql':\n",
    "                print('基于MyQL的认证')\n",
    "            elif engine == 'ldap':\n",
    "                print('基于LDAP的认证')\n",
    "            elif engine == 'postgresql':\n",
    "                print('基于PostgreSQL的认证')\n",
    "        return wrapper\n",
    "    return user_auth\n",
    "\n",
    "@auth('file') # auth装饰器本身是一个函数，在语法糖中也可以传参数\n",
    "def index():\n",
    "    time.sleep(1)\n",
    "    print('welcome to index page')\n",
    "    return 1\n",
    "\n",
    "index()"
   ]
  },
  {
   "cell_type": "markdown",
   "metadata": {},
   "source": [
    "#### 4. 装饰器补充"
   ]
  },
  {
   "cell_type": "code",
   "execution_count": 27,
   "metadata": {},
   "outputs": [
    {
     "name": "stdout",
     "output_type": "stream",
     "text": [
      "哈哈哈哈\n"
     ]
    }
   ],
   "source": [
    "from functools import wraps\n",
    "def deco(func):\n",
    "    @wraps(func) # 加在最内层函数正上方\n",
    "    def wrapper(*args, **kwargs):\n",
    "        return func(*args, **kwargs)\n",
    "    return wrapper\n",
    "\n",
    "@deco\n",
    "def index():\n",
    "    \"\"\"哈哈哈哈\"\"\"\n",
    "    print(index.__doc__)\n",
    "\n",
    "index()"
   ]
  },
  {
   "cell_type": "markdown",
   "metadata": {},
   "source": [
    ">装饰器使⽤的是**闭包函数的原理，返回的是和原来函数同名字的函数地址，再加上()就能调⽤这个函数，所以给我们的感觉是原来的函数没有变化，却添加了新的功能，其实已经不是原来的函数了，**你可以把以上代码的第三⾏注释掉，运⾏代码，打印结果为None，就是因为你运⾏的函数已经不是原来的函数了，所以这其实是⼀个伪装饰器，要想让装饰器真的是装饰器，调⽤别⼈写好的包，返回结果还是原函数，以上写法就是。"
   ]
  }
 ],
 "metadata": {
  "kernelspec": {
   "display_name": "Python 3",
   "language": "python",
   "name": "python3"
  },
  "language_info": {
   "codemirror_mode": {
    "name": "ipython",
    "version": 3
   },
   "file_extension": ".py",
   "mimetype": "text/x-python",
   "name": "python",
   "nbconvert_exporter": "python",
   "pygments_lexer": "ipython3",
   "version": "3.7.0"
  }
 },
 "nbformat": 4,
 "nbformat_minor": 2
}
