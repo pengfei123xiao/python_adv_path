{
 "cells": [
  {
   "cell_type": "markdown",
   "metadata": {},
   "source": [
    "## 第六章函数概述"
   ]
  },
  {
   "cell_type": "markdown",
   "metadata": {},
   "source": [
    "### Ⅴ. 函数的参数"
   ]
  },
  {
   "cell_type": "markdown",
   "metadata": {},
   "source": [
    "#### 2. 有参函数的五种传参⽅式"
   ]
  },
  {
   "cell_type": "markdown",
   "metadata": {},
   "source": [
    "##### (4) 可变⻓参数\n",
    "可变⻓度指的**参数的个数可以不固定**，实参有按位置定义的实参和按关键字定义的实参,所以可变⻓的实参指的就是按照这两种形式定义的实参个数可以不固定，然⽽实参终究是要给形参传值的，所以形参必须有两种对应的解决⽅案来分别处理以上两种形式可变⻓度的实参。"
   ]
  },
  {
   "cell_type": "code",
   "execution_count": 1,
   "metadata": {},
   "outputs": [
    {
     "name": "stdout",
     "output_type": "stream",
     "text": [
      "1 2 3\n",
      "(4, 5, 6, 7, 8)\n",
      "1 2 3\n",
      "{'a': 1, 'b': 2, 'c': 3}\n"
     ]
    }
   ],
   "source": [
    "# *会将溢出的位置实参全部接收,然后保存成元组的形式赋值给一个变量args(可以任意命名，约定俗成args)\n",
    "def foo(x, y, z, *args): # args=(4,5,6,7,8)\n",
    "    print(x, y, z)\n",
    "    print(args)\n",
    "foo(1, 2, 3, 4, 5, 6, 7, 8, )\n",
    "\n",
    "# **会将溢出的关键字实参全部接收,然后保存成字典的形式赋值给kwargs\n",
    "def foo(x, y, z, **kwargs): # kwargs={'c':3,'a':1,'b':2}\n",
    "    print(x, y, z)\n",
    "    print(kwargs)\n",
    "foo(x=1, y=2, z=3, a=1, b=2, c=3)"
   ]
  },
  {
   "cell_type": "markdown",
   "metadata": {},
   "source": [
    "##### <2> 星与星星(打散)\n",
    "很多时候【*】的作⽤就是打散，在讲列表的⽅法append与extend的区别时，也做了⼀个简单的说明。"
   ]
  },
  {
   "cell_type": "code",
   "execution_count": 5,
   "metadata": {},
   "outputs": [
    {
     "name": "stdout",
     "output_type": "stream",
     "text": [
      "1 2 3\n",
      "(4, 5, 6, 7, 8)\n",
      "1 2 3\n",
      "(4, 5, 6, 7, 8)\n",
      "1 2 3\n",
      "('h', 'e', 'l', 'l', 'o')\n",
      "1 2 3\n"
     ]
    }
   ],
   "source": [
    "# 一旦碰到实参加*,就把该实参的值打散\n",
    "def foo(x, y, z, *args): # args=([4,5,6,7,8],)\n",
    "    print(x, y, z)\n",
    "    print(args)\n",
    "    \n",
    "foo(1, 2, 3, *[4, 5, 6, 7, 8]) # foo(1,2,3,4,5,6,7,8)\n",
    "foo(1, 2, 3, *(4, 5, 6, 7, 8)) # foo(1,2,3,4,5,6,7,8)\n",
    "foo(1, 2, 3, *'hello') # foo(1,2,3,'h','e','l','l','o')\n",
    "\n",
    "def foo1(x, y, z):\n",
    "    print(x, y, z)\n",
    "# foo1(*[1, 2, 3, 4]) # foo(1,2,3,4) #报错\n",
    "# foo1(*[1, 2, ]) # foo(1,2,) #报错\n",
    "foo1(*[1, 2, 3]) # foo(1,2,3)"
   ]
  },
  {
   "cell_type": "code",
   "execution_count": 6,
   "metadata": {},
   "outputs": [
    {
     "name": "stdout",
     "output_type": "stream",
     "text": [
      "28\n"
     ]
    }
   ],
   "source": [
    "# *的应用场景\n",
    "def sum2(*args):\n",
    "    res = 0\n",
    "    for num in args:\n",
    "        res += num\n",
    "    return res\n",
    "print(sum2(1, 2, 3, 4, 5, 6, 7))"
   ]
  },
  {
   "cell_type": "code",
   "execution_count": 7,
   "metadata": {},
   "outputs": [
    {
     "name": "stdout",
     "output_type": "stream",
     "text": [
      "1 2 3\n",
      "{'a': 1, 'b': 2}\n",
      "1 2 3\n"
     ]
    }
   ],
   "source": [
    "# 一旦碰到实参加**,就把该实参的值打散\n",
    "def bar(x, y, z, **kwargs):\n",
    "    print(x, y, z)\n",
    "    print(kwargs)\n",
    "bar(1, 2, 3, **{'a': 1, 'b': 2}) # foo(1,2,3,b=2,a=1)\n",
    "\n",
    "def boo(x, y, z):\n",
    "    print(x, y, z)\n",
    "\n",
    "# boo(1, **{'z': 3, 'y': 2, 'x': 111}) # 报错 boo(1,z=3,y=2,x=111)\n",
    "boo(1, **{'z': 3, 'y': 2}) # foo(1,z=3,y=2)"
   ]
  },
  {
   "cell_type": "code",
   "execution_count": 9,
   "metadata": {},
   "outputs": [
    {
     "name": "stdout",
     "output_type": "stream",
     "text": [
      "Albert\n",
      "123\n",
      "{}\n",
      "Albert\n",
      "123\n",
      "{'group': 'group1'}\n"
     ]
    }
   ],
   "source": [
    "# ** 的应用场景\n",
    "def auth(name, pwd, **kwargs):\n",
    "    print(name)\n",
    "    print(pwd)\n",
    "    print(kwargs)\n",
    "\n",
    "auth(name='Albert', pwd='123')\n",
    "auth(name='Albert', pwd='123', group='group1')"
   ]
  },
  {
   "cell_type": "code",
   "execution_count": 12,
   "metadata": {},
   "outputs": [
    {
     "name": "stdout",
     "output_type": "stream",
     "text": [
      "welcome Albert 18 male\n",
      "welcome Albert 18 male\n",
      "welcome Albert 18 male\n",
      "welcome Albert 18 male\n"
     ]
    },
    {
     "data": {
      "text/plain": [
       "'\\n执行过程：\\nwrapper的所有参数都原封不动地传给index，而index函数只接收三个位置参数\\n星与星星的组合使用在源码中非常常⻅，这也是装饰器的核心之一，这非常重要。\\n'"
      ]
     },
     "execution_count": 12,
     "metadata": {},
     "output_type": "execute_result"
    }
   ],
   "source": [
    "def index(name, age, gender):\n",
    "    print('welcome %s %s %s' % (name, age, gender))\n",
    "\n",
    "def wrapper(*args, **kwargs): # args=(1,2,3),kwargs={'x':1,'y':2,'z':3}\n",
    "    # print(args)\n",
    "    # print(kwargs)\n",
    "    index(*args, **kwargs) # index(*(1,2,3),**{'x':1,'y':2,'z':3}), i.e.: index(1,2,3,z=3,y=2,x=2)\n",
    "    \n",
    "# wrapper(1,2,3,x=1,y=2,z=3) # 报错\n",
    "wrapper(name='Albert',age=18,gender='male')\n",
    "wrapper('Albert', age=18, gender='male')\n",
    "wrapper('Albert', 18, gender='male')\n",
    "wrapper('Albert', 18, 'male')\n",
    "\"\"\"\n",
    "执行过程：\n",
    "wrapper的所有参数都原封不动地传给index，而index函数只接收三个位置参数\n",
    "星与星星的组合使用在源码中非常常⻅，这也是装饰器的核心之一，这非常重要。\n",
    "\"\"\""
   ]
  },
  {
   "cell_type": "markdown",
   "metadata": {},
   "source": [
    "### (5) 命名关键字参数\n",
    "\n",
    "1. 命名关键字参数导⼊\n",
    "\n",
    "在`*`后⾯参数都是命名关键字参数，它的特点是必须被传值，约束函数的调⽤者必须按照key=value的形式传值，约束函数的调⽤者必须⽤指定的key名。如果没有关键字参数，当我们需要在做上述约束时，应该按照如下代码操作。"
   ]
  },
  {
   "cell_type": "code",
   "execution_count": 14,
   "metadata": {},
   "outputs": [
    {
     "name": "stdout",
     "output_type": "stream",
     "text": [
      "Help on function auth in module __main__:\n",
      "\n",
      "auth(*args, **kwargs)\n",
      "    使用方式auth(name=\"Albert\",pwd=\"123\")\n",
      "    :param args:\n",
      "    :param kwargs:\n",
      "    :return:\n",
      "\n",
      "None\n",
      "必须用指定的key名name\n",
      "必须用关键字的形式传参\n",
      "必须用关键字的形式传参\n",
      "Albert 123\n"
     ]
    }
   ],
   "source": [
    "def auth(*args, **kwargs):\n",
    "    \"\"\"\n",
    "    使用方式auth(name=\"Albert\",pwd=\"123\")\n",
    "    :param args:\n",
    "    :param kwargs:\n",
    "    :return:\n",
    "    \"\"\"\n",
    "    if len(args) != 0:\n",
    "        print('必须用关键字的形式传参')\n",
    "        return\n",
    "    if 'name' not in kwargs:\n",
    "        print('必须用指定的key名name')\n",
    "        return\n",
    "    if 'pwd' not in kwargs:\n",
    "        print('必须用指定的key名pwd')\n",
    "        return\n",
    "    name = kwargs['name']\n",
    "    pwd = kwargs['pwd']\n",
    "    print(name, pwd)\n",
    "    \n",
    "print(help(auth)) # 打印文档注释\n",
    "\n",
    "auth(x='Albert', y='123')\n",
    "auth('Albert', '123')\n",
    "auth('Albert', pwd='123')\n",
    "auth(name='Albert', pwd='123') # 约束函数的调用者必须用key=value的形式传值"
   ]
  },
  {
   "cell_type": "markdown",
   "metadata": {},
   "source": [
    "2. 命名关键字参数使⽤\n",
    "\n",
    "在`*`后⾯参数都是命名关键字参数，它的特点是必须被传值，约束函数的调⽤者必须按照key=value的形式传值，约束函数的调⽤者必须⽤指定的key名。"
   ]
  },
  {
   "cell_type": "code",
   "execution_count": 23,
   "metadata": {},
   "outputs": [
    {
     "name": "stdout",
     "output_type": "stream",
     "text": [
      "1 2 (3,)\n",
      "-------------\n",
      "1 2 3\n",
      "-------------\n"
     ]
    }
   ],
   "source": [
    "\"\"\"使用命名关键字参数\"\"\"\n",
    "def foo(x, y, *z):\n",
    "    print(x, y, z)\n",
    "    print('-------------')\n",
    "foo(1, 2, 3)\n",
    "\n",
    "def foo(x, y, *, z): # 等价于foo(x, y, *args, z):\n",
    "    print(x, y, z)\n",
    "    print('-------------')\n",
    "# foo(1,2,3) # 报错\n",
    "# foo(1,2,x=3) # 报错\n",
    "foo(1, 2, z=3)"
   ]
  },
  {
   "cell_type": "code",
   "execution_count": 25,
   "metadata": {},
   "outputs": [
    {
     "name": "stdout",
     "output_type": "stream",
     "text": [
      "Albert 123\n"
     ]
    }
   ],
   "source": [
    "\"\"\"其实命名关键字参数的核心是 *，args只是一个变量，有或者没有并不影响\"\"\"\n",
    "def auth(*args, name, pwd):\n",
    "    print(name, pwd)\n",
    "auth(pwd='123', name='Albert')"
   ]
  },
  {
   "cell_type": "code",
   "execution_count": 27,
   "metadata": {},
   "outputs": [
    {
     "name": "stdout",
     "output_type": "stream",
     "text": [
      "<class 'int'> <class 'list'>\n"
     ]
    }
   ],
   "source": [
    "\"\"\"命名关键字参数是硬性限制，但Python的语法⻛格是约定俗成，不做限制\"\"\"\n",
    "def register(name, age):\n",
    "    \"\"\"\n",
    "    我们不会在这里添加对name和age的要求限制\n",
    "    :param name:\n",
    "    :param age:\n",
    "    :return:\n",
    "    \"\"\"\n",
    "    print(type(name), type(age))\n",
    "register(123, [1, 2, 3])"
   ]
  },
  {
   "cell_type": "code",
   "execution_count": 30,
   "metadata": {},
   "outputs": [],
   "source": [
    "\"\"\"使用命名关键字参数之后，可以接收参数的最复杂的情况\"\"\"\n",
    "def foo(x, y=1, *args, z, m=2, **kwargs): # m=2是关键字参数的默认值\n",
    "    pass"
   ]
  },
  {
   "cell_type": "code",
   "execution_count": 29,
   "metadata": {},
   "outputs": [],
   "source": [
    "\"\"\"一般情况下，foo1和foo2这两种就够用了\"\"\"\n",
    "def foo1(x, y=1):\n",
    "    pass\n",
    "def foo2(x, *args, **kwargs):\n",
    "    pass"
   ]
  }
 ],
 "metadata": {
  "kernelspec": {
   "display_name": "Python 3",
   "language": "python",
   "name": "python3"
  },
  "language_info": {
   "codemirror_mode": {
    "name": "ipython",
    "version": 3
   },
   "file_extension": ".py",
   "mimetype": "text/x-python",
   "name": "python",
   "nbconvert_exporter": "python",
   "pygments_lexer": "ipython3",
   "version": "3.7.0"
  }
 },
 "nbformat": 4,
 "nbformat_minor": 2
}
