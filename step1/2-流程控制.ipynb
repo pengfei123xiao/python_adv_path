{
 "cells": [
  {
   "cell_type": "markdown",
   "metadata": {},
   "source": [
    "## 第⼆章流程控制"
   ]
  },
  {
   "cell_type": "markdown",
   "metadata": {},
   "source": [
    "### Ⅰ. 运算方式"
   ]
  },
  {
   "cell_type": "markdown",
   "metadata": {},
   "source": [
    "#### 5.身份运算"
   ]
  },
  {
   "cell_type": "code",
   "execution_count": 20,
   "metadata": {},
   "outputs": [
    {
     "name": "stdout",
     "output_type": "stream",
     "text": [
      "False\n",
      "True\n",
      "True\n",
      "True\n",
      "2107484007208\n",
      "2107484007416\n",
      "2107425898656\n",
      "2107425898656\n"
     ]
    }
   ],
   "source": [
    "\"\"\"当字符串短的时候 只开辟一份地址。当字符串长的时候，就会有两个地址了\"\"\"\n",
    "a='adfasfdsfsdfdsfsfad.asdvasvavs/svfffdfff3qoifj3iubiqc'\n",
    "b='adfasfdsfsdfdsfsfad.asdvasvavs/svfffdfff3qoifj3iubiqc'\n",
    "c='s'\n",
    "d='s'\n",
    "print(a is b)\n",
    "print(a==b)\n",
    "print(c is d)\n",
    "print(c==d)\n",
    "print(id(a))\n",
    "print(id(b))\n",
    "print(id(c))\n",
    "print(id(d))"
   ]
  },
  {
   "cell_type": "markdown",
   "metadata": {},
   "source": [
    "### Ⅲ. 循环语句"
   ]
  },
  {
   "cell_type": "markdown",
   "metadata": {},
   "source": [
    "#### 1. while loop"
   ]
  },
  {
   "cell_type": "markdown",
   "metadata": {},
   "source": [
    "#### 2. for loop"
   ]
  },
  {
   "cell_type": "markdown",
   "metadata": {},
   "source": [
    "##### (3) for循环与else连⽤\n",
    "\n",
    "当for循环正常执⾏完，中间没有被break中⽌的话，就会执⾏else后⾯的语句。"
   ]
  },
  {
   "cell_type": "code",
   "execution_count": 1,
   "metadata": {},
   "outputs": [
    {
     "name": "stdout",
     "output_type": "stream",
     "text": [
      "Loop 1\n",
      "Loop 2\n",
      "Loop 3\n",
      "Loop 4\n",
      "Loop 5\n",
      "Finish for-loop.\n"
     ]
    }
   ],
   "source": [
    "for i in range(5):\n",
    "    print(f'Loop {i+1}')\n",
    "else:\n",
    "    print('Finish for-loop.')"
   ]
  },
  {
   "cell_type": "code",
   "execution_count": 3,
   "metadata": {},
   "outputs": [
    {
     "name": "stdout",
     "output_type": "stream",
     "text": [
      "Loop 1\n",
      "Loop 2\n",
      "Loop 3\n"
     ]
    }
   ],
   "source": [
    "for i in range(5):\n",
    "    print(f'Loop {i+1}')\n",
    "    if i==2: break\n",
    "else:\n",
    "    print('Finish for-loop.')"
   ]
  },
  {
   "cell_type": "markdown",
   "metadata": {},
   "source": [
    "### Ⅳ. 流程控制语句⽤法说明"
   ]
  },
  {
   "cell_type": "markdown",
   "metadata": {},
   "source": [
    "#### 5. 条件判断中使⽤ `all()` / `any()`\n",
    "\n",
    "`all()`和`any()`两个函数⾮常适合在条件判断中使⽤。这两个函数接受⼀个可迭代对象，返回⼀个布尔值，其中:\n",
    "\n",
    "- `all(seq)`：仅当`seq`中所有对象都为布尔真时返回`True`，否则返回`False`\n",
    "- `any(seq)`：只要`seq`中任何⼀个对象为布尔真就返回`True`，否则返回`False`"
   ]
  },
  {
   "cell_type": "code",
   "execution_count": null,
   "metadata": {},
   "outputs": [],
   "source": [
    "def all_numbers_gt_10(numbers):\n",
    "    # 仅当序列中所有数字大于 10 时，返回 True\n",
    "    if not numbers:\n",
    "        # 在列表中，空列表[]为False,这行代码就用来判断numbers是否为空，为空就返回False\n",
    "        return False\n",
    "    for n in numbers: \n",
    "        # 遍历numbers中的每一个元素\n",
    "        if n <= 10:\n",
    "            return False # 如果有元素小于等于10，该函数⻢上返回False\n",
    "    return True # 如果遍历完成后numbers列表中的所有元素都大于10，那么返回True"
   ]
  },
  {
   "cell_type": "code",
   "execution_count": 4,
   "metadata": {},
   "outputs": [],
   "source": [
    "def all_numbers_gt_10_2(numbers):\n",
    "    return bool(numbers) and all(n > 10 for n in numbers)"
   ]
  },
  {
   "cell_type": "markdown",
   "metadata": {},
   "source": [
    "#### 6. try...except与else连用\n",
    "\n",
    "当try中所有语句正常执行，不报异常，就会执行else中语句。"
   ]
  },
  {
   "cell_type": "code",
   "execution_count": null,
   "metadata": {},
   "outputs": [],
   "source": [
    "def do_stuff():\n",
    "    first_thing_successed = False\n",
    "    try:\n",
    "        do_the_first_thing()  # 做第一件事\n",
    "        first_thing_successed = True  # 第一件事成功了，把标志位置为True\n",
    "    except Exception as e: # 如果上面两行代码（try中的两行代码）有错误，第一件事没有成功，执行下面语句\n",
    "        print(\"Error while calling do_some_thing\")\n",
    "        return\n",
    "    if first_thing_successed:\n",
    "        # 仅当 first_thing 成功完成时，做第二件事\n",
    "        return do_the_second_thing()"
   ]
  },
  {
   "cell_type": "code",
   "execution_count": 5,
   "metadata": {},
   "outputs": [],
   "source": [
    "\"\"\"通过else，可以避免定义first_thing_successed变量\"\"\"\n",
    "def do_stuff():\n",
    "    try:\n",
    "        do_the_first_thing()\n",
    "    except Exception as e:\n",
    "        print(\"Error while calling do_some_thing\")\n",
    "        return\n",
    "    else:\n",
    "        return do_the_second_thing()"
   ]
  },
  {
   "cell_type": "markdown",
   "metadata": {},
   "source": [
    "#### 7.与None比较\n",
    "\n",
    "`None`在Python语⾔中是⼀个单例对象，如果你要判断某个变量是否为`None`时，记得使⽤`is`⽽不是`==`，因为只有`is`才能在严格意义上表示某个变量是否是`None`。"
   ]
  },
  {
   "cell_type": "code",
   "execution_count": 14,
   "metadata": {},
   "outputs": [
    {
     "name": "stdout",
     "output_type": "stream",
     "text": [
      "<__main__.Foo object at 0x000001EAAFD30DA0>\n",
      "True\n",
      "True\n",
      "False\n"
     ]
    }
   ],
   "source": [
    "\"\"\"否则，可能出现下⾯这样的情况：\n",
    "Foo类通过⾃定义 __eq__ 魔法⽅法的⽅式，很容易就满⾜了 == None 这个条件。\n",
    "所以，当要判断某个变量是否为None时，请使⽤ is ⽽不是 == 。\n",
    "\"\"\"\n",
    "class Foo(object):\n",
    "    def __eq__(self, other):# 重写(override)__eq__()方法，当该类在==判断中触发__eq__()\n",
    "        return True\n",
    "    \n",
    "foo = Foo()\n",
    "print(foo)\n",
    "print(foo == None)\n",
    "print(None == foo)\n",
    "print(foo is None)"
   ]
  },
  {
   "cell_type": "markdown",
   "metadata": {},
   "source": [
    "#### 8. `and`运算符的优先级⼤于`or`"
   ]
  },
  {
   "cell_type": "code",
   "execution_count": 8,
   "metadata": {},
   "outputs": [
    {
     "name": "stdout",
     "output_type": "stream",
     "text": [
      "False\n",
      "True\n"
     ]
    }
   ],
   "source": [
    "print((True or False) and False)\n",
    "print(True or False and False) # in fact is True or (False and False)"
   ]
  }
 ],
 "metadata": {
  "kernelspec": {
   "display_name": "Python 3",
   "language": "python",
   "name": "python3"
  },
  "language_info": {
   "codemirror_mode": {
    "name": "ipython",
    "version": 3
   },
   "file_extension": ".py",
   "mimetype": "text/x-python",
   "name": "python",
   "nbconvert_exporter": "python",
   "pygments_lexer": "ipython3",
   "version": "3.7.0"
  }
 },
 "nbformat": 4,
 "nbformat_minor": 2
}
