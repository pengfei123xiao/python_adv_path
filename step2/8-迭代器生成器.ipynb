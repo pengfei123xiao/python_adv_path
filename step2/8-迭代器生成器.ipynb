{
 "cells": [
  {
   "cell_type": "markdown",
   "metadata": {},
   "source": [
    "## 第八章 迭代生成"
   ]
  },
  {
   "cell_type": "markdown",
   "metadata": {},
   "source": [
    "###  Ⅰ. 迭代器\n",
    "迭代器就是迭代的⼯具，迭代是⼀个重复的过程，并且每次重复都是基于上⼀次的结果⽽来。"
   ]
  },
  {
   "cell_type": "markdown",
   "metadata": {},
   "source": [
    "#### 2. 可迭代对象\n",
    "在python中，只要内置有`iter`⽅法的对象，都是可迭代的对象。"
   ]
  },
  {
   "cell_type": "code",
   "execution_count": 1,
   "metadata": {},
   "outputs": [],
   "source": [
    "# 这不是可迭代对象\n",
    "num = 1\n",
    "# 以下都是可迭代的对象\n",
    "str1 = 'hello'\n",
    "list1 = [1, 2, 3]\n",
    "tup1 = (1, 2, 3)\n",
    "dict1 = {'x': 1}\n",
    "set1 = {'a', 'b', 'c'}\n",
    "file1 = open('a.txt', 'w', encoding='utf-8')"
   ]
  },
  {
   "cell_type": "markdown",
   "metadata": {},
   "source": [
    "#### 3. 迭代器⽤法\n",
    "可迭代的对象执⾏iter⽅法得到的返回值就是迭代器对象。"
   ]
  },
  {
   "cell_type": "code",
   "execution_count": 6,
   "metadata": {},
   "outputs": [
    {
     "name": "stdout",
     "output_type": "stream",
     "text": [
      "x\n",
      "y\n",
      "z\n",
      "b\n",
      "a\n",
      "c\n",
      "1\n",
      "2\n",
      "3\n"
     ]
    }
   ],
   "source": [
    "dict1 = {'x': 1, 'y': 2, 'z': 3}\n",
    "iter_dict1 = dict1.__iter__() # 双下划线开头和结尾在python中称为魔法函数，之后在面向对象的章节中会详述，好奇的同学请自行百度\n",
    "print(iter_dict1.__next__())\n",
    "print(iter_dict1.__next__())\n",
    "print(iter_dict1.__next__())\n",
    "# print(iter_dict1.__next__()) # 报错并停止迭代\n",
    "set1 = {'a', 'b', 'c'}\n",
    "iter_set1 = set1.__iter__()\n",
    "print(iter_set1.__next__())\n",
    "print(iter_set1.__next__())\n",
    "print(iter_set1.__next__())\n",
    "# print(iter_set1.__next__()) # 停止迭代\n",
    "list1 = [1, 2, 3]\n",
    "iter_list1 = list1.__iter__()\n",
    "print(iter_list1.__next__())\n",
    "print(iter_list1.__next__())\n",
    "print(iter_list1.__next__())"
   ]
  },
  {
   "cell_type": "markdown",
   "metadata": {},
   "source": [
    "#### 4. 可迭代对象VS迭代器对象\n",
    "1) 可迭代对象\n",
    "\n",
    "可迭代对象⽆须获取，Python内置`str`，`list`，`tuple`，`dict`，`set`，`file`都是可迭代对象，它的特点是**内置有iter⽅法**，执⾏该⽅法会拿到⼀个返回值就是迭代器对象。\n",
    "\n",
    "2) 迭代器对象\n",
    "\n",
    "⽂件对象本身既是可迭代对象⼜是迭代器对象，可迭代对象执⾏`iter`⽅法，拿到的返回值就是迭代器对象。\n",
    "迭代器对象的特点是**内置有`next`⽅法**，执⾏该⽅法会拿到迭代器对象中的⼀个值，迭代器对象内置有`iter`⽅法，执⾏该⽅法会拿到迭代器本身。"
   ]
  },
  {
   "cell_type": "code",
   "execution_count": 4,
   "metadata": {},
   "outputs": [
    {
     "name": "stdout",
     "output_type": "stream",
     "text": [
      "h\n",
      "True\n",
      "1886390968896\n",
      "1886390968896\n",
      "True\n",
      "True\n",
      "True\n",
      "a\n",
      "\n",
      "b\n",
      "\n",
      "c\n"
     ]
    },
    {
     "ename": "StopIteration",
     "evalue": "",
     "output_type": "error",
     "traceback": [
      "\u001b[1;31m---------------------------------------------------------------------------\u001b[0m",
      "\u001b[1;31mStopIteration\u001b[0m                             Traceback (most recent call last)",
      "\u001b[1;32m<ipython-input-4-0bcd552a599e>\u001b[0m in \u001b[0;36m<module>\u001b[1;34m\u001b[0m\n\u001b[0;32m     14\u001b[0m \u001b[0mprint\u001b[0m\u001b[1;33m(\u001b[0m\u001b[0mf\u001b[0m\u001b[1;33m.\u001b[0m\u001b[0m__next__\u001b[0m\u001b[1;33m(\u001b[0m\u001b[1;33m)\u001b[0m\u001b[1;33m)\u001b[0m\u001b[1;33m\u001b[0m\u001b[0m\n\u001b[0;32m     15\u001b[0m \u001b[0mprint\u001b[0m\u001b[1;33m(\u001b[0m\u001b[0mf\u001b[0m\u001b[1;33m.\u001b[0m\u001b[0m__next__\u001b[0m\u001b[1;33m(\u001b[0m\u001b[1;33m)\u001b[0m\u001b[1;33m)\u001b[0m\u001b[1;33m\u001b[0m\u001b[0m\n\u001b[1;32m---> 16\u001b[1;33m \u001b[0mprint\u001b[0m\u001b[1;33m(\u001b[0m\u001b[0mf\u001b[0m\u001b[1;33m.\u001b[0m\u001b[0m__next__\u001b[0m\u001b[1;33m(\u001b[0m\u001b[1;33m)\u001b[0m\u001b[1;33m)\u001b[0m\u001b[1;33m\u001b[0m\u001b[0m\n\u001b[0m\u001b[0;32m     17\u001b[0m \u001b[0mprint\u001b[0m\u001b[1;33m(\u001b[0m\u001b[0mf\u001b[0m\u001b[1;33m.\u001b[0m\u001b[0m__next__\u001b[0m\u001b[1;33m(\u001b[0m\u001b[1;33m)\u001b[0m\u001b[1;33m)\u001b[0m\u001b[1;33m\u001b[0m\u001b[0m\n",
      "\u001b[1;31mStopIteration\u001b[0m: "
     ]
    }
   ],
   "source": [
    "str1 = 'hello' # 可迭代对象\n",
    "iter_str1 = str1.__iter__() # 迭代器对象\n",
    "print(iter_str1.__next__()) # 取出迭代器对象中的一个值\n",
    "print(iter_str1.__iter__() is iter_str1) # 迭代器对象调用__iter__()返回的还是自身\n",
    "print(id(iter_str1))\n",
    "print(id(iter_str1.__iter__()))\n",
    "print(iter_str1.__iter__().__iter__() is iter_str1)\n",
    "print(iter_str1.__iter__().__iter__().__iter__() is iter_str1)\n",
    "\n",
    "# 文件本身既是迭代器对象又是可迭代对象\n",
    "f = open('a.txt', 'r', encoding='utf-8')\n",
    "print(f.__iter__() is f)\n",
    "print(f.__next__())\n",
    "print(f.__next__())\n",
    "print(f.__next__())\n",
    "print(f.__next__())"
   ]
  },
  {
   "cell_type": "markdown",
   "metadata": {},
   "source": [
    "#### 5. 迭代器优缺点分析"
   ]
  },
  {
   "cell_type": "markdown",
   "metadata": {},
   "source": [
    ">优点：\n",
    "1. 提供了⼀种可以不依赖索引取值的⽅式：假如你现在没有学过for循环，对于没有索引的可迭代对象如set，dict或者file这些应该怎么单独取出⾥⾯的每⼀个值？\n",
    "2. 迭代器更加节省内存"
   ]
  },
  {
   "cell_type": "code",
   "execution_count": 8,
   "metadata": {},
   "outputs": [
    {
     "name": "stdout",
     "output_type": "stream",
     "text": [
      "1\n",
      "2\n",
      "3\n",
      "x\n",
      "y\n",
      "z\n",
      "1\n",
      "2\n",
      "3\n",
      "4\n",
      "4\n",
      "5\n"
     ]
    }
   ],
   "source": [
    "\"\"\"提供了⼀种可以不依赖索引取值的⽅式\"\"\"\n",
    "# 集合\n",
    "set1 = {1, 2, 3, }\n",
    "iter_set1 = set1.__iter__()\n",
    "while True:\n",
    "    # try和except是第三阶段面向对象最后一个章节的内容，这里先简单使用一下\n",
    "    try: # 监测try下面的代码块是否出现异常\n",
    "        print(iter_set1.__next__())\n",
    "    except StopIteration: # 相当于if判断，如果出现的异常是StopIteration\n",
    "        break\n",
    "\n",
    "# 字典\n",
    "dict1 = {'x': 1, 'y': 2, 'z': 3}\n",
    "iter_dict1 = dict1.__iter__()\n",
    "while True:\n",
    "    try:\n",
    "        print(iter_dict1.__next__())\n",
    "    except StopIteration:\n",
    "        break\n",
    "        \n",
    "# 列表\n",
    "# 有索引的可迭代对象自然也可以使用\n",
    "list1 = [1, 2, 3, 4, 4, 5]\n",
    "iter_list1 = list1.__iter__()\n",
    "while True:\n",
    "    try:\n",
    "        print(iter_list1.__next__())\n",
    "    except StopIteration:\n",
    "        break"
   ]
  },
  {
   "cell_type": "code",
   "execution_count": 11,
   "metadata": {},
   "outputs": [
    {
     "name": "stdout",
     "output_type": "stream",
     "text": [
      "a\n",
      "\n",
      "b\n",
      "\n",
      "c\n"
     ]
    }
   ],
   "source": [
    "# 文件\n",
    "# 文件内容有三行，每行分别是一个字母a，b，c\n",
    "file1 = open('a.txt', 'r', encoding='utf-8')\n",
    "iter_file1 = file1.__iter__()\n",
    "while True:\n",
    "    try:\n",
    "        print(iter_file1.__next__())\n",
    "    except StopIteration:\n",
    "        break\n",
    "file1.close()"
   ]
  },
  {
   "cell_type": "code",
   "execution_count": 2,
   "metadata": {},
   "outputs": [
    {
     "name": "stdout",
     "output_type": "stream",
     "text": [
      "0\n",
      "1\n",
      "2\n",
      "3\n",
      "4\n",
      "0\n",
      "1\n",
      "2\n",
      "3\n",
      "4\n"
     ]
    }
   ],
   "source": [
    "\"\"\"节省内存\"\"\"\n",
    "# range用法\n",
    "for i in range(0, 5):\n",
    "    print(i)\n",
    "# item是一个可迭代对象，指的是从0到100000000000000000000000的所有数字\n",
    "item = range(0, 5)\n",
    "iter_item = item.__iter__() # 迭代器对象\n",
    "while True:\n",
    "    try:\n",
    "        print(iter_item.__next__())\n",
    "    except StopIteration:\n",
    "        break"
   ]
  },
  {
   "cell_type": "markdown",
   "metadata": {},
   "source": [
    ">缺点：\n",
    "1. 取值缺陷：只能⼀个⼀个取，只能往后取，并且是**⼀次性的。**\n",
    "2. 无法用`len()`获取长度：迭代器对象不取到最后⼀个值，你永远不能知道它的⻓度。"
   ]
  },
  {
   "cell_type": "code",
   "execution_count": 4,
   "metadata": {},
   "outputs": [
    {
     "name": "stdout",
     "output_type": "stream",
     "text": [
      "1\n",
      "2\n",
      "3\n",
      "第二次=================================>\n",
      "1\n",
      "2\n",
      "3\n"
     ]
    }
   ],
   "source": [
    "\"\"\"取值缺陷\"\"\"\n",
    "x = [1, 2, 3]\n",
    "iter_x = x.__iter__()\n",
    "while True:\n",
    "    try:\n",
    "        print(iter_x.__next__())\n",
    "    except StopIteration:\n",
    "        break\n",
    "        \n",
    "print('第二次=================================>')\n",
    "# iter_x = x.__iter__() # 注释这行第二次取不到，像小孩玩滑梯一样，要重新爬上去\n",
    "while True:\n",
    "    try:\n",
    "        print(iter_x.__next__())\n",
    "    except StopIteration:\n",
    "        break"
   ]
  },
  {
   "cell_type": "code",
   "execution_count": 6,
   "metadata": {},
   "outputs": [],
   "source": [
    "x = [1, 2, 3]\n",
    "iter_x = x.__iter__()\n",
    "# print(len(iter_x)) # 没有获取⻓度方法"
   ]
  },
  {
   "cell_type": "markdown",
   "metadata": {},
   "source": [
    "#### 6. for循环的原理\n",
    "for循环称之为**迭代器循环**，in后跟的**必须是可迭代的对象**，for循环会执⾏in后对象的iter⽅法，拿到迭代器对象，然后调⽤迭代器对象的next⽅法，拿到⼀个返回值赋值给⼀个变量，周⽽复始，直到取值完毕。\n",
    "for循环会检测到异常⾃动结束循环。"
   ]
  },
  {
   "cell_type": "code",
   "execution_count": 7,
   "metadata": {},
   "outputs": [
    {
     "name": "stdout",
     "output_type": "stream",
     "text": [
      "a\n",
      "\n",
      "b\n",
      "\n",
      "c\n",
      "x\n",
      "y\n"
     ]
    }
   ],
   "source": [
    "file1 = open('a.txt', 'r', encoding='utf-8')\n",
    "for line in file1: # iter_file1=file1.__iter__()\n",
    "    print(line)\n",
    "\n",
    "for item in {'x': 1, 'y': 2}:\n",
    "    print(item)"
   ]
  },
  {
   "cell_type": "markdown",
   "metadata": {},
   "source": [
    "### Ⅱ. ⽣成器"
   ]
  },
  {
   "cell_type": "markdown",
   "metadata": {},
   "source": [
    "### 1. ⽣成器说明\n",
    "\n",
    "⽣成器其实本质就是迭代器，或者说⽣成器是特殊的迭代器，因为⽣成器是我们**⾃⼰制造的迭代器。**"
   ]
  },
  {
   "cell_type": "markdown",
   "metadata": {},
   "source": [
    "### 2. yield两个⽤法\n",
    "\n",
    "1. `yield`为我们提供了⼀种⾃定义迭代器的⽅式，可以在函数内⽤`yield`关键字，调⽤函数拿到的**结果就是⼀个⽣成器**。\n",
    "\n",
    "2. `yield`可以像return⼀样⽤于返回值，区别是return只能返回⼀次值，⽽`yield`**可返回多次**，因为yield可以**保存函数执⾏的状态**。"
   ]
  },
  {
   "cell_type": "code",
   "execution_count": 12,
   "metadata": {},
   "outputs": [
    {
     "name": "stdout",
     "output_type": "stream",
     "text": [
      "<generator object test_yield at 0x000001CA3A450750>\n",
      "True\n",
      "=======>first\n",
      "1\n",
      "=======>second\n",
      "2\n",
      "=======>third\n",
      "3\n"
     ]
    }
   ],
   "source": [
    "\"\"\"yield与return⽤法⽐较\"\"\"\n",
    "# yield\n",
    "def test_yield():\n",
    "    print('=======>first')\n",
    "    yield 1\n",
    "    print('=======>second')\n",
    "    yield 2\n",
    "    print('=======>third')\n",
    "    yield 3\n",
    "\n",
    "# 使用yield返回，调用函数时，不会执行函数体代码，拿到的返回值就是一个生成器对象\n",
    "res = test_yield()\n",
    "print(res) # <generator object test_yield at 0xxxxxx>\n",
    "print(res.__iter__() is res)\n",
    "print(res.__next__())\n",
    "print(res.__next__())\n",
    "print(res.__next__())"
   ]
  },
  {
   "cell_type": "code",
   "execution_count": 15,
   "metadata": {},
   "outputs": [
    {
     "name": "stdout",
     "output_type": "stream",
     "text": [
      "<function test_return at 0x000001CA3A47DAE8>\n",
      "=======>first\n"
     ]
    }
   ],
   "source": [
    "# return\n",
    "def test_return():\n",
    "    print('=======>first')\n",
    "    return 1 # 使用return返回，函数执行结束\n",
    "    print('=======>second')\n",
    "    return 2\n",
    "    print('=======>third')\n",
    "    return 3\n",
    "\n",
    "print(test_return)\n",
    "res = test_return()"
   ]
  },
  {
   "cell_type": "markdown",
   "metadata": {},
   "source": [
    "#### 3. ⽣成器的构造\n",
    "\n",
    "函数内包含有`yield`关键字，再调⽤函数，就**不会执⾏函数体代码**，拿到的**返回值就是⼀个⽣成器对象**。"
   ]
  },
  {
   "cell_type": "code",
   "execution_count": 17,
   "metadata": {},
   "outputs": [
    {
     "name": "stdout",
     "output_type": "stream",
     "text": [
      "<generator object chicken at 0x000001CA3A450750>\n",
      "True\n",
      "=====>first\n",
      "1\n",
      "=====>second\n",
      "2\n",
      "=====>third\n",
      "3\n"
     ]
    }
   ],
   "source": [
    "def chicken():\n",
    "    print('=====>first')\n",
    "    yield 1\n",
    "    print('=====>second')\n",
    "    yield 2\n",
    "    print('=====>third')\n",
    "    yield 3\n",
    "    \n",
    "# chicken() # <generator object chicken at 0xxxxxxx>\n",
    "obj = chicken()\n",
    "print(obj)\n",
    "print(obj.__iter__() is obj)\n",
    "print(obj.__next__())\n",
    "print(obj.__next__())\n",
    "print(obj.__next__())"
   ]
  },
  {
   "cell_type": "markdown",
   "metadata": {},
   "source": [
    "#### 4. ⾃定义range"
   ]
  },
  {
   "cell_type": "code",
   "execution_count": 22,
   "metadata": {},
   "outputs": [
    {
     "name": "stdout",
     "output_type": "stream",
     "text": [
      "1\n"
     ]
    }
   ],
   "source": [
    "\"\"\"1. range的⽤法\"\"\"\n",
    "for i in range(1, 10, 1):\n",
    "    \"\"\"\n",
    "    range最多可以接收三个参数，第一个是起始位置，默认值为0，\n",
    "    第二个是结束位置，无默认值，必须指定，\n",
    "    第三个是步⻓，默认值为1，\n",
    "    如果只传一个位置参数，那就是指的结束位置，\n",
    "    如果传两个位置参数，第一个为起始位置，\n",
    "    第二个为结束位置，\n",
    "    range第一个能取到，最后一个取不到，顾头不顾尾\n",
    "    \"\"\"\n",
    "    print(i)"
   ]
  },
  {
   "cell_type": "code",
   "execution_count": 18,
   "metadata": {},
   "outputs": [
    {
     "name": "stdout",
     "output_type": "stream",
     "text": [
      "1\n",
      "4\n",
      "7\n"
     ]
    }
   ],
   "source": [
    "\"\"\"2. ⾃定义range\"\"\"\n",
    "# 简易版本range，只能接收两个位置参数或者三个位置参数，起始位置没有默认值\n",
    "def show_my_range(start, stop, step=1):\n",
    "    n = start\n",
    "    while n < stop:\n",
    "        yield n\n",
    "        n += step\n",
    "\n",
    "for item in show_my_range(1, 10, 3):\n",
    "    print(item)"
   ]
  },
  {
   "cell_type": "markdown",
   "metadata": {},
   "source": [
    "#### 5. yield表达式\n",
    "yield可以把函数暂停住，那么⾃然就能保存函数的运⾏状态，我们可以使⽤yield表达式形式来做⼀些有意思的操作。"
   ]
  },
  {
   "cell_type": "code",
   "execution_count": 1,
   "metadata": {},
   "outputs": [
    {
     "name": "stdout",
     "output_type": "stream",
     "text": [
      "【1】Albert is ready for eating\n",
      "【2】Albert starts to eat None\n"
     ]
    }
   ],
   "source": [
    "def eat(name):\n",
    "    print('【1】%s is ready for eating' % name)\n",
    "    while True:\n",
    "        food = yield # 这是yield表达式形式，yield可以赋值给一个变量\n",
    "        print('【2】%s starts to eat %s' % (name, food))\n",
    "        \n",
    "person1 = eat('Albert') # <generator object eat at 0xxxxxxx>\n",
    "# 函数暂停在food = yield这行代码\n",
    "person1.__next__()\n",
    "# 继续执行代码，由于yield没有值，即yield = None，则food = None\n",
    "person1.__next__()"
   ]
  },
  {
   "cell_type": "markdown",
   "metadata": {},
   "source": [
    "yield肯定不能⼀直为空，肯定有⼀种⽅法给yield传值，这种⽅法就是send。"
   ]
  },
  {
   "cell_type": "code",
   "execution_count": 25,
   "metadata": {},
   "outputs": [
    {
     "name": "stdout",
     "output_type": "stream",
     "text": [
      "【1】Albert is ready for eating\n",
      "【2】Albert starts to eat 蒸羊羔\n",
      "【2】Albert starts to eat 蒸鹿茸\n",
      "【2】Albert starts to eat 蒸熊掌\n",
      "【2】Albert starts to eat 烧素鸭\n"
     ]
    }
   ],
   "source": [
    "def eat(name):\n",
    "    print('【1】%s is ready for eating' % name)\n",
    "    while True:\n",
    "        food = yield\n",
    "        print('【2】%s starts to eat %s' % (name, food))\n",
    "\n",
    "person1 = eat('Albert')\n",
    "\"\"\"\n",
    "对于表达式形式的yield，在使用前必先初始化\n",
    "即第一次必须传None，或者用__next__方法\n",
    "\"\"\"\n",
    "# person1.send(None) # 初始化，和下面一行代码同等效果\n",
    "person1.__next__()\n",
    "person1.send('蒸羊羔') # send有两个功能：1 传值，2 初始化\n",
    "person1.send('蒸鹿茸')\n",
    "person1.send('蒸熊掌')\n",
    "person1.send('烧素鸭')\n",
    "person1.close() # 关闭之后，后面的就吃不了了，也不能兜着走\n",
    "# person1.send('烧素鹅')\n",
    "# person1.send('烧鹿尾')"
   ]
  },
  {
   "cell_type": "markdown",
   "metadata": {},
   "source": [
    "我们原本就知道yield可以有返回值，那么能否与yield表达式形式连⽤呢？如果我们需要记录吃过的东⻄，\n",
    "就要⽤到这种⽤法。"
   ]
  },
  {
   "cell_type": "code",
   "execution_count": 26,
   "metadata": {},
   "outputs": [
    {
     "name": "stdout",
     "output_type": "stream",
     "text": [
      "Albert is ready for eating\n",
      "Albert starts to eat 蒸羊羔\n",
      "Albert has eaten ['蒸羊羔']\n",
      "Albert starts to eat 蒸鹿茸\n",
      "Albert has eaten ['蒸羊羔', '蒸鹿茸']\n",
      "Albert starts to eat 蒸熊掌\n",
      "Albert has eaten ['蒸羊羔', '蒸鹿茸', '蒸熊掌']\n",
      "Albert starts to eat 烧素鸭\n",
      "Albert has eaten ['蒸羊羔', '蒸鹿茸', '蒸熊掌', '烧素鸭']\n"
     ]
    }
   ],
   "source": [
    "def eat(name):\n",
    "    print('%s is ready for eating' % name)\n",
    "    food_list = []\n",
    "    while True:\n",
    "        food = yield food_list\n",
    "        print('%s starts to eat %s' % (name, food))\n",
    "        food_list.append(food)\n",
    "\n",
    "name = 'Albert'\n",
    "person1 = eat(name)\n",
    "person1.send(None)\n",
    "# person1.__next__()\n",
    "res1 = person1.send('蒸羊羔')\n",
    "print('%s has eaten %s' % (name, res1))\n",
    "res2 = person1.send('蒸鹿茸')\n",
    "print('%s has eaten %s' % (name, res2))\n",
    "res3 = person1.send('蒸熊掌')\n",
    "print('%s has eaten %s' % (name, res3))\n",
    "res4 = person1.send('烧素鸭')\n",
    "print('%s has eaten %s' % (name, res4))\n",
    "person1.close() # 关闭之后，后面的就吃不了了，也不能兜着走\n",
    "# person1.send('烧素鹅')\n",
    "# person1.send('烧鹿尾')"
   ]
  },
  {
   "cell_type": "markdown",
   "metadata": {},
   "source": [
    "以上这种写法能够帮助你更好的理解yield的执⾏过程，但是明显有点啰嗦，为了实现同样的功能，我们还有更加简洁的写法。"
   ]
  },
  {
   "cell_type": "code",
   "execution_count": 27,
   "metadata": {},
   "outputs": [
    {
     "name": "stdout",
     "output_type": "stream",
     "text": [
      "Albert is ready for eating\n",
      "Albert starts to eat 蒸羊羔\n",
      "Albert has eaten ['蒸羊羔']\n",
      "Albert starts to eat 蒸鹿茸\n",
      "Albert has eaten ['蒸羊羔', '蒸鹿茸']\n",
      "Albert starts to eat 蒸熊掌\n",
      "Albert has eaten ['蒸羊羔', '蒸鹿茸', '蒸熊掌']\n",
      "Albert starts to eat 烧素鸭\n",
      "Albert has eaten ['蒸羊羔', '蒸鹿茸', '蒸熊掌', '烧素鸭']\n"
     ]
    }
   ],
   "source": [
    "def eat(name):\n",
    "    print('%s is ready for eating' % name)\n",
    "    food_list = []\n",
    "    while True:\n",
    "        food = yield food_list\n",
    "        print('%s starts to eat %s' % (name, food))\n",
    "        food_list.append(food)\n",
    "        print('%s has eaten %s' % (name, food_list))\n",
    "\n",
    "person1 = eat('Albert')\n",
    "person1.send(None)\n",
    "person1.send('蒸羊羔')\n",
    "person1.send('蒸鹿茸')\n",
    "person1.send('蒸熊掌')\n",
    "person1.send('烧素鸭')\n",
    "person1.close()"
   ]
  }
 ],
 "metadata": {
  "kernelspec": {
   "display_name": "Python 3",
   "language": "python",
   "name": "python3"
  },
  "language_info": {
   "codemirror_mode": {
    "name": "ipython",
    "version": 3
   },
   "file_extension": ".py",
   "mimetype": "text/x-python",
   "name": "python",
   "nbconvert_exporter": "python",
   "pygments_lexer": "ipython3",
   "version": "3.7.0"
  }
 },
 "nbformat": 4,
 "nbformat_minor": 2
}
